{
 "cells": [
  {
   "cell_type": "code",
   "execution_count": 2,
   "metadata": {},
   "outputs": [],
   "source": [
    "import re\n",
    "import numpy as np\n",
    "import pandas as pd\n",
    "import matplotlib.pyplot as plt\n",
    "import plotly.express as px\n",
    "import plotly.graph_objects as go"
   ]
  },
  {
   "cell_type": "code",
   "execution_count": 67,
   "metadata": {},
   "outputs": [],
   "source": [
    "def FindingPostsWithNegativeSentiments():\n",
    "    df = pd.read_csv('../dataset/SO_Workflow_Data.csv')\n",
    "    my_value = -1\n",
    "    data = df.loc[df[\"RatingsGPTFineTuned\"] == my_value]\n",
    "\n",
    "    df = data[data['Body'].str.contains('teradata', case=False)] \n",
    "    print(len(df))\n",
    "    df.to_csv('../dataset/teradata_posts.csv', index=False)"
   ]
  },
  {
   "cell_type": "code",
   "execution_count": 305,
   "metadata": {},
   "outputs": [],
   "source": [
    "def MergeDF():\n",
    "    # Merge df according to post id for getting the dates\n",
    "    df1 = pd.read_csv('../dataset/WithAnswerDate.csv')\n",
    "    df2 = pd.read_csv('../dataset/AssignedTopicGalaxy.csv')\n",
    "\n",
    "    merged_df = pd.merge(df1, df2, on='Id')\n",
    "    columns_to_include = ['Id', 'Title_x', 'Body_x', 'CreationDate', 'AcceptedAnswerDate', 'topic']\n",
    "\n",
    "    # Create a new DataFrame with the selected columns\n",
    "    df_new = merged_df[columns_to_include].copy()\n",
    "    print(len(df_new))\n",
    "    return df_new"
   ]
  },
  {
   "cell_type": "code",
   "execution_count": 306,
   "metadata": {},
   "outputs": [],
   "source": [
    "def CalculateTimeComplexity(df):\n",
    "    df = df.fillna('0001-01-01 00:00:00')\n",
    "    df['time_interval'] = pd.Series(dtype=float)\n",
    "    df['CreationDate'] = pd.to_datetime(df['CreationDate'])\n",
    "    df['AcceptedAnswerDate'] = pd.to_datetime(df['AcceptedAnswerDate'], errors = 'coerce')\n",
    "    df['time_interval'] = df['AcceptedAnswerDate'] - df['CreationDate'] \n",
    "\n",
    "    df['complexity'] = df['time_interval'].dt.days\n",
    "\n",
    "    mean_time = []\n",
    "    topic = [0,1, 2,3, 4,5,6,7,8,9]\n",
    "    mean_time = []\n",
    "\n",
    "    # print(df[df['topic']==5])\n",
    "    for i in topic:\n",
    "        topic_df = df[df['topic'] == i]\n",
    "\n",
    "        if not topic_df.empty:\n",
    "            if topic_df['complexity'].notna().any():\n",
    "                mean = topic_df['complexity'].mean().round(2)\n",
    "                mean_time.append(mean)\n",
    "            else:\n",
    "                mean_time.append(0)\n",
    "    print(mean_time)\n",
    "    \n",
    "    # Create a line plot\n",
    "    # fig = go.Figure()\n",
    "    # colors = ['sandybrown', 'seagreen', 'seashell', 'sienna', 'silver',\n",
    "    #         'skyblue', 'slateblue', 'slategray', 'slategrey', 'snow',\n",
    "    #         'springgreen', 'steelblue', 'tan', 'teal', 'thistle', 'tomato',\n",
    "    #         'turquoise', 'violet', 'wheat', 'white', 'whitesmoke',\n",
    "    #         'yellow', 'yellowgreen']\n",
    "\n",
    "    # mode_size = [8, 8, 12, 8]\n",
    "    # line_size = [2, 2, 4, 2]\n",
    "    \n",
    "    # # Add a line trace\n",
    "    # fig.add_trace(go.Scatter(\n",
    "    #     x=topic, y=mean_time,  \n",
    "    #     mode='lines',\n",
    "    #     line=dict(width=5),\n",
    "    #     fill='tozeroy',\n",
    "    #     fillcolor='seashell',\n",
    "    #     line_color='indigo',\n",
    "    #     connectgaps=True,\n",
    "    #     showlegend=False))\n",
    "    \n",
    "    # fig.add_trace(go.Scatter(\n",
    "    #     x=topic,\n",
    "    #     y=mean_time,\n",
    "    #     mode='markers+text',\n",
    "    #     text=mean_time,\n",
    "    #     textposition='top center',\n",
    "    #     textfont={'family':'Balto', 'size':12},\n",
    "    #     marker=dict(color='sandybrown', size=12)\n",
    "    # ))\n",
    "\n",
    "    # fig.update_layout(\n",
    "    #     xaxis=dict(\n",
    "    #         showline=True,\n",
    "    #         showgrid=True,\n",
    "    #         showticklabels=True,\n",
    "    #         linecolor='rgb(204, 204, 204)',\n",
    "    #         linewidth=2,\n",
    "    #         ticks='outside',\n",
    "    #         tickfont=dict(\n",
    "    #             family='Arial',\n",
    "    #             size=12,\n",
    "    #             color='rgb(82, 82, 82)',\n",
    "    #         )\n",
    "    #     ),\n",
    "    #     yaxis=dict(\n",
    "    #         showgrid=True,\n",
    "    #         zeroline=True,\n",
    "    #         showline=True,\n",
    "    #         showticklabels=True,\n",
    "    #     ),\n",
    "    #     autosize=False,\n",
    "    #     margin=dict(\n",
    "    #         autoexpand=False,\n",
    "    #         l=100,\n",
    "    #         r=20,\n",
    "    #         t=115,\n",
    "    #     ),\n",
    "    #     showlegend=False,\n",
    "    #     plot_bgcolor='white'\n",
    "    # )\n",
    "\n",
    "    # # Update layout to remove hovermode\n",
    "    # fig.update_layout(hovermode=False)\n",
    "\n",
    "    # # Set axis labels and plot title\n",
    "    # fig.update_layout(title='Time Complexity For Each Topics In Kepler', xaxis_title='Topics', yaxis_title='Average Days')\n",
    "\n",
    "    # # Show the plot\n",
    "    # fig.show()\n"
   ]
  },
  {
   "cell_type": "code",
   "execution_count": 307,
   "metadata": {},
   "outputs": [
    {
     "name": "stdout",
     "output_type": "stream",
     "text": [
      "[0, 51.18, 266.0, 3.88, 0.0, 0, 5.0, 0.0, 0, 32.5]\n"
     ]
    },
    {
     "name": "stderr",
     "output_type": "stream",
     "text": [
      "/tmp/ipykernel_2755512/3237270425.py:5: UserWarning:\n",
      "\n",
      "Could not infer format, so each element will be parsed individually, falling back to `dateutil`. To ensure parsing is consistent and as-expected, please specify a format.\n",
      "\n"
     ]
    },
    {
     "data": {
      "application/vnd.plotly.v1+json": {
       "config": {
        "plotlyServerURL": "https://plot.ly"
       },
       "data": [
        {
         "connectgaps": true,
         "fill": "tozeroy",
         "fillcolor": "seashell",
         "line": {
          "color": "indigo",
          "width": 5
         },
         "mode": "lines",
         "showlegend": false,
         "type": "scatter",
         "x": [
          0,
          1,
          2,
          3,
          4,
          5,
          6,
          7,
          8,
          9
         ],
         "y": [
          0,
          51.18,
          266,
          3.88,
          0,
          0,
          5,
          0,
          0,
          32.5
         ]
        },
        {
         "marker": {
          "color": "sandybrown",
          "size": 12
         },
         "mode": "markers+text",
         "text": [
          "0",
          "51.18",
          "266.0",
          "3.88",
          "0.0",
          "0",
          "5.0",
          "0.0",
          "0",
          "32.5"
         ],
         "textfont": {
          "family": "Balto",
          "size": 12
         },
         "textposition": "top center",
         "type": "scatter",
         "x": [
          0,
          1,
          2,
          3,
          4,
          5,
          6,
          7,
          8,
          9
         ],
         "y": [
          0,
          51.18,
          266,
          3.88,
          0,
          0,
          5,
          0,
          0,
          32.5
         ]
        }
       ],
       "layout": {
        "autosize": false,
        "hovermode": false,
        "margin": {
         "autoexpand": false,
         "l": 100,
         "r": 20,
         "t": 115
        },
        "plot_bgcolor": "white",
        "showlegend": false,
        "template": {
         "data": {
          "bar": [
           {
            "error_x": {
             "color": "#2a3f5f"
            },
            "error_y": {
             "color": "#2a3f5f"
            },
            "marker": {
             "line": {
              "color": "#E5ECF6",
              "width": 0.5
             },
             "pattern": {
              "fillmode": "overlay",
              "size": 10,
              "solidity": 0.2
             }
            },
            "type": "bar"
           }
          ],
          "barpolar": [
           {
            "marker": {
             "line": {
              "color": "#E5ECF6",
              "width": 0.5
             },
             "pattern": {
              "fillmode": "overlay",
              "size": 10,
              "solidity": 0.2
             }
            },
            "type": "barpolar"
           }
          ],
          "carpet": [
           {
            "aaxis": {
             "endlinecolor": "#2a3f5f",
             "gridcolor": "white",
             "linecolor": "white",
             "minorgridcolor": "white",
             "startlinecolor": "#2a3f5f"
            },
            "baxis": {
             "endlinecolor": "#2a3f5f",
             "gridcolor": "white",
             "linecolor": "white",
             "minorgridcolor": "white",
             "startlinecolor": "#2a3f5f"
            },
            "type": "carpet"
           }
          ],
          "choropleth": [
           {
            "colorbar": {
             "outlinewidth": 0,
             "ticks": ""
            },
            "type": "choropleth"
           }
          ],
          "contour": [
           {
            "colorbar": {
             "outlinewidth": 0,
             "ticks": ""
            },
            "colorscale": [
             [
              0,
              "#0d0887"
             ],
             [
              0.1111111111111111,
              "#46039f"
             ],
             [
              0.2222222222222222,
              "#7201a8"
             ],
             [
              0.3333333333333333,
              "#9c179e"
             ],
             [
              0.4444444444444444,
              "#bd3786"
             ],
             [
              0.5555555555555556,
              "#d8576b"
             ],
             [
              0.6666666666666666,
              "#ed7953"
             ],
             [
              0.7777777777777778,
              "#fb9f3a"
             ],
             [
              0.8888888888888888,
              "#fdca26"
             ],
             [
              1,
              "#f0f921"
             ]
            ],
            "type": "contour"
           }
          ],
          "contourcarpet": [
           {
            "colorbar": {
             "outlinewidth": 0,
             "ticks": ""
            },
            "type": "contourcarpet"
           }
          ],
          "heatmap": [
           {
            "colorbar": {
             "outlinewidth": 0,
             "ticks": ""
            },
            "colorscale": [
             [
              0,
              "#0d0887"
             ],
             [
              0.1111111111111111,
              "#46039f"
             ],
             [
              0.2222222222222222,
              "#7201a8"
             ],
             [
              0.3333333333333333,
              "#9c179e"
             ],
             [
              0.4444444444444444,
              "#bd3786"
             ],
             [
              0.5555555555555556,
              "#d8576b"
             ],
             [
              0.6666666666666666,
              "#ed7953"
             ],
             [
              0.7777777777777778,
              "#fb9f3a"
             ],
             [
              0.8888888888888888,
              "#fdca26"
             ],
             [
              1,
              "#f0f921"
             ]
            ],
            "type": "heatmap"
           }
          ],
          "heatmapgl": [
           {
            "colorbar": {
             "outlinewidth": 0,
             "ticks": ""
            },
            "colorscale": [
             [
              0,
              "#0d0887"
             ],
             [
              0.1111111111111111,
              "#46039f"
             ],
             [
              0.2222222222222222,
              "#7201a8"
             ],
             [
              0.3333333333333333,
              "#9c179e"
             ],
             [
              0.4444444444444444,
              "#bd3786"
             ],
             [
              0.5555555555555556,
              "#d8576b"
             ],
             [
              0.6666666666666666,
              "#ed7953"
             ],
             [
              0.7777777777777778,
              "#fb9f3a"
             ],
             [
              0.8888888888888888,
              "#fdca26"
             ],
             [
              1,
              "#f0f921"
             ]
            ],
            "type": "heatmapgl"
           }
          ],
          "histogram": [
           {
            "marker": {
             "pattern": {
              "fillmode": "overlay",
              "size": 10,
              "solidity": 0.2
             }
            },
            "type": "histogram"
           }
          ],
          "histogram2d": [
           {
            "colorbar": {
             "outlinewidth": 0,
             "ticks": ""
            },
            "colorscale": [
             [
              0,
              "#0d0887"
             ],
             [
              0.1111111111111111,
              "#46039f"
             ],
             [
              0.2222222222222222,
              "#7201a8"
             ],
             [
              0.3333333333333333,
              "#9c179e"
             ],
             [
              0.4444444444444444,
              "#bd3786"
             ],
             [
              0.5555555555555556,
              "#d8576b"
             ],
             [
              0.6666666666666666,
              "#ed7953"
             ],
             [
              0.7777777777777778,
              "#fb9f3a"
             ],
             [
              0.8888888888888888,
              "#fdca26"
             ],
             [
              1,
              "#f0f921"
             ]
            ],
            "type": "histogram2d"
           }
          ],
          "histogram2dcontour": [
           {
            "colorbar": {
             "outlinewidth": 0,
             "ticks": ""
            },
            "colorscale": [
             [
              0,
              "#0d0887"
             ],
             [
              0.1111111111111111,
              "#46039f"
             ],
             [
              0.2222222222222222,
              "#7201a8"
             ],
             [
              0.3333333333333333,
              "#9c179e"
             ],
             [
              0.4444444444444444,
              "#bd3786"
             ],
             [
              0.5555555555555556,
              "#d8576b"
             ],
             [
              0.6666666666666666,
              "#ed7953"
             ],
             [
              0.7777777777777778,
              "#fb9f3a"
             ],
             [
              0.8888888888888888,
              "#fdca26"
             ],
             [
              1,
              "#f0f921"
             ]
            ],
            "type": "histogram2dcontour"
           }
          ],
          "mesh3d": [
           {
            "colorbar": {
             "outlinewidth": 0,
             "ticks": ""
            },
            "type": "mesh3d"
           }
          ],
          "parcoords": [
           {
            "line": {
             "colorbar": {
              "outlinewidth": 0,
              "ticks": ""
             }
            },
            "type": "parcoords"
           }
          ],
          "pie": [
           {
            "automargin": true,
            "type": "pie"
           }
          ],
          "scatter": [
           {
            "fillpattern": {
             "fillmode": "overlay",
             "size": 10,
             "solidity": 0.2
            },
            "type": "scatter"
           }
          ],
          "scatter3d": [
           {
            "line": {
             "colorbar": {
              "outlinewidth": 0,
              "ticks": ""
             }
            },
            "marker": {
             "colorbar": {
              "outlinewidth": 0,
              "ticks": ""
             }
            },
            "type": "scatter3d"
           }
          ],
          "scattercarpet": [
           {
            "marker": {
             "colorbar": {
              "outlinewidth": 0,
              "ticks": ""
             }
            },
            "type": "scattercarpet"
           }
          ],
          "scattergeo": [
           {
            "marker": {
             "colorbar": {
              "outlinewidth": 0,
              "ticks": ""
             }
            },
            "type": "scattergeo"
           }
          ],
          "scattergl": [
           {
            "marker": {
             "colorbar": {
              "outlinewidth": 0,
              "ticks": ""
             }
            },
            "type": "scattergl"
           }
          ],
          "scattermapbox": [
           {
            "marker": {
             "colorbar": {
              "outlinewidth": 0,
              "ticks": ""
             }
            },
            "type": "scattermapbox"
           }
          ],
          "scatterpolar": [
           {
            "marker": {
             "colorbar": {
              "outlinewidth": 0,
              "ticks": ""
             }
            },
            "type": "scatterpolar"
           }
          ],
          "scatterpolargl": [
           {
            "marker": {
             "colorbar": {
              "outlinewidth": 0,
              "ticks": ""
             }
            },
            "type": "scatterpolargl"
           }
          ],
          "scatterternary": [
           {
            "marker": {
             "colorbar": {
              "outlinewidth": 0,
              "ticks": ""
             }
            },
            "type": "scatterternary"
           }
          ],
          "surface": [
           {
            "colorbar": {
             "outlinewidth": 0,
             "ticks": ""
            },
            "colorscale": [
             [
              0,
              "#0d0887"
             ],
             [
              0.1111111111111111,
              "#46039f"
             ],
             [
              0.2222222222222222,
              "#7201a8"
             ],
             [
              0.3333333333333333,
              "#9c179e"
             ],
             [
              0.4444444444444444,
              "#bd3786"
             ],
             [
              0.5555555555555556,
              "#d8576b"
             ],
             [
              0.6666666666666666,
              "#ed7953"
             ],
             [
              0.7777777777777778,
              "#fb9f3a"
             ],
             [
              0.8888888888888888,
              "#fdca26"
             ],
             [
              1,
              "#f0f921"
             ]
            ],
            "type": "surface"
           }
          ],
          "table": [
           {
            "cells": {
             "fill": {
              "color": "#EBF0F8"
             },
             "line": {
              "color": "white"
             }
            },
            "header": {
             "fill": {
              "color": "#C8D4E3"
             },
             "line": {
              "color": "white"
             }
            },
            "type": "table"
           }
          ]
         },
         "layout": {
          "annotationdefaults": {
           "arrowcolor": "#2a3f5f",
           "arrowhead": 0,
           "arrowwidth": 1
          },
          "autotypenumbers": "strict",
          "coloraxis": {
           "colorbar": {
            "outlinewidth": 0,
            "ticks": ""
           }
          },
          "colorscale": {
           "diverging": [
            [
             0,
             "#8e0152"
            ],
            [
             0.1,
             "#c51b7d"
            ],
            [
             0.2,
             "#de77ae"
            ],
            [
             0.3,
             "#f1b6da"
            ],
            [
             0.4,
             "#fde0ef"
            ],
            [
             0.5,
             "#f7f7f7"
            ],
            [
             0.6,
             "#e6f5d0"
            ],
            [
             0.7,
             "#b8e186"
            ],
            [
             0.8,
             "#7fbc41"
            ],
            [
             0.9,
             "#4d9221"
            ],
            [
             1,
             "#276419"
            ]
           ],
           "sequential": [
            [
             0,
             "#0d0887"
            ],
            [
             0.1111111111111111,
             "#46039f"
            ],
            [
             0.2222222222222222,
             "#7201a8"
            ],
            [
             0.3333333333333333,
             "#9c179e"
            ],
            [
             0.4444444444444444,
             "#bd3786"
            ],
            [
             0.5555555555555556,
             "#d8576b"
            ],
            [
             0.6666666666666666,
             "#ed7953"
            ],
            [
             0.7777777777777778,
             "#fb9f3a"
            ],
            [
             0.8888888888888888,
             "#fdca26"
            ],
            [
             1,
             "#f0f921"
            ]
           ],
           "sequentialminus": [
            [
             0,
             "#0d0887"
            ],
            [
             0.1111111111111111,
             "#46039f"
            ],
            [
             0.2222222222222222,
             "#7201a8"
            ],
            [
             0.3333333333333333,
             "#9c179e"
            ],
            [
             0.4444444444444444,
             "#bd3786"
            ],
            [
             0.5555555555555556,
             "#d8576b"
            ],
            [
             0.6666666666666666,
             "#ed7953"
            ],
            [
             0.7777777777777778,
             "#fb9f3a"
            ],
            [
             0.8888888888888888,
             "#fdca26"
            ],
            [
             1,
             "#f0f921"
            ]
           ]
          },
          "colorway": [
           "#636efa",
           "#EF553B",
           "#00cc96",
           "#ab63fa",
           "#FFA15A",
           "#19d3f3",
           "#FF6692",
           "#B6E880",
           "#FF97FF",
           "#FECB52"
          ],
          "font": {
           "color": "#2a3f5f"
          },
          "geo": {
           "bgcolor": "white",
           "lakecolor": "white",
           "landcolor": "#E5ECF6",
           "showlakes": true,
           "showland": true,
           "subunitcolor": "white"
          },
          "hoverlabel": {
           "align": "left"
          },
          "hovermode": "closest",
          "mapbox": {
           "style": "light"
          },
          "paper_bgcolor": "white",
          "plot_bgcolor": "#E5ECF6",
          "polar": {
           "angularaxis": {
            "gridcolor": "white",
            "linecolor": "white",
            "ticks": ""
           },
           "bgcolor": "#E5ECF6",
           "radialaxis": {
            "gridcolor": "white",
            "linecolor": "white",
            "ticks": ""
           }
          },
          "scene": {
           "xaxis": {
            "backgroundcolor": "#E5ECF6",
            "gridcolor": "white",
            "gridwidth": 2,
            "linecolor": "white",
            "showbackground": true,
            "ticks": "",
            "zerolinecolor": "white"
           },
           "yaxis": {
            "backgroundcolor": "#E5ECF6",
            "gridcolor": "white",
            "gridwidth": 2,
            "linecolor": "white",
            "showbackground": true,
            "ticks": "",
            "zerolinecolor": "white"
           },
           "zaxis": {
            "backgroundcolor": "#E5ECF6",
            "gridcolor": "white",
            "gridwidth": 2,
            "linecolor": "white",
            "showbackground": true,
            "ticks": "",
            "zerolinecolor": "white"
           }
          },
          "shapedefaults": {
           "line": {
            "color": "#2a3f5f"
           }
          },
          "ternary": {
           "aaxis": {
            "gridcolor": "white",
            "linecolor": "white",
            "ticks": ""
           },
           "baxis": {
            "gridcolor": "white",
            "linecolor": "white",
            "ticks": ""
           },
           "bgcolor": "#E5ECF6",
           "caxis": {
            "gridcolor": "white",
            "linecolor": "white",
            "ticks": ""
           }
          },
          "title": {
           "x": 0.05
          },
          "xaxis": {
           "automargin": true,
           "gridcolor": "white",
           "linecolor": "white",
           "ticks": "",
           "title": {
            "standoff": 15
           },
           "zerolinecolor": "white",
           "zerolinewidth": 2
          },
          "yaxis": {
           "automargin": true,
           "gridcolor": "white",
           "linecolor": "white",
           "ticks": "",
           "title": {
            "standoff": 15
           },
           "zerolinecolor": "white",
           "zerolinewidth": 2
          }
         }
        },
        "title": {
         "text": "Time Complexity For Each Topics In Kepler"
        },
        "xaxis": {
         "linecolor": "rgb(204, 204, 204)",
         "linewidth": 2,
         "showgrid": true,
         "showline": true,
         "showticklabels": true,
         "tickfont": {
          "color": "rgb(82, 82, 82)",
          "family": "Arial",
          "size": 12
         },
         "ticks": "outside",
         "title": {
          "text": "Topics"
         }
        },
        "yaxis": {
         "showgrid": true,
         "showline": true,
         "showticklabels": true,
         "title": {
          "text": "Average Days"
         },
         "zeroline": true
        }
       }
      }
     },
     "metadata": {},
     "output_type": "display_data"
    }
   ],
   "source": [
    "df = MergeDF()\n",
    "CalculateTimeComplexity(df)"
   ]
  },
  {
   "cell_type": "code",
   "execution_count": 69,
   "metadata": {},
   "outputs": [
    {
     "name": "stdout",
     "output_type": "stream",
     "text": [
      "56\n",
      "topic:  0 time:  13.9\n",
      "topic:  3 time:  0.44\n",
      "[13.9, 0, 0, 0.44, 0]\n"
     ]
    }
   ],
   "source": [
    "def MergeDFWithoutJoin():\n",
    "    # Merge df according to post id for getting the dates\n",
    "    df1 = pd.read_csv('../dataset/WithAnswerDate.csv')\n",
    "    df2 = pd.read_csv('../dataset/AssignedTopicKnime.csv')\n",
    "\n",
    "    merged_df = pd.merge(df1, df2, on='Id')\n",
    "    columns_to_include = ['Id', 'Title_x', 'Body_x', 'CreationDate', 'AcceptedAnswerDate', 'topic']\n",
    "\n",
    "    # Create a new DataFrame with the selected columns\n",
    "    df_new = merged_df[columns_to_include].copy()\n",
    "    df_new.to_csv('../result.csv')\n",
    "    print(len(df_new))\n",
    "\n",
    "def QuestionsWithoutAnswerPerTopic():\n",
    "    df_new = pd.read_csv('../result.csv')\\circled{0}\n",
    "    df = df.fillna('0001-01-01 00:00:00')\n",
    "    df['time_interval'] = pd.Series(dtype=float)\n",
    "    df['CreationDate'] = pd.to_datetime(df['CreationDate'])\n",
    "    df['AcceptedAnswerDate'] = pd.to_datetime(df['AcceptedAnswerDate'], errors = 'coerce')\n",
    "    df['time_interval'] = df['AcceptedAnswerDate'] - df['CreationDate'] \n",
    "\n",
    "    df['complexity'] = df['time_interval'].dt.days\n",
    "\n",
    "    mean_time = []\n",
    "    topic = [0,1, 2,3, 4,5,6,7,8,9]\n",
    "    mean_time = []\n",
    "\n",
    "    # print(df[df['topic']==5])\n",
    "    for i in topic:\n",
    "        topic_df = df[df['topic'] == i]\n",
    "\n",
    "        if not topic_df.empty:\n",
    "            if topic_df['complexity'].notna().any():\n",
    "                mean = topic_df['complexity'].mean().round(2)\n",
    "                mean_time.append(mean)\n",
    "                print('topic: ', i, 'time: ', mean)\n",
    "            else:\n",
    "                mean_time.append(0)\n",
    "                \n",
    "    print(mean_time)\n",
    "\n",
    "MergeDFWithoutJoin()\n",
    "# QuestionsWithoutAnswerPerTopic()\n",
    "CalculateTimeComplexityWithoutPlots()"
   ]
  },
  {
   "cell_type": "code",
   "execution_count": 28,
   "metadata": {},
   "outputs": [
    {
     "name": "stdout",
     "output_type": "stream",
     "text": [
      "1188\n",
      "5401\n"
     ]
    }
   ],
   "source": [
    "def ConcatMultipleDatasets():\n",
    "    df = pd.read_csv('../dataset/SO_Workflow_Data.csv')\n",
    "    data = df[df['RatingsGPTFineTuned'].isin([-1, 0])]\n",
    "    df_galaxy = data[data['Body'].str.contains('galaxy', case=False)] \n",
    "    df_snakemake = data[data['Body'].str.contains('snakemake', case=False)] \n",
    "    df_knime = data[data['Body'].str.contains('knime', case=False)] \n",
    "    df_nextflow = data[data['Body'].str.contains('nextflow', case=False)] \n",
    "    df_kepler = data[data['Body'].str.contains('kepler', case=False)] \n",
    "    df_teradata = data[data['Body'].str.contains('teradata', case=False)] \n",
    "    df_airflow = data[data['Body'].str.contains('airflow', case=False)] \n",
    "    df_argo = data[data['Body'].str.contains('argo', case=False)] \n",
    "    df_luigi = data[data['Body'].str.contains('luigi', case=False)] \n",
    "    df_monetdb = data[data['Body'].str.contains('monetdb', case=False)] \n",
    "    df_rapidminer = data[data['Body'].str.contains('rapidminer', case=False)] \n",
    "    df_swarm = data[data['Body'].str.contains('swarm', case=False)] \n",
    "    df_workbench = data[data['Body'].str.contains('workbench', case=False)] \n",
    "    print(len(df_snakemake))\n",
    "\n",
    "    frames = [df_galaxy, df_snakemake, df_knime, df_nextflow, df_kepler, df_teradata, df_airflow, df_argo, df_luigi, df_monetdb, df_rapidminer, df_swarm, df_workbench]\n",
    "\n",
    "    result = pd.concat(frames)\n",
    "    result.to_csv('../result.csv', index=False)\n",
    "    print(len(result))\n",
    "\n",
    "ConcatMultipleDatasets()"
   ]
  },
  {
   "cell_type": "code",
   "execution_count": 26,
   "metadata": {},
   "outputs": [
    {
     "name": "stdout",
     "output_type": "stream",
     "text": [
      "RatingsGPTFineTuned\n",
      " 0    3575\n",
      "-1    1785\n",
      " 1      41\n",
      "Name: count, dtype: int64\n"
     ]
    }
   ],
   "source": [
    "def CalculateSentiments():\n",
    "    df = pd.read_csv('../dataset/13SystemsDataset.csv')\n",
    "    print(df['RatingsGPTFineTuned'].value_counts())\n",
    "    \n",
    "CalculateSentiments()"
   ]
  },
  {
   "cell_type": "code",
   "execution_count": 13,
   "metadata": {},
   "outputs": [
    {
     "data": {
      "application/vnd.plotly.v1+json": {
       "config": {
        "plotlyServerURL": "https://plot.ly"
       },
       "data": [
        {
         "connectgaps": true,
         "fill": "tozeroy",
         "fillcolor": "seashell",
         "line": {
          "color": "indigo",
          "width": 5
         },
         "mode": "lines",
         "showlegend": false,
         "type": "scatter",
         "x": [
          2009,
          2010,
          2011,
          2012,
          2013,
          2014,
          2015,
          2016,
          2017,
          2018,
          2019,
          2020,
          2021,
          2022,
          2023
         ],
         "y": [
          8,
          21,
          54,
          124,
          393,
          595,
          543,
          685,
          662,
          747,
          697,
          808,
          714,
          705,
          307
         ]
        },
        {
         "marker": {
          "color": "sandybrown",
          "size": 12
         },
         "mode": "markers+text",
         "text": [
          8,
          21,
          54,
          124,
          393,
          595,
          543,
          685,
          662,
          747,
          697,
          808,
          714,
          705,
          307
         ],
         "textfont": {
          "family": "Balto",
          "size": 12
         },
         "textposition": "top left",
         "type": "scatter",
         "x": [
          2009,
          2010,
          2011,
          2012,
          2013,
          2014,
          2015,
          2016,
          2017,
          2018,
          2019,
          2020,
          2021,
          2022,
          2023
         ],
         "y": [
          8,
          21,
          54,
          124,
          393,
          595,
          543,
          685,
          662,
          747,
          697,
          808,
          714,
          705,
          307
         ]
        }
       ],
       "layout": {
        "autosize": false,
        "hovermode": false,
        "margin": {
         "autoexpand": false,
         "l": 100,
         "r": 20,
         "t": 115
        },
        "plot_bgcolor": "white",
        "showlegend": false,
        "template": {
         "data": {
          "bar": [
           {
            "error_x": {
             "color": "#2a3f5f"
            },
            "error_y": {
             "color": "#2a3f5f"
            },
            "marker": {
             "line": {
              "color": "#E5ECF6",
              "width": 0.5
             },
             "pattern": {
              "fillmode": "overlay",
              "size": 10,
              "solidity": 0.2
             }
            },
            "type": "bar"
           }
          ],
          "barpolar": [
           {
            "marker": {
             "line": {
              "color": "#E5ECF6",
              "width": 0.5
             },
             "pattern": {
              "fillmode": "overlay",
              "size": 10,
              "solidity": 0.2
             }
            },
            "type": "barpolar"
           }
          ],
          "carpet": [
           {
            "aaxis": {
             "endlinecolor": "#2a3f5f",
             "gridcolor": "white",
             "linecolor": "white",
             "minorgridcolor": "white",
             "startlinecolor": "#2a3f5f"
            },
            "baxis": {
             "endlinecolor": "#2a3f5f",
             "gridcolor": "white",
             "linecolor": "white",
             "minorgridcolor": "white",
             "startlinecolor": "#2a3f5f"
            },
            "type": "carpet"
           }
          ],
          "choropleth": [
           {
            "colorbar": {
             "outlinewidth": 0,
             "ticks": ""
            },
            "type": "choropleth"
           }
          ],
          "contour": [
           {
            "colorbar": {
             "outlinewidth": 0,
             "ticks": ""
            },
            "colorscale": [
             [
              0,
              "#0d0887"
             ],
             [
              0.1111111111111111,
              "#46039f"
             ],
             [
              0.2222222222222222,
              "#7201a8"
             ],
             [
              0.3333333333333333,
              "#9c179e"
             ],
             [
              0.4444444444444444,
              "#bd3786"
             ],
             [
              0.5555555555555556,
              "#d8576b"
             ],
             [
              0.6666666666666666,
              "#ed7953"
             ],
             [
              0.7777777777777778,
              "#fb9f3a"
             ],
             [
              0.8888888888888888,
              "#fdca26"
             ],
             [
              1,
              "#f0f921"
             ]
            ],
            "type": "contour"
           }
          ],
          "contourcarpet": [
           {
            "colorbar": {
             "outlinewidth": 0,
             "ticks": ""
            },
            "type": "contourcarpet"
           }
          ],
          "heatmap": [
           {
            "colorbar": {
             "outlinewidth": 0,
             "ticks": ""
            },
            "colorscale": [
             [
              0,
              "#0d0887"
             ],
             [
              0.1111111111111111,
              "#46039f"
             ],
             [
              0.2222222222222222,
              "#7201a8"
             ],
             [
              0.3333333333333333,
              "#9c179e"
             ],
             [
              0.4444444444444444,
              "#bd3786"
             ],
             [
              0.5555555555555556,
              "#d8576b"
             ],
             [
              0.6666666666666666,
              "#ed7953"
             ],
             [
              0.7777777777777778,
              "#fb9f3a"
             ],
             [
              0.8888888888888888,
              "#fdca26"
             ],
             [
              1,
              "#f0f921"
             ]
            ],
            "type": "heatmap"
           }
          ],
          "heatmapgl": [
           {
            "colorbar": {
             "outlinewidth": 0,
             "ticks": ""
            },
            "colorscale": [
             [
              0,
              "#0d0887"
             ],
             [
              0.1111111111111111,
              "#46039f"
             ],
             [
              0.2222222222222222,
              "#7201a8"
             ],
             [
              0.3333333333333333,
              "#9c179e"
             ],
             [
              0.4444444444444444,
              "#bd3786"
             ],
             [
              0.5555555555555556,
              "#d8576b"
             ],
             [
              0.6666666666666666,
              "#ed7953"
             ],
             [
              0.7777777777777778,
              "#fb9f3a"
             ],
             [
              0.8888888888888888,
              "#fdca26"
             ],
             [
              1,
              "#f0f921"
             ]
            ],
            "type": "heatmapgl"
           }
          ],
          "histogram": [
           {
            "marker": {
             "pattern": {
              "fillmode": "overlay",
              "size": 10,
              "solidity": 0.2
             }
            },
            "type": "histogram"
           }
          ],
          "histogram2d": [
           {
            "colorbar": {
             "outlinewidth": 0,
             "ticks": ""
            },
            "colorscale": [
             [
              0,
              "#0d0887"
             ],
             [
              0.1111111111111111,
              "#46039f"
             ],
             [
              0.2222222222222222,
              "#7201a8"
             ],
             [
              0.3333333333333333,
              "#9c179e"
             ],
             [
              0.4444444444444444,
              "#bd3786"
             ],
             [
              0.5555555555555556,
              "#d8576b"
             ],
             [
              0.6666666666666666,
              "#ed7953"
             ],
             [
              0.7777777777777778,
              "#fb9f3a"
             ],
             [
              0.8888888888888888,
              "#fdca26"
             ],
             [
              1,
              "#f0f921"
             ]
            ],
            "type": "histogram2d"
           }
          ],
          "histogram2dcontour": [
           {
            "colorbar": {
             "outlinewidth": 0,
             "ticks": ""
            },
            "colorscale": [
             [
              0,
              "#0d0887"
             ],
             [
              0.1111111111111111,
              "#46039f"
             ],
             [
              0.2222222222222222,
              "#7201a8"
             ],
             [
              0.3333333333333333,
              "#9c179e"
             ],
             [
              0.4444444444444444,
              "#bd3786"
             ],
             [
              0.5555555555555556,
              "#d8576b"
             ],
             [
              0.6666666666666666,
              "#ed7953"
             ],
             [
              0.7777777777777778,
              "#fb9f3a"
             ],
             [
              0.8888888888888888,
              "#fdca26"
             ],
             [
              1,
              "#f0f921"
             ]
            ],
            "type": "histogram2dcontour"
           }
          ],
          "mesh3d": [
           {
            "colorbar": {
             "outlinewidth": 0,
             "ticks": ""
            },
            "type": "mesh3d"
           }
          ],
          "parcoords": [
           {
            "line": {
             "colorbar": {
              "outlinewidth": 0,
              "ticks": ""
             }
            },
            "type": "parcoords"
           }
          ],
          "pie": [
           {
            "automargin": true,
            "type": "pie"
           }
          ],
          "scatter": [
           {
            "fillpattern": {
             "fillmode": "overlay",
             "size": 10,
             "solidity": 0.2
            },
            "type": "scatter"
           }
          ],
          "scatter3d": [
           {
            "line": {
             "colorbar": {
              "outlinewidth": 0,
              "ticks": ""
             }
            },
            "marker": {
             "colorbar": {
              "outlinewidth": 0,
              "ticks": ""
             }
            },
            "type": "scatter3d"
           }
          ],
          "scattercarpet": [
           {
            "marker": {
             "colorbar": {
              "outlinewidth": 0,
              "ticks": ""
             }
            },
            "type": "scattercarpet"
           }
          ],
          "scattergeo": [
           {
            "marker": {
             "colorbar": {
              "outlinewidth": 0,
              "ticks": ""
             }
            },
            "type": "scattergeo"
           }
          ],
          "scattergl": [
           {
            "marker": {
             "colorbar": {
              "outlinewidth": 0,
              "ticks": ""
             }
            },
            "type": "scattergl"
           }
          ],
          "scattermapbox": [
           {
            "marker": {
             "colorbar": {
              "outlinewidth": 0,
              "ticks": ""
             }
            },
            "type": "scattermapbox"
           }
          ],
          "scatterpolar": [
           {
            "marker": {
             "colorbar": {
              "outlinewidth": 0,
              "ticks": ""
             }
            },
            "type": "scatterpolar"
           }
          ],
          "scatterpolargl": [
           {
            "marker": {
             "colorbar": {
              "outlinewidth": 0,
              "ticks": ""
             }
            },
            "type": "scatterpolargl"
           }
          ],
          "scatterternary": [
           {
            "marker": {
             "colorbar": {
              "outlinewidth": 0,
              "ticks": ""
             }
            },
            "type": "scatterternary"
           }
          ],
          "surface": [
           {
            "colorbar": {
             "outlinewidth": 0,
             "ticks": ""
            },
            "colorscale": [
             [
              0,
              "#0d0887"
             ],
             [
              0.1111111111111111,
              "#46039f"
             ],
             [
              0.2222222222222222,
              "#7201a8"
             ],
             [
              0.3333333333333333,
              "#9c179e"
             ],
             [
              0.4444444444444444,
              "#bd3786"
             ],
             [
              0.5555555555555556,
              "#d8576b"
             ],
             [
              0.6666666666666666,
              "#ed7953"
             ],
             [
              0.7777777777777778,
              "#fb9f3a"
             ],
             [
              0.8888888888888888,
              "#fdca26"
             ],
             [
              1,
              "#f0f921"
             ]
            ],
            "type": "surface"
           }
          ],
          "table": [
           {
            "cells": {
             "fill": {
              "color": "#EBF0F8"
             },
             "line": {
              "color": "white"
             }
            },
            "header": {
             "fill": {
              "color": "#C8D4E3"
             },
             "line": {
              "color": "white"
             }
            },
            "type": "table"
           }
          ]
         },
         "layout": {
          "annotationdefaults": {
           "arrowcolor": "#2a3f5f",
           "arrowhead": 0,
           "arrowwidth": 1
          },
          "autotypenumbers": "strict",
          "coloraxis": {
           "colorbar": {
            "outlinewidth": 0,
            "ticks": ""
           }
          },
          "colorscale": {
           "diverging": [
            [
             0,
             "#8e0152"
            ],
            [
             0.1,
             "#c51b7d"
            ],
            [
             0.2,
             "#de77ae"
            ],
            [
             0.3,
             "#f1b6da"
            ],
            [
             0.4,
             "#fde0ef"
            ],
            [
             0.5,
             "#f7f7f7"
            ],
            [
             0.6,
             "#e6f5d0"
            ],
            [
             0.7,
             "#b8e186"
            ],
            [
             0.8,
             "#7fbc41"
            ],
            [
             0.9,
             "#4d9221"
            ],
            [
             1,
             "#276419"
            ]
           ],
           "sequential": [
            [
             0,
             "#0d0887"
            ],
            [
             0.1111111111111111,
             "#46039f"
            ],
            [
             0.2222222222222222,
             "#7201a8"
            ],
            [
             0.3333333333333333,
             "#9c179e"
            ],
            [
             0.4444444444444444,
             "#bd3786"
            ],
            [
             0.5555555555555556,
             "#d8576b"
            ],
            [
             0.6666666666666666,
             "#ed7953"
            ],
            [
             0.7777777777777778,
             "#fb9f3a"
            ],
            [
             0.8888888888888888,
             "#fdca26"
            ],
            [
             1,
             "#f0f921"
            ]
           ],
           "sequentialminus": [
            [
             0,
             "#0d0887"
            ],
            [
             0.1111111111111111,
             "#46039f"
            ],
            [
             0.2222222222222222,
             "#7201a8"
            ],
            [
             0.3333333333333333,
             "#9c179e"
            ],
            [
             0.4444444444444444,
             "#bd3786"
            ],
            [
             0.5555555555555556,
             "#d8576b"
            ],
            [
             0.6666666666666666,
             "#ed7953"
            ],
            [
             0.7777777777777778,
             "#fb9f3a"
            ],
            [
             0.8888888888888888,
             "#fdca26"
            ],
            [
             1,
             "#f0f921"
            ]
           ]
          },
          "colorway": [
           "#636efa",
           "#EF553B",
           "#00cc96",
           "#ab63fa",
           "#FFA15A",
           "#19d3f3",
           "#FF6692",
           "#B6E880",
           "#FF97FF",
           "#FECB52"
          ],
          "font": {
           "color": "#2a3f5f"
          },
          "geo": {
           "bgcolor": "white",
           "lakecolor": "white",
           "landcolor": "#E5ECF6",
           "showlakes": true,
           "showland": true,
           "subunitcolor": "white"
          },
          "hoverlabel": {
           "align": "left"
          },
          "hovermode": "closest",
          "mapbox": {
           "style": "light"
          },
          "paper_bgcolor": "white",
          "plot_bgcolor": "#E5ECF6",
          "polar": {
           "angularaxis": {
            "gridcolor": "white",
            "linecolor": "white",
            "ticks": ""
           },
           "bgcolor": "#E5ECF6",
           "radialaxis": {
            "gridcolor": "white",
            "linecolor": "white",
            "ticks": ""
           }
          },
          "scene": {
           "xaxis": {
            "backgroundcolor": "#E5ECF6",
            "gridcolor": "white",
            "gridwidth": 2,
            "linecolor": "white",
            "showbackground": true,
            "ticks": "",
            "zerolinecolor": "white"
           },
           "yaxis": {
            "backgroundcolor": "#E5ECF6",
            "gridcolor": "white",
            "gridwidth": 2,
            "linecolor": "white",
            "showbackground": true,
            "ticks": "",
            "zerolinecolor": "white"
           },
           "zaxis": {
            "backgroundcolor": "#E5ECF6",
            "gridcolor": "white",
            "gridwidth": 2,
            "linecolor": "white",
            "showbackground": true,
            "ticks": "",
            "zerolinecolor": "white"
           }
          },
          "shapedefaults": {
           "line": {
            "color": "#2a3f5f"
           }
          },
          "ternary": {
           "aaxis": {
            "gridcolor": "white",
            "linecolor": "white",
            "ticks": ""
           },
           "baxis": {
            "gridcolor": "white",
            "linecolor": "white",
            "ticks": ""
           },
           "bgcolor": "#E5ECF6",
           "caxis": {
            "gridcolor": "white",
            "linecolor": "white",
            "ticks": ""
           }
          },
          "title": {
           "x": 0.05
          },
          "xaxis": {
           "automargin": true,
           "gridcolor": "white",
           "linecolor": "white",
           "ticks": "",
           "title": {
            "standoff": 15
           },
           "zerolinecolor": "white",
           "zerolinewidth": 2
          },
          "yaxis": {
           "automargin": true,
           "gridcolor": "white",
           "linecolor": "white",
           "ticks": "",
           "title": {
            "standoff": 15
           },
           "zerolinecolor": "white",
           "zerolinewidth": 2
          }
         }
        },
        "title": {
         "text": "Records Per Year"
        },
        "xaxis": {
         "linecolor": "rgb(204, 204, 204)",
         "linewidth": 2,
         "showgrid": true,
         "showline": true,
         "showticklabels": true,
         "tickfont": {
          "color": "rgb(82, 82, 82)",
          "family": "Arial",
          "size": 12
         },
         "ticks": "outside",
         "title": {
          "text": "Year"
         }
        },
        "yaxis": {
         "showgrid": true,
         "showline": true,
         "showticklabels": true,
         "title": {
          "text": "Total Records"
         },
         "zeroline": true
        }
       }
      }
     },
     "metadata": {},
     "output_type": "display_data"
    }
   ],
   "source": [
    "def countRecordsPerYear():\n",
    "\n",
    "    # Assuming df is your DataFrame and date_column is the column with datetime objects\n",
    "    # If your datetime column is not already in datetime format, you can convert it using:\n",
    "    # df['date_column'] = pd.to_datetime(df['date_column'])\n",
    "\n",
    "    # Extract year from the datetime column\n",
    "    df = pd.read_csv('../dataset/WithAnswerDate.csv')\n",
    "    df['date_column'] = pd.to_datetime(df['CreationDate'])\n",
    "    df['year'] = df['date_column'].dt.year\n",
    "\n",
    "# Group by year and count the number of records\n",
    "    records_per_year = df.groupby('year').size().reset_index(name='count')\n",
    "\n",
    "\n",
    "    # Plotting\n",
    "    # plt.figure(figsize=(10, 6))\n",
    "    # records_per_year.plot(kind='line', marker='o', linestyle='-', color='b')\n",
    "    # plt.title('Number of Records per Year')\n",
    "    # plt.xlabel('Year')\n",
    "    # plt.ylabel('Number of Records')\n",
    "    # plt.grid(True)\n",
    "    # plt.show()\n",
    "\n",
    "    # fig = go.Figure()\n",
    "\n",
    "    # fig.add_trace(go.Scatter(x=records_per_year['year'], y=records_per_year['count'],\n",
    "    #                         mode='lines+markers', name='Records per Year', marker=dict(color='blue')))\n",
    "\n",
    "    # fig.update_layout(title='Number of Records per Year',\n",
    "    #                 xaxis=dict(title='Year'),\n",
    "    #                 yaxis=dict(title='Number of Records'),\n",
    "    #                 showlegend=True)\n",
    "\n",
    "    # fig.show()\n",
    "    fig = go.Figure()\n",
    "    colors = ['sandybrown', 'seagreen', 'seashell', 'sienna', 'silver',\n",
    "            'skyblue', 'slateblue', 'slategray', 'slategrey', 'snow',\n",
    "            'springgreen', 'steelblue', 'tan', 'teal', 'thistle', 'tomato',\n",
    "            'turquoise', 'violet', 'wheat', 'white', 'whitesmoke',\n",
    "            'yellow', 'yellowgreen']\n",
    "\n",
    "    mode_size = [8, 8, 12, 8]\n",
    "    line_size = [2, 2, 4, 2]\n",
    "    \n",
    "    # Add a line trace\n",
    "    fig.add_trace(go.Scatter(\n",
    "        x=records_per_year['year'], y=records_per_year['count'],  \n",
    "        mode='lines',\n",
    "        line=dict(width=5),\n",
    "        fill='tozeroy',\n",
    "        fillcolor='seashell',\n",
    "        line_color='indigo',\n",
    "        connectgaps=True,\n",
    "        showlegend=False))\n",
    "    \n",
    "    fig.add_trace(go.Scatter(\n",
    "        x=records_per_year['year'],\n",
    "        y=records_per_year['count'],\n",
    "        mode='markers+text',\n",
    "        text=records_per_year['count'],\n",
    "        textposition='top left',\n",
    "        textfont={'family':'Balto', 'size':12},\n",
    "        marker=dict(color='sandybrown', size=12)\n",
    "    ))\n",
    "\n",
    "    fig.update_layout(\n",
    "        xaxis=dict(\n",
    "            showline=True,\n",
    "            showgrid=True,\n",
    "            showticklabels=True,\n",
    "            linecolor='rgb(204, 204, 204)',\n",
    "            linewidth=2,\n",
    "            ticks='outside',\n",
    "            tickfont=dict(\n",
    "                family='Arial',\n",
    "                size=12,\n",
    "                color='rgb(82, 82, 82)',\n",
    "            )\n",
    "        ),\n",
    "        yaxis=dict(\n",
    "            showgrid=True,\n",
    "            zeroline=True,\n",
    "            showline=True,\n",
    "            showticklabels=True,\n",
    "        ),\n",
    "        autosize=False,\n",
    "        margin=dict(\n",
    "            autoexpand=False,\n",
    "            l=100,\n",
    "            r=20,\n",
    "            t=115,\n",
    "        ),\n",
    "        showlegend=False,\n",
    "        plot_bgcolor='white'\n",
    "    )\n",
    "\n",
    "    # Update layout to remove hovermode\n",
    "    fig.update_layout(hovermode=False)\n",
    "\n",
    "    # Set axis labels and plot title\n",
    "    fig.update_layout(title='Records Per Year', xaxis_title='Year', yaxis_title='Total Records')\n",
    "\n",
    "    # Show the plot\n",
    "    fig.show()\n",
    "\n",
    "\n",
    "    \n",
    "\n",
    "countRecordsPerYear()\n"
   ]
  },
  {
   "cell_type": "code",
   "execution_count": 15,
   "metadata": {},
   "outputs": [
    {
     "name": "stdout",
     "output_type": "stream",
     "text": [
      "59\n",
      "   Topic 0  Topic 1   Topic 2   Topic 3   Topic 4\n",
      "0      0.0     0.25  0.250000  0.250000  0.250000\n",
      "1      0.0     0.00  0.333333  0.333333  0.333333\n",
      "2      0.0     0.00  0.000000  0.500000  0.500000\n",
      "3      0.0     0.00  0.000000  0.000000  1.000000\n",
      "4      NaN      NaN       NaN       NaN       NaN\n"
     ]
    },
    {
     "name": "stderr",
     "output_type": "stream",
     "text": [
      "/tmp/ipykernel_565939/2756913492.py:46: RuntimeWarning:\n",
      "\n",
      "invalid value encountered in divide\n",
      "\n"
     ]
    }
   ],
   "source": [
    "import numpy as np\n",
    "import pandas as pd\n",
    "from sklearn.decomposition import LatentDirichletAllocation\n",
    "from sklearn.feature_extraction.text import CountVectorizer\n",
    "\n",
    "# Example documents\n",
    "df = pd.read_csv('../dataset/galaxy_posts.csv')\n",
    "# my_value = -1\n",
    "# new_df = df.loc[df[\"RatingsGPTFineTuned\"] == my_value]\n",
    "df[\"merged\"] = df[[\"Body\"]]\n",
    "#new_df.head()\n",
    "# new_df.to_csv('Dataset/ConcatenatedDatasetSO.csv')\n",
    "print(len(df))\n",
    "data = df.merged.values.tolist()\n",
    "#data\n",
    "# Remove Emails\n",
    "data = [re.sub('<[^<>]*>', '', sent) for sent in data]\n",
    "# Remove new line characters\n",
    "data = [re.sub('\\s+', ' ', sent) for sent in data]\n",
    "# Remove distracting single quotes\n",
    "data = [re.sub(\"\\'\", \"\", sent) for sent in data]\n",
    "\n",
    "# pprint(data[:2])\n",
    "\n",
    "# Vectorize the documents\n",
    "vectorizer = CountVectorizer(stop_words='english')\n",
    "X = vectorizer.fit_transform(data)\n",
    "\n",
    "# Fit LDA model\n",
    "lda = LatentDirichletAllocation(n_components=5, random_state=42)\n",
    "lda.fit(X)\n",
    "\n",
    "# Get topic assignments for each document\n",
    "document_topics = lda.transform(X)\n",
    "\n",
    "# Initialize topic co-occurrence matrix\n",
    "co_occurrence_matrix = np.zeros((lda.n_components, lda.n_components))\n",
    "\n",
    "# Update co-occurrence matrix based on topic assignments in documents\n",
    "for doc_topics in document_topics:\n",
    "    for i in range(len(doc_topics)):\n",
    "        for j in range(i + 1, len(doc_topics)):\n",
    "            co_occurrence_matrix[i, j] += 1\n",
    "\n",
    "# Optionally, normalize the co-occurrence matrix\n",
    "co_occurrence_matrix /= co_occurrence_matrix.sum(axis=1)[:, np.newaxis]\n",
    "\n",
    "# Convert to a DataFrame for easier analysis or visualization\n",
    "co_occurrence_df = pd.DataFrame(co_occurrence_matrix, columns=[f\"Topic {i}\" for i in range(lda.n_components)])\n",
    "print(co_occurrence_df)\n"
   ]
  },
  {
   "cell_type": "code",
   "execution_count": 22,
   "metadata": {},
   "outputs": [
    {
     "name": "stdout",
     "output_type": "stream",
     "text": [
      "Co-Occurrence Matrix:\n",
      "[[12  9  4  3  2]\n",
      " [ 9  9  4  2  1]\n",
      " [ 4  4  5  1  1]\n",
      " [ 3  2  1  3  0]\n",
      " [ 2  1  1  0  3]]\n"
     ]
    }
   ],
   "source": [
    "import numpy as np\n",
    "\n",
    "# Example data (replace this with your actual data)\n",
    "topics = [\"Topic1\", \"Topic2\", \"Topic3\", \"Topic4\", \"Topic5\"]\n",
    "systems = [\"Galaxy\", \"SnakeMake\", \"Knime\", \"Nextflow\", \"Kepler\", \"Teradata\", \"Airflow\", \"Argo\", \"Luigi\", \"MonetDB\", \"RapidMiner\", \"Swarm\", \"Workbench\"]\n",
    "\n",
    "# Example: a dictionary indicating the presence or absence of each topic in each system\n",
    "topic_data = {\n",
    "    \"Galaxy\": [1, 1, 1, 1, 0],\n",
    "    \"SnakeMake\": [0, 0, 1, 0, 1],\n",
    "    \"Knime\": [1, 1, 0, 1, 0],\n",
    "    \"Nextflow\": [1, 1, 1, 0, 0],\n",
    "    \"Kepler\": [1, 1, 0, 0, 1],\n",
    "    \"Teradata\": [1, 0, 0, 1, 0],\n",
    "    \"Airflow\": [1, 1, 0, 0, 0],\n",
    "    \"Argo\": [1, 1, 1, 0, 0],\n",
    "    \"Luigi\": [1, 1, 1, 0, 0],\n",
    "    \"MonetDB\": [1, 1, 0, 0, 0],\n",
    "    \"RapidMiner\": [1, 0, 0, 0, 1],\n",
    "    \"Swarm\": [1, 1, 0, 0, 0],\n",
    "    \"Workbench\": [1, 0, 0, 0, 0]\n",
    "    # ... (repeat for all systems)\n",
    "}\n",
    "\n",
    "# Convert the dictionary to a binary matrix\n",
    "binary_matrix = np.array([topic_data[system] for system in systems])\n",
    "\n",
    "# Calculate the co-occurrence matrix\n",
    "co_occurrence_matrix = np.dot(binary_matrix.T, binary_matrix)\n",
    "\n",
    "# Display the co-occurrence matrix\n",
    "print(\"Co-Occurrence Matrix:\")\n",
    "print(co_occurrence_matrix)\n"
   ]
  },
  {
   "cell_type": "code",
   "execution_count": 23,
   "metadata": {},
   "outputs": [
    {
     "name": "stdout",
     "output_type": "stream",
     "text": [
      "Co-Occurrence DataFrame:\n",
      "                                source                              target  \\\n",
      "0        Error Handling and Resolution        File Handling and Management   \n",
      "1        Error Handling and Resolution   Workflow Execution and Management   \n",
      "2        Error Handling and Resolution  Database Operations and Management   \n",
      "3        Error Handling and Resolution      Data Manipulation and Analysis   \n",
      "4         File Handling and Management       Error Handling and Resolution   \n",
      "5         File Handling and Management   Workflow Execution and Management   \n",
      "6         File Handling and Management  Database Operations and Management   \n",
      "7         File Handling and Management      Data Manipulation and Analysis   \n",
      "8    Workflow Execution and Management       Error Handling and Resolution   \n",
      "9    Workflow Execution and Management        File Handling and Management   \n",
      "10   Workflow Execution and Management  Database Operations and Management   \n",
      "11   Workflow Execution and Management      Data Manipulation and Analysis   \n",
      "12  Database Operations and Management       Error Handling and Resolution   \n",
      "13  Database Operations and Management        File Handling and Management   \n",
      "14  Database Operations and Management   Workflow Execution and Management   \n",
      "15  Database Operations and Management      Data Manipulation and Analysis   \n",
      "16      Data Manipulation and Analysis       Error Handling and Resolution   \n",
      "17      Data Manipulation and Analysis        File Handling and Management   \n",
      "18      Data Manipulation and Analysis   Workflow Execution and Management   \n",
      "19      Data Manipulation and Analysis  Database Operations and Management   \n",
      "\n",
      "    value  \n",
      "0       9  \n",
      "1       4  \n",
      "2       3  \n",
      "3       2  \n",
      "4       9  \n",
      "5       4  \n",
      "6       2  \n",
      "7       1  \n",
      "8       4  \n",
      "9       4  \n",
      "10      1  \n",
      "11      1  \n",
      "12      3  \n",
      "13      2  \n",
      "14      1  \n",
      "15      0  \n",
      "16      2  \n",
      "17      1  \n",
      "18      1  \n",
      "19      0  \n"
     ]
    }
   ],
   "source": [
    "# Example topics\n",
    "topics = [\"Error Handling and Resolution\", \"File Handling and Management\", \"Workflow Execution and Management\", \"Database Operations and Management\", \"Data Manipulation and Analysis\"]\n",
    "\n",
    "# Create a list of dictionaries to store the data\n",
    "data_list = []\n",
    "\n",
    "for i, source_topic in enumerate(topics):\n",
    "    for j, target_topic in enumerate(topics):\n",
    "        if i != j:  # Exclude diagonal elements\n",
    "            data_list.append({\n",
    "                \"source\": source_topic,\n",
    "                \"target\": target_topic,\n",
    "                \"value\": co_occurrence_matrix[i, j]\n",
    "            })\n",
    "\n",
    "# Convert the list of dictionaries to a DataFrame\n",
    "co_occurrence_df = pd.DataFrame(data_list)\n",
    "\n",
    "# Save the DataFrame to a CSV file\n",
    "co_occurrence_df.to_csv(\"../co_occurrence_matrix.csv\", index=False)\n",
    "\n",
    "# Display the DataFrame\n",
    "print(\"Co-Occurrence DataFrame:\")\n",
    "print(co_occurrence_df)"
   ]
  }
 ],
 "metadata": {
  "kernelspec": {
   "display_name": ".venv",
   "language": "python",
   "name": "python3"
  },
  "language_info": {
   "codemirror_mode": {
    "name": "ipython",
    "version": 3
   },
   "file_extension": ".py",
   "mimetype": "text/x-python",
   "name": "python",
   "nbconvert_exporter": "python",
   "pygments_lexer": "ipython3",
   "version": "3.10.12"
  }
 },
 "nbformat": 4,
 "nbformat_minor": 2
}
