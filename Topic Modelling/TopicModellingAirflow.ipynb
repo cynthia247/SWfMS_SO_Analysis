{
 "cells": [
  {
   "cell_type": "markdown",
   "id": "19a3956d",
   "metadata": {},
   "source": [
    "# Necessary Tools and Services"
   ]
  },
  {
   "cell_type": "code",
   "execution_count": 32,
   "id": "57e1172e",
   "metadata": {},
   "outputs": [],
   "source": [
    "# ! pip install pandas\n",
    "# ! pip install matplotlib\n",
    "# ! pip install numpy\n",
    "# ! pip install seaborn\n",
    "# ! pip install unzip\n",
    "# ! pip install gensim\n",
    "# ! pip install nltk\n",
    "# ! pip install wordcloud\n",
    "# ! pip install spacy\n",
    "# ! pip install spacy_download\n",
    "# ! pip install pyLDAvis\n",
    "# ! pip install PyStemmer\n",
    "\n",
    "# ! python3 -m spacy download en"
   ]
  },
  {
   "cell_type": "code",
   "execution_count": 1,
   "id": "893b4ccc",
   "metadata": {},
   "outputs": [
    {
     "name": "stderr",
     "output_type": "stream",
     "text": [
      "[nltk_data] Downloading package averaged_perceptron_tagger to\n",
      "[nltk_data]     /home/uji657/nltk_data...\n",
      "[nltk_data]   Package averaged_perceptron_tagger is already up-to-\n",
      "[nltk_data]       date!\n",
      "[nltk_data] Downloading package wordnet to /home/uji657/nltk_data...\n",
      "[nltk_data]   Package wordnet is already up-to-date!\n",
      "[nltk_data] Downloading package stopwords to /home/uji657/nltk_data...\n",
      "[nltk_data]   Package stopwords is already up-to-date!\n"
     ]
    },
    {
     "name": "stdout",
     "output_type": "stream",
     "text": [
      "Collecting en-core-web-sm==3.7.1\n",
      "  Using cached https://github.com/explosion/spacy-models/releases/download/en_core_web_sm-3.7.1/en_core_web_sm-3.7.1-py3-none-any.whl (12.8 MB)\n",
      "Requirement already satisfied: spacy<3.8.0,>=3.7.2 in /home/uji657/Downloads/Sentiment Analysis/SentiCR-master/SentiCR/.venv/lib/python3.10/site-packages (from en-core-web-sm==3.7.1) (3.7.2)\n",
      "Requirement already satisfied: packaging>=20.0 in /home/uji657/Downloads/Sentiment Analysis/SentiCR-master/SentiCR/.venv/lib/python3.10/site-packages (from spacy<3.8.0,>=3.7.2->en-core-web-sm==3.7.1) (23.2)\n",
      "Requirement already satisfied: thinc<8.3.0,>=8.1.8 in /home/uji657/Downloads/Sentiment Analysis/SentiCR-master/SentiCR/.venv/lib/python3.10/site-packages (from spacy<3.8.0,>=3.7.2->en-core-web-sm==3.7.1) (8.2.1)\n",
      "Requirement already satisfied: pydantic!=1.8,!=1.8.1,<3.0.0,>=1.7.4 in /home/uji657/Downloads/Sentiment Analysis/SentiCR-master/SentiCR/.venv/lib/python3.10/site-packages (from spacy<3.8.0,>=3.7.2->en-core-web-sm==3.7.1) (2.5.1)\n",
      "Requirement already satisfied: jinja2 in /home/uji657/Downloads/Sentiment Analysis/SentiCR-master/SentiCR/.venv/lib/python3.10/site-packages (from spacy<3.8.0,>=3.7.2->en-core-web-sm==3.7.1) (3.1.2)\n",
      "Requirement already satisfied: tqdm<5.0.0,>=4.38.0 in /home/uji657/Downloads/Sentiment Analysis/SentiCR-master/SentiCR/.venv/lib/python3.10/site-packages (from spacy<3.8.0,>=3.7.2->en-core-web-sm==3.7.1) (4.66.1)\n",
      "Requirement already satisfied: murmurhash<1.1.0,>=0.28.0 in /home/uji657/Downloads/Sentiment Analysis/SentiCR-master/SentiCR/.venv/lib/python3.10/site-packages (from spacy<3.8.0,>=3.7.2->en-core-web-sm==3.7.1) (1.0.10)\n",
      "Requirement already satisfied: spacy-legacy<3.1.0,>=3.0.11 in /home/uji657/Downloads/Sentiment Analysis/SentiCR-master/SentiCR/.venv/lib/python3.10/site-packages (from spacy<3.8.0,>=3.7.2->en-core-web-sm==3.7.1) (3.0.12)\n",
      "Requirement already satisfied: catalogue<2.1.0,>=2.0.6 in /home/uji657/Downloads/Sentiment Analysis/SentiCR-master/SentiCR/.venv/lib/python3.10/site-packages (from spacy<3.8.0,>=3.7.2->en-core-web-sm==3.7.1) (2.0.10)\n",
      "Requirement already satisfied: weasel<0.4.0,>=0.1.0 in /home/uji657/Downloads/Sentiment Analysis/SentiCR-master/SentiCR/.venv/lib/python3.10/site-packages (from spacy<3.8.0,>=3.7.2->en-core-web-sm==3.7.1) (0.3.4)\n",
      "Requirement already satisfied: spacy-loggers<2.0.0,>=1.0.0 in /home/uji657/Downloads/Sentiment Analysis/SentiCR-master/SentiCR/.venv/lib/python3.10/site-packages (from spacy<3.8.0,>=3.7.2->en-core-web-sm==3.7.1) (1.0.5)\n",
      "Requirement already satisfied: smart-open<7.0.0,>=5.2.1 in /home/uji657/Downloads/Sentiment Analysis/SentiCR-master/SentiCR/.venv/lib/python3.10/site-packages (from spacy<3.8.0,>=3.7.2->en-core-web-sm==3.7.1) (6.4.0)\n",
      "Requirement already satisfied: preshed<3.1.0,>=3.0.2 in /home/uji657/Downloads/Sentiment Analysis/SentiCR-master/SentiCR/.venv/lib/python3.10/site-packages (from spacy<3.8.0,>=3.7.2->en-core-web-sm==3.7.1) (3.0.9)\n",
      "Requirement already satisfied: setuptools in /home/uji657/Downloads/Sentiment Analysis/SentiCR-master/SentiCR/.venv/lib/python3.10/site-packages (from spacy<3.8.0,>=3.7.2->en-core-web-sm==3.7.1) (59.6.0)\n",
      "Requirement already satisfied: srsly<3.0.0,>=2.4.3 in /home/uji657/Downloads/Sentiment Analysis/SentiCR-master/SentiCR/.venv/lib/python3.10/site-packages (from spacy<3.8.0,>=3.7.2->en-core-web-sm==3.7.1) (2.4.8)\n",
      "Requirement already satisfied: requests<3.0.0,>=2.13.0 in /home/uji657/Downloads/Sentiment Analysis/SentiCR-master/SentiCR/.venv/lib/python3.10/site-packages (from spacy<3.8.0,>=3.7.2->en-core-web-sm==3.7.1) (2.31.0)\n",
      "Requirement already satisfied: cymem<2.1.0,>=2.0.2 in /home/uji657/Downloads/Sentiment Analysis/SentiCR-master/SentiCR/.venv/lib/python3.10/site-packages (from spacy<3.8.0,>=3.7.2->en-core-web-sm==3.7.1) (2.0.8)\n",
      "Requirement already satisfied: typer<0.10.0,>=0.3.0 in /home/uji657/Downloads/Sentiment Analysis/SentiCR-master/SentiCR/.venv/lib/python3.10/site-packages (from spacy<3.8.0,>=3.7.2->en-core-web-sm==3.7.1) (0.9.0)\n",
      "Requirement already satisfied: langcodes<4.0.0,>=3.2.0 in /home/uji657/Downloads/Sentiment Analysis/SentiCR-master/SentiCR/.venv/lib/python3.10/site-packages (from spacy<3.8.0,>=3.7.2->en-core-web-sm==3.7.1) (3.3.0)\n",
      "Requirement already satisfied: numpy>=1.19.0 in /home/uji657/Downloads/Sentiment Analysis/SentiCR-master/SentiCR/.venv/lib/python3.10/site-packages (from spacy<3.8.0,>=3.7.2->en-core-web-sm==3.7.1) (1.26.2)\n",
      "Requirement already satisfied: wasabi<1.2.0,>=0.9.1 in /home/uji657/Downloads/Sentiment Analysis/SentiCR-master/SentiCR/.venv/lib/python3.10/site-packages (from spacy<3.8.0,>=3.7.2->en-core-web-sm==3.7.1) (1.1.2)\n",
      "Requirement already satisfied: typing-extensions>=4.6.1 in /home/uji657/Downloads/Sentiment Analysis/SentiCR-master/SentiCR/.venv/lib/python3.10/site-packages (from pydantic!=1.8,!=1.8.1,<3.0.0,>=1.7.4->spacy<3.8.0,>=3.7.2->en-core-web-sm==3.7.1) (4.8.0)\n",
      "Requirement already satisfied: annotated-types>=0.4.0 in /home/uji657/Downloads/Sentiment Analysis/SentiCR-master/SentiCR/.venv/lib/python3.10/site-packages (from pydantic!=1.8,!=1.8.1,<3.0.0,>=1.7.4->spacy<3.8.0,>=3.7.2->en-core-web-sm==3.7.1) (0.6.0)\n",
      "Requirement already satisfied: pydantic-core==2.14.3 in /home/uji657/Downloads/Sentiment Analysis/SentiCR-master/SentiCR/.venv/lib/python3.10/site-packages (from pydantic!=1.8,!=1.8.1,<3.0.0,>=1.7.4->spacy<3.8.0,>=3.7.2->en-core-web-sm==3.7.1) (2.14.3)\n",
      "Requirement already satisfied: charset-normalizer<4,>=2 in /home/uji657/Downloads/Sentiment Analysis/SentiCR-master/SentiCR/.venv/lib/python3.10/site-packages (from requests<3.0.0,>=2.13.0->spacy<3.8.0,>=3.7.2->en-core-web-sm==3.7.1) (3.3.2)\n",
      "Requirement already satisfied: idna<4,>=2.5 in /home/uji657/Downloads/Sentiment Analysis/SentiCR-master/SentiCR/.venv/lib/python3.10/site-packages (from requests<3.0.0,>=2.13.0->spacy<3.8.0,>=3.7.2->en-core-web-sm==3.7.1) (3.4)\n",
      "Requirement already satisfied: urllib3<3,>=1.21.1 in /home/uji657/Downloads/Sentiment Analysis/SentiCR-master/SentiCR/.venv/lib/python3.10/site-packages (from requests<3.0.0,>=2.13.0->spacy<3.8.0,>=3.7.2->en-core-web-sm==3.7.1) (2.1.0)\n",
      "Requirement already satisfied: certifi>=2017.4.17 in /home/uji657/Downloads/Sentiment Analysis/SentiCR-master/SentiCR/.venv/lib/python3.10/site-packages (from requests<3.0.0,>=2.13.0->spacy<3.8.0,>=3.7.2->en-core-web-sm==3.7.1) (2023.7.22)\n",
      "Requirement already satisfied: confection<1.0.0,>=0.0.1 in /home/uji657/Downloads/Sentiment Analysis/SentiCR-master/SentiCR/.venv/lib/python3.10/site-packages (from thinc<8.3.0,>=8.1.8->spacy<3.8.0,>=3.7.2->en-core-web-sm==3.7.1) (0.1.3)\n",
      "Requirement already satisfied: blis<0.8.0,>=0.7.8 in /home/uji657/Downloads/Sentiment Analysis/SentiCR-master/SentiCR/.venv/lib/python3.10/site-packages (from thinc<8.3.0,>=8.1.8->spacy<3.8.0,>=3.7.2->en-core-web-sm==3.7.1) (0.7.11)\n",
      "Requirement already satisfied: click<9.0.0,>=7.1.1 in /home/uji657/Downloads/Sentiment Analysis/SentiCR-master/SentiCR/.venv/lib/python3.10/site-packages (from typer<0.10.0,>=0.3.0->spacy<3.8.0,>=3.7.2->en-core-web-sm==3.7.1) (8.1.7)\n",
      "Requirement already satisfied: cloudpathlib<0.17.0,>=0.7.0 in /home/uji657/Downloads/Sentiment Analysis/SentiCR-master/SentiCR/.venv/lib/python3.10/site-packages (from weasel<0.4.0,>=0.1.0->spacy<3.8.0,>=3.7.2->en-core-web-sm==3.7.1) (0.16.0)\n",
      "Requirement already satisfied: MarkupSafe>=2.0 in /home/uji657/Downloads/Sentiment Analysis/SentiCR-master/SentiCR/.venv/lib/python3.10/site-packages (from jinja2->spacy<3.8.0,>=3.7.2->en-core-web-sm==3.7.1) (2.1.3)\n",
      "\u001b[38;5;2m✔ Download and installation successful\u001b[0m\n",
      "You can now load the package via spacy.load('en_core_web_sm')\n"
     ]
    }
   ],
   "source": [
    "## Importing PD and Others\n",
    "import re\n",
    "import numpy as np\n",
    "import pandas as pd\n",
    "from pprint import pprint\n",
    "\n",
    "## Gensim\n",
    "import gensim\n",
    "import gensim.corpora as corpora\n",
    "from gensim.models import CoherenceModel\n",
    "from gensim.utils import simple_preprocess\n",
    "from gensim.parsing.preprocessing import STOPWORDS\n",
    "\n",
    "## NLTK\n",
    "from nltk.stem import WordNetLemmatizer, SnowballStemmer\n",
    "from nltk.stem.porter import *\n",
    "import nltk.stem\n",
    "import numpy as np\n",
    "np.random.seed(2018)\n",
    "import nltk\n",
    "nltk.download('averaged_perceptron_tagger')\n",
    "nltk.download('wordnet')\n",
    "nltk.download('stopwords')\n",
    "\n",
    "from nltk.corpus import stopwords\n",
    "stop_words = stopwords.words('english')\n",
    "stop_words.extend(['#', '`', '\"', '@'])\n",
    "\n",
    "import warnings\n",
    "warnings.filterwarnings(action='ignore', category=UserWarning)\n",
    "\n",
    "import matplotlib.pyplot as plt\n",
    "%matplotlib inline\n",
    "\n",
    "\n",
    "import spacy\n",
    "spacy.cli.download('en_core_web_sm')\n",
    "\n",
    "\n",
    "\n",
    "## Visualization\n",
    "import pyLDAvis\n",
    "import pyLDAvis.gensim\n",
    "\n",
    "import warnings\n",
    "warnings.filterwarnings(\"ignore\", category=DeprecationWarning)"
   ]
  },
  {
   "cell_type": "code",
   "execution_count": 19,
   "metadata": {},
   "outputs": [
    {
     "name": "stdout",
     "output_type": "stream",
     "text": [
      "21\n"
     ]
    }
   ],
   "source": [
    "def FindingPostsWithNegativeSentiments():\n",
    "    df = pd.read_csv('../dataset/SO_Workflow_Data.csv')\n",
    "    my_value = -1\n",
    "    data = df.loc[df[\"RatingsGPTFineTuned\"] == my_value]\n",
    "\n",
    "    df = data[data['Body'].str.contains('airflow', case=False)] \n",
    "    print(len(df))\n",
    "    df.to_csv('../dataset/airflow_posts.csv', index=False)\n",
    "\n",
    "FindingPostsWithNegativeSentiments()"
   ]
  },
  {
   "cell_type": "markdown",
   "id": "c3c80025",
   "metadata": {},
   "source": [
    "# Import data and Preprocess"
   ]
  },
  {
   "cell_type": "code",
   "execution_count": 2,
   "id": "093e46bc",
   "metadata": {},
   "outputs": [
    {
     "name": "stdout",
     "output_type": "stream",
     "text": [
      "21\n"
     ]
    }
   ],
   "source": [
    "df = pd.read_csv('../dataset/airflow_posts.csv')\n",
    "# my_value = -1\n",
    "# new_df = df.loc[df[\"RatingsGPTFineTuned\"] == my_value]\n",
    "df[\"merged\"] = df[[\"Title\",\"Body\"]].apply(\"-\".join, axis=1)\n",
    "#new_df.head()\n",
    "# new_df.to_csv('Dataset/ConcatenatedDatasetSO.csv')\n",
    "\n",
    "data = df.merged.values.tolist()\n",
    "print(len(df))\n",
    "#data"
   ]
  },
  {
   "cell_type": "code",
   "execution_count": 3,
   "id": "ed84875d",
   "metadata": {},
   "outputs": [
    {
     "name": "stdout",
     "output_type": "stream",
     "text": [
      "['Apache Airflow Continous Integration Workflow and Dependency management-Im '\n",
      " 'thinking of starting to use Apache Airflow for a project and am wondering '\n",
      " 'how people manage continuous integration and dependencies with airflow. More '\n",
      " 'specifically Say I have the following set up 3 Airflow servers: dev staging '\n",
      " 'and production. I have two python DAGS whose source code I want to keep in '\n",
      " 'seperate repos. The DAGs themselves are simple, basically just use a Python '\n",
      " 'operator to call main(*args, **kwargs). However the actually code thats run '\n",
      " 'by main is very large and stretches several files/modules. Each python code '\n",
      " 'base has different dependencies for example, Dag1 uses Python2.7 '\n",
      " 'pandas==0.18.1, requests=2.13.0 Dag2 uses Python3.6 pandas==0.20.0 and '\n",
      " 'Numba==0.27 as well as some cythonized code that needs to be compiled How do '\n",
      " 'I manage Airflow running these two Dags with completely different '\n",
      " 'dependencies? Also, how do I manage the continuous integration of the code '\n",
      " 'for both these Dags into each different Airflow enivornment (dev, staging, '\n",
      " 'Prod)(do I just get jenkins or something to ssh to the airflow server and do '\n",
      " 'something like git pull origin BRANCH) Hopefully this question isnt too '\n",
      " 'vague and people see the problems im having. ',\n",
      " 'Connect to Teradata Using Airflow JDBC Connection-Im trying to execute a '\n",
      " 'SqlSensor task in Airflow using a connection to Teradata database. The '\n",
      " 'connection is configured as follow: I have provide in particular 2 driver '\n",
      " 'paths separated by \", \" but I am not sure if its the proper way to do it? '\n",
      " '/home/airflow/java_sample/tdgssconfig.jar '\n",
      " '/home/airflow/java_sample/terajdbc4.jar When the DAG executes, it triggers '\n",
      " 'the error message [2017-08-02 02:32:45,162] {models.py:1342} INFO - '\n",
      " 'Executing &lt;Task(SqlSensor): check_running_batch&gt; on 2017-08-02 '\n",
      " '02:32:12 [2017-08-02 02:32:45,179] {base_hook.py:67} INFO - Using connection '\n",
      " 'to: '\n",
      " 'jdbc:teradata://myservername.mycompanyname.org/database=MYDBNAME,TMODE=ANSI,CHARSET=UTF8 '\n",
      " '[2017-08-02 02:32:45,313] {sensors.py:109} INFO - Poking: SELECT BATCH_KEY '\n",
      " 'FROM MYDBNAME.AUDIT_BATCH WHERE BATCH_OWNER=ARO_TEST AND AUDIT_STATUS_KEY=1; '\n",
      " '[2017-08-02 02:32:45,316] {base_hook.py:67} INFO - Using connection to: '\n",
      " 'jdbc:teradata://myservername.mycompanyname.org/database=MYDBNAME,TMODE=ANSI,CHARSET=UTF8 '\n",
      " '[2017-08-02 02:32:45,497] {models.py:1417} ERROR - '\n",
      " 'java.lang.RuntimeException: Class com.teradata.jdbc.TeraDriver not found '\n",
      " 'What am I doing wrong? ']\n"
     ]
    }
   ],
   "source": [
    "# Remove Emails\n",
    "data = [re.sub('<[^<>]*>', '', sent) for sent in data]\n",
    "# Remove new line characters\n",
    "data = [re.sub('\\s+', ' ', sent) for sent in data]\n",
    "# Remove distracting single quotes\n",
    "data = [re.sub(\"\\'\", \"\", sent) for sent in data]\n",
    "\n",
    "pprint(data[:2])"
   ]
  },
  {
   "cell_type": "markdown",
   "id": "2d98f4b6",
   "metadata": {},
   "source": [
    "# Tokenize words and Clean-up text"
   ]
  },
  {
   "cell_type": "code",
   "execution_count": 4,
   "id": "b7b3a9c8",
   "metadata": {},
   "outputs": [
    {
     "name": "stdout",
     "output_type": "stream",
     "text": [
      "[['apache', 'airflow', 'continous', 'integration', 'workflow', 'and', 'dependency', 'management', 'im', 'thinking', 'of', 'starting', 'to', 'use', 'apache', 'airflow', 'for', 'project', 'and', 'am', 'wondering', 'how', 'people', 'manage', 'continuous', 'integration', 'and', 'dependencies', 'with', 'airflow', 'more', 'specifically', 'say', 'have', 'the', 'following', 'set', 'up', 'airflow', 'servers', 'dev', 'staging', 'and', 'production', 'have', 'two', 'python', 'dags', 'whose', 'source', 'code', 'want', 'to', 'keep', 'in', 'seperate', 'repos', 'the', 'dags', 'themselves', 'are', 'simple', 'basically', 'just', 'use', 'python', 'operator', 'to', 'call', 'main', 'args', 'kwargs', 'however', 'the', 'actually', 'code', 'thats', 'run', 'by', 'main', 'is', 'very', 'large', 'and', 'stretches', 'several', 'files', 'modules', 'each', 'python', 'code', 'base', 'has', 'different', 'dependencies', 'for', 'example', 'dag', 'uses', 'python', 'pandas', 'requests', 'dag', 'uses', 'python', 'pandas', 'and', 'numba', 'as', 'well', 'as', 'some', 'cythonized', 'code', 'that', 'needs', 'to', 'be', 'compiled', 'how', 'do', 'manage', 'airflow', 'running', 'these', 'two', 'dags', 'with', 'completely', 'different', 'dependencies', 'also', 'how', 'do', 'manage', 'the', 'continuous', 'integration', 'of', 'the', 'code', 'for', 'both', 'these', 'dags', 'into', 'each', 'different', 'airflow', 'enivornment', 'dev', 'staging', 'prod', 'do', 'just', 'get', 'jenkins', 'or', 'something', 'to', 'ssh', 'to', 'the', 'airflow', 'server', 'and', 'do', 'something', 'like', 'git', 'pull', 'origin', 'branch', 'hopefully', 'this', 'question', 'isnt', 'too', 'vague', 'and', 'people', 'see', 'the', 'problems', 'im', 'having']]\n"
     ]
    }
   ],
   "source": [
    "def sent_to_words(sentences):\n",
    "    for sentence in sentences:\n",
    "        yield(gensim.utils.simple_preprocess(str(sentence), deacc=True))  # deacc=True removes punctuations\n",
    "\n",
    "data_words = list(sent_to_words(data))\n",
    "\n",
    "print(data_words[:1])"
   ]
  },
  {
   "cell_type": "code",
   "execution_count": 5,
   "id": "38592eb3",
   "metadata": {},
   "outputs": [],
   "source": [
    "# Build the bigram and trigram models\n",
    "bigram = gensim.models.Phrases(data_words, min_count=5, threshold=50) # higher threshold fewer phrases.\n",
    "trigram = gensim.models.Phrases(bigram[data_words], threshold=50)  \n",
    "\n",
    "# Faster way to get a sentence clubbed as a trigram/bigram\n",
    "bigram_mod = gensim.models.phrases.Phraser(bigram)\n",
    "trigram_mod = gensim.models.phrases.Phraser(trigram)\n",
    "\n",
    "# See trigram example\n",
    "#print(trigram_mod[bigram_mod[data_words[0]]])"
   ]
  },
  {
   "cell_type": "markdown",
   "id": "3d485455",
   "metadata": {},
   "source": [
    "# Remove Stopwords, Make Bigrams and Lemmatize"
   ]
  },
  {
   "cell_type": "code",
   "execution_count": 6,
   "id": "c49abe86",
   "metadata": {},
   "outputs": [],
   "source": [
    "# Define functions for stopwords, bigrams, trigrams and lemmatization\n",
    "def remove_stopwords(texts):\n",
    "    return [[word for word in simple_preprocess(str(doc)) if word not in stop_words] for doc in texts]\n",
    "\n",
    "def make_bigrams(texts):\n",
    "    return [bigram_mod[doc] for doc in texts]\n",
    "\n",
    "def make_trigrams(texts):\n",
    "    return [trigram_mod[bigram_mod[doc]] for doc in texts]\n",
    "\n",
    "def lemmatization(texts, allowed_postags=['NOUN', 'ADJ', 'VERB', 'ADV']):\n",
    "    \"\"\"https://spacy.io/api/annotation\"\"\"\n",
    "    texts_out = []\n",
    "    for sent in texts:\n",
    "        doc = nlp(\" \".join(sent)) \n",
    "        texts_out.append([token.lemma_ for token in doc if token.pos_ in allowed_postags])\n",
    "    return texts_out"
   ]
  },
  {
   "cell_type": "code",
   "execution_count": 7,
   "id": "a1408ee7",
   "metadata": {},
   "outputs": [
    {
     "name": "stdout",
     "output_type": "stream",
     "text": [
      "[['continous', 'integration', 'workflow', 'dependency', 'management', 'm', 'think', 'start', 'use', 'airflow', 'project', 'wonder', 'people', 'manage', 'continuous', 'integration', 'dependency', 'airflow', 'specifically', 'say', 'follow', 'set', 'airflow', 'dev', 'staging', 'production', 'python', 'dag', 'source', 'code', 'want', 'keep', 'seperate', 'repos', 'dag', 'simple', 'basically', 'use', 'python', 'operator', 'call', 'main', 'args', 'kwargs', 'however', 'actually', 'code', 's', 'run', 'main', 'large', 'stretch', 'several', 'file', 'module', 'python', 'code', 'base', 'different', 'dependency', 'example', 'use', 'request', 'use', 'well', 'cythonize', 'code', 'need', 'compile', 'manage', 'airflow', 'run', 'dag', 'completely', 'different', 'dependency', 'also', 'manage', 'continuous', 'integration', 'code', 'dag', 'different', 'airflow', 'enivornment', 'dev', 'staging', 'prod', 'get', 'airflow', 'server', 'git', 'pull', 'origin', 'branch', 'hopefully', 'question', 'vague', 'people', 'see', 'problem', 'm']]\n"
     ]
    }
   ],
   "source": [
    "# Remove Stop Words\n",
    "data_words_nostops = remove_stopwords(data_words)\n",
    "\n",
    "# Form Bigrams\n",
    "data_words_bigrams = make_bigrams(data_words_nostops)\n",
    "\n",
    "# Initialize spacy 'en' model, keeping only tagger component (for efficiency)\n",
    "# python3 -m spacy download en\n",
    "nlp = spacy.load(\"en_core_web_sm\", disable=[\"parser\", \"ner\"])\n",
    "\n",
    "# Do lemmatization keeping only noun, adj, vb, adv\n",
    "data_lemmatized = lemmatization(data_words_bigrams, allowed_postags=['NOUN', 'ADJ', 'VERB', 'ADV'])\n",
    "\n",
    "print(data_lemmatized[:1])"
   ]
  },
  {
   "cell_type": "markdown",
   "id": "98003715",
   "metadata": {},
   "source": [
    "# Create the Dictionary and Corpus needed for Topic Modeling"
   ]
  },
  {
   "cell_type": "code",
   "execution_count": 8,
   "id": "cfd3247d",
   "metadata": {},
   "outputs": [
    {
     "name": "stdout",
     "output_type": "stream",
     "text": [
      "[[(0, 1), (1, 6), (2, 1), (3, 1), (4, 1), (5, 1), (6, 1), (7, 1), (8, 5), (9, 1), (10, 1), (11, 1), (12, 2), (13, 1), (14, 4), (15, 4), (16, 2), (17, 3), (18, 1), (19, 1), (20, 1), (21, 1), (22, 1), (23, 1), (24, 1), (25, 1), (26, 3), (27, 1), (28, 1), (29, 1), (30, 2), (31, 2), (32, 3), (33, 1), (34, 1), (35, 1), (36, 1), (37, 1), (38, 2), (39, 1), (40, 1), (41, 1), (42, 1), (43, 1), (44, 3), (45, 1), (46, 1), (47, 1), (48, 2), (49, 1), (50, 1), (51, 1), (52, 1), (53, 1), (54, 1), (55, 1), (56, 1), (57, 1), (58, 1), (59, 2), (60, 1), (61, 1), (62, 1), (63, 4), (64, 1), (65, 1), (66, 1), (67, 1), (68, 1)]]\n"
     ]
    }
   ],
   "source": [
    "# Create Dictionary\n",
    "id2word = corpora.Dictionary(data_lemmatized)\n",
    "\n",
    "# Create Corpus\n",
    "texts = data_lemmatized\n",
    "\n",
    "# Term Document Frequency\n",
    "corpus = [id2word.doc2bow(text) for text in texts]\n",
    "\n",
    "# View\n",
    "print(corpus[:1])"
   ]
  },
  {
   "cell_type": "code",
   "execution_count": 9,
   "id": "be414a5b",
   "metadata": {},
   "outputs": [
    {
     "data": {
      "text/plain": [
       "[[('actually', 1),\n",
       "  ('airflow', 6),\n",
       "  ('also', 1),\n",
       "  ('args', 1),\n",
       "  ('base', 1),\n",
       "  ('basically', 1),\n",
       "  ('branch', 1),\n",
       "  ('call', 1),\n",
       "  ('code', 5),\n",
       "  ('compile', 1),\n",
       "  ('completely', 1),\n",
       "  ('continous', 1),\n",
       "  ('continuous', 2),\n",
       "  ('cythonize', 1),\n",
       "  ('dag', 4),\n",
       "  ('dependency', 4),\n",
       "  ('dev', 2),\n",
       "  ('different', 3),\n",
       "  ('enivornment', 1),\n",
       "  ('example', 1),\n",
       "  ('file', 1),\n",
       "  ('follow', 1),\n",
       "  ('get', 1),\n",
       "  ('git', 1),\n",
       "  ('hopefully', 1),\n",
       "  ('however', 1),\n",
       "  ('integration', 3),\n",
       "  ('keep', 1),\n",
       "  ('kwargs', 1),\n",
       "  ('large', 1),\n",
       "  ('m', 2),\n",
       "  ('main', 2),\n",
       "  ('manage', 3),\n",
       "  ('management', 1),\n",
       "  ('module', 1),\n",
       "  ('need', 1),\n",
       "  ('operator', 1),\n",
       "  ('origin', 1),\n",
       "  ('people', 2),\n",
       "  ('problem', 1),\n",
       "  ('prod', 1),\n",
       "  ('production', 1),\n",
       "  ('project', 1),\n",
       "  ('pull', 1),\n",
       "  ('python', 3),\n",
       "  ('question', 1),\n",
       "  ('repos', 1),\n",
       "  ('request', 1),\n",
       "  ('run', 2),\n",
       "  ('s', 1),\n",
       "  ('say', 1),\n",
       "  ('see', 1),\n",
       "  ('seperate', 1),\n",
       "  ('server', 1),\n",
       "  ('set', 1),\n",
       "  ('several', 1),\n",
       "  ('simple', 1),\n",
       "  ('source', 1),\n",
       "  ('specifically', 1),\n",
       "  ('staging', 2),\n",
       "  ('start', 1),\n",
       "  ('stretch', 1),\n",
       "  ('think', 1),\n",
       "  ('use', 4),\n",
       "  ('vague', 1),\n",
       "  ('want', 1),\n",
       "  ('well', 1),\n",
       "  ('wonder', 1),\n",
       "  ('workflow', 1)]]"
      ]
     },
     "execution_count": 9,
     "metadata": {},
     "output_type": "execute_result"
    }
   ],
   "source": [
    "# Human readable format of corpus (term-frequency)\n",
    "[[(id2word[id], freq) for id, freq in cp] for cp in corpus[:1]]"
   ]
  },
  {
   "cell_type": "code",
   "execution_count": 10,
   "id": "2a5fd366",
   "metadata": {},
   "outputs": [],
   "source": [
    "# supporting function\n",
    "def compute_coherence_values(corpus, dictionary, k, a, b):\n",
    "    \n",
    "    lda_model = gensim.models.LdaMulticore(corpus=corpus,\n",
    "                                           id2word=id2word,\n",
    "                                           num_topics=k, \n",
    "                                           random_state=100,\n",
    "                                           chunksize=100,\n",
    "                                           passes=10,\n",
    "                                           alpha=a,\n",
    "                                           eta=b)\n",
    "    \n",
    "    coherence_model_lda = CoherenceModel(model=lda_model, texts=data_lemmatized, dictionary=id2word, coherence='c_v')\n",
    "    \n",
    "    return coherence_model_lda.get_coherence()"
   ]
  },
  {
   "cell_type": "code",
   "execution_count": 11,
   "id": "fc885ff8",
   "metadata": {},
   "outputs": [
    {
     "name": "stderr",
     "output_type": "stream",
     "text": [
      "  0%|          | 0/540 [00:00<?, ?it/s]"
     ]
    },
    {
     "name": "stderr",
     "output_type": "stream",
     "text": [
      "100%|██████████| 540/540 [09:45<00:00,  1.08s/it]\n"
     ]
    }
   ],
   "source": [
    "import numpy as np\n",
    "import tqdm\n",
    "\n",
    "grid = {}\n",
    "grid['Validation_Set'] = {}\n",
    "\n",
    "# Topics range\n",
    "min_topics = 2\n",
    "max_topics = 11\n",
    "step_size = 1\n",
    "topics_range = range(min_topics, max_topics, step_size)\n",
    "\n",
    "# Alpha parameter\n",
    "alpha = list(np.arange(0.01, 1, 0.3))\n",
    "alpha.append('symmetric')\n",
    "alpha.append('asymmetric')\n",
    "\n",
    "# Beta parameter\n",
    "beta = list(np.arange(0.01, 1, 0.3))\n",
    "beta.append('symmetric')\n",
    "\n",
    "# Validation sets\n",
    "num_of_docs = len(corpus)\n",
    "corpus_sets = [gensim.utils.ClippedCorpus(corpus, int(num_of_docs*0.75)), \n",
    "               corpus]\n",
    "\n",
    "corpus_title = ['75% Corpus', '100% Corpus']\n",
    "\n",
    "model_results = {'Validation_Set': [],\n",
    "                 'Topics': [],\n",
    "                 'Alpha': [],\n",
    "                 'Beta': [],\n",
    "                 'Coherence': []\n",
    "                }\n",
    "\n",
    "# Can take a long time to run\n",
    "if 1 == 1:\n",
    "    pbar = tqdm.tqdm(total=(len(beta)*len(alpha)*len(topics_range)*len(corpus_title)))\n",
    "    \n",
    "    # iterate through validation corpuses\n",
    "    for i in range(len(corpus_sets)):\n",
    "        # iterate through number of topics\n",
    "        for k in topics_range:\n",
    "            # iterate through alpha values\n",
    "            for a in alpha:\n",
    "                # iterare through beta values\n",
    "                for b in beta:\n",
    "                    # get the coherence score for the given parameters\n",
    "                    cv = compute_coherence_values(corpus=corpus_sets[i], dictionary=id2word, \n",
    "                                                  k=k, a=a, b=b)\n",
    "                    # Save the model results\n",
    "                    model_results['Validation_Set'].append(corpus_title[i])\n",
    "                    model_results['Topics'].append(k)\n",
    "                    model_results['Alpha'].append(a)\n",
    "                    model_results['Beta'].append(b)\n",
    "                    model_results['Coherence'].append(cv)\n",
    "                    \n",
    "                    pbar.update(1)\n",
    "    pd.DataFrame(model_results).to_csv('../dataset/lda_tuning_results.csv', index=False)\n",
    "    pbar.close()"
   ]
  },
  {
   "cell_type": "code",
   "execution_count": 12,
   "id": "41468242",
   "metadata": {},
   "outputs": [
    {
     "data": {
      "text/html": [
       "<div>\n",
       "<style scoped>\n",
       "    .dataframe tbody tr th:only-of-type {\n",
       "        vertical-align: middle;\n",
       "    }\n",
       "\n",
       "    .dataframe tbody tr th {\n",
       "        vertical-align: top;\n",
       "    }\n",
       "\n",
       "    .dataframe thead th {\n",
       "        text-align: right;\n",
       "    }\n",
       "</style>\n",
       "<table border=\"1\" class=\"dataframe\">\n",
       "  <thead>\n",
       "    <tr style=\"text-align: right;\">\n",
       "      <th></th>\n",
       "      <th>Validation_Set</th>\n",
       "      <th>Topics</th>\n",
       "      <th>Alpha</th>\n",
       "      <th>Beta</th>\n",
       "      <th>Coherence</th>\n",
       "    </tr>\n",
       "  </thead>\n",
       "  <tbody>\n",
       "    <tr>\n",
       "      <th>297</th>\n",
       "      <td>100% Corpus</td>\n",
       "      <td>2</td>\n",
       "      <td>asymmetric</td>\n",
       "      <td>0.61</td>\n",
       "      <td>0.544267</td>\n",
       "    </tr>\n",
       "    <tr>\n",
       "      <th>299</th>\n",
       "      <td>100% Corpus</td>\n",
       "      <td>2</td>\n",
       "      <td>asymmetric</td>\n",
       "      <td>symmetric</td>\n",
       "      <td>0.544267</td>\n",
       "    </tr>\n",
       "    <tr>\n",
       "      <th>298</th>\n",
       "      <td>100% Corpus</td>\n",
       "      <td>2</td>\n",
       "      <td>asymmetric</td>\n",
       "      <td>0.9099999999999999</td>\n",
       "      <td>0.542629</td>\n",
       "    </tr>\n",
       "    <tr>\n",
       "      <th>411</th>\n",
       "      <td>100% Corpus</td>\n",
       "      <td>6</td>\n",
       "      <td>symmetric</td>\n",
       "      <td>0.31</td>\n",
       "      <td>0.537383</td>\n",
       "    </tr>\n",
       "    <tr>\n",
       "      <th>391</th>\n",
       "      <td>100% Corpus</td>\n",
       "      <td>6</td>\n",
       "      <td>0.01</td>\n",
       "      <td>0.31</td>\n",
       "      <td>0.537121</td>\n",
       "    </tr>\n",
       "    <tr>\n",
       "      <th>...</th>\n",
       "      <td>...</td>\n",
       "      <td>...</td>\n",
       "      <td>...</td>\n",
       "      <td>...</td>\n",
       "      <td>...</td>\n",
       "    </tr>\n",
       "    <tr>\n",
       "      <th>528</th>\n",
       "      <td>100% Corpus</td>\n",
       "      <td>10</td>\n",
       "      <td>0.9099999999999999</td>\n",
       "      <td>0.9099999999999999</td>\n",
       "      <td>0.434032</td>\n",
       "    </tr>\n",
       "    <tr>\n",
       "      <th>423</th>\n",
       "      <td>100% Corpus</td>\n",
       "      <td>7</td>\n",
       "      <td>0.01</td>\n",
       "      <td>0.9099999999999999</td>\n",
       "      <td>0.431641</td>\n",
       "    </tr>\n",
       "    <tr>\n",
       "      <th>453</th>\n",
       "      <td>100% Corpus</td>\n",
       "      <td>8</td>\n",
       "      <td>0.01</td>\n",
       "      <td>0.9099999999999999</td>\n",
       "      <td>0.425680</td>\n",
       "    </tr>\n",
       "    <tr>\n",
       "      <th>473</th>\n",
       "      <td>100% Corpus</td>\n",
       "      <td>8</td>\n",
       "      <td>symmetric</td>\n",
       "      <td>0.9099999999999999</td>\n",
       "      <td>0.422407</td>\n",
       "    </tr>\n",
       "    <tr>\n",
       "      <th>518</th>\n",
       "      <td>100% Corpus</td>\n",
       "      <td>10</td>\n",
       "      <td>0.31</td>\n",
       "      <td>0.9099999999999999</td>\n",
       "      <td>0.421497</td>\n",
       "    </tr>\n",
       "  </tbody>\n",
       "</table>\n",
       "<p>268 rows × 5 columns</p>\n",
       "</div>"
      ],
      "text/plain": [
       "    Validation_Set  Topics               Alpha                Beta  Coherence\n",
       "297    100% Corpus       2          asymmetric                0.61   0.544267\n",
       "299    100% Corpus       2          asymmetric           symmetric   0.544267\n",
       "298    100% Corpus       2          asymmetric  0.9099999999999999   0.542629\n",
       "411    100% Corpus       6           symmetric                0.31   0.537383\n",
       "391    100% Corpus       6                0.01                0.31   0.537121\n",
       "..             ...     ...                 ...                 ...        ...\n",
       "528    100% Corpus      10  0.9099999999999999  0.9099999999999999   0.434032\n",
       "423    100% Corpus       7                0.01  0.9099999999999999   0.431641\n",
       "453    100% Corpus       8                0.01  0.9099999999999999   0.425680\n",
       "473    100% Corpus       8           symmetric  0.9099999999999999   0.422407\n",
       "518    100% Corpus      10                0.31  0.9099999999999999   0.421497\n",
       "\n",
       "[268 rows x 5 columns]"
      ]
     },
     "execution_count": 12,
     "metadata": {},
     "output_type": "execute_result"
    }
   ],
   "source": [
    "results = pd.read_csv('../dataset/lda_tuning_results.csv')\n",
    "results = results.loc[272:]\n",
    "results.sort_values(by=['Coherence'], ascending=False)"
   ]
  },
  {
   "cell_type": "code",
   "execution_count": 10,
   "id": "1a9f15c6",
   "metadata": {},
   "outputs": [
    {
     "name": "stdout",
     "output_type": "stream",
     "text": [
      "\n",
      "Perplexity:  -5.844753813213291\n",
      "\n",
      "Coherence Score:  0.4149059985207564\n"
     ]
    },
    {
     "data": {
      "text/html": [
       "\n",
       "<link rel=\"stylesheet\" type=\"text/css\" href=\"https://cdn.jsdelivr.net/gh/bmabey/pyLDAvis@3.4.0/pyLDAvis/js/ldavis.v1.0.0.css\">\n",
       "\n",
       "\n",
       "<div id=\"ldavis_el3793641397330921714728383416241\" style=\"background-color:white;\"></div>\n",
       "<script type=\"text/javascript\">\n",
       "\n",
       "var ldavis_el3793641397330921714728383416241_data = {\"mdsDat\": {\"x\": [-0.08453439730549725, 0.04739598559532607, 0.03614448739327146, 0.03265766168607551, -0.031663737369175805], \"y\": [-0.010024357360875645, 0.026128348169362107, -0.04500194598112369, 0.007086408530187267, 0.021811546642449966], \"topics\": [1, 2, 3, 4, 5], \"cluster\": [1, 1, 1, 1, 1], \"Freq\": [41.916775883479005, 16.25260014775913, 14.17221980815694, 13.840661596715659, 13.81774256388927]}, \"tinfo\": {\"Term\": [\"package\", \"dist\", \"site\", \"line\", \"import\", \"operator\", \"file\", \"users_karthikv\", \"sqlalchemy_orm\", \"sqlalchemy\", \"fail\", \"self\", \"user\", \"plugin\", \"session\", \"create\", \"server\", \"dataflow\", \"rd\", \"key\", \"local\", \"pipeline\", \"use\", \"execute\", \"connection\", \"datetime\", \"none\", \"redshift\", \"parquet\", \"setup\", \"site\", \"users_karthikv\", \"local\", \"email\", \"cryptography\", \"model\", \"package\", \"traceback\", \"last\", \"fernet\", \"command\", \"exception\", \"variable\", \"file\", \"send\", \"line\", \"sla\", \"test\", \"execution_date\", \"airflow\", \"util\", \"instal\", \"default\", \"baseoperator\", \"init\", \"quot\", \"exit\", \"first\", \"taskinstance\", \"miss\", \"self\", \"sqlalchemy\", \"version\", \"sqlalchemy_orm\", \"session\", \"import\", \"start\", \"com\", \"error\", \"get\", \"use\", \"execute\", \"task\", \"run\", \"return\", \"dag\", \"key\", \"server\", \"httpd\", \"conf\", \"teradata\", \"integration\", \"code\", \"generate\", \"different\", \"web\", \"jdbc\", \"documentation\", \"oracle\", \"enable\", \"ve\", \"really\", \"dependency\", \"staging\", \"dev\", \"continuous\", \"certificate\", \"org\", \"tmode\", \"myservername\", \"path\", \"base_hook\", \"mycompanyname\", \"instance\", \"mode\", \"thin\", \"database\", \"python\", \"connection\", \"use\", \"manage\", \"info\", \"airflow\", \"dag\", \"m\", \"seem\", \"configuration\", \"try\", \"error\", \"get\", \"run\", \"file\", \"follow\", \"operator\", \"dataflow\", \"pipeline\", \"plugin\", \"fail\", \"test_dag_name\", \"helper\", \"setup\", \"subject\", \"custom\", \"def\", \"dag_status\", \"report\", \"class\", \"report_mask\", \"encode\", \"dummyoperator\", \"report_file\", \"sbjct\", \"report_text\", \"status\", \"success\", \"join\", \"stage_redshift\", \"setuptool\", \"document\", \"sparkify_plugin\", \"syntax\", \"airflowplugin\", \"structure\", \"import\", \"datetime\", \"context\", \"path\", \"dag\", \"module\", \"format\", \"airflow\", \"try\", \"error\", \"follow\", \"file\", \"run\", \"m\", \"use\", \"utf\", \"execute\", \"user\", \"rd\", \"redshift\", \"parquet\", \"load\", \"copy\", \"create\", \"detail\", \"query\", \"setting\", \"fine\", \"assert\", \"fillrecord\", \"unreachable\", \"iam_role\", \"truncate\", \"even\", \"upload\", \"show\", \"mysql\", \"authenticate\", \"strategy\", \"authentication\", \"create_engine\", \"find\", \"invalid\", \"similar\", \"directory\", \"access\", \"table\", \"engine\", \"format\", \"error\", \"log\", \"type\", \"issue\", \"airflow\", \"run\", \"plugin\", \"sqlalchemy\", \"file\", \"try\", \"value\", \"use\", \"command\", \"dist\", \"db\", \"mysqldb\", \"incorrect\", \"none\", \"scheduler\", \"time\", \"multiparam\", \"datetime\", \"sqlalchemy_orm\", \"session\", \"description\", \"cursor\", \"errorvalue\", \"resolve\", \"scheduler_lock\", \"default_view\", \"column\", \"last_pickled\", \"article\", \"example_dag\", \"cnf\", \"attrs\", \"hie\", \"is_pause\", \"mention\", \"errorclass\", \"fileloc\", \"throw\", \"sync_to_db\", \"commit\", \"execute\", \"self\", \"line\", \"package\", \"sqlalchemy\", \"value\", \"file\", \"unitofwork\", \"persistence\", \"transaction\", \"flush\", \"parameter\", \"return\", \"cause\", \"param\", \"connection\", \"type\", \"reraise\", \"airflow\", \"run\", \"help\", \"m\", \"context\", \"util\", \"exception\"], \"Freq\": [47.0, 12.0, 35.0, 27.0, 16.0, 9.0, 56.0, 19.0, 12.0, 16.0, 7.0, 13.0, 5.0, 6.0, 10.0, 6.0, 5.0, 4.0, 4.0, 4.0, 14.0, 4.0, 17.0, 11.0, 8.0, 5.0, 6.0, 3.0, 3.0, 4.0, 33.66333846226497, 17.97185409765376, 12.779671806522444, 7.428034569271262, 4.921674940003204, 7.441302772930901, 35.317976683490755, 4.562597943406123, 4.824805357178834, 3.6735427274128174, 5.547352701319019, 5.538399157872007, 4.307846369121825, 40.3396391653777, 4.920977903506825, 19.24179869353553, 3.0556787839217727, 3.052633925543697, 3.048758514424871, 39.77662631809879, 4.928774736173293, 3.579041821664515, 4.1214194216229485, 2.434976168974314, 2.4345259547783185, 2.4336038111839415, 2.4330106206554065, 2.432761648334985, 2.432202858127061, 2.4319857061032044, 8.432931574909878, 10.63881859377365, 3.37166185388352, 7.406070824569194, 6.1684646800817475, 9.64533647452176, 3.019709163684965, 3.277438945726155, 10.18582485187264, 5.476730133116787, 8.863326026185531, 5.557432855266039, 4.05047048037892, 5.14406828270883, 3.9596665340862747, 4.11790929890861, 3.046863752957042, 3.4541856011418335, 2.2752254387702533, 2.275163749560414, 2.269908829247636, 1.8870972712253182, 2.277587301869143, 1.5055540100117863, 1.5055871888030243, 1.5052650710911046, 1.5014376724395364, 1.497956233545853, 1.4946608626472535, 1.8937058528750923, 1.8844259617116648, 1.4968191513536724, 1.9131121111975042, 1.119962102629234, 1.119870319088648, 1.1198468104978712, 1.119694671568199, 1.117784223430501, 1.1171681649700749, 1.11701552585762, 1.8910700563389953, 1.1167305050354013, 1.116300514570059, 1.1115912103091743, 1.1109298019431362, 1.1105552484028525, 1.500883636644138, 1.5181384420914918, 3.0313930994948093, 5.0367272448507885, 1.5091334847308366, 1.8906697433854138, 6.436976940028228, 2.3028687071546132, 1.8975794350702433, 1.511278768684911, 1.5013334676931855, 1.9233331796299726, 2.5749893152304186, 1.9169460122252449, 1.9160003333111615, 1.841136642436014, 1.5075444040308845, 6.058470250651121, 2.7953835297860405, 2.4475574717614834, 3.4055690467968893, 3.771278742787117, 1.7406569882422376, 1.7357590801433702, 2.0961120298988396, 2.1137977975530564, 2.094604958885961, 1.3864893393908677, 1.3857106521108198, 1.3856386860533845, 1.382622944781907, 1.0314029238729066, 1.0313825698364603, 1.0312485239678635, 1.0312840708386573, 1.03109899449297, 1.0309899550120074, 1.030888548294712, 1.0308002263151324, 1.0297993165728827, 1.0285777109211645, 1.0283346982645925, 1.0282275488012997, 1.0283796952237363, 1.0283562153888357, 1.0281964362027318, 1.0282029058786022, 6.155982368458342, 1.7577609212260377, 1.7477489160840478, 1.3872358963705251, 2.121102570461706, 1.647737758759137, 1.394946150762381, 4.854426933894744, 1.9090668673433189, 2.278243146512311, 1.505033283058113, 2.850850605277966, 1.616703959389372, 1.3953215373488417, 1.5316303386404955, 1.0401692619843792, 1.0494854498518529, 3.432983652591038, 2.7211403423881713, 2.0508756835039774, 2.049731996917246, 2.0245267347740814, 1.7033972893046652, 3.0591780333176666, 1.3568944718325326, 1.356347688834953, 1.3244985376225227, 1.0103445864394192, 1.0101443170501472, 1.0100174537397506, 1.0099360965188695, 1.0097548530765401, 1.009562534829274, 1.009501552409783, 1.0068521892980362, 0.9928662724944572, 0.9808216412100699, 0.9801820002326365, 0.9802483780699173, 0.9799823697744187, 0.979679587447143, 2.4219874274688373, 1.0115528050626088, 1.0082075750406732, 1.0039459049102262, 1.0517379477524207, 1.7059755890847348, 1.550825807033016, 1.3610279297981356, 3.0509781341547955, 1.7204269316650123, 1.3698889096249203, 1.3615795402747901, 4.211198268779512, 1.6458294593509795, 1.32661609712029, 1.6527561819001668, 2.1839633182443725, 1.3786063429415638, 1.1200097186620999, 1.0688732267137024, 1.01268903745371, 9.433237827246652, 1.7163577197530864, 1.0193827003109397, 1.0192330836468126, 2.4294605083909238, 1.3337825939715875, 0.9906914546902591, 1.3714808903473237, 1.726502169004547, 3.8265229424379243, 3.126977223789453, 0.6698247333247584, 0.6697499604300857, 0.6696689505546252, 0.6696420181375867, 0.6695667491194423, 0.6695450614362481, 0.6695160027757592, 0.6695167823983577, 0.6695110415410416, 0.6695003394490079, 0.6695218853826387, 0.6694840382492214, 0.6694586650773798, 0.6694522863470286, 0.669417841203132, 0.6694278345473489, 0.6694152897109915, 0.6693768047045391, 0.6693590860091191, 1.723363266673491, 3.1438715037490157, 3.4802440681009625, 6.645408340760619, 9.525943742679207, 3.8366367737836993, 1.7291613908131906, 8.801584762964472, 1.0210138834113112, 1.0208133786539377, 1.020201091415002, 1.0203882008386378, 1.0337370407194266, 1.3789566205693953, 1.0203619771694161, 1.019865428448964, 1.3893995944012931, 1.0346284328486195, 1.019793207046432, 2.662738331811622, 1.0926181083446356, 1.0256915481274274, 1.027724378615581, 1.0257982146738562, 1.0219456741660617, 1.021682728726028], \"Total\": [47.0, 12.0, 35.0, 27.0, 16.0, 9.0, 56.0, 19.0, 12.0, 16.0, 7.0, 13.0, 5.0, 6.0, 10.0, 6.0, 5.0, 4.0, 4.0, 4.0, 14.0, 4.0, 17.0, 11.0, 8.0, 5.0, 6.0, 3.0, 3.0, 4.0, 35.702330605558174, 19.344474115538276, 14.25993188006305, 9.107681782774824, 6.248892500605658, 9.88143188571887, 47.02298447384403, 6.090846860538019, 6.557616533827462, 4.999367955003947, 7.5726435658818865, 7.574793723603847, 5.980602366627075, 56.01717449430052, 6.959591134188176, 27.29223880536771, 4.377209454464408, 4.375926333400408, 4.374239170354397, 57.9419667926129, 7.311695760187041, 5.310905079432184, 6.247547869381588, 3.7538865354312465, 3.7536996889225507, 3.7532857607889607, 3.7530028532517035, 3.752924551346981, 3.7527437490055986, 3.7526129860594355, 13.0641738684258, 16.83392683434519, 5.248408665969335, 12.26410201047434, 10.314828130053064, 16.81962293369272, 4.748855786748223, 5.211360902026493, 18.952081519234312, 9.454077748563229, 17.195366347753207, 11.563624936390774, 6.989488882309862, 11.41522014310498, 6.886832207408576, 9.956554931579175, 4.5879824307418495, 5.32735144116521, 3.8149485573952138, 3.814918129672932, 3.814750586362322, 3.4286461706976037, 4.165322049973403, 3.042047008293253, 3.0421462150544327, 3.041938462190403, 3.0419195756906268, 3.044925141915318, 3.0440668489746256, 4.152034984222341, 4.137884207698924, 3.399660526672828, 4.487425826385258, 2.655592199614658, 2.655528999685943, 2.6556628980908936, 2.655585965501965, 2.6554925061291677, 2.655371929221468, 2.6553780771266866, 4.496546873854162, 2.655370326133438, 2.65531481393013, 2.658438122941658, 2.6574343229263873, 2.657450977049301, 3.6649712949685376, 3.749805043246751, 8.131296800696074, 17.195366347753207, 4.021228894501342, 6.381523898262191, 57.9419667926129, 9.956554931579175, 7.064088945039612, 4.641582408073562, 4.787370052460057, 9.21440100928112, 18.952081519234312, 9.454077748563229, 11.41522014310498, 56.01717449430052, 7.964848424704025, 9.169690492304493, 4.3770670378915035, 4.369730115339068, 6.233447119767945, 7.113063023780387, 3.3055331991063666, 3.307878617442697, 4.0161183645561485, 4.270757437933, 4.283343439517406, 2.9497930832995083, 2.9499073752776606, 2.9499446924966444, 2.95144689005018, 2.594097844862069, 2.5940801507237325, 2.59403363689169, 2.5941470260414112, 2.594140599904338, 2.5942021392665136, 2.5941274451670946, 2.594113908874055, 2.594710102117601, 2.5954998997822534, 2.5952084012031396, 2.5950072514087266, 2.5954046267846493, 2.595467276792451, 2.595467017460208, 2.5954976435420223, 16.81962293369272, 5.324423457184039, 6.8564113805693845, 4.496546873854162, 9.956554931579175, 6.255492395534112, 4.614896491033385, 57.9419667926129, 9.21440100928112, 18.952081519234312, 7.964848424704025, 56.01717449430052, 11.41522014310498, 7.064088945039612, 17.195366347753207, 3.598671766001944, 11.563624936390774, 5.391758743972345, 4.348660935868878, 3.630850257388718, 3.6304496285051724, 3.651397631246721, 3.2805823120409774, 6.036581208844323, 2.9311251297748875, 2.9312439686386327, 2.9563817597679005, 2.5817737721835314, 2.581445451032117, 2.58152859269724, 2.581643986078932, 2.581718822123862, 2.581602859915221, 2.58174218907427, 2.5822760350294804, 2.5936226766985664, 2.6049430762507, 2.605138853333727, 2.60531565486375, 2.605267044674543, 2.605244196230283, 6.979683349037969, 2.9382042054086006, 2.939508888667446, 2.939841636100382, 3.14911740429737, 5.150464334758823, 5.003806174034273, 4.614896491033385, 18.952081519234312, 7.559639427188688, 5.035967804334166, 5.151455219783916, 57.9419667926129, 11.41522014310498, 6.233447119767945, 16.83392683434519, 56.01717449430052, 9.21440100928112, 7.023277033642982, 17.195366347753207, 7.5726435658818865, 12.270404766181299, 4.020600232595706, 2.5874418003015465, 2.5872925030205476, 6.923790785877906, 3.896918129874698, 2.9599417222897086, 4.185016906218614, 5.324423457184039, 12.26410201047434, 10.314828130053064, 2.2349482724922254, 2.2349519485154663, 2.234927854604115, 2.234866394959077, 2.234914415556917, 2.234882195319157, 2.2349001626726603, 2.234916123508402, 2.234900903730674, 2.2348767369620797, 2.23495175559039, 2.2348836785529267, 2.2349260662074033, 2.234909523432387, 2.234882417097735, 2.234918099437116, 2.234931016846552, 2.23494701972266, 2.234905464899811, 5.78423866957029, 11.563624936390774, 13.0641738684258, 27.29223880536771, 47.02298447384403, 16.83392683434519, 7.023277033642982, 56.01717449430052, 3.833402937776759, 3.8329022967821533, 3.832570895832567, 3.8337520368633724, 4.339223097980623, 6.886832207408576, 4.456732991018403, 4.457598552506102, 8.131296800696074, 5.035967804334166, 5.08120545327456, 57.9419667926129, 11.41522014310498, 5.168035223321474, 7.064088945039612, 6.8564113805693845, 7.311695760187041, 7.574793723603847], \"Category\": [\"Default\", \"Default\", \"Default\", \"Default\", \"Default\", \"Default\", \"Default\", \"Default\", \"Default\", \"Default\", \"Default\", \"Default\", \"Default\", \"Default\", \"Default\", \"Default\", \"Default\", \"Default\", \"Default\", \"Default\", \"Default\", \"Default\", \"Default\", \"Default\", \"Default\", \"Default\", \"Default\", \"Default\", \"Default\", \"Default\", \"Topic1\", \"Topic1\", \"Topic1\", \"Topic1\", \"Topic1\", \"Topic1\", \"Topic1\", \"Topic1\", \"Topic1\", \"Topic1\", \"Topic1\", \"Topic1\", \"Topic1\", \"Topic1\", \"Topic1\", \"Topic1\", \"Topic1\", \"Topic1\", \"Topic1\", \"Topic1\", \"Topic1\", \"Topic1\", \"Topic1\", \"Topic1\", \"Topic1\", \"Topic1\", \"Topic1\", \"Topic1\", \"Topic1\", \"Topic1\", \"Topic1\", \"Topic1\", \"Topic1\", \"Topic1\", \"Topic1\", \"Topic1\", \"Topic1\", \"Topic1\", \"Topic1\", \"Topic1\", \"Topic1\", \"Topic1\", \"Topic1\", \"Topic1\", \"Topic1\", \"Topic1\", \"Topic2\", \"Topic2\", \"Topic2\", \"Topic2\", \"Topic2\", \"Topic2\", \"Topic2\", \"Topic2\", \"Topic2\", \"Topic2\", \"Topic2\", \"Topic2\", \"Topic2\", \"Topic2\", \"Topic2\", \"Topic2\", \"Topic2\", \"Topic2\", \"Topic2\", \"Topic2\", \"Topic2\", \"Topic2\", \"Topic2\", \"Topic2\", \"Topic2\", \"Topic2\", \"Topic2\", \"Topic2\", \"Topic2\", \"Topic2\", \"Topic2\", \"Topic2\", \"Topic2\", \"Topic2\", \"Topic2\", \"Topic2\", \"Topic2\", \"Topic2\", \"Topic2\", \"Topic2\", \"Topic2\", \"Topic2\", \"Topic2\", \"Topic2\", \"Topic2\", \"Topic2\", \"Topic2\", \"Topic3\", \"Topic3\", \"Topic3\", \"Topic3\", \"Topic3\", \"Topic3\", \"Topic3\", \"Topic3\", \"Topic3\", \"Topic3\", \"Topic3\", \"Topic3\", \"Topic3\", \"Topic3\", \"Topic3\", \"Topic3\", \"Topic3\", \"Topic3\", \"Topic3\", \"Topic3\", \"Topic3\", \"Topic3\", \"Topic3\", \"Topic3\", \"Topic3\", \"Topic3\", \"Topic3\", \"Topic3\", \"Topic3\", \"Topic3\", \"Topic3\", \"Topic3\", \"Topic3\", \"Topic3\", \"Topic3\", \"Topic3\", \"Topic3\", \"Topic3\", \"Topic3\", \"Topic3\", \"Topic3\", \"Topic3\", \"Topic3\", \"Topic3\", \"Topic3\", \"Topic3\", \"Topic3\", \"Topic4\", \"Topic4\", \"Topic4\", \"Topic4\", \"Topic4\", \"Topic4\", \"Topic4\", \"Topic4\", \"Topic4\", \"Topic4\", \"Topic4\", \"Topic4\", \"Topic4\", \"Topic4\", \"Topic4\", \"Topic4\", \"Topic4\", \"Topic4\", \"Topic4\", \"Topic4\", \"Topic4\", \"Topic4\", \"Topic4\", \"Topic4\", \"Topic4\", \"Topic4\", \"Topic4\", \"Topic4\", \"Topic4\", \"Topic4\", \"Topic4\", \"Topic4\", \"Topic4\", \"Topic4\", \"Topic4\", \"Topic4\", \"Topic4\", \"Topic4\", \"Topic4\", \"Topic4\", \"Topic4\", \"Topic4\", \"Topic4\", \"Topic4\", \"Topic4\", \"Topic5\", \"Topic5\", \"Topic5\", \"Topic5\", \"Topic5\", \"Topic5\", \"Topic5\", \"Topic5\", \"Topic5\", \"Topic5\", \"Topic5\", \"Topic5\", \"Topic5\", \"Topic5\", \"Topic5\", \"Topic5\", \"Topic5\", \"Topic5\", \"Topic5\", \"Topic5\", \"Topic5\", \"Topic5\", \"Topic5\", \"Topic5\", \"Topic5\", \"Topic5\", \"Topic5\", \"Topic5\", \"Topic5\", \"Topic5\", \"Topic5\", \"Topic5\", \"Topic5\", \"Topic5\", \"Topic5\", \"Topic5\", \"Topic5\", \"Topic5\", \"Topic5\", \"Topic5\", \"Topic5\", \"Topic5\", \"Topic5\", \"Topic5\", \"Topic5\", \"Topic5\", \"Topic5\", \"Topic5\", \"Topic5\", \"Topic5\", \"Topic5\", \"Topic5\", \"Topic5\", \"Topic5\", \"Topic5\", \"Topic5\"], \"logprob\": [30.0, 29.0, 28.0, 27.0, 26.0, 25.0, 24.0, 23.0, 22.0, 21.0, 20.0, 19.0, 18.0, 17.0, 16.0, 15.0, 14.0, 13.0, 12.0, 11.0, 10.0, 9.0, 8.0, 7.0, 6.0, 5.0, 4.0, 3.0, 2.0, 1.0, -3.3117, -3.9393, -4.2802, -4.8228, -5.2344, -4.821, -3.2637, -5.3102, -5.2543, -5.5269, -5.1148, -5.1164, -5.3677, -3.1308, -5.2346, -3.871, -5.7111, -5.7121, -5.7134, -3.1448, -5.233, -5.553, -5.4119, -5.9382, -5.9383, -5.9387, -5.939, -5.9391, -5.9393, -5.9394, -4.6959, -4.4636, -5.6127, -4.8258, -5.0086, -4.5616, -5.7229, -5.641, -4.5071, -5.1276, -4.6462, -5.113, -5.4293, -5.1902, -5.4519, -5.4127, -4.7665, -4.6411, -5.0586, -5.0586, -5.0609, -5.2456, -5.0575, -5.4715, -5.4715, -5.4717, -5.4742, -5.4766, -5.4788, -5.2421, -5.247, -5.4773, -5.2319, -5.7674, -5.7674, -5.7675, -5.7676, -5.7693, -5.7699, -5.77, -5.2435, -5.7703, -5.7706, -5.7749, -5.7755, -5.7758, -5.4746, -5.4632, -4.7716, -4.2639, -5.4691, -5.2437, -4.0186, -5.0465, -5.2401, -5.4677, -5.4743, -5.2266, -4.9348, -5.2299, -5.2304, -5.2703, -5.4702, -3.9422, -4.7157, -4.8486, -4.5183, -4.4163, -5.1894, -5.1922, -5.0036, -4.9952, -5.0043, -5.4169, -5.4175, -5.4175, -5.4197, -5.7128, -5.7128, -5.7129, -5.7129, -5.7131, -5.7132, -5.7133, -5.7134, -5.7143, -5.7155, -5.7157, -5.7159, -5.7157, -5.7157, -5.7159, -5.7159, -3.9263, -5.1796, -5.1854, -5.4164, -4.9918, -5.2443, -5.4108, -4.1638, -5.0971, -4.9203, -5.3349, -4.6961, -5.2633, -5.4106, -5.3174, -5.7043, -5.6954, -4.4866, -4.719, -5.0017, -5.0023, -5.0147, -5.1874, -4.6019, -5.4148, -5.4152, -5.439, -5.7097, -5.7099, -5.71, -5.7101, -5.7103, -5.7105, -5.7106, -5.7132, -5.7272, -5.7394, -5.74, -5.74, -5.7402, -5.7405, -4.8354, -5.7085, -5.7118, -5.7161, -5.6696, -5.1859, -5.2812, -5.4118, -4.6046, -5.1774, -5.4053, -5.4114, -4.2823, -5.2218, -5.4374, -5.2176, -4.9389, -5.3989, -5.6067, -5.6534, -5.7074, -3.4741, -5.1782, -5.6992, -5.6993, -4.8307, -5.4303, -5.7277, -5.4025, -5.1723, -4.3764, -4.5783, -6.1191, -6.1192, -6.1193, -6.1194, -6.1195, -6.1195, -6.1196, -6.1196, -6.1196, -6.1196, -6.1196, -6.1196, -6.1196, -6.1197, -6.1197, -6.1197, -6.1197, -6.1198, -6.1198, -5.1741, -4.5729, -4.4713, -3.8244, -3.4643, -4.3738, -5.1707, -3.5434, -5.6976, -5.6978, -5.6984, -5.6982, -5.6852, -5.397, -5.6982, -5.6987, -5.3895, -5.6843, -5.6988, -4.739, -5.6298, -5.693, -5.691, -5.6929, -5.6967, -5.6969], \"loglift\": [30.0, 29.0, 28.0, 27.0, 26.0, 25.0, 24.0, 23.0, 22.0, 21.0, 20.0, 19.0, 18.0, 17.0, 16.0, 15.0, 14.0, 13.0, 12.0, 11.0, 10.0, 9.0, 8.0, 7.0, 6.0, 5.0, 4.0, 3.0, 2.0, 1.0, 0.8107, 0.7959, 0.7599, 0.6656, 0.6307, 0.5859, 0.5832, 0.5806, 0.5626, 0.5613, 0.5583, 0.5564, 0.5414, 0.5412, 0.5229, 0.52, 0.5101, 0.5094, 0.5085, 0.4933, 0.4751, 0.4748, 0.4535, 0.4366, 0.4365, 0.4362, 0.4361, 0.436, 0.4358, 0.4357, 0.4318, 0.4106, 0.427, 0.3651, 0.3554, 0.3134, 0.4167, 0.4057, 0.2486, 0.3235, 0.2068, 0.1368, 0.3239, 0.0724, 0.316, -0.0134, 1.4076, 1.3836, 1.3001, 1.3001, 1.2978, 1.2198, 1.2132, 1.1135, 1.1135, 1.1134, 1.1109, 1.1075, 1.1056, 1.0319, 1.0304, 0.9966, 0.9644, 0.9535, 0.9535, 0.9534, 0.9533, 0.9516, 0.9511, 0.951, 0.9508, 0.9507, 0.9504, 0.945, 0.9448, 0.9444, 0.9242, 0.9127, 0.8302, 0.589, 0.8369, 0.6004, -0.3805, 0.3528, 0.5025, 0.6948, 0.6573, 0.2502, -0.1792, 0.2212, 0.0322, -1.5984, 0.1524, 1.5394, 1.5055, 1.3743, 1.3494, 1.3194, 1.3126, 1.309, 1.3037, 1.2506, 1.2385, 1.1989, 1.1983, 1.1983, 1.1956, 1.0316, 1.0316, 1.0314, 1.0314, 1.0313, 1.0311, 1.0311, 1.031, 1.0298, 1.0283, 1.0282, 1.0281, 1.0281, 1.0281, 1.0279, 1.0279, 0.9488, 0.8456, 0.587, 0.7779, 0.4076, 0.6198, 0.7575, -0.5257, 0.3797, -0.1646, 0.2877, -1.0242, -0.0007, 0.332, -0.4644, 0.7127, -0.4457, 1.5261, 1.5087, 1.4064, 1.4059, 1.3878, 1.3222, 1.2979, 1.2074, 1.2069, 1.1746, 1.0394, 1.0393, 1.0391, 1.039, 1.0388, 1.0387, 1.0386, 1.0357, 1.0173, 1.0008, 1.0001, 1.0001, 0.9998, 0.9995, 0.9191, 0.9112, 0.9075, 0.9031, 0.8809, 0.8726, 0.8061, 0.7565, 0.1511, 0.4973, 0.6757, 0.6469, -0.6441, 0.0409, 0.4303, -0.3434, -1.267, 0.0779, 0.1417, -0.8005, -0.0344, 1.7163, 1.128, 1.0477, 1.0477, 0.9319, 0.907, 0.8847, 0.8636, 0.853, 0.8145, 0.7857, 0.7743, 0.7741, 0.774, 0.774, 0.7739, 0.7739, 0.7738, 0.7738, 0.7738, 0.7738, 0.7738, 0.7738, 0.7737, 0.7737, 0.7737, 0.7737, 0.7737, 0.7736, 0.7736, 0.7684, 0.6768, 0.6564, 0.5665, 0.3826, 0.5004, 0.5776, 0.1285, 0.6563, 0.6562, 0.6557, 0.6556, 0.5447, 0.3709, 0.505, 0.5043, 0.2124, 0.3967, 0.3733, -1.1009, -0.3672, 0.3621, 0.0515, 0.0795, 0.0114, -0.0242]}, \"token.table\": {\"Topic\": [1, 4, 1, 2, 3, 4, 5, 1, 3, 1, 5, 1, 4, 1, 5, 1, 4, 1, 4, 1, 2, 1, 1, 5, 1, 2, 1, 3, 1, 5, 1, 2, 4, 1, 5, 1, 2, 4, 1, 4, 1, 5, 1, 2, 1, 2, 3, 4, 1, 2, 5, 1, 3, 4, 5, 1, 2, 1, 4, 1, 3, 4, 1, 4, 1, 1, 5, 1, 3, 1, 2, 3, 4, 5, 1, 3, 1, 2, 1, 3, 1, 3, 5, 1, 4, 5, 1, 3, 1, 4, 5, 1, 5, 1, 2, 3, 4, 1, 5, 1, 4, 1, 2, 1, 2, 1, 3, 4, 1, 5, 1, 3, 1, 2, 1, 3, 1, 3, 1, 2, 4, 1, 3, 1, 4, 5, 1, 2, 3, 4, 5, 1, 5, 1, 5, 1, 4, 1, 5, 1, 5, 1, 2, 3, 5, 1, 1, 1, 3, 4, 1, 1, 2, 3, 4, 5, 1, 5, 1, 4, 1, 2, 3, 4, 1, 4, 1, 1, 5, 1, 2, 3, 4, 5, 1, 3, 4, 1, 2, 1, 2, 3, 5, 1, 3, 4, 5, 1, 3, 1, 5, 1, 2, 1, 4, 1, 3, 1, 5, 1, 2, 4, 1, 1, 5, 1, 2, 1, 2, 1, 3, 4, 1, 5, 1, 4, 5, 1, 2, 1, 3, 1, 2, 1, 5, 1, 5, 1, 4, 5, 1, 4, 1, 1, 3, 4, 5, 1, 2, 3, 5, 1, 2, 3, 1, 5, 1, 1, 2, 1, 2, 5, 1, 2, 3, 1, 5, 1, 2, 1, 2, 1, 4, 1, 5, 1, 3, 4, 5, 1, 2, 3, 1, 2, 1, 2, 1, 2, 4, 5, 1, 5, 1, 2, 4, 5, 1, 4, 1, 2, 3, 1, 5, 1, 3, 4, 1, 3, 4, 1, 2, 3, 4, 1, 4, 1, 1, 4, 1, 2, 4, 1, 4, 1, 3, 1, 3, 1, 3, 1, 3, 1, 5, 1, 5, 1, 3, 4, 5, 1, 2, 3, 4, 5, 1, 3, 1, 2, 5, 1, 5, 1, 2, 3, 1, 5, 1, 3, 1, 2, 4, 1, 5, 1, 4, 1, 3, 4, 1, 3, 1, 4, 1, 3, 4, 1, 4, 1, 1, 3, 1, 4, 5, 1, 5, 1, 3, 1, 2, 1, 2, 1, 3, 1, 4, 1, 3, 1, 3, 1, 3, 1, 5, 1, 3, 1, 4, 1, 2, 4, 5, 1, 1, 2, 1, 1, 3, 1, 2, 1, 5, 1, 3, 5, 1, 2, 1, 1, 5, 1, 4, 1, 2, 3, 4, 5, 1, 2, 4, 5, 1, 5, 1, 4, 1, 4, 1, 2, 3, 4, 5, 1, 3, 4, 1, 1, 2, 3, 1, 3, 5, 1, 4, 5, 1, 5, 1, 2, 3, 5, 1, 2, 4, 1, 2], \"Freq\": [0.31754929131424986, 0.31754929131424986, 0.6903459135788199, 0.10355188703682298, 0.08629323919735249, 0.069034591357882, 0.05177594351841149, 0.3852871152947839, 0.3852871152947839, 0.44744713214385506, 0.44744713214385506, 0.38737986874763464, 0.38737986874763464, 0.44745058080494543, 0.44745058080494543, 0.3838566987400025, 0.3838566987400025, 0.3838378111925653, 0.3838378111925653, 0.37659530580660255, 0.37659530580660255, 0.532781153911526, 0.4487592153334235, 0.22437960766671175, 0.3765647254469421, 0.3765647254469421, 0.33881687092902363, 0.33881687092902363, 0.4474369513787727, 0.4474369513787727, 0.24007747492331002, 0.48015494984662005, 0.24007747492331002, 0.4474472805103407, 0.4474472805103407, 0.5756653696414344, 0.19188845654714481, 0.19188845654714481, 0.7923256849210041, 0.13205428082016735, 0.5186507976896585, 0.34576719845977233, 0.2621288232169045, 0.524257646433809, 0.20888295432397921, 0.41776590864795843, 0.20888295432397921, 0.20888295432397921, 0.3689448403535322, 0.3689448403535322, 0.12298161345117739, 0.43754667470825936, 0.2916977831388396, 0.1458488915694198, 0.1458488915694198, 0.37655381664550924, 0.37655381664550924, 0.3048239321201062, 0.6096478642402124, 0.1656566797337007, 0.1656566797337007, 0.49697003920110217, 0.38384117751686103, 0.38384117751686103, 0.8001417850467724, 0.4474369127552094, 0.4474369127552094, 0.23346248418330603, 0.46692496836661207, 0.40174538557641176, 0.20087269278820588, 0.20087269278820588, 0.10043634639410294, 0.10043634639410294, 0.338993694642997, 0.338993694642997, 0.27285343308768933, 0.5457068661753787, 0.22846348738622804, 0.685390462158684, 0.1878137620047366, 0.3756275240094732, 0.3756275240094732, 0.24871908226359485, 0.24871908226359485, 0.4974381645271897, 0.33900682921171005, 0.33900682921171005, 0.6402511967300762, 0.16006279918251906, 0.16006279918251906, 0.447450877766375, 0.447450877766375, 0.22284490901669718, 0.44568981803339436, 0.22284490901669718, 0.22284490901669718, 0.44743764869550406, 0.44743764869550406, 0.3411659194763892, 0.3411659194763892, 0.37657280342947314, 0.37657280342947314, 0.32871529811794636, 0.6574305962358927, 0.34015437692979683, 0.34015437692979683, 0.34015437692979683, 0.16299380811888448, 0.7334721365349801, 0.38535537789235064, 0.38535537789235064, 0.3284152986995865, 0.3284152986995865, 0.3855000127131171, 0.3855000127131171, 0.7685819692601645, 0.1097974241800235, 0.24084575486477885, 0.4816915097295577, 0.24084575486477885, 0.3854931004043981, 0.3854931004043981, 0.39969573769231714, 0.39969573769231714, 0.19984786884615857, 0.5276465273669851, 0.15829395821009554, 0.10552930547339702, 0.15829395821009554, 0.05276465273669851, 0.44744368943625223, 0.44744368943625223, 0.4474417364032252, 0.4474417364032252, 0.38733534441661965, 0.38733534441661965, 0.44745197059920333, 0.44745197059920333, 0.7921007777813638, 0.13201679629689397, 0.5188684372767899, 0.08647807287946499, 0.08647807287946499, 0.25943421863839494, 0.6858335548572537, 0.5329066025801568, 0.28117282151354506, 0.5623456430270901, 0.14058641075677253, 0.8001011399843726, 0.7140667190214995, 0.03570333595107498, 0.053555003926612464, 0.03570333595107498, 0.16066501177983739, 0.4474411033101962, 0.4474411033101962, 0.387367392648236, 0.387367392648236, 0.28654595058036064, 0.14327297529018032, 0.14327297529018032, 0.28654595058036064, 0.38733060610273823, 0.38733060610273823, 0.5329177212694484, 0.5216821486546435, 0.26084107432732173, 0.5022066694443894, 0.2511033347221947, 0.2511033347221947, 0.12555166736109735, 0.12555166736109735, 0.2166895838168791, 0.2166895838168791, 0.2166895838168791, 0.32872601812982905, 0.6574520362596581, 0.5288723165789353, 0.21154892663157412, 0.10577446331578706, 0.10577446331578706, 0.38699426640413037, 0.19349713320206519, 0.19349713320206519, 0.19349713320206519, 0.3023085535022124, 0.6046171070044248, 0.4474420944478792, 0.4474420944478792, 0.26212673249853313, 0.5242534649970663, 0.38733885016081876, 0.38733885016081876, 0.5945436493685127, 0.35672618962110764, 0.3865044245413091, 0.3865044245413091, 0.47010714804608916, 0.3134047653640594, 0.1567023826820297, 0.5328076739602132, 0.7531672926128931, 0.18829182315322326, 0.3761607206014123, 0.3761607206014123, 0.2916603085341223, 0.5833206170682446, 0.3403439414317138, 0.3403439414317138, 0.3403439414317138, 0.4474454064092019, 0.4474454064092019, 0.3882398108245407, 0.19411990541227034, 0.19411990541227034, 0.3287397891750519, 0.6574795783501038, 0.38539950924917493, 0.38539950924917493, 0.21796073003668978, 0.6538821901100693, 0.762472153442871, 0.15249443068857418, 0.44744408502910005, 0.44744408502910005, 0.6961686117249996, 0.03664045324868419, 0.2564831727407893, 0.27386773531387854, 0.5477354706277571, 0.91164530864102, 0.5291257656567276, 0.1322814414141819, 0.2645628828283638, 0.1322814414141819, 0.28312214293456706, 0.28312214293456706, 0.14156107146728353, 0.14156107146728353, 0.24868019857496979, 0.49736039714993957, 0.24868019857496979, 0.44745083336358293, 0.44745083336358293, 0.5329619674157156, 0.3763028088305837, 0.3763028088305837, 0.7083993575988459, 0.10119990822840656, 0.10119990822840656, 0.4795785543823447, 0.15985951812744822, 0.31971903625489645, 0.47789532152860686, 0.23894766076430343, 0.37660317893526923, 0.37660317893526923, 0.37659420653275605, 0.37659420653275605, 0.383885547871281, 0.383885547871281, 0.38648212295382167, 0.38648212295382167, 0.2888591036111743, 0.14442955180558714, 0.14442955180558714, 0.2888591036111743, 0.21810986986730532, 0.10905493493365266, 0.654329609601916, 0.32850789736659153, 0.32850789736659153, 0.37657797854518155, 0.37657797854518155, 0.7443168567802907, 0.021266195908008306, 0.021266195908008306, 0.21266195908008304, 0.4486720767790051, 0.22433603838950256, 0.23045600039909853, 0.23045600039909853, 0.23045600039909853, 0.23045600039909853, 0.2754479754100726, 0.5508959508201452, 0.22239287792475781, 0.44478575584951563, 0.22239287792475781, 0.521797803632789, 0.2608989018163945, 0.22884708519862568, 0.45769417039725135, 0.22884708519862568, 0.16042487900935742, 0.4812746370280722, 0.16042487900935742, 0.2666805309787932, 0.5333610619575864, 0.2666805309787932, 0.2666805309787932, 0.34115208788452817, 0.34115208788452817, 0.5328664342305738, 0.22995584497097526, 0.6898675349129259, 0.2941470161959605, 0.2941470161959605, 0.2941470161959605, 0.2754175824147573, 0.5508351648295146, 0.3389894063246535, 0.3389894063246535, 0.38548316265865984, 0.38548316265865984, 0.38549047098613626, 0.38549047098613626, 0.3854749731579285, 0.3854749731579285, 0.590411080124041, 0.19680369337468032, 0.44745404121498333, 0.44745404121498333, 0.5808185649850685, 0.1452046412462671, 0.1452046412462671, 0.1452046412462671, 0.43801170168584963, 0.17520468067433984, 0.17520468067433984, 0.17520468067433984, 0.08760234033716992, 0.3854841175674426, 0.3854841175674426, 0.2566130379629387, 0.2566130379629387, 0.2566130379629387, 0.44744442697185366, 0.44744442697185366, 0.4308875345014241, 0.4308875345014241, 0.21544376725071204, 0.6123617214965908, 0.22963564556122157, 0.7184330090079697, 0.14368660180159396, 0.1877105370358817, 0.5631316111076451, 0.1877105370358817, 0.5816868613174977, 0.29084343065874885, 0.3382513089508805, 0.3382513089508805, 0.24899664532435103, 0.49799329064870207, 0.24899664532435103, 0.38532550971105045, 0.38532550971105045, 0.38556109529120264, 0.38556109529120264, 0.340192881829769, 0.340192881829769, 0.340192881829769, 0.9523187820883281, 0.028009375943774353, 0.6853681623437592, 0.385296377173706, 0.385296377173706, 0.6534423078017305, 0.11880769232758737, 0.23761538465517473, 0.570771508099129, 0.3261551474852166, 0.385282234102145, 0.385282234102145, 0.37656384144565036, 0.37656384144565036, 0.6317311231837278, 0.2105770410612426, 0.3854860723450645, 0.3854860723450645, 0.3838306495157866, 0.3838306495157866, 0.3852825690241508, 0.3852825690241508, 0.23415050246543365, 0.4683010049308673, 0.38548808384210026, 0.38548808384210026, 0.44744621895889863, 0.44744621895889863, 0.3852870767979118, 0.3852870767979118, 0.38831450331626316, 0.38831450331626316, 0.5722879122282964, 0.1430719780570741, 0.1430719780570741, 0.1430719780570741, 0.5329433965561756, 0.2621403358780481, 0.5242806717560962, 0.6855691278671012, 0.3025230544561902, 0.6050461089123804, 0.37630045055820727, 0.37630045055820727, 0.4474378995006747, 0.4474378995006747, 0.33784448946056767, 0.33784448946056767, 0.33784448946056767, 0.376595078450344, 0.376595078450344, 0.8209039095030438, 0.5218429232906677, 0.26092146164533386, 0.3873562489130647, 0.3873562489130647, 0.3255773215185966, 0.21705154767906437, 0.21705154767906437, 0.10852577383953219, 0.10852577383953219, 0.19857156337245802, 0.19857156337245802, 0.19857156337245802, 0.19857156337245802, 0.5217296570341574, 0.2608648285170787, 0.38735007824174317, 0.38735007824174317, 0.3872552687763233, 0.3872552687763233, 0.5233968162112442, 0.29077600900624684, 0.11631040360249872, 0.05815520180124936, 0.05815520180124936, 0.18546823911918137, 0.18546823911918137, 0.5564047173575442, 0.9304982855823235, 0.2778803027959899, 0.2778803027959899, 0.2778803027959899, 0.6838358930667672, 0.13676717861335344, 0.13676717861335344, 0.427151027309526, 0.14238367576984198, 0.28476735153968397, 0.6688289497928802, 0.16720723744822005, 0.24166940151186578, 0.48333880302373156, 0.24166940151186578, 0.24166940151186578, 0.5716018303704112, 0.19053394345680372, 0.19053394345680372, 0.32873774812654555, 0.6574754962530911], \"Term\": [\"access\", \"access\", \"airflow\", \"airflow\", \"airflow\", \"airflow\", \"airflow\", \"airflowplugin\", \"airflowplugin\", \"article\", \"article\", \"assert\", \"assert\", \"attrs\", \"attrs\", \"authenticate\", \"authenticate\", \"authentication\", \"authentication\", \"base_hook\", \"base_hook\", \"baseoperator\", \"cause\", \"cause\", \"certificate\", \"certificate\", \"class\", \"class\", \"cnf\", \"cnf\", \"code\", \"code\", \"code\", \"column\", \"column\", \"com\", \"com\", \"com\", \"command\", \"command\", \"commit\", \"commit\", \"conf\", \"conf\", \"configuration\", \"configuration\", \"configuration\", \"configuration\", \"connection\", \"connection\", \"connection\", \"context\", \"context\", \"context\", \"context\", \"continuous\", \"continuous\", \"copy\", \"copy\", \"create\", \"create\", \"create\", \"create_engine\", \"create_engine\", \"cryptography\", \"cursor\", \"cursor\", \"custom\", \"custom\", \"dag\", \"dag\", \"dag\", \"dag\", \"dag\", \"dag_status\", \"dag_status\", \"database\", \"database\", \"dataflow\", \"dataflow\", \"datetime\", \"datetime\", \"datetime\", \"db\", \"db\", \"db\", \"def\", \"def\", \"default\", \"default\", \"default\", \"default_view\", \"default_view\", \"dependency\", \"dependency\", \"dependency\", \"dependency\", \"description\", \"description\", \"detail\", \"detail\", \"dev\", \"dev\", \"different\", \"different\", \"directory\", \"directory\", \"directory\", \"dist\", \"dist\", \"document\", \"document\", \"documentation\", \"documentation\", \"dummyoperator\", \"dummyoperator\", \"email\", \"email\", \"enable\", \"enable\", \"enable\", \"encode\", \"encode\", \"engine\", \"engine\", \"engine\", \"error\", \"error\", \"error\", \"error\", \"error\", \"errorclass\", \"errorclass\", \"errorvalue\", \"errorvalue\", \"even\", \"even\", \"example_dag\", \"example_dag\", \"exception\", \"exception\", \"execute\", \"execute\", \"execute\", \"execute\", \"execution_date\", \"exit\", \"fail\", \"fail\", \"fail\", \"fernet\", \"file\", \"file\", \"file\", \"file\", \"file\", \"fileloc\", \"fileloc\", \"fillrecord\", \"fillrecord\", \"find\", \"find\", \"find\", \"find\", \"fine\", \"fine\", \"first\", \"flush\", \"flush\", \"follow\", \"follow\", \"follow\", \"follow\", \"follow\", \"format\", \"format\", \"format\", \"generate\", \"generate\", \"get\", \"get\", \"get\", \"get\", \"help\", \"help\", \"help\", \"help\", \"helper\", \"helper\", \"hie\", \"hie\", \"httpd\", \"httpd\", \"iam_role\", \"iam_role\", \"import\", \"import\", \"incorrect\", \"incorrect\", \"info\", \"info\", \"info\", \"init\", \"instal\", \"instal\", \"instance\", \"instance\", \"integration\", \"integration\", \"invalid\", \"invalid\", \"invalid\", \"is_pause\", \"is_pause\", \"issue\", \"issue\", \"issue\", \"jdbc\", \"jdbc\", \"join\", \"join\", \"key\", \"key\", \"last\", \"last\", \"last_pickled\", \"last_pickled\", \"line\", \"line\", \"line\", \"load\", \"load\", \"local\", \"log\", \"log\", \"log\", \"log\", \"m\", \"m\", \"m\", \"m\", \"manage\", \"manage\", \"manage\", \"mention\", \"mention\", \"miss\", \"mode\", \"mode\", \"model\", \"model\", \"model\", \"module\", \"module\", \"module\", \"multiparam\", \"multiparam\", \"mycompanyname\", \"mycompanyname\", \"myservername\", \"myservername\", \"mysql\", \"mysql\", \"mysqldb\", \"mysqldb\", \"none\", \"none\", \"none\", \"none\", \"operator\", \"operator\", \"operator\", \"oracle\", \"oracle\", \"org\", \"org\", \"package\", \"package\", \"package\", \"package\", \"param\", \"param\", \"parameter\", \"parameter\", \"parameter\", \"parameter\", \"parquet\", \"parquet\", \"path\", \"path\", \"path\", \"persistence\", \"persistence\", \"pipeline\", \"pipeline\", \"pipeline\", \"plugin\", \"plugin\", \"plugin\", \"python\", \"python\", \"python\", \"python\", \"query\", \"query\", \"quot\", \"rd\", \"rd\", \"really\", \"really\", \"really\", \"redshift\", \"redshift\", \"report\", \"report\", \"report_file\", \"report_file\", \"report_mask\", \"report_mask\", \"report_text\", \"report_text\", \"reraise\", \"reraise\", \"resolve\", \"resolve\", \"return\", \"return\", \"return\", \"return\", \"run\", \"run\", \"run\", \"run\", \"run\", \"sbjct\", \"sbjct\", \"scheduler\", \"scheduler\", \"scheduler\", \"scheduler_lock\", \"scheduler_lock\", \"seem\", \"seem\", \"seem\", \"self\", \"self\", \"send\", \"send\", \"server\", \"server\", \"server\", \"session\", \"session\", \"setting\", \"setting\", \"setup\", \"setup\", \"setup\", \"setuptool\", \"setuptool\", \"show\", \"show\", \"similar\", \"similar\", \"similar\", \"site\", \"site\", \"sla\", \"sparkify_plugin\", \"sparkify_plugin\", \"sqlalchemy\", \"sqlalchemy\", \"sqlalchemy\", \"sqlalchemy_orm\", \"sqlalchemy_orm\", \"stage_redshift\", \"stage_redshift\", \"staging\", \"staging\", \"start\", \"start\", \"status\", \"status\", \"strategy\", \"strategy\", \"structure\", \"structure\", \"subject\", \"subject\", \"success\", \"success\", \"sync_to_db\", \"sync_to_db\", \"syntax\", \"syntax\", \"table\", \"table\", \"task\", \"task\", \"task\", \"task\", \"taskinstance\", \"teradata\", \"teradata\", \"test\", \"test_dag_name\", \"test_dag_name\", \"thin\", \"thin\", \"throw\", \"throw\", \"time\", \"time\", \"time\", \"tmode\", \"tmode\", \"traceback\", \"transaction\", \"transaction\", \"truncate\", \"truncate\", \"try\", \"try\", \"try\", \"try\", \"try\", \"type\", \"type\", \"type\", \"type\", \"unitofwork\", \"unitofwork\", \"unreachable\", \"unreachable\", \"upload\", \"upload\", \"use\", \"use\", \"use\", \"use\", \"use\", \"user\", \"user\", \"user\", \"users_karthikv\", \"utf\", \"utf\", \"utf\", \"util\", \"util\", \"util\", \"value\", \"value\", \"value\", \"variable\", \"variable\", \"ve\", \"ve\", \"ve\", \"ve\", \"version\", \"version\", \"version\", \"web\", \"web\"]}, \"R\": 30, \"lambda.step\": 0.01, \"plot.opts\": {\"xlab\": \"PC1\", \"ylab\": \"PC2\"}, \"topic.order\": [1, 2, 4, 3, 5]};\n",
       "\n",
       "function LDAvis_load_lib(url, callback){\n",
       "  var s = document.createElement('script');\n",
       "  s.src = url;\n",
       "  s.async = true;\n",
       "  s.onreadystatechange = s.onload = callback;\n",
       "  s.onerror = function(){console.warn(\"failed to load library \" + url);};\n",
       "  document.getElementsByTagName(\"head\")[0].appendChild(s);\n",
       "}\n",
       "\n",
       "if(typeof(LDAvis) !== \"undefined\"){\n",
       "   // already loaded: just create the visualization\n",
       "   !function(LDAvis){\n",
       "       new LDAvis(\"#\" + \"ldavis_el3793641397330921714728383416241\", ldavis_el3793641397330921714728383416241_data);\n",
       "   }(LDAvis);\n",
       "}else if(typeof define === \"function\" && define.amd){\n",
       "   // require.js is available: use it to load d3/LDAvis\n",
       "   require.config({paths: {d3: \"https://d3js.org/d3.v5\"}});\n",
       "   require([\"d3\"], function(d3){\n",
       "      window.d3 = d3;\n",
       "      LDAvis_load_lib(\"https://cdn.jsdelivr.net/gh/bmabey/pyLDAvis@3.4.0/pyLDAvis/js/ldavis.v3.0.0.js\", function(){\n",
       "        new LDAvis(\"#\" + \"ldavis_el3793641397330921714728383416241\", ldavis_el3793641397330921714728383416241_data);\n",
       "      });\n",
       "    });\n",
       "}else{\n",
       "    // require.js not available: dynamically load d3 & LDAvis\n",
       "    LDAvis_load_lib(\"https://d3js.org/d3.v5.js\", function(){\n",
       "         LDAvis_load_lib(\"https://cdn.jsdelivr.net/gh/bmabey/pyLDAvis@3.4.0/pyLDAvis/js/ldavis.v3.0.0.js\", function(){\n",
       "                 new LDAvis(\"#\" + \"ldavis_el3793641397330921714728383416241\", ldavis_el3793641397330921714728383416241_data);\n",
       "            })\n",
       "         });\n",
       "}\n",
       "</script>"
      ],
      "text/plain": [
       "PreparedData(topic_coordinates=              x         y  topics  cluster       Freq\n",
       "topic                                                \n",
       "0     -0.084534 -0.010024       1        1  41.916776\n",
       "1      0.047396  0.026128       2        1  16.252600\n",
       "3      0.036144 -0.045002       3        1  14.172220\n",
       "2      0.032658  0.007086       4        1  13.840662\n",
       "4     -0.031664  0.021812       5        1  13.817743, topic_info=          Term       Freq      Total Category  logprob  loglift\n",
       "294    package  47.000000  47.000000  Default  30.0000  30.0000\n",
       "428       dist  12.000000  12.000000  Default  29.0000  29.0000\n",
       "113       site  35.000000  35.000000  Default  28.0000  28.0000\n",
       "286       line  27.000000  27.000000  Default  27.0000  27.0000\n",
       "178     import  16.000000  16.000000  Default  26.0000  26.0000\n",
       "..         ...        ...        ...      ...      ...      ...\n",
       "126       help   1.025692   5.168035   Topic5  -5.6930   0.3621\n",
       "30           m   1.027724   7.064089   Topic5  -5.6910   0.0515\n",
       "258    context   1.025798   6.856411   Topic5  -5.6929   0.0795\n",
       "337       util   1.021946   7.311696   Topic5  -5.6967   0.0114\n",
       "266  exception   1.021683   7.574794   Topic5  -5.6969  -0.0242\n",
       "\n",
       "[271 rows x 6 columns], token_table=      Topic      Freq     Term\n",
       "term                          \n",
       "108       1  0.317549   access\n",
       "108       4  0.317549   access\n",
       "1         1  0.690346  airflow\n",
       "1         2  0.103552  airflow\n",
       "1         3  0.086293  airflow\n",
       "...     ...       ...      ...\n",
       "339       1  0.571602  version\n",
       "339       2  0.190534  version\n",
       "339       4  0.190534  version\n",
       "245       1  0.328738      web\n",
       "245       2  0.657475      web\n",
       "\n",
       "[465 rows x 3 columns], R=30, lambda_step=0.01, plot_opts={'xlab': 'PC1', 'ylab': 'PC2'}, topic_order=[1, 2, 4, 3, 5])"
      ]
     },
     "execution_count": 10,
     "metadata": {},
     "output_type": "execute_result"
    }
   ],
   "source": [
    "# Build LDA model\n",
    "lda_model = gensim.models.ldamodel.LdaModel(corpus=corpus,\n",
    "                                           id2word=id2word,\n",
    "                                           num_topics=5, \n",
    "                                           random_state=100,\n",
    "                                           chunksize=100,\n",
    "                                           passes=10,\n",
    "                                           alpha=0.61,\n",
    "                                           eta=0.91)\n",
    "\n",
    "# Compute Perplexity\n",
    "print('\\nPerplexity: ', lda_model.log_perplexity(corpus))  # a measure of how good the model is. lower the better.\n",
    "# Compute Coherence Score\n",
    "coherence_model_lda = CoherenceModel(model=lda_model, texts=data_lemmatized, dictionary=id2word, coherence='c_v')\n",
    "coherence_lda = coherence_model_lda.get_coherence()\n",
    "print('\\nCoherence Score: ', coherence_lda)\n",
    "\n",
    "# Visualize the topics\n",
    "pyLDAvis.enable_notebook()\n",
    "vis = pyLDAvis.gensim.prepare(lda_model, corpus, id2word)\n",
    "vis"
   ]
  },
  {
   "cell_type": "code",
   "execution_count": 11,
   "id": "392209b0-cdfe-4134-8a90-7ebd77bb2098",
   "metadata": {},
   "outputs": [
    {
     "name": "stdout",
     "output_type": "stream",
     "text": [
      "[(0,\n",
      "  '0.044*\"file\" + 0.043*\"airflow\" + 0.038*\"package\" + 0.036*\"site\" + '\n",
      "  '0.021*\"line\" + 0.019*\"users_karthikv\" + 0.014*\"local\" + 0.012*\"sqlalchemy\" '\n",
      "  '+ 0.011*\"error\" + 0.010*\"import\"'),\n",
      " (1,\n",
      "  '0.018*\"airflow\" + 0.014*\"use\" + 0.010*\"server\" + 0.009*\"key\" + '\n",
      "  '0.008*\"connection\" + 0.007*\"error\" + 0.006*\"dag\" + 0.006*\"code\" + '\n",
      "  '0.006*\"httpd\" + 0.006*\"conf\"'),\n",
      " (2,\n",
      "  '0.014*\"airflow\" + 0.011*\"user\" + 0.010*\"create\" + 0.010*\"error\" + '\n",
      "  '0.009*\"rd\" + 0.008*\"find\" + 0.007*\"file\" + 0.007*\"redshift\" + '\n",
      "  '0.007*\"parquet\" + 0.007*\"load\"'),\n",
      " (3,\n",
      "  '0.020*\"import\" + 0.019*\"operator\" + 0.016*\"airflow\" + 0.012*\"fail\" + '\n",
      "  '0.011*\"plugin\" + 0.009*\"file\" + 0.009*\"dataflow\" + 0.008*\"pipeline\" + '\n",
      "  '0.007*\"error\" + 0.007*\"dag\"'),\n",
      " (4,\n",
      "  '0.031*\"package\" + 0.031*\"dist\" + 0.029*\"file\" + 0.022*\"line\" + '\n",
      "  '0.013*\"sqlalchemy\" + 0.013*\"sqlalchemy_orm\" + 0.011*\"self\" + '\n",
      "  '0.010*\"execute\" + 0.010*\"session\" + 0.009*\"airflow\"')]\n",
      "<gensim.interfaces.TransformedCorpus object at 0x7f177546b490>\n"
     ]
    }
   ],
   "source": [
    "pprint(lda_model.print_topics())\n",
    "doc_lda = lda_model[corpus]\n",
    "print(doc_lda)"
   ]
  },
  {
   "cell_type": "code",
   "execution_count": 12,
   "metadata": {},
   "outputs": [
    {
     "name": "stdout",
     "output_type": "stream",
     "text": [
      "         Id                                              Title  \\\n",
      "0  45015116  Apache Airflow Continous Integration Workflow ...   \n",
      "1  45450618  Connect to Teradata Using Airflow JDBC Connection   \n",
      "2  48164745  AWS EC2 + Apache Airflow. How to connect to ad...   \n",
      "3  48986732          Airflow: Creating a DAG in airflow via UI   \n",
      "4  51558313  What is the difference between min_file_proces...   \n",
      "\n",
      "                                                Body  RatingsSentiCR  \\\n",
      "0  I'm thinking of starting to use Apache Airflow...               1   \n",
      "1  I'm trying to execute a SqlSensor task in Airf...              -1   \n",
      "2  I installed airflow and started it on EC2 Ubun...              -1   \n",
      "3  Airflow veterans please help,\\n\\nI was looking...              -1   \n",
      "4  We are using Airflow v 1.9.0. We have 100+ dag...               0   \n",
      "\n",
      "   RatingsGPT35  RatingsGPTFineTuned  \\\n",
      "0             1                 -1.0   \n",
      "1            -1                 -1.0   \n",
      "2            -1                 -1.0   \n",
      "3            -1                 -1.0   \n",
      "4            -1                 -1.0   \n",
      "\n",
      "                                              merged  topic  \n",
      "0  Apache Airflow Continous Integration Workflow ...      1  \n",
      "1  Connect to Teradata Using Airflow JDBC Connect...      1  \n",
      "2  AWS EC2 + Apache Airflow. How to connect to ad...      0  \n",
      "3  Airflow: Creating a DAG in airflow via UI-Airf...      2  \n",
      "4  What is the difference between min_file_proces...      1  \n",
      "topic:  0 total data:  7\n",
      "topic:  1 total data:  6\n",
      "topic:  2 total data:  3\n",
      "topic:  3 total data:  3\n",
      "topic:  4 total data:  2\n"
     ]
    }
   ],
   "source": [
    "num_topics = 5\n",
    "topic_distributions = [lda_model[doc] for doc in corpus]\n",
    "\n",
    "# Extract the dominant topic for each document\n",
    "df['topic'] = [max(topics, key=lambda x: x[1])[0] for topics in topic_distributions]\n",
    "\n",
    "# Display the DataFrame with assigned topics\n",
    "print(df.head())\n",
    "df.to_csv('../dataset/AssignedTopicAirflow.csv')\n",
    "for i in range(num_topics): \n",
    "    topic_df = df[df['topic'] == i]\n",
    "    print('topic: ', i, 'total data: ', len(topic_df))"
   ]
  },
  {
   "cell_type": "code",
   "execution_count": null,
   "metadata": {},
   "outputs": [],
   "source": [
    "3   "
   ]
  }
 ],
 "metadata": {
  "kernelspec": {
   "display_name": "Python 3 (ipykernel)",
   "language": "python",
   "name": "python3"
  },
  "language_info": {
   "codemirror_mode": {
    "name": "ipython",
    "version": 3
   },
   "file_extension": ".py",
   "mimetype": "text/x-python",
   "name": "python",
   "nbconvert_exporter": "python",
   "pygments_lexer": "ipython3",
   "version": "3.10.12"
  },
  "widgets": {
   "application/vnd.jupyter.widget-state+json": {
    "state": {},
    "version_major": 2,
    "version_minor": 0
   }
  }
 },
 "nbformat": 4,
 "nbformat_minor": 5
}
