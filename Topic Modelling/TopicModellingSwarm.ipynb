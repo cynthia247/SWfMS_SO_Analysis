{
 "cells": [
  {
   "cell_type": "markdown",
   "id": "19a3956d",
   "metadata": {},
   "source": [
    "# Necessary Tools and Services"
   ]
  },
  {
   "cell_type": "code",
   "execution_count": 32,
   "id": "57e1172e",
   "metadata": {},
   "outputs": [],
   "source": [
    "# ! pip install pandas\n",
    "# ! pip install matplotlib\n",
    "# ! pip install numpy\n",
    "# ! pip install seaborn\n",
    "# ! pip install unzip\n",
    "# ! pip install gensim\n",
    "# ! pip install nltk\n",
    "# ! pip install wordcloud\n",
    "# ! pip install spacy\n",
    "# ! pip install spacy_download\n",
    "# ! pip install pyLDAvis\n",
    "# ! pip install PyStemmer\n",
    "\n",
    "# ! python3 -m spacy download en"
   ]
  },
  {
   "cell_type": "code",
   "execution_count": 1,
   "id": "893b4ccc",
   "metadata": {},
   "outputs": [
    {
     "name": "stderr",
     "output_type": "stream",
     "text": [
      "[nltk_data] Downloading package averaged_perceptron_tagger to\n",
      "[nltk_data]     /home/uji657/nltk_data...\n",
      "[nltk_data]   Package averaged_perceptron_tagger is already up-to-\n",
      "[nltk_data]       date!\n",
      "[nltk_data] Downloading package wordnet to /home/uji657/nltk_data...\n",
      "[nltk_data]   Package wordnet is already up-to-date!\n",
      "[nltk_data] Downloading package stopwords to /home/uji657/nltk_data...\n",
      "[nltk_data]   Package stopwords is already up-to-date!\n"
     ]
    },
    {
     "name": "stdout",
     "output_type": "stream",
     "text": [
      "Collecting en-core-web-sm==3.7.1\n",
      "  Downloading https://github.com/explosion/spacy-models/releases/download/en_core_web_sm-3.7.1/en_core_web_sm-3.7.1-py3-none-any.whl (12.8 MB)\n",
      "     ━━━━━━━━━━━━━━━━━━━━━━━━━━━━━━━━━━━━━━━━ 12.8/12.8 MB 89.6 MB/s eta 0:00:00\n",
      "Requirement already satisfied: spacy<3.8.0,>=3.7.2 in /home/uji657/Downloads/Sentiment Analysis/SentiCR-master/SentiCR/.venv/lib/python3.10/site-packages (from en-core-web-sm==3.7.1) (3.7.2)\n",
      "Requirement already satisfied: thinc<8.3.0,>=8.1.8 in /home/uji657/Downloads/Sentiment Analysis/SentiCR-master/SentiCR/.venv/lib/python3.10/site-packages (from spacy<3.8.0,>=3.7.2->en-core-web-sm==3.7.1) (8.2.1)\n",
      "Requirement already satisfied: langcodes<4.0.0,>=3.2.0 in /home/uji657/Downloads/Sentiment Analysis/SentiCR-master/SentiCR/.venv/lib/python3.10/site-packages (from spacy<3.8.0,>=3.7.2->en-core-web-sm==3.7.1) (3.3.0)\n",
      "Requirement already satisfied: jinja2 in /home/uji657/Downloads/Sentiment Analysis/SentiCR-master/SentiCR/.venv/lib/python3.10/site-packages (from spacy<3.8.0,>=3.7.2->en-core-web-sm==3.7.1) (3.1.2)\n",
      "Requirement already satisfied: weasel<0.4.0,>=0.1.0 in /home/uji657/Downloads/Sentiment Analysis/SentiCR-master/SentiCR/.venv/lib/python3.10/site-packages (from spacy<3.8.0,>=3.7.2->en-core-web-sm==3.7.1) (0.3.4)\n",
      "Requirement already satisfied: pydantic!=1.8,!=1.8.1,<3.0.0,>=1.7.4 in /home/uji657/Downloads/Sentiment Analysis/SentiCR-master/SentiCR/.venv/lib/python3.10/site-packages (from spacy<3.8.0,>=3.7.2->en-core-web-sm==3.7.1) (2.5.1)\n",
      "Requirement already satisfied: srsly<3.0.0,>=2.4.3 in /home/uji657/Downloads/Sentiment Analysis/SentiCR-master/SentiCR/.venv/lib/python3.10/site-packages (from spacy<3.8.0,>=3.7.2->en-core-web-sm==3.7.1) (2.4.8)\n",
      "Requirement already satisfied: requests<3.0.0,>=2.13.0 in /home/uji657/Downloads/Sentiment Analysis/SentiCR-master/SentiCR/.venv/lib/python3.10/site-packages (from spacy<3.8.0,>=3.7.2->en-core-web-sm==3.7.1) (2.31.0)\n",
      "Requirement already satisfied: preshed<3.1.0,>=3.0.2 in /home/uji657/Downloads/Sentiment Analysis/SentiCR-master/SentiCR/.venv/lib/python3.10/site-packages (from spacy<3.8.0,>=3.7.2->en-core-web-sm==3.7.1) (3.0.9)\n",
      "Requirement already satisfied: spacy-legacy<3.1.0,>=3.0.11 in /home/uji657/Downloads/Sentiment Analysis/SentiCR-master/SentiCR/.venv/lib/python3.10/site-packages (from spacy<3.8.0,>=3.7.2->en-core-web-sm==3.7.1) (3.0.12)\n",
      "Requirement already satisfied: tqdm<5.0.0,>=4.38.0 in /home/uji657/Downloads/Sentiment Analysis/SentiCR-master/SentiCR/.venv/lib/python3.10/site-packages (from spacy<3.8.0,>=3.7.2->en-core-web-sm==3.7.1) (4.66.1)\n",
      "Requirement already satisfied: typer<0.10.0,>=0.3.0 in /home/uji657/Downloads/Sentiment Analysis/SentiCR-master/SentiCR/.venv/lib/python3.10/site-packages (from spacy<3.8.0,>=3.7.2->en-core-web-sm==3.7.1) (0.9.0)\n",
      "Requirement already satisfied: catalogue<2.1.0,>=2.0.6 in /home/uji657/Downloads/Sentiment Analysis/SentiCR-master/SentiCR/.venv/lib/python3.10/site-packages (from spacy<3.8.0,>=3.7.2->en-core-web-sm==3.7.1) (2.0.10)\n",
      "Requirement already satisfied: smart-open<7.0.0,>=5.2.1 in /home/uji657/Downloads/Sentiment Analysis/SentiCR-master/SentiCR/.venv/lib/python3.10/site-packages (from spacy<3.8.0,>=3.7.2->en-core-web-sm==3.7.1) (6.4.0)\n",
      "Requirement already satisfied: numpy>=1.19.0 in /home/uji657/Downloads/Sentiment Analysis/SentiCR-master/SentiCR/.venv/lib/python3.10/site-packages (from spacy<3.8.0,>=3.7.2->en-core-web-sm==3.7.1) (1.26.2)\n",
      "Requirement already satisfied: murmurhash<1.1.0,>=0.28.0 in /home/uji657/Downloads/Sentiment Analysis/SentiCR-master/SentiCR/.venv/lib/python3.10/site-packages (from spacy<3.8.0,>=3.7.2->en-core-web-sm==3.7.1) (1.0.10)\n",
      "Requirement already satisfied: cymem<2.1.0,>=2.0.2 in /home/uji657/Downloads/Sentiment Analysis/SentiCR-master/SentiCR/.venv/lib/python3.10/site-packages (from spacy<3.8.0,>=3.7.2->en-core-web-sm==3.7.1) (2.0.8)\n",
      "Requirement already satisfied: spacy-loggers<2.0.0,>=1.0.0 in /home/uji657/Downloads/Sentiment Analysis/SentiCR-master/SentiCR/.venv/lib/python3.10/site-packages (from spacy<3.8.0,>=3.7.2->en-core-web-sm==3.7.1) (1.0.5)\n",
      "Requirement already satisfied: wasabi<1.2.0,>=0.9.1 in /home/uji657/Downloads/Sentiment Analysis/SentiCR-master/SentiCR/.venv/lib/python3.10/site-packages (from spacy<3.8.0,>=3.7.2->en-core-web-sm==3.7.1) (1.1.2)\n",
      "Requirement already satisfied: setuptools in /home/uji657/Downloads/Sentiment Analysis/SentiCR-master/SentiCR/.venv/lib/python3.10/site-packages (from spacy<3.8.0,>=3.7.2->en-core-web-sm==3.7.1) (59.6.0)\n",
      "Requirement already satisfied: packaging>=20.0 in /home/uji657/Downloads/Sentiment Analysis/SentiCR-master/SentiCR/.venv/lib/python3.10/site-packages (from spacy<3.8.0,>=3.7.2->en-core-web-sm==3.7.1) (23.2)\n",
      "Requirement already satisfied: typing-extensions>=4.6.1 in /home/uji657/Downloads/Sentiment Analysis/SentiCR-master/SentiCR/.venv/lib/python3.10/site-packages (from pydantic!=1.8,!=1.8.1,<3.0.0,>=1.7.4->spacy<3.8.0,>=3.7.2->en-core-web-sm==3.7.1) (4.8.0)\n",
      "Requirement already satisfied: annotated-types>=0.4.0 in /home/uji657/Downloads/Sentiment Analysis/SentiCR-master/SentiCR/.venv/lib/python3.10/site-packages (from pydantic!=1.8,!=1.8.1,<3.0.0,>=1.7.4->spacy<3.8.0,>=3.7.2->en-core-web-sm==3.7.1) (0.6.0)\n",
      "Requirement already satisfied: pydantic-core==2.14.3 in /home/uji657/Downloads/Sentiment Analysis/SentiCR-master/SentiCR/.venv/lib/python3.10/site-packages (from pydantic!=1.8,!=1.8.1,<3.0.0,>=1.7.4->spacy<3.8.0,>=3.7.2->en-core-web-sm==3.7.1) (2.14.3)\n",
      "Requirement already satisfied: idna<4,>=2.5 in /home/uji657/Downloads/Sentiment Analysis/SentiCR-master/SentiCR/.venv/lib/python3.10/site-packages (from requests<3.0.0,>=2.13.0->spacy<3.8.0,>=3.7.2->en-core-web-sm==3.7.1) (3.4)\n",
      "Requirement already satisfied: certifi>=2017.4.17 in /home/uji657/Downloads/Sentiment Analysis/SentiCR-master/SentiCR/.venv/lib/python3.10/site-packages (from requests<3.0.0,>=2.13.0->spacy<3.8.0,>=3.7.2->en-core-web-sm==3.7.1) (2023.7.22)\n",
      "Requirement already satisfied: charset-normalizer<4,>=2 in /home/uji657/Downloads/Sentiment Analysis/SentiCR-master/SentiCR/.venv/lib/python3.10/site-packages (from requests<3.0.0,>=2.13.0->spacy<3.8.0,>=3.7.2->en-core-web-sm==3.7.1) (3.3.2)\n",
      "Requirement already satisfied: urllib3<3,>=1.21.1 in /home/uji657/Downloads/Sentiment Analysis/SentiCR-master/SentiCR/.venv/lib/python3.10/site-packages (from requests<3.0.0,>=2.13.0->spacy<3.8.0,>=3.7.2->en-core-web-sm==3.7.1) (2.1.0)\n",
      "Requirement already satisfied: blis<0.8.0,>=0.7.8 in /home/uji657/Downloads/Sentiment Analysis/SentiCR-master/SentiCR/.venv/lib/python3.10/site-packages (from thinc<8.3.0,>=8.1.8->spacy<3.8.0,>=3.7.2->en-core-web-sm==3.7.1) (0.7.11)\n",
      "Requirement already satisfied: confection<1.0.0,>=0.0.1 in /home/uji657/Downloads/Sentiment Analysis/SentiCR-master/SentiCR/.venv/lib/python3.10/site-packages (from thinc<8.3.0,>=8.1.8->spacy<3.8.0,>=3.7.2->en-core-web-sm==3.7.1) (0.1.3)\n",
      "Requirement already satisfied: click<9.0.0,>=7.1.1 in /home/uji657/Downloads/Sentiment Analysis/SentiCR-master/SentiCR/.venv/lib/python3.10/site-packages (from typer<0.10.0,>=0.3.0->spacy<3.8.0,>=3.7.2->en-core-web-sm==3.7.1) (8.1.7)\n",
      "Requirement already satisfied: cloudpathlib<0.17.0,>=0.7.0 in /home/uji657/Downloads/Sentiment Analysis/SentiCR-master/SentiCR/.venv/lib/python3.10/site-packages (from weasel<0.4.0,>=0.1.0->spacy<3.8.0,>=3.7.2->en-core-web-sm==3.7.1) (0.16.0)\n",
      "Requirement already satisfied: MarkupSafe>=2.0 in /home/uji657/Downloads/Sentiment Analysis/SentiCR-master/SentiCR/.venv/lib/python3.10/site-packages (from jinja2->spacy<3.8.0,>=3.7.2->en-core-web-sm==3.7.1) (2.1.3)\n",
      "\u001b[38;5;2m✔ Download and installation successful\u001b[0m\n",
      "You can now load the package via spacy.load('en_core_web_sm')\n"
     ]
    }
   ],
   "source": [
    "## Importing PD and Others\n",
    "import re\n",
    "import numpy as np\n",
    "import pandas as pd\n",
    "from pprint import pprint\n",
    "\n",
    "## Gensim\n",
    "import gensim\n",
    "import gensim.corpora as corpora\n",
    "from gensim.models import CoherenceModel\n",
    "from gensim.utils import simple_preprocess\n",
    "from gensim.parsing.preprocessing import STOPWORDS\n",
    "\n",
    "## NLTK\n",
    "from nltk.stem import WordNetLemmatizer, SnowballStemmer\n",
    "from nltk.stem.porter import *\n",
    "import nltk.stem\n",
    "import numpy as np\n",
    "np.random.seed(2018)\n",
    "import nltk\n",
    "nltk.download('averaged_perceptron_tagger')\n",
    "nltk.download('wordnet')\n",
    "nltk.download('stopwords')\n",
    "\n",
    "from nltk.corpus import stopwords\n",
    "stop_words = stopwords.words('english')\n",
    "stop_words.extend(['#', '`', '\"', '@'])\n",
    "\n",
    "import warnings\n",
    "warnings.filterwarnings(action='ignore', category=UserWarning)\n",
    "\n",
    "import matplotlib.pyplot as plt\n",
    "%matplotlib inline\n",
    "\n",
    "\n",
    "import spacy\n",
    "spacy.cli.download('en_core_web_sm')\n",
    "\n",
    "\n",
    "\n",
    "## Visualization\n",
    "import pyLDAvis\n",
    "import pyLDAvis.gensim\n",
    "\n",
    "import warnings\n",
    "warnings.filterwarnings(\"ignore\", category=DeprecationWarning)"
   ]
  },
  {
   "cell_type": "code",
   "execution_count": 4,
   "metadata": {},
   "outputs": [
    {
     "name": "stdout",
     "output_type": "stream",
     "text": [
      "45\n"
     ]
    }
   ],
   "source": [
    "def FindingPostsWithNegativeSentiments():\n",
    "    df = pd.read_csv('../dataset/SO_Workflow_Data.csv')\n",
    "    my_value = -1\n",
    "    data = df.loc[df[\"RatingsGPTFineTuned\"] == my_value]\n",
    "\n",
    "    df = data[data['Body'].str.contains('swarm', case=False)] \n",
    "    print(len(df))\n",
    "    df.to_csv('../dataset/swarm_posts.csv', index=False)\n",
    "\n",
    "FindingPostsWithNegativeSentiments()"
   ]
  },
  {
   "cell_type": "markdown",
   "id": "c3c80025",
   "metadata": {},
   "source": [
    "# Import data and Preprocess"
   ]
  },
  {
   "cell_type": "code",
   "execution_count": 2,
   "id": "093e46bc",
   "metadata": {},
   "outputs": [
    {
     "name": "stdout",
     "output_type": "stream",
     "text": [
      "45\n"
     ]
    }
   ],
   "source": [
    "df = pd.read_csv('../dataset/swarm_posts.csv')\n",
    "# my_value = -1\n",
    "# new_df = df.loc[df[\"RatingsGPTFineTuned\"] == my_value]\n",
    "df[\"merged\"] = df[[\"Title\",\"Body\"]].apply(\"-\".join, axis=1)\n",
    "#new_df.head()\n",
    "# new_df.to_csv('Dataset/ConcatenatedDatasetSO.csv')\n",
    "\n",
    "data = df.merged.values.tolist()\n",
    "print(len(df))\n",
    "#data"
   ]
  },
  {
   "cell_type": "code",
   "execution_count": 3,
   "id": "ed84875d",
   "metadata": {},
   "outputs": [
    {
     "name": "stdout",
     "output_type": "stream",
     "text": [
      "['testswarm cleanup action doesnt seem to work correctly-I have around 5 qunit '\n",
      " 'tests which have timed out according to testswarm. I tried to reset those '\n",
      " 'tests using cleanp action. api.php?action=cleanup It didnt work. The '\n",
      " 'response from the action is {\"cleanup\":{\"resetTimedoutRuns\":0}} What can be '\n",
      " 'the issue here ? ',\n",
      " 'docker swarm creation fails with \"remaining connection slots are '\n",
      " 'reserved...\"-Following the beginners docs for OSX: # Terminal started via '\n",
      " 'Docker Quickstart Terminal app. $ docker-machine create -d virtualbox local '\n",
      " '$ eval \"$(docker-machine env local)\" $ docker run swarm create Results in '\n",
      " 'pq: remaining connection slots are reserved for non-replication superuser '\n",
      " 'connections. $ docker --version # Docker version 1.9.1, build a34a1d5 $ '\n",
      " 'docker run swarm --version # swarm version 1.0.0 (087e245) # Virtualbox '\n",
      " 'version 5.0.10 r104061 # OSX 10.11.1 (15B42) Any ideas what Im doing wrong '\n",
      " 'or how the docs need to be updated? ']\n"
     ]
    }
   ],
   "source": [
    "# Remove Emails\n",
    "data = [re.sub('<[^<>]*>', '', sent) for sent in data]\n",
    "# Remove new line characters\n",
    "data = [re.sub('\\s+', ' ', sent) for sent in data]\n",
    "# Remove distracting single quotes\n",
    "data = [re.sub(\"\\'\", \"\", sent) for sent in data]\n",
    "\n",
    "pprint(data[:2])"
   ]
  },
  {
   "cell_type": "markdown",
   "id": "2d98f4b6",
   "metadata": {},
   "source": [
    "# Tokenize words and Clean-up text"
   ]
  },
  {
   "cell_type": "code",
   "execution_count": 4,
   "id": "b7b3a9c8",
   "metadata": {},
   "outputs": [
    {
     "name": "stdout",
     "output_type": "stream",
     "text": [
      "[['testswarm', 'cleanup', 'action', 'doesnt', 'seem', 'to', 'work', 'correctly', 'have', 'around', 'qunit', 'tests', 'which', 'have', 'timed', 'out', 'according', 'to', 'testswarm', 'tried', 'to', 'reset', 'those', 'tests', 'using', 'cleanp', 'action', 'api', 'php', 'action', 'cleanup', 'it', 'didnt', 'work', 'the', 'response', 'from', 'the', 'action', 'is', 'cleanup', 'what', 'can', 'be', 'the', 'issue', 'here']]\n"
     ]
    }
   ],
   "source": [
    "def sent_to_words(sentences):\n",
    "    for sentence in sentences:\n",
    "        yield(gensim.utils.simple_preprocess(str(sentence), deacc=True))  # deacc=True removes punctuations\n",
    "\n",
    "data_words = list(sent_to_words(data))\n",
    "\n",
    "print(data_words[:1])"
   ]
  },
  {
   "cell_type": "code",
   "execution_count": 5,
   "id": "38592eb3",
   "metadata": {},
   "outputs": [],
   "source": [
    "# Build the bigram and trigram models\n",
    "bigram = gensim.models.Phrases(data_words, min_count=5, threshold=50) # higher threshold fewer phrases.\n",
    "trigram = gensim.models.Phrases(bigram[data_words], threshold=50)  \n",
    "\n",
    "# Faster way to get a sentence clubbed as a trigram/bigram\n",
    "bigram_mod = gensim.models.phrases.Phraser(bigram)\n",
    "trigram_mod = gensim.models.phrases.Phraser(trigram)\n",
    "\n",
    "# See trigram example\n",
    "#print(trigram_mod[bigram_mod[data_words[0]]])"
   ]
  },
  {
   "cell_type": "markdown",
   "id": "3d485455",
   "metadata": {},
   "source": [
    "# Remove Stopwords, Make Bigrams and Lemmatize"
   ]
  },
  {
   "cell_type": "code",
   "execution_count": 6,
   "id": "c49abe86",
   "metadata": {},
   "outputs": [],
   "source": [
    "# Define functions for stopwords, bigrams, trigrams and lemmatization\n",
    "def remove_stopwords(texts):\n",
    "    return [[word for word in simple_preprocess(str(doc)) if word not in stop_words] for doc in texts]\n",
    "\n",
    "def make_bigrams(texts):\n",
    "    return [bigram_mod[doc] for doc in texts]\n",
    "\n",
    "def make_trigrams(texts):\n",
    "    return [trigram_mod[bigram_mod[doc]] for doc in texts]\n",
    "\n",
    "def lemmatization(texts, allowed_postags=['NOUN', 'ADJ', 'VERB', 'ADV']):\n",
    "    \"\"\"https://spacy.io/api/annotation\"\"\"\n",
    "    texts_out = []\n",
    "    for sent in texts:\n",
    "        doc = nlp(\" \".join(sent)) \n",
    "        texts_out.append([token.lemma_ for token in doc if token.pos_ in allowed_postags])\n",
    "    return texts_out"
   ]
  },
  {
   "cell_type": "code",
   "execution_count": 7,
   "id": "a1408ee7",
   "metadata": {},
   "outputs": [
    {
     "name": "stdout",
     "output_type": "stream",
     "text": [
      "[['action', 'seem', 'work', 'correctly', 'qunit', 'test', 'time', 'accord', 'testswarm', 'try', 'reset', 'test', 'use', 'cleanp', 'action', 'api', 'php', 'action', 'cleanup', 'work', 'response', 'action', 'cleanup', 'issue']]\n"
     ]
    }
   ],
   "source": [
    "# Remove Stop Words\n",
    "data_words_nostops = remove_stopwords(data_words)\n",
    "\n",
    "# Form Bigrams\n",
    "data_words_bigrams = make_bigrams(data_words_nostops)\n",
    "\n",
    "# Initialize spacy 'en' model, keeping only tagger component (for efficiency)\n",
    "# python3 -m spacy download en\n",
    "nlp = spacy.load(\"en_core_web_sm\", disable=[\"parser\", \"ner\"])\n",
    "\n",
    "# Do lemmatization keeping only noun, adj, vb, adv\n",
    "data_lemmatized = lemmatization(data_words_bigrams, allowed_postags=['NOUN', 'ADJ', 'VERB', 'ADV'])\n",
    "\n",
    "print(data_lemmatized[:1])"
   ]
  },
  {
   "cell_type": "markdown",
   "id": "98003715",
   "metadata": {},
   "source": [
    "# Create the Dictionary and Corpus needed for Topic Modeling"
   ]
  },
  {
   "cell_type": "code",
   "execution_count": 8,
   "id": "cfd3247d",
   "metadata": {},
   "outputs": [
    {
     "name": "stdout",
     "output_type": "stream",
     "text": [
      "[[(0, 1), (1, 4), (2, 1), (3, 1), (4, 2), (5, 1), (6, 1), (7, 1), (8, 1), (9, 1), (10, 1), (11, 1), (12, 2), (13, 1), (14, 1), (15, 1), (16, 1), (17, 2)]]\n"
     ]
    }
   ],
   "source": [
    "# Create Dictionary\n",
    "id2word = corpora.Dictionary(data_lemmatized)\n",
    "\n",
    "# Create Corpus\n",
    "texts = data_lemmatized\n",
    "\n",
    "# Term Document Frequency\n",
    "corpus = [id2word.doc2bow(text) for text in texts]\n",
    "\n",
    "# View\n",
    "print(corpus[:1])"
   ]
  },
  {
   "cell_type": "code",
   "execution_count": 9,
   "id": "be414a5b",
   "metadata": {},
   "outputs": [
    {
     "data": {
      "text/plain": [
       "[[('accord', 1),\n",
       "  ('action', 4),\n",
       "  ('api', 1),\n",
       "  ('cleanp', 1),\n",
       "  ('cleanup', 2),\n",
       "  ('correctly', 1),\n",
       "  ('issue', 1),\n",
       "  ('php', 1),\n",
       "  ('qunit', 1),\n",
       "  ('reset', 1),\n",
       "  ('response', 1),\n",
       "  ('seem', 1),\n",
       "  ('test', 2),\n",
       "  ('testswarm', 1),\n",
       "  ('time', 1),\n",
       "  ('try', 1),\n",
       "  ('use', 1),\n",
       "  ('work', 2)]]"
      ]
     },
     "execution_count": 9,
     "metadata": {},
     "output_type": "execute_result"
    }
   ],
   "source": [
    "# Human readable format of corpus (term-frequency)\n",
    "[[(id2word[id], freq) for id, freq in cp] for cp in corpus[:1]]"
   ]
  },
  {
   "cell_type": "code",
   "execution_count": 10,
   "id": "2a5fd366",
   "metadata": {},
   "outputs": [],
   "source": [
    "# supporting function\n",
    "def compute_coherence_values(corpus, dictionary, k, a, b):\n",
    "    \n",
    "    lda_model = gensim.models.LdaMulticore(corpus=corpus,\n",
    "                                           id2word=id2word,\n",
    "                                           num_topics=k, \n",
    "                                           random_state=100,\n",
    "                                           chunksize=100,\n",
    "                                           passes=10,\n",
    "                                           alpha=a,\n",
    "                                           eta=b)\n",
    "    \n",
    "    coherence_model_lda = CoherenceModel(model=lda_model, texts=data_lemmatized, dictionary=id2word, coherence='c_v')\n",
    "    \n",
    "    return coherence_model_lda.get_coherence()"
   ]
  },
  {
   "cell_type": "code",
   "execution_count": 11,
   "id": "fc885ff8",
   "metadata": {},
   "outputs": [
    {
     "name": "stderr",
     "output_type": "stream",
     "text": [
      "  0%|          | 0/540 [00:00<?, ?it/s]"
     ]
    },
    {
     "name": "stderr",
     "output_type": "stream",
     "text": [
      "100%|██████████| 540/540 [09:45<00:00,  1.08s/it]\n"
     ]
    }
   ],
   "source": [
    "import numpy as np\n",
    "import tqdm\n",
    "\n",
    "grid = {}\n",
    "grid['Validation_Set'] = {}\n",
    "\n",
    "# Topics range\n",
    "min_topics = 2\n",
    "max_topics = 11\n",
    "step_size = 1\n",
    "topics_range = range(min_topics, max_topics, step_size)\n",
    "\n",
    "# Alpha parameter\n",
    "alpha = list(np.arange(0.01, 1, 0.3))\n",
    "alpha.append('symmetric')\n",
    "alpha.append('asymmetric')\n",
    "\n",
    "# Beta parameter\n",
    "beta = list(np.arange(0.01, 1, 0.3))\n",
    "beta.append('symmetric')\n",
    "\n",
    "# Validation sets\n",
    "num_of_docs = len(corpus)\n",
    "corpus_sets = [gensim.utils.ClippedCorpus(corpus, int(num_of_docs*0.75)), \n",
    "               corpus]\n",
    "\n",
    "corpus_title = ['75% Corpus', '100% Corpus']\n",
    "\n",
    "model_results = {'Validation_Set': [],\n",
    "                 'Topics': [],\n",
    "                 'Alpha': [],\n",
    "                 'Beta': [],\n",
    "                 'Coherence': []\n",
    "                }\n",
    "\n",
    "# Can take a long time to run\n",
    "if 1 == 1:\n",
    "    pbar = tqdm.tqdm(total=(len(beta)*len(alpha)*len(topics_range)*len(corpus_title)))\n",
    "    \n",
    "    # iterate through validation corpuses\n",
    "    for i in range(len(corpus_sets)):\n",
    "        # iterate through number of topics\n",
    "        for k in topics_range:\n",
    "            # iterate through alpha values\n",
    "            for a in alpha:\n",
    "                # iterare through beta values\n",
    "                for b in beta:\n",
    "                    # get the coherence score for the given parameters\n",
    "                    cv = compute_coherence_values(corpus=corpus_sets[i], dictionary=id2word, \n",
    "                                                  k=k, a=a, b=b)\n",
    "                    # Save the model results\n",
    "                    model_results['Validation_Set'].append(corpus_title[i])\n",
    "                    model_results['Topics'].append(k)\n",
    "                    model_results['Alpha'].append(a)\n",
    "                    model_results['Beta'].append(b)\n",
    "                    model_results['Coherence'].append(cv)\n",
    "                    \n",
    "                    pbar.update(1)\n",
    "    pd.DataFrame(model_results).to_csv('../dataset/lda_tuning_results.csv', index=False)\n",
    "    pbar.close()"
   ]
  },
  {
   "cell_type": "code",
   "execution_count": 12,
   "id": "41468242",
   "metadata": {},
   "outputs": [
    {
     "data": {
      "text/html": [
       "<div>\n",
       "<style scoped>\n",
       "    .dataframe tbody tr th:only-of-type {\n",
       "        vertical-align: middle;\n",
       "    }\n",
       "\n",
       "    .dataframe tbody tr th {\n",
       "        vertical-align: top;\n",
       "    }\n",
       "\n",
       "    .dataframe thead th {\n",
       "        text-align: right;\n",
       "    }\n",
       "</style>\n",
       "<table border=\"1\" class=\"dataframe\">\n",
       "  <thead>\n",
       "    <tr style=\"text-align: right;\">\n",
       "      <th></th>\n",
       "      <th>Validation_Set</th>\n",
       "      <th>Topics</th>\n",
       "      <th>Alpha</th>\n",
       "      <th>Beta</th>\n",
       "      <th>Coherence</th>\n",
       "    </tr>\n",
       "  </thead>\n",
       "  <tbody>\n",
       "    <tr>\n",
       "      <th>297</th>\n",
       "      <td>100% Corpus</td>\n",
       "      <td>2</td>\n",
       "      <td>asymmetric</td>\n",
       "      <td>0.61</td>\n",
       "      <td>0.544267</td>\n",
       "    </tr>\n",
       "    <tr>\n",
       "      <th>299</th>\n",
       "      <td>100% Corpus</td>\n",
       "      <td>2</td>\n",
       "      <td>asymmetric</td>\n",
       "      <td>symmetric</td>\n",
       "      <td>0.544267</td>\n",
       "    </tr>\n",
       "    <tr>\n",
       "      <th>298</th>\n",
       "      <td>100% Corpus</td>\n",
       "      <td>2</td>\n",
       "      <td>asymmetric</td>\n",
       "      <td>0.9099999999999999</td>\n",
       "      <td>0.542629</td>\n",
       "    </tr>\n",
       "    <tr>\n",
       "      <th>411</th>\n",
       "      <td>100% Corpus</td>\n",
       "      <td>6</td>\n",
       "      <td>symmetric</td>\n",
       "      <td>0.31</td>\n",
       "      <td>0.537383</td>\n",
       "    </tr>\n",
       "    <tr>\n",
       "      <th>391</th>\n",
       "      <td>100% Corpus</td>\n",
       "      <td>6</td>\n",
       "      <td>0.01</td>\n",
       "      <td>0.31</td>\n",
       "      <td>0.537121</td>\n",
       "    </tr>\n",
       "    <tr>\n",
       "      <th>...</th>\n",
       "      <td>...</td>\n",
       "      <td>...</td>\n",
       "      <td>...</td>\n",
       "      <td>...</td>\n",
       "      <td>...</td>\n",
       "    </tr>\n",
       "    <tr>\n",
       "      <th>528</th>\n",
       "      <td>100% Corpus</td>\n",
       "      <td>10</td>\n",
       "      <td>0.9099999999999999</td>\n",
       "      <td>0.9099999999999999</td>\n",
       "      <td>0.434032</td>\n",
       "    </tr>\n",
       "    <tr>\n",
       "      <th>423</th>\n",
       "      <td>100% Corpus</td>\n",
       "      <td>7</td>\n",
       "      <td>0.01</td>\n",
       "      <td>0.9099999999999999</td>\n",
       "      <td>0.431641</td>\n",
       "    </tr>\n",
       "    <tr>\n",
       "      <th>453</th>\n",
       "      <td>100% Corpus</td>\n",
       "      <td>8</td>\n",
       "      <td>0.01</td>\n",
       "      <td>0.9099999999999999</td>\n",
       "      <td>0.425680</td>\n",
       "    </tr>\n",
       "    <tr>\n",
       "      <th>473</th>\n",
       "      <td>100% Corpus</td>\n",
       "      <td>8</td>\n",
       "      <td>symmetric</td>\n",
       "      <td>0.9099999999999999</td>\n",
       "      <td>0.422407</td>\n",
       "    </tr>\n",
       "    <tr>\n",
       "      <th>518</th>\n",
       "      <td>100% Corpus</td>\n",
       "      <td>10</td>\n",
       "      <td>0.31</td>\n",
       "      <td>0.9099999999999999</td>\n",
       "      <td>0.421497</td>\n",
       "    </tr>\n",
       "  </tbody>\n",
       "</table>\n",
       "<p>268 rows × 5 columns</p>\n",
       "</div>"
      ],
      "text/plain": [
       "    Validation_Set  Topics               Alpha                Beta  Coherence\n",
       "297    100% Corpus       2          asymmetric                0.61   0.544267\n",
       "299    100% Corpus       2          asymmetric           symmetric   0.544267\n",
       "298    100% Corpus       2          asymmetric  0.9099999999999999   0.542629\n",
       "411    100% Corpus       6           symmetric                0.31   0.537383\n",
       "391    100% Corpus       6                0.01                0.31   0.537121\n",
       "..             ...     ...                 ...                 ...        ...\n",
       "528    100% Corpus      10  0.9099999999999999  0.9099999999999999   0.434032\n",
       "423    100% Corpus       7                0.01  0.9099999999999999   0.431641\n",
       "453    100% Corpus       8                0.01  0.9099999999999999   0.425680\n",
       "473    100% Corpus       8           symmetric  0.9099999999999999   0.422407\n",
       "518    100% Corpus      10                0.31  0.9099999999999999   0.421497\n",
       "\n",
       "[268 rows x 5 columns]"
      ]
     },
     "execution_count": 12,
     "metadata": {},
     "output_type": "execute_result"
    }
   ],
   "source": [
    "results = pd.read_csv('../dataset/lda_tuning_results.csv')\n",
    "results = results.loc[272:]\n",
    "results.sort_values(by=['Coherence'], ascending=False)"
   ]
  },
  {
   "cell_type": "code",
   "execution_count": 10,
   "id": "1a9f15c6",
   "metadata": {},
   "outputs": [
    {
     "name": "stdout",
     "output_type": "stream",
     "text": [
      "\n",
      "Perplexity:  -6.4906048540209165\n",
      "\n",
      "Coherence Score:  0.4146616224670476\n"
     ]
    },
    {
     "data": {
      "text/html": [
       "\n",
       "<link rel=\"stylesheet\" type=\"text/css\" href=\"https://cdn.jsdelivr.net/gh/bmabey/pyLDAvis@3.4.0/pyLDAvis/js/ldavis.v1.0.0.css\">\n",
       "\n",
       "\n",
       "<div id=\"ldavis_el3802871398634704402567368229984\" style=\"background-color:white;\"></div>\n",
       "<script type=\"text/javascript\">\n",
       "\n",
       "var ldavis_el3802871398634704402567368229984_data = {\"mdsDat\": {\"x\": [-0.05950985110299206, -0.04565529091589115, 0.023399633036368054, 0.039160654949830724, 0.0426048540326844], \"y\": [-0.04348504271305936, 0.050274829057623045, 0.0025954042219421066, -0.013543554239853173, 0.00415836367334743], \"topics\": [1, 2, 3, 4, 5], \"cluster\": [1, 1, 1, 1, 1], \"Freq\": [36.4157988362649, 31.954943387696506, 12.613791463077911, 10.654491095957859, 8.360975217002824]}, \"tinfo\": {\"Term\": [\"lt_stre\", \"country\", \"server\", \"docker\", \"error\", \"operation\", \"cassandra\", \"wflyctl\", \"manager\", \"filebeat\", \"service\", \"boot\", \"lt_key\", \"cert\", \"space\", \"fail\", \"msg\", \"connection\", \"wildfly\", \"time_level\", \"org\", \"free\", \"host\", \"access\", \"datum\", \"pool\", \"unable\", \"join\", \"info\", \"undertow\", \"mongodb\", \"region\", \"nginx\", \"host\", \"connection_refuse\", \"overlay\", \"ingress\", \"consul\", \"mysql_clust\", \"taskmanager\", \"publish\", \"false\", \"local\", \"net\", \"dnsrr\", \"driver\", \"external\", \"port\", \"service\", \"hostname\", \"check\", \"load\", \"blkio\", \"location\", \"quot\", \"throttle\", \"udp\", \"cluster\", \"interval\", \"connect\", \"node\", \"network\", \"run\", \"ip\", \"command\", \"mode\", \"container\", \"swarm\", \"docker\", \"create\", \"try\", \"deploy\", \"manager\", \"file\", \"work\", \"use\", \"m\", \"follow\", \"get\", \"name\", \"error\", \"version\", \"country\", \"function_return\", \"zoo\", \"builder\", \"apt\", \"amount\", \"zookeeper\", \"clickhouse\", \"else\", \"attr\", \"append\", \"wordpress\", \"website\", \"swarmplot\", \"able\", \"composer\", \"return\", \"bahrain\", \"class\", \"hub\", \"full\", \"datalog\", \"webnet\", \"hue\", \"force\", \"point\", \"year\", \"compose\", \"late\", \"image\", \"docker\", \"get\", \"error\", \"swarm\", \"memory\", \"server\", \"datum\", \"address\", \"container\", \"build\", \"try\", \"use\", \"run\", \"create\", \"work\", \"fail\", \"m\", \"deploy\", \"follow\", \"network\", \"version\", \"name\", \"service\", \"cassandra\", \"filebeat\", \"storageservice\", \"free\", \"block\", \"seed\", \"slave\", \"facetgrid\", \"thin\", \"space\", \"gossiper\", \"cassandradaemon\", \"initserver\", \"object\", \"outlier\", \"completely\", \"opt\", \"encounter\", \"jar\", \"pool\", \"spin\", \"column\", \"callable\", \"a_viz\", \"fig\", \"sklearn\", \"fake\", \"annotate\", \"annotation\", \"device\", \"storage\", \"categorical\", \"value\", \"aw\", \"true\", \"total\", \"answer\", \"master\", \"datum\", \"label\", \"different\", \"server\", \"use\", \"docker\", \"log\", \"error\", \"run\", \"service\", \"name\", \"swarm\", \"work\", \"node\", \"add\", \"issue\", \"false\", \"lt_stre\", \"lt_key\", \"time_level\", \"certificate\", \"shap\", \"action\", \"module\", \"onta_yp\", \"zy\", \"plist\", \"msg\", \"myuser\", \"call\", \"valid\", \"desc\", \"username\", \"transport\", \"match\", \"session\", \"face\", \"agent\", \"sign\", \"signer\", \"chain\", \"iosbuildagent\", \"here\", \"internal\", \"cleanup\", \"raft\", \"similar\", \"wildfly\", \"worker\", \"join\", \"unable\", \"manager\", \"error\", \"connection\", \"info\", \"postgre\", \"swarm\", \"plot\", \"stop\", \"seem\", \"problem\", \"log\", \"build\", \"use\", \"work\", \"service\", \"operation\", \"wflyctl\", \"boot\", \"org\", \"undertow\", \"listener\", \"illegal\", \"warn\", \"cert\", \"description\", \"subsystem\", \"undertowrealm\", \"thread\", \"realm\", \"jboss\", \"fraction\", \"logstash\", \"reflective\", \"wildfly\", \"miss\", \"dependency\", \"tlsv\", \"pass\", \"controller_management\", \"dir\", \"security_realm\", \"archive\", \"deprecate\", \"future\", \"print\", \"server\", \"warning\", \"failure\", \"access\", \"fail\", \"message\", \"path\", \"start\", \"https\", \"service\", \"error\", \"swarm\", \"address\", \"file\", \"use\", \"deploy\", \"add\"], \"Freq\": [13.0, 32.0, 26.0, 111.0, 41.0, 6.0, 7.0, 5.0, 20.0, 6.0, 47.0, 5.0, 5.0, 4.0, 6.0, 16.0, 5.0, 9.0, 4.0, 4.0, 3.0, 5.0, 20.0, 6.0, 17.0, 6.0, 5.0, 7.0, 9.0, 3.0, 7.360406956360913, 6.744573830933287, 6.1214978150164105, 16.540381922802627, 5.510818085820926, 7.418416282073167, 4.885384458364046, 4.869180326959845, 4.263070176888227, 4.261621185029137, 4.222831068869909, 10.516342671311476, 9.306099322368333, 3.6343148742043994, 3.6334414242288036, 7.414491342959712, 4.87785276252995, 15.449464005106334, 33.003367323276926, 5.552396538969989, 3.6546557904764403, 3.0331799961515187, 3.033048213196887, 3.033710644940577, 3.0308227983727547, 3.029763776481453, 3.025466452252869, 7.3872881965383295, 3.022045267447935, 8.609677920414489, 16.905201827436763, 18.7974693422604, 27.587914582872997, 8.66504331180933, 8.384358445042393, 9.435890430395252, 20.05923258564282, 44.95772394048366, 52.865588322477244, 16.221299185531063, 14.340199914071372, 12.974356686055463, 10.632151132026555, 9.108447233527812, 12.676975725771117, 11.09695892264015, 8.457254072612532, 8.432560801867115, 9.184363318142884, 8.14499922330747, 9.289026706123403, 7.4155034029503835, 30.696125363538464, 8.066256961381542, 6.326556807723308, 5.747143884000771, 5.744225112859872, 4.588401181050194, 4.584558743559942, 4.581359314365565, 4.0077959144458655, 4.0054101394531, 3.989257959860468, 3.4265113319061453, 3.4123281156046064, 4.003758504931399, 4.583535231201913, 3.522736742769455, 5.860966518509551, 2.848057837557887, 2.847084611280591, 2.8439087820519005, 2.8448404360819475, 2.843512665704753, 2.8405450607887017, 2.8373587023445506, 4.010671842572132, 3.4329221718159415, 3.4323299942153938, 7.762552270642082, 4.597633487626979, 12.204311978746253, 51.935458372065035, 13.414047672171494, 19.18521087509578, 35.300201278721616, 5.320530571963003, 12.419469598227794, 8.709323349478874, 6.35266417899554, 13.729481182781036, 5.762443197141111, 10.562155929418642, 10.13051546161313, 13.98471372245761, 10.385927361028925, 9.454600099737759, 7.0042831946578685, 6.910767059855435, 7.919094836884823, 6.867843442263776, 7.97299498005574, 6.568839138536392, 6.7104469203395585, 6.65484467502801, 5.711814335875502, 4.639939605841728, 2.4785595409763395, 2.9037710438719055, 2.1349272783274813, 2.12250247162153, 2.1179815979323915, 1.7761454166008135, 1.7754923091508577, 3.601159952860598, 1.7638153441552136, 1.7630832676016972, 1.7629683252767323, 1.4152153372820042, 1.4150241489260154, 1.414199057947434, 1.4129454413433604, 1.4005781057998916, 2.126283672817972, 2.873411651481267, 1.7647086552668165, 1.4229566025446578, 1.0536036299114089, 1.0535694481850943, 1.0535129802598624, 1.0534782969149228, 1.0534423953533223, 1.0534064221319182, 1.0529161257557278, 1.0523352513877948, 1.414469645365805, 1.5734443398861875, 1.7925274209808328, 1.3763583820615808, 2.218679817097588, 1.4285301587485928, 1.4246226929782186, 2.127994049010154, 3.4110502202354755, 1.9542957012845243, 2.1735874557272354, 2.9820553663493605, 2.9083019499335476, 4.702168406004338, 2.0331176156085413, 2.8369061410559775, 2.7586003206374445, 2.7337982893351285, 2.1831249456267767, 2.6130317421734293, 2.146216850424896, 2.074327592139778, 1.8464647519087942, 1.7962395421266097, 1.7849045377137165, 11.890979941030167, 3.51447584731159, 2.556761430159706, 1.908733371104064, 1.905468079846278, 1.895771836618472, 1.9138934585938914, 1.5872902454594444, 1.5870394137578863, 1.5819593454547043, 2.559291779689615, 1.2603607816320923, 1.259384450708797, 1.2867719555360382, 1.2864572053313799, 1.2659225388061721, 1.2655143320022846, 1.2650171477366958, 0.9403484983120715, 0.9404045480600548, 1.589025729664821, 0.9388911443356189, 0.938790969030098, 0.9381835011351078, 0.9382629150328985, 0.9377282633871783, 1.2686272115263533, 0.9331705593659578, 1.2645606388821706, 1.2398753856196905, 1.5420003542801053, 1.867717424530669, 2.238322353103006, 1.598965662185695, 4.5543289305643055, 7.212926094632348, 2.4607844081377674, 2.260648795697116, 1.6463940388901437, 5.189899660750664, 1.5776909695062273, 1.5950636070523316, 1.4989371997409513, 1.6373419440619477, 1.6013950495345715, 1.5956628430188922, 1.876434189333133, 1.7209828160433958, 1.8043876253713504, 4.095792208802914, 3.267187644918514, 2.731066464221939, 1.8955475271159983, 1.6219639120596168, 1.6206364025603064, 1.6088919239299402, 1.6080753165407837, 2.313593891238449, 1.347493200702637, 1.3471158665297975, 1.3457248980104828, 1.0736055903408461, 1.072702154292582, 1.0725580415181113, 1.0717527389543748, 1.062304469863713, 1.0617582282993052, 1.6328672736793282, 1.353005110582377, 1.0743467688948478, 0.798947066884243, 0.7982518676201845, 0.7981208646432596, 0.798141004332243, 0.7979900516634005, 0.7978252292087489, 0.7892945509477591, 0.7883883124427734, 0.7881387037974722, 6.036994890867715, 1.3232618299069745, 1.3594342312976573, 1.5941416917173368, 2.4539167942360374, 1.0898162350003435, 1.0774566408691875, 1.3706358883108016, 1.6313294374280876, 2.9955431399165136, 2.647102770870754, 2.8459138006379434, 1.3606619923373802, 1.306604597144124, 1.238629536880955, 1.190355082381918, 1.116118193819977], \"Total\": [13.0, 32.0, 26.0, 111.0, 41.0, 6.0, 7.0, 5.0, 20.0, 6.0, 47.0, 5.0, 5.0, 4.0, 6.0, 16.0, 5.0, 9.0, 4.0, 4.0, 3.0, 5.0, 20.0, 6.0, 17.0, 6.0, 5.0, 7.0, 9.0, 3.0, 8.790912147463557, 8.172039841817655, 7.551499645046555, 20.51538999227141, 6.93083411895017, 9.372661659865505, 6.308687896240188, 6.306919000503982, 5.684992262680106, 5.687900658336043, 5.683565575742137, 14.5092547677636, 12.873702860914474, 5.0629009127803934, 5.067371010386886, 10.468753146888492, 6.888765353350243, 22.07541115905063, 47.19194105292792, 8.09222545741093, 5.347658582752581, 4.44951004590858, 4.449416433614828, 4.450520117370142, 4.448331113828933, 4.4487095076589815, 4.446157580747463, 10.862322696649231, 4.447087914179273, 12.680320352589957, 24.951826327516105, 28.930186779779646, 45.746652434750565, 13.519493526754072, 13.160570152469234, 15.142178259612177, 36.05416459947906, 90.90677042276732, 111.08949458165606, 29.152793913609226, 27.860243870177023, 24.739580968814877, 20.51766587079309, 16.695923804510784, 27.014240935174573, 27.250840060400915, 17.801463107460425, 18.73520039702396, 24.435889734741522, 18.58222739602083, 41.171172587778265, 16.801646423565625, 32.21210676247433, 9.529398481527334, 7.7914288632822775, 7.2053981656404735, 7.204710653736999, 6.0421114347627825, 6.044834944963626, 6.040775634920236, 5.459871866424151, 5.458778320985685, 5.453577617415221, 4.879360301670317, 4.874919277817025, 5.824003981867497, 6.732559459736956, 5.210946833243154, 8.787338940604222, 4.296805726456629, 4.296616343837194, 4.296424860381743, 4.298582173501631, 4.298808539220729, 4.2956353377769245, 4.294478846988576, 6.078109118526642, 5.244011230914727, 5.243725199112168, 12.27868997797248, 7.278884456246935, 19.457704968143357, 111.08949458165606, 24.435889734741522, 41.171172587778265, 90.90677042276732, 9.225356592792332, 26.353007877674333, 17.241757276442627, 11.724309979927378, 36.05416459947906, 10.97803686014695, 27.860243870177023, 27.250840060400915, 45.746652434750565, 29.152793913609226, 27.014240935174573, 16.6044000072061, 17.801463107460425, 24.739580968814877, 18.73520039702396, 28.930186779779646, 16.801646423565625, 18.58222739602083, 47.19194105292792, 7.435746817762464, 6.370012025550342, 4.158050937033844, 5.0774296336055365, 3.7959182789233443, 3.7946510907658957, 3.7942107464923196, 3.4278517418868204, 3.430250065695671, 6.987776346531885, 3.4301360726808316, 3.4296806574443695, 3.429939612715611, 3.063636112663743, 3.063866498387145, 3.064998328478236, 3.0665100489317667, 3.071301641844168, 4.734288938659208, 6.577891671996843, 4.047997320631793, 3.6393624734103156, 2.6996886288256645, 2.6997287013103133, 2.6997237269952272, 2.6996975543626207, 2.6998449569481644, 2.6998372507857393, 2.6997460290147615, 2.701195545893639, 3.684464765545087, 4.188614760113488, 4.9864463121700515, 3.711890631436897, 7.44884227910563, 4.219537182720574, 4.25778920503917, 7.831952722675832, 17.241757276442627, 7.269290053609856, 8.80353957949521, 26.353007877674333, 27.250840060400915, 111.08949458165606, 10.691057977093235, 41.171172587778265, 45.746652434750565, 47.19194105292792, 18.58222739602083, 90.90677042276732, 27.014240935174573, 24.951826327516105, 10.905798071239861, 8.679289953008256, 14.5092547677636, 13.692550457305593, 5.2292923592472444, 4.246541436154561, 3.5974915624200463, 3.5995304415024307, 3.6047001917877037, 3.8825108480590758, 3.2718755215014332, 3.271800250968046, 3.274900389827516, 5.483494200036701, 2.948917224932766, 2.9490917907036787, 3.5084278369839454, 3.5085273603341327, 3.5247764991432464, 3.527040405426889, 3.5271299304128747, 2.6219499483804842, 2.6222073449617334, 4.432249522971153, 2.622780258705511, 2.6228824468415515, 2.6229908954081784, 2.623313548908979, 2.6232905680265235, 3.560582641138875, 2.6249567449857634, 3.5654618331027854, 3.584584632170154, 4.683842830339323, 6.036333422842872, 7.598815976420528, 5.199660429046447, 20.51766587079309, 41.171172587778265, 9.872142245330304, 9.29691597388838, 6.30857864694311, 90.90677042276732, 6.54906346621909, 7.198697648977922, 7.529790749963185, 11.271541073796765, 10.691057977093235, 10.97803686014695, 27.250840060400915, 27.014240935174573, 47.19194105292792, 6.167452134564223, 5.01366422052442, 5.066574271761672, 3.630773166060547, 3.353977344919692, 3.355352133637672, 3.3671817215134983, 3.368869064016288, 4.961680001899779, 3.0780052964738625, 3.0779921060012834, 3.0789632038296553, 2.8006817611617167, 2.8016535287034463, 2.8017824013546355, 2.8024235766759076, 2.8125589053827422, 2.8130381872574697, 4.683842830339323, 4.014051313472001, 3.381161456287006, 2.5247125632013008, 2.525569392268182, 2.525213243659313, 2.5254770265713407, 2.5255925032699684, 2.5258047032608495, 2.534916411065953, 2.5358889384221204, 2.53590358321626, 26.353007877674333, 4.631570239018098, 4.843689148751851, 6.4836711657300405, 16.6044000072061, 4.344537440623449, 4.397024209608103, 7.94883361480205, 12.199678514023722, 47.19194105292792, 41.171172587778265, 90.90677042276732, 11.724309979927378, 16.695923804510784, 27.250840060400915, 24.739580968814877, 10.905798071239861], \"Category\": [\"Default\", \"Default\", \"Default\", \"Default\", \"Default\", \"Default\", \"Default\", \"Default\", \"Default\", \"Default\", \"Default\", \"Default\", \"Default\", \"Default\", \"Default\", \"Default\", \"Default\", \"Default\", \"Default\", \"Default\", \"Default\", \"Default\", \"Default\", \"Default\", \"Default\", \"Default\", \"Default\", \"Default\", \"Default\", \"Default\", \"Topic1\", \"Topic1\", \"Topic1\", \"Topic1\", \"Topic1\", \"Topic1\", \"Topic1\", \"Topic1\", \"Topic1\", \"Topic1\", \"Topic1\", \"Topic1\", \"Topic1\", \"Topic1\", \"Topic1\", \"Topic1\", \"Topic1\", \"Topic1\", \"Topic1\", \"Topic1\", \"Topic1\", \"Topic1\", \"Topic1\", \"Topic1\", \"Topic1\", \"Topic1\", \"Topic1\", \"Topic1\", \"Topic1\", \"Topic1\", \"Topic1\", \"Topic1\", \"Topic1\", \"Topic1\", \"Topic1\", \"Topic1\", \"Topic1\", \"Topic1\", \"Topic1\", \"Topic1\", \"Topic1\", \"Topic1\", \"Topic1\", \"Topic1\", \"Topic1\", \"Topic1\", \"Topic1\", \"Topic1\", \"Topic1\", \"Topic1\", \"Topic1\", \"Topic1\", \"Topic2\", \"Topic2\", \"Topic2\", \"Topic2\", \"Topic2\", \"Topic2\", \"Topic2\", \"Topic2\", \"Topic2\", \"Topic2\", \"Topic2\", \"Topic2\", \"Topic2\", \"Topic2\", \"Topic2\", \"Topic2\", \"Topic2\", \"Topic2\", \"Topic2\", \"Topic2\", \"Topic2\", \"Topic2\", \"Topic2\", \"Topic2\", \"Topic2\", \"Topic2\", \"Topic2\", \"Topic2\", \"Topic2\", \"Topic2\", \"Topic2\", \"Topic2\", \"Topic2\", \"Topic2\", \"Topic2\", \"Topic2\", \"Topic2\", \"Topic2\", \"Topic2\", \"Topic2\", \"Topic2\", \"Topic2\", \"Topic2\", \"Topic2\", \"Topic2\", \"Topic2\", \"Topic2\", \"Topic2\", \"Topic2\", \"Topic2\", \"Topic2\", \"Topic2\", \"Topic2\", \"Topic3\", \"Topic3\", \"Topic3\", \"Topic3\", \"Topic3\", \"Topic3\", \"Topic3\", \"Topic3\", \"Topic3\", \"Topic3\", \"Topic3\", \"Topic3\", \"Topic3\", \"Topic3\", \"Topic3\", \"Topic3\", \"Topic3\", \"Topic3\", \"Topic3\", \"Topic3\", \"Topic3\", \"Topic3\", \"Topic3\", \"Topic3\", \"Topic3\", \"Topic3\", \"Topic3\", \"Topic3\", \"Topic3\", \"Topic3\", \"Topic3\", \"Topic3\", \"Topic3\", \"Topic3\", \"Topic3\", \"Topic3\", \"Topic3\", \"Topic3\", \"Topic3\", \"Topic3\", \"Topic3\", \"Topic3\", \"Topic3\", \"Topic3\", \"Topic3\", \"Topic3\", \"Topic3\", \"Topic3\", \"Topic3\", \"Topic3\", \"Topic3\", \"Topic3\", \"Topic3\", \"Topic3\", \"Topic3\", \"Topic4\", \"Topic4\", \"Topic4\", \"Topic4\", \"Topic4\", \"Topic4\", \"Topic4\", \"Topic4\", \"Topic4\", \"Topic4\", \"Topic4\", \"Topic4\", \"Topic4\", \"Topic4\", \"Topic4\", \"Topic4\", \"Topic4\", \"Topic4\", \"Topic4\", \"Topic4\", \"Topic4\", \"Topic4\", \"Topic4\", \"Topic4\", \"Topic4\", \"Topic4\", \"Topic4\", \"Topic4\", \"Topic4\", \"Topic4\", \"Topic4\", \"Topic4\", \"Topic4\", \"Topic4\", \"Topic4\", \"Topic4\", \"Topic4\", \"Topic4\", \"Topic4\", \"Topic4\", \"Topic4\", \"Topic4\", \"Topic4\", \"Topic4\", \"Topic4\", \"Topic4\", \"Topic4\", \"Topic4\", \"Topic4\", \"Topic5\", \"Topic5\", \"Topic5\", \"Topic5\", \"Topic5\", \"Topic5\", \"Topic5\", \"Topic5\", \"Topic5\", \"Topic5\", \"Topic5\", \"Topic5\", \"Topic5\", \"Topic5\", \"Topic5\", \"Topic5\", \"Topic5\", \"Topic5\", \"Topic5\", \"Topic5\", \"Topic5\", \"Topic5\", \"Topic5\", \"Topic5\", \"Topic5\", \"Topic5\", \"Topic5\", \"Topic5\", \"Topic5\", \"Topic5\", \"Topic5\", \"Topic5\", \"Topic5\", \"Topic5\", \"Topic5\", \"Topic5\", \"Topic5\", \"Topic5\", \"Topic5\", \"Topic5\", \"Topic5\", \"Topic5\", \"Topic5\", \"Topic5\", \"Topic5\", \"Topic5\", \"Topic5\"], \"logprob\": [30.0, 29.0, 28.0, 27.0, 26.0, 25.0, 24.0, 23.0, 22.0, 21.0, 20.0, 19.0, 18.0, 17.0, 16.0, 15.0, 14.0, 13.0, 12.0, 11.0, 10.0, 9.0, 8.0, 7.0, 6.0, 5.0, 4.0, 3.0, 2.0, 1.0, -5.4866, -5.574, -5.6709, -4.6769, -5.776, -5.4788, -5.8965, -5.8998, -6.0327, -6.0331, -6.0422, -5.1298, -5.2521, -6.1923, -6.1926, -5.4793, -5.898, -4.7452, -3.9861, -5.7685, -6.1867, -6.3731, -6.3732, -6.3729, -6.3739, -6.3742, -6.3757, -5.483, -6.3768, -5.3298, -4.6551, -4.549, -4.1654, -5.3234, -5.3564, -5.2382, -4.484, -3.677, -3.515, -4.6964, -4.8197, -4.9198, -5.1189, -5.2735, -4.9429, -5.0761, -5.3477, -5.3506, -5.2652, -5.3853, -5.2539, -5.4792, -3.9279, -5.2644, -5.5073, -5.6034, -5.6039, -5.8285, -5.8294, -5.8301, -5.9638, -5.9644, -5.9685, -6.1205, -6.1247, -5.9648, -5.8296, -6.0928, -5.5837, -6.3054, -6.3058, -6.3069, -6.3066, -6.307, -6.3081, -6.3092, -5.9631, -6.1186, -6.1188, -5.3027, -5.8265, -4.8503, -3.4021, -4.7558, -4.3979, -3.7882, -5.6805, -4.8328, -5.1877, -5.5032, -4.7325, -5.6007, -4.9948, -5.0365, -4.7141, -5.0116, -5.1056, -5.4055, -5.419, -5.2828, -5.4252, -5.276, -5.4697, -5.4484, -5.4567, -4.68, -4.8878, -5.5148, -5.3565, -5.6641, -5.6699, -5.6721, -5.8481, -5.8484, -5.1413, -5.855, -5.8555, -5.8555, -6.0752, -6.0754, -6.076, -6.0768, -6.0856, -5.6681, -5.367, -5.8545, -6.0698, -6.3703, -6.3703, -6.3704, -6.3704, -6.3705, -6.3705, -6.371, -6.3715, -6.0758, -5.9693, -5.8389, -6.1031, -5.6256, -6.0659, -6.0686, -5.6673, -5.1955, -5.7525, -5.6461, -5.3299, -5.355, -4.8745, -5.713, -5.3798, -5.4078, -5.4168, -5.6418, -5.462, -5.6588, -5.6929, -5.8092, -5.8368, -5.8432, -3.7779, -4.9968, -5.315, -5.6073, -5.609, -5.6141, -5.6046, -5.7917, -5.7918, -5.795, -5.314, -6.0223, -6.0231, -6.0016, -6.0018, -6.0179, -6.0182, -6.0186, -6.3152, -6.3152, -5.7906, -6.3168, -6.3169, -6.3175, -6.3174, -6.318, -6.0158, -6.3229, -6.019, -6.0387, -5.8206, -5.629, -5.448, -5.7844, -4.7376, -4.2778, -5.3532, -5.4381, -5.7551, -4.607, -5.7977, -5.7868, -5.849, -5.7606, -5.7828, -5.7864, -5.6243, -5.7108, -5.6635, -4.6013, -4.8274, -5.0066, -5.3718, -5.5277, -5.5285, -5.5358, -5.5363, -5.1725, -5.7131, -5.7133, -5.7144, -5.9403, -5.9411, -5.9413, -5.942, -5.9509, -5.9514, -5.521, -5.709, -5.9396, -6.2358, -6.2366, -6.2368, -6.2368, -6.237, -6.2372, -6.2479, -6.2491, -6.2494, -4.2134, -5.7312, -5.7042, -5.545, -5.1136, -5.9253, -5.9367, -5.696, -5.5219, -4.9142, -5.0378, -4.9654, -5.7033, -5.7439, -5.7973, -5.8371, -5.9014], \"loglift\": [30.0, 29.0, 28.0, 27.0, 26.0, 25.0, 24.0, 23.0, 22.0, 21.0, 20.0, 19.0, 18.0, 17.0, 16.0, 15.0, 14.0, 13.0, 12.0, 11.0, 10.0, 9.0, 8.0, 7.0, 6.0, 5.0, 4.0, 3.0, 2.0, 1.0, 0.8326, 0.8182, 0.8002, 0.7948, 0.7809, 0.7763, 0.7545, 0.7514, 0.7223, 0.7215, 0.7131, 0.6883, 0.6857, 0.6786, 0.6775, 0.6652, 0.665, 0.6533, 0.6526, 0.6335, 0.6295, 0.627, 0.627, 0.6269, 0.6265, 0.626, 0.6252, 0.6246, 0.6239, 0.623, 0.6208, 0.579, 0.5044, 0.5653, 0.5593, 0.5372, 0.4238, 0.3061, 0.2676, 0.4239, 0.346, 0.3647, 0.3528, 0.4042, 0.2536, 0.1118, 0.2659, 0.2119, 0.0316, 0.1854, -0.4787, 0.1923, 1.0926, 0.9742, 0.9326, 0.9147, 0.9143, 0.8656, 0.8643, 0.8643, 0.8317, 0.8313, 0.8282, 0.7874, 0.7841, 0.7661, 0.7564, 0.7493, 0.7358, 0.7296, 0.7293, 0.7282, 0.7281, 0.7275, 0.7272, 0.7264, 0.7251, 0.7172, 0.7171, 0.6823, 0.6814, 0.6744, 0.3805, 0.5411, 0.3772, 0.1949, 0.5905, 0.3885, 0.4579, 0.5281, 0.1754, 0.4963, 0.1709, 0.1513, -0.0443, 0.1087, 0.091, 0.2777, 0.1946, 0.0017, 0.1373, -0.148, 0.2017, 0.1223, -0.818, 1.8066, 1.7535, 1.553, 1.5116, 1.4949, 1.4894, 1.4874, 1.4129, 1.4118, 1.4075, 1.4053, 1.405, 1.4048, 1.2981, 1.2978, 1.2969, 1.2955, 1.2852, 1.2699, 1.2422, 1.2401, 1.1313, 1.1295, 1.1294, 1.1294, 1.1293, 1.1292, 1.1292, 1.1288, 1.1277, 1.113, 1.0913, 1.0473, 1.0783, 0.8592, 0.9873, 0.9755, 0.7673, 0.4501, 0.7568, 0.6716, -0.1086, -0.1671, -1.0919, 0.4105, -0.6046, -0.738, -0.7782, -0.0711, -1.4789, -0.4623, -0.4169, 0.2944, 0.4951, -0.025, 2.0981, 1.8418, 1.7318, 1.6054, 1.6031, 1.5966, 1.5318, 1.5159, 1.5157, 1.5116, 1.4772, 1.3891, 1.3883, 1.2362, 1.2359, 1.2152, 1.2142, 1.2138, 1.2138, 1.2137, 1.2134, 1.2119, 1.2118, 1.2111, 1.211, 1.2105, 1.2072, 1.205, 1.2026, 1.1776, 1.1282, 1.0661, 1.0169, 1.06, 0.734, 0.4973, 0.85, 0.8252, 0.8959, -0.6239, 0.8158, 0.7322, 0.6251, 0.31, 0.3407, 0.3106, -0.4365, -0.5143, -1.0248, 2.0723, 2.0534, 1.8636, 1.8317, 1.7551, 1.7539, 1.7431, 1.7421, 1.7187, 1.6556, 1.6553, 1.6539, 1.5228, 1.5216, 1.5214, 1.5204, 1.5079, 1.5073, 1.4278, 1.3941, 1.3351, 1.331, 1.3298, 1.3298, 1.3297, 1.3295, 1.3292, 1.3148, 1.3133, 1.313, 1.0079, 1.2288, 1.211, 1.0786, 0.5696, 1.0987, 1.0753, 0.7238, 0.4696, -0.2755, -0.2627, -0.9824, 0.3279, -0.0661, -0.6095, -0.5526, 0.2022]}, \"token.table\": {\"Topic\": [1, 2, 3, 1, 2, 3, 4, 1, 2, 5, 1, 2, 4, 1, 2, 3, 4, 5, 1, 2, 3, 5, 1, 2, 4, 1, 2, 1, 2, 3, 1, 2, 3, 1, 2, 3, 1, 2, 1, 2, 1, 2, 5, 1, 2, 1, 2, 3, 1, 2, 1, 2, 1, 2, 3, 1, 2, 5, 1, 2, 4, 1, 2, 1, 2, 4, 1, 2, 3, 1, 2, 3, 1, 2, 3, 1, 2, 3, 1, 2, 5, 1, 2, 4, 1, 2, 4, 1, 2, 5, 1, 2, 1, 2, 4, 1, 2, 1, 2, 4, 1, 2, 3, 1, 2, 4, 1, 2, 3, 1, 2, 1, 2, 1, 2, 4, 1, 2, 4, 1, 2, 1, 2, 1, 2, 3, 1, 2, 5, 1, 2, 1, 2, 3, 4, 1, 2, 1, 2, 3, 1, 2, 5, 1, 2, 3, 4, 5, 1, 2, 5, 1, 2, 4, 1, 2, 5, 1, 2, 3, 1, 2, 3, 4, 1, 2, 5, 1, 2, 1, 2, 3, 4, 5, 1, 2, 3, 1, 2, 1, 2, 3, 1, 2, 3, 4, 5, 1, 2, 1, 2, 4, 1, 2, 3, 1, 2, 3, 4, 5, 1, 2, 5, 1, 2, 3, 1, 2, 3, 1, 2, 3, 1, 2, 3, 4, 5, 1, 2, 3, 1, 2, 3, 4, 1, 2, 1, 2, 5, 1, 2, 3, 1, 2, 1, 2, 1, 2, 5, 1, 2, 3, 4, 5, 1, 2, 3, 1, 2, 4, 1, 2, 3, 1, 2, 1, 2, 3, 5, 1, 2, 1, 2, 1, 2, 5, 1, 2, 3, 1, 2, 3, 4, 5, 1, 2, 1, 2, 3, 1, 2, 4, 1, 2, 1, 2, 4, 1, 2, 1, 2, 3, 4, 1, 2, 3, 4, 5, 1, 2, 5, 1, 2, 4, 1, 2, 3, 4, 1, 2, 1, 2, 5, 1, 2, 1, 2, 3, 4, 1, 2, 1, 2, 3, 4, 5, 1, 2, 5, 1, 2, 4, 1, 2, 4, 1, 2, 3, 1, 2, 3, 4, 5, 1, 2, 3, 4, 1, 2, 4, 1, 2, 3, 1, 2, 3, 5, 1, 2, 4, 5, 1, 2, 3, 4, 1, 2, 4, 5, 1, 2, 1, 2, 4, 1, 2, 1, 2, 4, 1, 2, 3, 4, 1, 2, 1, 2, 3, 4, 1, 2, 1, 2, 3, 4, 1, 2, 3, 1, 2, 4, 1, 2, 4, 5, 1, 2, 3, 1, 2, 5, 1, 2, 3, 1, 2, 1, 2, 5, 1, 2, 3, 5, 1, 2, 4, 1, 2, 3, 4, 1, 2, 3, 1, 2, 3, 5, 1, 2, 1, 2, 4, 1, 2, 5, 1, 2, 3, 4, 5, 1, 2, 1, 2, 1, 2, 4, 1, 2, 5, 1, 2, 5, 1, 2, 1, 2, 3, 4, 5, 1, 2, 3, 4, 1, 2, 5, 1, 2, 3, 1, 2, 4, 1, 2, 3, 4, 5, 1, 2, 3, 4, 5, 1, 2, 4, 1, 2, 4, 1, 2, 4, 1, 2, 4, 1, 2, 4, 1, 2, 3, 1, 2, 3, 1, 2, 3, 1, 2, 3, 1, 2, 3, 4, 5, 1, 2, 3, 4, 1, 2, 3, 1, 2, 3, 1, 2, 5, 1, 2, 3, 4, 5, 1, 2, 3, 1, 2, 1, 2, 3, 1, 2, 5, 1, 2, 1, 2, 4, 1, 2, 5, 1, 2, 3, 1, 2, 4, 1, 2, 3, 4, 1, 2, 3, 4, 5, 1, 2, 1, 2, 3, 4, 5, 1, 2, 5, 1, 2, 5, 1, 2, 3, 4, 5, 1, 2, 4, 1, 2, 4, 1, 2, 3, 4, 1, 2, 3, 4, 1, 2, 5, 1, 2, 4, 5, 1, 2, 1, 2, 1, 2, 5, 1, 2, 4, 5, 1, 2, 1, 2, 3, 4, 5, 1, 2, 4, 1, 2, 3, 1, 2, 1, 2, 1, 2, 4], \"Freq\": [0.37040758929393536, 0.37040758929393536, 0.37040758929393536, 0.1485319225148099, 0.7426596125740496, 0.1485319225148099, 0.1485319225148099, 0.6169344338655418, 0.15423360846638545, 0.3084672169327709, 0.27741558154495594, 0.27741558154495594, 0.5548311630899119, 0.3667773760224452, 0.2750830320168339, 0.1833886880112226, 0.0916943440056113, 0.0916943440056113, 0.25587859798454277, 0.5117571959690855, 0.08529286599484757, 0.08529286599484757, 0.22561906652982192, 0.45123813305964383, 0.45123813305964383, 0.1655050574285313, 0.8275252871426565, 0.3703926967112436, 0.3703926967112436, 0.3703926967112436, 0.3704052119172623, 0.3704052119172623, 0.3704052119172623, 0.23486367028609165, 0.23486367028609165, 0.23486367028609165, 0.1833658691877132, 0.7334634767508528, 0.13879807920965037, 0.8327884752579023, 0.39591342858336825, 0.39591342858336825, 0.39591342858336825, 0.18319117230967372, 0.7327646892386949, 0.2694044893270181, 0.2694044893270181, 0.2694044893270181, 0.23273102478027377, 0.6981930743408213, 0.674245722952643, 0.22474857431754766, 0.26344086635174746, 0.26344086635174746, 0.5268817327034949, 0.19737202029652579, 0.19737202029652579, 0.5921160608895774, 0.2732729028166009, 0.5465458056332018, 0.18218193521106726, 0.13878483562068522, 0.8327090137241113, 0.339087444871084, 0.339087444871084, 0.339087444871084, 0.3704130873918557, 0.3704130873918557, 0.3704130873918557, 0.13448548269707172, 0.13448548269707172, 0.8069128961824303, 0.2915723357011178, 0.2915723357011178, 0.5831446714022356, 0.47748482840799883, 0.23874241420399941, 0.47748482840799883, 0.20154463802927833, 0.20154463802927833, 0.40308927605855666, 0.27797146501916914, 0.27797146501916914, 0.5559429300383383, 0.38124417501814634, 0.38124417501814634, 0.38124417501814634, 0.7479909081894106, 0.18699772704735265, 0.18699772704735265, 0.2327412829014486, 0.6982238487043457, 0.38095865842750243, 0.38095865842750243, 0.38095865842750243, 0.16554165564753742, 0.8277082782376871, 0.6444293909772478, 0.18412268313635652, 0.09206134156817826, 0.27477339982102306, 0.27477339982102306, 0.27477339982102306, 0.6078763995265821, 0.2279536498224683, 0.07598454994082277, 0.32626445199286536, 0.32626445199286536, 0.32626445199286536, 0.2443257387703322, 0.6515353033875525, 0.19190370425975478, 0.7676148170390191, 0.709761248118763, 0.2365870827062543, 0.07886236090208477, 0.6077708212559544, 0.1012951368759924, 0.2025902737519848, 0.8656966675331186, 0.14428277792218644, 0.7927801196749875, 0.15855602393499751, 0.5547209378494095, 0.3883046564945866, 0.05547209378494094, 0.3960061600781443, 0.3960061600781443, 0.3960061600781443, 0.031044228413056037, 0.9623710808047371, 0.548832473738677, 0.34302029608667317, 0.034302029608667316, 0.034302029608667316, 0.2326225955113777, 0.6978677865341331, 0.2899936427495989, 0.5219885569492779, 0.17399618564975933, 0.2957563585556017, 0.2957563585556017, 0.2957563585556017, 0.5254737344333748, 0.3233684519589998, 0.04042105649487498, 0.04042105649487498, 0.04042105649487498, 0.3944903254539632, 0.3944903254539632, 0.3944903254539632, 0.28501986654160383, 0.28501986654160383, 0.28501986654160383, 0.3248857307508833, 0.3248857307508833, 0.3248857307508833, 0.3702064448907453, 0.3702064448907453, 0.3702064448907453, 0.11359067463377491, 0.5679533731688746, 0.22718134926754982, 0.11359067463377491, 0.39596479773075915, 0.39596479773075915, 0.39596479773075915, 0.7893639506167925, 0.19734098765419814, 0.4770928178185425, 0.4680910665389474, 0.04500875639797571, 0.009001751279595143, 0.009001751279595143, 0.6686565154208961, 0.0955223593458423, 0.0955223593458423, 0.1831544813623864, 0.7326179254495456, 0.3255948508527311, 0.3255948508527311, 0.3255948508527311, 0.2185995548417211, 0.4614879491103001, 0.07286651828057371, 0.1700218759880053, 0.07286651828057371, 0.7258194674272551, 0.14516389348545103, 0.38135809585057556, 0.38135809585057556, 0.38135809585057556, 0.2917279028671064, 0.2917279028671064, 0.5834558057342129, 0.3011250028805656, 0.42157500403279186, 0.06022500057611312, 0.06022500057611312, 0.12045000115222625, 0.20645420655404478, 0.41290841310808957, 0.20645420655404478, 0.37039163950006015, 0.37039163950006015, 0.37039163950006015, 0.7581368013772561, 0.13784305479586476, 0.13784305479586476, 0.3704082717800879, 0.3704082717800879, 0.3704082717800879, 0.5390537298432354, 0.23957943548588242, 0.059894858871470606, 0.059894858871470606, 0.059894858871470606, 0.15698557490770265, 0.15698557490770265, 0.7849278745385133, 0.42700370588354, 0.37362824264809746, 0.106750926470885, 0.0533754632354425, 0.16452485147920543, 0.6580994059168217, 0.35683399480465017, 0.35683399480465017, 0.35683399480465017, 0.19695004601962143, 0.19695004601962143, 0.5908501380588643, 0.2326348455461533, 0.69790453663846, 0.10493841788004693, 0.8395073430403754, 0.39433903624431577, 0.39433903624431577, 0.39433903624431577, 0.3683107141871051, 0.5320043649369296, 0.04092341268745612, 0.04092341268745612, 0.04092341268745612, 0.2915336239761612, 0.2915336239761612, 0.5830672479523225, 0.3812006234415315, 0.3812006234415315, 0.3812006234415315, 0.8286462020173279, 0.0974877884726268, 0.0487438942363134, 0.7414524016388037, 0.24715080054626787, 0.4918162386904627, 0.24590811934523135, 0.08196937311507711, 0.16393874623015423, 0.23275165573619475, 0.6982549672085843, 0.23285712553951257, 0.6985713766185377, 0.2969842683603411, 0.2969842683603411, 0.5939685367206822, 0.25696761299372795, 0.616722271184947, 0.10278704519749118, 0.32268765345689876, 0.21512510230459916, 0.21512510230459916, 0.21512510230459916, 0.10756255115229958, 0.79255783171329, 0.15851156634265798, 0.2915503224292228, 0.2915503224292228, 0.5831006448584456, 0.2808529111067462, 0.2808529111067462, 0.2808529111067462, 0.6745987616828262, 0.22486625389427536, 0.38119728402877884, 0.38119728402877884, 0.38119728402877884, 0.665705411389093, 0.2958690717284858, 0.3456503949335389, 0.23043359662235927, 0.23043359662235927, 0.11521679831117963, 0.2112249617538571, 0.2112249617538571, 0.4224499235077142, 0.2112249617538571, 0.2112249617538571, 0.3569156546620142, 0.3569156546620142, 0.3569156546620142, 0.5263977983428184, 0.1315994495857046, 0.2631988991714092, 0.4126950469544451, 0.2751300313029634, 0.2751300313029634, 0.1375650156514817, 0.2747673784385389, 0.6869184460963472, 0.2980313124142532, 0.2980313124142532, 0.5960626248285064, 0.6742315376405463, 0.22474384588018212, 0.6990995595622045, 0.1553554576804899, 0.07767772884024494, 0.07767772884024494, 0.6740785168661884, 0.22469283895539613, 0.4676805617098933, 0.09353611234197866, 0.18707222468395732, 0.18707222468395732, 0.09353611234197866, 0.35554810890757743, 0.35554810890757743, 0.35554810890757743, 0.1912304631871739, 0.1912304631871739, 0.7649218527486956, 0.0730324129984458, 0.0730324129984458, 0.8763889559813496, 0.4494012627898701, 0.39322610494113636, 0.11235031569746752, 0.5361233616567714, 0.19495394969337146, 0.048738487423342865, 0.24369243711671432, 0.048738487423342865, 0.25536415640117505, 0.25536415640117505, 0.25536415640117505, 0.12768207820058752, 0.2835166324261106, 0.2835166324261106, 0.2835166324261106, 0.21679378784800335, 0.5419844696200083, 0.10839689392400167, 0.23017410107910088, 0.23017410107910088, 0.23017410107910088, 0.23017410107910088, 0.249124867099678, 0.249124867099678, 0.249124867099678, 0.249124867099678, 0.5943662692180266, 0.1981220897393422, 0.13208139315956147, 0.06604069657978073, 0.25756528162694375, 0.25756528162694375, 0.5151305632538875, 0.25756528162694375, 0.7962768689503639, 0.11375383842148055, 0.36473094108253346, 0.18236547054126673, 0.5470964116238002, 0.7036069382641972, 0.1759017345660493, 0.3391075176831386, 0.3391075176831386, 0.3391075176831386, 0.4305188947215826, 0.37670403288138476, 0.10762972368039565, 0.05381486184019783, 0.7900608897761975, 0.19751522244404937, 0.6567534508031516, 0.27652776875922175, 0.03456597109490272, 0.03456597109490272, 0.7945441676522796, 0.1324240279420466, 0.681312853690911, 0.20038613343850323, 0.0801544533754013, 0.04007722668770065, 0.3264095222883794, 0.3264095222883794, 0.3264095222883794, 0.3056350993271007, 0.3056350993271007, 0.6112701986542014, 0.1621415096836674, 0.1621415096836674, 0.1621415096836674, 0.6485660387346696, 0.32610361095942103, 0.32610361095942103, 0.32610361095942103, 0.27542343028964755, 0.27542343028964755, 0.5508468605792951, 0.3263849781073724, 0.3263849781073724, 0.3263849781073724, 0.746852948930672, 0.10669327841866744, 0.395950316416336, 0.395950316416336, 0.395950316416336, 0.22742653947978322, 0.22742653947978322, 0.22742653947978322, 0.22742653947978322, 0.3053527988534236, 0.3053527988534236, 0.6107055977068472, 0.15269358819900408, 0.45808076459701225, 0.15269358819900408, 0.30538717639800816, 0.1906937182179847, 0.572081154653954, 0.1906937182179847, 0.15202439472470533, 0.30404878944941066, 0.45607318417411596, 0.15202439472470533, 0.6794890428960457, 0.27179561715841827, 0.6340572455157142, 0.15851431137892855, 0.3170286227578571, 0.3943367589440094, 0.3943367589440094, 0.3943367589440094, 0.44359506541866095, 0.26615703925119655, 0.08871901308373219, 0.17743802616746437, 0.08871901308373219, 0.7037835574682705, 0.17594588936706762, 0.6744102278433424, 0.22480340928111414, 0.28046857512698886, 0.28046857512698886, 0.28046857512698886, 0.35693207234756885, 0.35693207234756885, 0.35693207234756885, 0.35548753107220893, 0.35548753107220893, 0.35548753107220893, 0.856579279530658, 0.12236846850437973, 0.11380009429011959, 0.6828005657407175, 0.11380009429011959, 0.11380009429011959, 0.11380009429011959, 0.6120666433448219, 0.30603332167241093, 0.06557856892980234, 0.02185952297660078, 0.3959466931839823, 0.3959466931839823, 0.3959466931839823, 0.26352883995934506, 0.26352883995934506, 0.5270576799186901, 0.3984174460644431, 0.3984174460644431, 0.13280581535481437, 0.1517853301060449, 0.4553559903181347, 0.11383899757953367, 0.03794633252651122, 0.22767799515906734, 0.6992719363458475, 0.14833041074002826, 0.06357017603144068, 0.042380117354293784, 0.06357017603144068, 0.3813955337391837, 0.3813955337391837, 0.3813955337391837, 0.2778140138697101, 0.2778140138697101, 0.5556280277394202, 0.381274792915193, 0.381274792915193, 0.381274792915193, 0.38125993835682187, 0.38125993835682187, 0.38125993835682187, 0.2789723503876618, 0.2789723503876618, 0.2789723503876618, 0.37041186275997234, 0.37041186275997234, 0.37041186275997234, 0.2635594242951534, 0.2635594242951534, 0.5271188485903068, 0.14310704155497359, 0.28621408310994717, 0.5724281662198943, 0.2470357366353011, 0.2470357366353011, 0.4940714732706022, 0.2516092419239557, 0.3774138628859335, 0.12580462096197784, 0.12580462096197784, 0.12580462096197784, 0.2778280318918467, 0.41674204783777, 0.13891401594592334, 0.2778280318918467, 0.2714098420349687, 0.2714098420349687, 0.2714098420349687, 0.2404972943196681, 0.2404972943196681, 0.4809945886393362, 0.3248871230209656, 0.3248871230209656, 0.3248871230209656, 0.4950126353705542, 0.385009827510431, 0.03300084235803694, 0.055001403930061574, 0.03300084235803694, 0.17170317930987142, 0.6868127172394857, 0.17170317930987142, 0.7032471627537483, 0.17581179068843708, 0.2915239358204619, 0.2915239358204619, 0.5830478716409238, 0.35705591897924244, 0.35705591897924244, 0.35705591897924244, 0.6743528645408615, 0.22478428818028717, 0.2354857511776798, 0.2354857511776798, 0.7064572535330395, 0.3960846927984601, 0.3960846927984601, 0.3960846927984601, 0.2369928162015256, 0.4739856324030512, 0.2369928162015256, 0.28352382877761984, 0.28352382877761984, 0.28352382877761984, 0.4027471501732756, 0.13424905005775856, 0.2684981001155171, 0.13424905005775856, 0.5025081641509351, 0.39482784326144904, 0.03589344029649537, 0.03589344029649537, 0.03589344029649537, 0.6747399176741857, 0.22491330589139524, 0.1923202512252108, 0.1923202512252108, 0.1923202512252108, 0.3846405024504216, 0.1923202512252108, 0.29815347486312377, 0.29815347486312377, 0.5963069497262475, 0.32478465437852155, 0.32478465437852155, 0.32478465437852155, 0.4036572808624883, 0.3669611644204439, 0.11008834932613318, 0.07339223288408879, 0.036696116442044395, 0.2837059314946823, 0.2837059314946823, 0.2837059314946823, 0.28502795168210154, 0.28502795168210154, 0.28502795168210154, 0.20054362112740967, 0.20054362112740967, 0.40108724225481934, 0.20054362112740967, 0.4166258367502575, 0.4166258367502575, 0.11903595335721644, 0.05951797667860822, 0.2968355198726017, 0.2968355198726017, 0.5936710397452034, 0.2159094968647182, 0.2159094968647182, 0.2159094968647182, 0.2159094968647182, 0.2327944346685442, 0.6983833040056325, 0.20513160177860365, 0.6153948053358109, 0.19945492079551386, 0.19945492079551386, 0.5983647623865416, 0.21349990514680753, 0.21349990514680753, 0.42699981029361506, 0.42699981029361506, 0.2049448981370933, 0.6148346944112799, 0.48122766178016213, 0.33315761200165067, 0.07403502488925572, 0.07403502488925572, 0.03701751244462786, 0.33132695957972447, 0.33132695957972447, 0.33132695957972447, 0.19070412007275156, 0.5721123602182547, 0.19070412007275156, 0.12834616314249864, 0.7700769788549919, 0.1654304888561382, 0.827152444280691, 0.3056421307211907, 0.3056421307211907, 0.6112842614423813], \"Term\": [\"a_viz\", \"a_viz\", \"a_viz\", \"able\", \"able\", \"able\", \"able\", \"access\", \"access\", \"access\", \"action\", \"action\", \"action\", \"add\", \"add\", \"add\", \"add\", \"add\", \"address\", \"address\", \"address\", \"address\", \"agent\", \"agent\", \"agent\", \"amount\", \"amount\", \"annotate\", \"annotate\", \"annotate\", \"annotation\", \"annotation\", \"annotation\", \"answer\", \"answer\", \"answer\", \"append\", \"append\", \"apt\", \"apt\", \"archive\", \"archive\", \"archive\", \"attr\", \"attr\", \"aw\", \"aw\", \"aw\", \"bahrain\", \"bahrain\", \"blkio\", \"blkio\", \"block\", \"block\", \"block\", \"boot\", \"boot\", \"boot\", \"build\", \"build\", \"build\", \"builder\", \"builder\", \"call\", \"call\", \"call\", \"callable\", \"callable\", \"callable\", \"cassandra\", \"cassandra\", \"cassandra\", \"cassandradaemon\", \"cassandradaemon\", \"cassandradaemon\", \"categorical\", \"categorical\", \"categorical\", \"cert\", \"cert\", \"cert\", \"certificate\", \"certificate\", \"certificate\", \"chain\", \"chain\", \"chain\", \"check\", \"check\", \"check\", \"class\", \"class\", \"cleanup\", \"cleanup\", \"cleanup\", \"clickhouse\", \"clickhouse\", \"cluster\", \"cluster\", \"cluster\", \"column\", \"column\", \"column\", \"command\", \"command\", \"command\", \"completely\", \"completely\", \"completely\", \"compose\", \"compose\", \"composer\", \"composer\", \"connect\", \"connect\", \"connect\", \"connection\", \"connection\", \"connection\", \"connection_refuse\", \"connection_refuse\", \"consul\", \"consul\", \"container\", \"container\", \"container\", \"controller_management\", \"controller_management\", \"controller_management\", \"country\", \"country\", \"create\", \"create\", \"create\", \"create\", \"datalog\", \"datalog\", \"datum\", \"datum\", \"datum\", \"dependency\", \"dependency\", \"dependency\", \"deploy\", \"deploy\", \"deploy\", \"deploy\", \"deploy\", \"deprecate\", \"deprecate\", \"deprecate\", \"desc\", \"desc\", \"desc\", \"description\", \"description\", \"description\", \"device\", \"device\", \"device\", \"different\", \"different\", \"different\", \"different\", \"dir\", \"dir\", \"dir\", \"dnsrr\", \"dnsrr\", \"docker\", \"docker\", \"docker\", \"docker\", \"docker\", \"driver\", \"driver\", \"driver\", \"else\", \"else\", \"encounter\", \"encounter\", \"encounter\", \"error\", \"error\", \"error\", \"error\", \"error\", \"external\", \"external\", \"face\", \"face\", \"face\", \"facetgrid\", \"facetgrid\", \"facetgrid\", \"fail\", \"fail\", \"fail\", \"fail\", \"fail\", \"failure\", \"failure\", \"failure\", \"fake\", \"fake\", \"fake\", \"false\", \"false\", \"false\", \"fig\", \"fig\", \"fig\", \"file\", \"file\", \"file\", \"file\", \"file\", \"filebeat\", \"filebeat\", \"filebeat\", \"follow\", \"follow\", \"follow\", \"follow\", \"force\", \"force\", \"fraction\", \"fraction\", \"fraction\", \"free\", \"free\", \"free\", \"full\", \"full\", \"function_return\", \"function_return\", \"future\", \"future\", \"future\", \"get\", \"get\", \"get\", \"get\", \"get\", \"gossiper\", \"gossiper\", \"gossiper\", \"here\", \"here\", \"here\", \"host\", \"host\", \"host\", \"hostname\", \"hostname\", \"https\", \"https\", \"https\", \"https\", \"hub\", \"hub\", \"hue\", \"hue\", \"illegal\", \"illegal\", \"illegal\", \"image\", \"image\", \"image\", \"info\", \"info\", \"info\", \"info\", \"info\", \"ingress\", \"ingress\", \"initserver\", \"initserver\", \"initserver\", \"internal\", \"internal\", \"internal\", \"interval\", \"interval\", \"iosbuildagent\", \"iosbuildagent\", \"iosbuildagent\", \"ip\", \"ip\", \"issue\", \"issue\", \"issue\", \"issue\", \"jar\", \"jar\", \"jar\", \"jar\", \"jar\", \"jboss\", \"jboss\", \"jboss\", \"join\", \"join\", \"join\", \"label\", \"label\", \"label\", \"label\", \"late\", \"late\", \"listener\", \"listener\", \"listener\", \"load\", \"load\", \"local\", \"local\", \"local\", \"local\", \"location\", \"location\", \"log\", \"log\", \"log\", \"log\", \"log\", \"logstash\", \"logstash\", \"logstash\", \"lt_key\", \"lt_key\", \"lt_key\", \"lt_stre\", \"lt_stre\", \"lt_stre\", \"m\", \"m\", \"m\", \"manager\", \"manager\", \"manager\", \"manager\", \"manager\", \"master\", \"master\", \"master\", \"master\", \"match\", \"match\", \"match\", \"memory\", \"memory\", \"memory\", \"message\", \"message\", \"message\", \"message\", \"miss\", \"miss\", \"miss\", \"miss\", \"mode\", \"mode\", \"mode\", \"mode\", \"module\", \"module\", \"module\", \"module\", \"mongodb\", \"mongodb\", \"msg\", \"msg\", \"msg\", \"mysql_clust\", \"mysql_clust\", \"myuser\", \"myuser\", \"myuser\", \"name\", \"name\", \"name\", \"name\", \"net\", \"net\", \"network\", \"network\", \"network\", \"network\", \"nginx\", \"nginx\", \"node\", \"node\", \"node\", \"node\", \"object\", \"object\", \"object\", \"onta_yp\", \"onta_yp\", \"onta_yp\", \"operation\", \"operation\", \"operation\", \"operation\", \"opt\", \"opt\", \"opt\", \"org\", \"org\", \"org\", \"outlier\", \"outlier\", \"outlier\", \"overlay\", \"overlay\", \"pass\", \"pass\", \"pass\", \"path\", \"path\", \"path\", \"path\", \"plist\", \"plist\", \"plist\", \"plot\", \"plot\", \"plot\", \"plot\", \"point\", \"point\", \"point\", \"pool\", \"pool\", \"pool\", \"pool\", \"port\", \"port\", \"postgre\", \"postgre\", \"postgre\", \"print\", \"print\", \"print\", \"problem\", \"problem\", \"problem\", \"problem\", \"problem\", \"publish\", \"publish\", \"quot\", \"quot\", \"raft\", \"raft\", \"raft\", \"realm\", \"realm\", \"realm\", \"reflective\", \"reflective\", \"reflective\", \"region\", \"region\", \"return\", \"return\", \"return\", \"return\", \"return\", \"run\", \"run\", \"run\", \"run\", \"security_realm\", \"security_realm\", \"security_realm\", \"seed\", \"seed\", \"seed\", \"seem\", \"seem\", \"seem\", \"server\", \"server\", \"server\", \"server\", \"server\", \"service\", \"service\", \"service\", \"service\", \"service\", \"session\", \"session\", \"session\", \"shap\", \"shap\", \"shap\", \"sign\", \"sign\", \"sign\", \"signer\", \"signer\", \"signer\", \"similar\", \"similar\", \"similar\", \"sklearn\", \"sklearn\", \"sklearn\", \"slave\", \"slave\", \"slave\", \"space\", \"space\", \"space\", \"spin\", \"spin\", \"spin\", \"start\", \"start\", \"start\", \"start\", \"start\", \"stop\", \"stop\", \"stop\", \"stop\", \"storage\", \"storage\", \"storage\", \"storageservice\", \"storageservice\", \"storageservice\", \"subsystem\", \"subsystem\", \"subsystem\", \"swarm\", \"swarm\", \"swarm\", \"swarm\", \"swarm\", \"swarmplot\", \"swarmplot\", \"swarmplot\", \"taskmanager\", \"taskmanager\", \"thin\", \"thin\", \"thin\", \"thread\", \"thread\", \"thread\", \"throttle\", \"throttle\", \"time_level\", \"time_level\", \"time_level\", \"tlsv\", \"tlsv\", \"tlsv\", \"total\", \"total\", \"total\", \"transport\", \"transport\", \"transport\", \"true\", \"true\", \"true\", \"true\", \"try\", \"try\", \"try\", \"try\", \"try\", \"udp\", \"udp\", \"unable\", \"unable\", \"unable\", \"unable\", \"unable\", \"undertow\", \"undertow\", \"undertow\", \"undertowrealm\", \"undertowrealm\", \"undertowrealm\", \"use\", \"use\", \"use\", \"use\", \"use\", \"username\", \"username\", \"username\", \"valid\", \"valid\", \"valid\", \"value\", \"value\", \"value\", \"value\", \"version\", \"version\", \"version\", \"version\", \"warn\", \"warn\", \"warn\", \"warning\", \"warning\", \"warning\", \"warning\", \"webnet\", \"webnet\", \"website\", \"website\", \"wflyctl\", \"wflyctl\", \"wflyctl\", \"wildfly\", \"wildfly\", \"wildfly\", \"wildfly\", \"wordpress\", \"wordpress\", \"work\", \"work\", \"work\", \"work\", \"work\", \"worker\", \"worker\", \"worker\", \"year\", \"year\", \"year\", \"zoo\", \"zoo\", \"zookeeper\", \"zookeeper\", \"zy\", \"zy\", \"zy\"]}, \"R\": 30, \"lambda.step\": 0.01, \"plot.opts\": {\"xlab\": \"PC1\", \"ylab\": \"PC2\"}, \"topic.order\": [2, 5, 4, 1, 3]};\n",
       "\n",
       "function LDAvis_load_lib(url, callback){\n",
       "  var s = document.createElement('script');\n",
       "  s.src = url;\n",
       "  s.async = true;\n",
       "  s.onreadystatechange = s.onload = callback;\n",
       "  s.onerror = function(){console.warn(\"failed to load library \" + url);};\n",
       "  document.getElementsByTagName(\"head\")[0].appendChild(s);\n",
       "}\n",
       "\n",
       "if(typeof(LDAvis) !== \"undefined\"){\n",
       "   // already loaded: just create the visualization\n",
       "   !function(LDAvis){\n",
       "       new LDAvis(\"#\" + \"ldavis_el3802871398634704402567368229984\", ldavis_el3802871398634704402567368229984_data);\n",
       "   }(LDAvis);\n",
       "}else if(typeof define === \"function\" && define.amd){\n",
       "   // require.js is available: use it to load d3/LDAvis\n",
       "   require.config({paths: {d3: \"https://d3js.org/d3.v5\"}});\n",
       "   require([\"d3\"], function(d3){\n",
       "      window.d3 = d3;\n",
       "      LDAvis_load_lib(\"https://cdn.jsdelivr.net/gh/bmabey/pyLDAvis@3.4.0/pyLDAvis/js/ldavis.v3.0.0.js\", function(){\n",
       "        new LDAvis(\"#\" + \"ldavis_el3802871398634704402567368229984\", ldavis_el3802871398634704402567368229984_data);\n",
       "      });\n",
       "    });\n",
       "}else{\n",
       "    // require.js not available: dynamically load d3 & LDAvis\n",
       "    LDAvis_load_lib(\"https://d3js.org/d3.v5.js\", function(){\n",
       "         LDAvis_load_lib(\"https://cdn.jsdelivr.net/gh/bmabey/pyLDAvis@3.4.0/pyLDAvis/js/ldavis.v3.0.0.js\", function(){\n",
       "                 new LDAvis(\"#\" + \"ldavis_el3802871398634704402567368229984\", ldavis_el3802871398634704402567368229984_data);\n",
       "            })\n",
       "         });\n",
       "}\n",
       "</script>"
      ],
      "text/plain": [
       "PreparedData(topic_coordinates=              x         y  topics  cluster       Freq\n",
       "topic                                                \n",
       "1     -0.059510 -0.043485       1        1  36.415799\n",
       "4     -0.045655  0.050275       2        1  31.954943\n",
       "3      0.023400  0.002595       3        1  12.613791\n",
       "0      0.039161 -0.013544       4        1  10.654491\n",
       "2      0.042605  0.004158       5        1   8.360975, topic_info=         Term        Freq       Total Category  logprob  loglift\n",
       "1177  lt_stre   13.000000   13.000000  Default  30.0000  30.0000\n",
       "501   country   32.000000   32.000000  Default  29.0000  29.0000\n",
       "93     server   26.000000   26.000000  Default  28.0000  28.0000\n",
       "23     docker  111.000000  111.000000  Default  27.0000  27.0000\n",
       "68      error   41.000000   41.000000  Default  26.0000  26.0000\n",
       "...       ...         ...         ...      ...      ...      ...\n",
       "110   address    1.360662   11.724310   Topic5  -5.7033   0.3279\n",
       "329      file    1.306605   16.695924   Topic5  -5.7439  -0.0661\n",
       "16        use    1.238630   27.250840   Topic5  -5.7973  -0.6095\n",
       "322    deploy    1.190355   24.739581   Topic5  -5.8371  -0.5526\n",
       "311       add    1.116118   10.905798   Topic5  -5.9014   0.2022\n",
       "\n",
       "[286 rows x 6 columns], token_table=      Topic      Freq       Term\n",
       "term                            \n",
       "1114      1  0.370408      a_viz\n",
       "1114      2  0.370408      a_viz\n",
       "1114      3  0.370408      a_viz\n",
       "108       1  0.148532       able\n",
       "108       2  0.742660       able\n",
       "...     ...       ...        ...\n",
       "481       1  0.165430  zookeeper\n",
       "481       2  0.827152  zookeeper\n",
       "653       1  0.305642         zy\n",
       "653       2  0.305642         zy\n",
       "653       4  0.611284         zy\n",
       "\n",
       "[647 rows x 3 columns], R=30, lambda_step=0.01, plot_opts={'xlab': 'PC1', 'ylab': 'PC2'}, topic_order=[2, 5, 4, 1, 3])"
      ]
     },
     "execution_count": 10,
     "metadata": {},
     "output_type": "execute_result"
    }
   ],
   "source": [
    "# Build LDA model\n",
    "lda_model = gensim.models.ldamodel.LdaModel(corpus=corpus,\n",
    "                                           id2word=id2word,\n",
    "                                           num_topics=5, \n",
    "                                           random_state=100,\n",
    "                                           chunksize=100,\n",
    "                                           passes=10,\n",
    "                                           alpha=0.61,\n",
    "                                           eta=0.91)\n",
    "\n",
    "# Compute Perplexity\n",
    "print('\\nPerplexity: ', lda_model.log_perplexity(corpus))  # a measure of how good the model is. lower the better.\n",
    "# Compute Coherence Score\n",
    "coherence_model_lda = CoherenceModel(model=lda_model, texts=data_lemmatized, dictionary=id2word, coherence='c_v')\n",
    "coherence_lda = coherence_model_lda.get_coherence()\n",
    "print('\\nCoherence Score: ', coherence_lda)\n",
    "\n",
    "# Visualize the topics\n",
    "pyLDAvis.enable_notebook()\n",
    "vis = pyLDAvis.gensim.prepare(lda_model, corpus, id2word)\n",
    "vis"
   ]
  },
  {
   "cell_type": "code",
   "execution_count": 11,
   "id": "392209b0-cdfe-4134-8a90-7ebd77bb2098",
   "metadata": {},
   "outputs": [
    {
     "name": "stdout",
     "output_type": "stream",
     "text": [
      "[(0,\n",
      "  '0.023*\"lt_stre\" + 0.014*\"error\" + 0.010*\"swarm\" + 0.009*\"manager\" + '\n",
      "  '0.007*\"lt_key\" + 0.005*\"msg\" + 0.005*\"time_level\" + 0.005*\"connection\" + '\n",
      "  '0.004*\"info\" + 0.004*\"join\"'),\n",
      " (1,\n",
      "  '0.030*\"docker\" + 0.025*\"swarm\" + 0.019*\"service\" + 0.016*\"run\" + '\n",
      "  '0.011*\"container\" + 0.011*\"network\" + 0.010*\"node\" + 0.009*\"host\" + '\n",
      "  '0.009*\"create\" + 0.009*\"port\"'),\n",
      " (2,\n",
      "  '0.015*\"server\" + 0.010*\"operation\" + 0.008*\"wflyctl\" + 0.007*\"service\" + '\n",
      "  '0.007*\"swarm\" + 0.007*\"boot\" + 0.006*\"error\" + 0.006*\"fail\" + 0.006*\"cert\" '\n",
      "  '+ 0.005*\"org\"'),\n",
      " (3,\n",
      "  '0.009*\"cassandra\" + 0.008*\"docker\" + 0.008*\"filebeat\" + 0.006*\"space\" + '\n",
      "  '0.006*\"datum\" + 0.005*\"server\" + 0.005*\"use\" + 0.005*\"free\" + 0.005*\"pool\" '\n",
      "  '+ 0.005*\"error\"'),\n",
      " (4,\n",
      "  '0.033*\"docker\" + 0.023*\"swarm\" + 0.020*\"country\" + 0.012*\"error\" + '\n",
      "  '0.009*\"run\" + 0.009*\"container\" + 0.009*\"get\" + 0.008*\"server\" + '\n",
      "  '0.008*\"image\" + 0.007*\"try\"')]\n",
      "<gensim.interfaces.TransformedCorpus object at 0x7f35d1730fa0>\n"
     ]
    }
   ],
   "source": [
    "pprint(lda_model.print_topics())\n",
    "doc_lda = lda_model[corpus]\n",
    "print(doc_lda)"
   ]
  },
  {
   "cell_type": "code",
   "execution_count": 12,
   "metadata": {},
   "outputs": [
    {
     "name": "stdout",
     "output_type": "stream",
     "text": [
      "         Id                                              Title  \\\n",
      "0  18556005  testswarm cleanup action doesn't seem to work ...   \n",
      "1  34111372  docker swarm creation fails with \"remaining co...   \n",
      "2  34210848                    Docker-compose and Docker-swarm   \n",
      "3  36642617  How to run docker-compose against docker swarm...   \n",
      "4  38602903  docker swarm init could not choose an IP addre...   \n",
      "\n",
      "                                                Body  RatingsSentiCR  \\\n",
      "0  I have around 5 qunit tests which have timed o...              -1   \n",
      "1  Following the beginner's docs for OSX:\\n\\n# Te...               0   \n",
      "2  I'm using docker-compose and docker swarm. I h...              -1   \n",
      "3  I have managed to manually set up a docker swa...              -1   \n",
      "4  Experimenting with Docker Swarm with Docker De...              -1   \n",
      "\n",
      "   RatingsGPT35  RatingsGPTFineTuned  \\\n",
      "0            -1                 -1.0   \n",
      "1            -1                 -1.0   \n",
      "2            -1                 -1.0   \n",
      "3            -1                 -1.0   \n",
      "4            -1                 -1.0   \n",
      "\n",
      "                                              merged  topic  \n",
      "0  testswarm cleanup action doesn't seem to work ...      0  \n",
      "1  docker swarm creation fails with \"remaining co...      1  \n",
      "2  Docker-compose and Docker-swarm-I'm using dock...      4  \n",
      "3  How to run docker-compose against docker swarm...      4  \n",
      "4  docker swarm init could not choose an IP addre...      4  \n",
      "topic:  0 total data:  5\n",
      "topic:  1 total data:  17\n",
      "topic:  2 total data:  3\n",
      "topic:  3 total data:  4\n",
      "topic:  4 total data:  16\n"
     ]
    }
   ],
   "source": [
    "num_topics = 5\n",
    "topic_distributions = [lda_model[doc] for doc in corpus]\n",
    "\n",
    "# Extract the dominant topic for each document\n",
    "df['topic'] = [max(topics, key=lambda x: x[1])[0] for topics in topic_distributions]\n",
    "\n",
    "# Display the DataFrame with assigned topics\n",
    "print(df.head())\n",
    "df.to_csv('../dataset/AssignedTopicSwarm.csv')\n",
    "for i in range(num_topics): \n",
    "    topic_df = df[df['topic'] == i]\n",
    "    print('topic: ', i, 'total data: ', len(topic_df))"
   ]
  },
  {
   "cell_type": "code",
   "execution_count": null,
   "metadata": {},
   "outputs": [],
   "source": []
  }
 ],
 "metadata": {
  "kernelspec": {
   "display_name": "Python 3 (ipykernel)",
   "language": "python",
   "name": "python3"
  },
  "language_info": {
   "codemirror_mode": {
    "name": "ipython",
    "version": 3
   },
   "file_extension": ".py",
   "mimetype": "text/x-python",
   "name": "python",
   "nbconvert_exporter": "python",
   "pygments_lexer": "ipython3",
   "version": "3.10.12"
  },
  "widgets": {
   "application/vnd.jupyter.widget-state+json": {
    "state": {},
    "version_major": 2,
    "version_minor": 0
   }
  }
 },
 "nbformat": 4,
 "nbformat_minor": 5
}
