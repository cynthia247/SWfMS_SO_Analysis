{
 "cells": [
  {
   "cell_type": "markdown",
   "id": "19a3956d",
   "metadata": {},
   "source": [
    "# Necessary Tools and Services"
   ]
  },
  {
   "cell_type": "code",
   "execution_count": 32,
   "id": "57e1172e",
   "metadata": {},
   "outputs": [],
   "source": [
    "# ! pip install pandas\n",
    "# ! pip install matplotlib\n",
    "# ! pip install numpy\n",
    "# ! pip install seaborn\n",
    "# ! pip install unzip\n",
    "# ! pip install gensim\n",
    "# ! pip install nltk\n",
    "# ! pip install wordcloud\n",
    "# ! pip install spacy\n",
    "# ! pip install spacy_download\n",
    "# ! pip install pyLDAvis\n",
    "# ! pip install PyStemmer\n",
    "\n",
    "# ! python3 -m spacy download en"
   ]
  },
  {
   "cell_type": "code",
   "execution_count": 1,
   "id": "893b4ccc",
   "metadata": {},
   "outputs": [
    {
     "name": "stderr",
     "output_type": "stream",
     "text": [
      "[nltk_data] Downloading package averaged_perceptron_tagger to\n",
      "[nltk_data]     /home/uji657/nltk_data...\n",
      "[nltk_data]   Package averaged_perceptron_tagger is already up-to-\n",
      "[nltk_data]       date!\n",
      "[nltk_data] Downloading package wordnet to /home/uji657/nltk_data...\n",
      "[nltk_data]   Package wordnet is already up-to-date!\n",
      "[nltk_data] Downloading package stopwords to /home/uji657/nltk_data...\n",
      "[nltk_data]   Package stopwords is already up-to-date!\n"
     ]
    },
    {
     "name": "stdout",
     "output_type": "stream",
     "text": [
      "Collecting en-core-web-sm==3.7.1\n",
      "  Downloading https://github.com/explosion/spacy-models/releases/download/en_core_web_sm-3.7.1/en_core_web_sm-3.7.1-py3-none-any.whl (12.8 MB)\n",
      "     ━━━━━━━━━━━━━━━━━━━━━━━━━━━━━━━━━━━━━━━━ 12.8/12.8 MB 85.1 MB/s eta 0:00:00\n",
      "Requirement already satisfied: spacy<3.8.0,>=3.7.2 in /home/uji657/Downloads/Sentiment Analysis/SentiCR-master/SentiCR/.venv/lib/python3.10/site-packages (from en-core-web-sm==3.7.1) (3.7.2)\n",
      "Requirement already satisfied: pydantic!=1.8,!=1.8.1,<3.0.0,>=1.7.4 in /home/uji657/Downloads/Sentiment Analysis/SentiCR-master/SentiCR/.venv/lib/python3.10/site-packages (from spacy<3.8.0,>=3.7.2->en-core-web-sm==3.7.1) (2.5.1)\n",
      "Requirement already satisfied: catalogue<2.1.0,>=2.0.6 in /home/uji657/Downloads/Sentiment Analysis/SentiCR-master/SentiCR/.venv/lib/python3.10/site-packages (from spacy<3.8.0,>=3.7.2->en-core-web-sm==3.7.1) (2.0.10)\n",
      "Requirement already satisfied: jinja2 in /home/uji657/Downloads/Sentiment Analysis/SentiCR-master/SentiCR/.venv/lib/python3.10/site-packages (from spacy<3.8.0,>=3.7.2->en-core-web-sm==3.7.1) (3.1.2)\n",
      "Requirement already satisfied: setuptools in /home/uji657/Downloads/Sentiment Analysis/SentiCR-master/SentiCR/.venv/lib/python3.10/site-packages (from spacy<3.8.0,>=3.7.2->en-core-web-sm==3.7.1) (59.6.0)\n",
      "Requirement already satisfied: weasel<0.4.0,>=0.1.0 in /home/uji657/Downloads/Sentiment Analysis/SentiCR-master/SentiCR/.venv/lib/python3.10/site-packages (from spacy<3.8.0,>=3.7.2->en-core-web-sm==3.7.1) (0.3.4)\n",
      "Requirement already satisfied: packaging>=20.0 in /home/uji657/Downloads/Sentiment Analysis/SentiCR-master/SentiCR/.venv/lib/python3.10/site-packages (from spacy<3.8.0,>=3.7.2->en-core-web-sm==3.7.1) (23.2)\n",
      "Requirement already satisfied: numpy>=1.19.0 in /home/uji657/Downloads/Sentiment Analysis/SentiCR-master/SentiCR/.venv/lib/python3.10/site-packages (from spacy<3.8.0,>=3.7.2->en-core-web-sm==3.7.1) (1.26.2)\n",
      "Requirement already satisfied: requests<3.0.0,>=2.13.0 in /home/uji657/Downloads/Sentiment Analysis/SentiCR-master/SentiCR/.venv/lib/python3.10/site-packages (from spacy<3.8.0,>=3.7.2->en-core-web-sm==3.7.1) (2.31.0)\n",
      "Requirement already satisfied: thinc<8.3.0,>=8.1.8 in /home/uji657/Downloads/Sentiment Analysis/SentiCR-master/SentiCR/.venv/lib/python3.10/site-packages (from spacy<3.8.0,>=3.7.2->en-core-web-sm==3.7.1) (8.2.1)\n",
      "Requirement already satisfied: langcodes<4.0.0,>=3.2.0 in /home/uji657/Downloads/Sentiment Analysis/SentiCR-master/SentiCR/.venv/lib/python3.10/site-packages (from spacy<3.8.0,>=3.7.2->en-core-web-sm==3.7.1) (3.3.0)\n",
      "Requirement already satisfied: preshed<3.1.0,>=3.0.2 in /home/uji657/Downloads/Sentiment Analysis/SentiCR-master/SentiCR/.venv/lib/python3.10/site-packages (from spacy<3.8.0,>=3.7.2->en-core-web-sm==3.7.1) (3.0.9)\n",
      "Requirement already satisfied: smart-open<7.0.0,>=5.2.1 in /home/uji657/Downloads/Sentiment Analysis/SentiCR-master/SentiCR/.venv/lib/python3.10/site-packages (from spacy<3.8.0,>=3.7.2->en-core-web-sm==3.7.1) (6.4.0)\n",
      "Requirement already satisfied: spacy-legacy<3.1.0,>=3.0.11 in /home/uji657/Downloads/Sentiment Analysis/SentiCR-master/SentiCR/.venv/lib/python3.10/site-packages (from spacy<3.8.0,>=3.7.2->en-core-web-sm==3.7.1) (3.0.12)\n",
      "Requirement already satisfied: wasabi<1.2.0,>=0.9.1 in /home/uji657/Downloads/Sentiment Analysis/SentiCR-master/SentiCR/.venv/lib/python3.10/site-packages (from spacy<3.8.0,>=3.7.2->en-core-web-sm==3.7.1) (1.1.2)\n",
      "Requirement already satisfied: srsly<3.0.0,>=2.4.3 in /home/uji657/Downloads/Sentiment Analysis/SentiCR-master/SentiCR/.venv/lib/python3.10/site-packages (from spacy<3.8.0,>=3.7.2->en-core-web-sm==3.7.1) (2.4.8)\n",
      "Requirement already satisfied: spacy-loggers<2.0.0,>=1.0.0 in /home/uji657/Downloads/Sentiment Analysis/SentiCR-master/SentiCR/.venv/lib/python3.10/site-packages (from spacy<3.8.0,>=3.7.2->en-core-web-sm==3.7.1) (1.0.5)\n",
      "Requirement already satisfied: cymem<2.1.0,>=2.0.2 in /home/uji657/Downloads/Sentiment Analysis/SentiCR-master/SentiCR/.venv/lib/python3.10/site-packages (from spacy<3.8.0,>=3.7.2->en-core-web-sm==3.7.1) (2.0.8)\n",
      "Requirement already satisfied: tqdm<5.0.0,>=4.38.0 in /home/uji657/Downloads/Sentiment Analysis/SentiCR-master/SentiCR/.venv/lib/python3.10/site-packages (from spacy<3.8.0,>=3.7.2->en-core-web-sm==3.7.1) (4.66.1)\n",
      "Requirement already satisfied: murmurhash<1.1.0,>=0.28.0 in /home/uji657/Downloads/Sentiment Analysis/SentiCR-master/SentiCR/.venv/lib/python3.10/site-packages (from spacy<3.8.0,>=3.7.2->en-core-web-sm==3.7.1) (1.0.10)\n",
      "Requirement already satisfied: typer<0.10.0,>=0.3.0 in /home/uji657/Downloads/Sentiment Analysis/SentiCR-master/SentiCR/.venv/lib/python3.10/site-packages (from spacy<3.8.0,>=3.7.2->en-core-web-sm==3.7.1) (0.9.0)\n",
      "Requirement already satisfied: typing-extensions>=4.6.1 in /home/uji657/Downloads/Sentiment Analysis/SentiCR-master/SentiCR/.venv/lib/python3.10/site-packages (from pydantic!=1.8,!=1.8.1,<3.0.0,>=1.7.4->spacy<3.8.0,>=3.7.2->en-core-web-sm==3.7.1) (4.8.0)\n",
      "Requirement already satisfied: pydantic-core==2.14.3 in /home/uji657/Downloads/Sentiment Analysis/SentiCR-master/SentiCR/.venv/lib/python3.10/site-packages (from pydantic!=1.8,!=1.8.1,<3.0.0,>=1.7.4->spacy<3.8.0,>=3.7.2->en-core-web-sm==3.7.1) (2.14.3)\n",
      "Requirement already satisfied: annotated-types>=0.4.0 in /home/uji657/Downloads/Sentiment Analysis/SentiCR-master/SentiCR/.venv/lib/python3.10/site-packages (from pydantic!=1.8,!=1.8.1,<3.0.0,>=1.7.4->spacy<3.8.0,>=3.7.2->en-core-web-sm==3.7.1) (0.6.0)\n",
      "Requirement already satisfied: certifi>=2017.4.17 in /home/uji657/Downloads/Sentiment Analysis/SentiCR-master/SentiCR/.venv/lib/python3.10/site-packages (from requests<3.0.0,>=2.13.0->spacy<3.8.0,>=3.7.2->en-core-web-sm==3.7.1) (2023.7.22)\n",
      "Requirement already satisfied: urllib3<3,>=1.21.1 in /home/uji657/Downloads/Sentiment Analysis/SentiCR-master/SentiCR/.venv/lib/python3.10/site-packages (from requests<3.0.0,>=2.13.0->spacy<3.8.0,>=3.7.2->en-core-web-sm==3.7.1) (2.1.0)\n",
      "Requirement already satisfied: idna<4,>=2.5 in /home/uji657/Downloads/Sentiment Analysis/SentiCR-master/SentiCR/.venv/lib/python3.10/site-packages (from requests<3.0.0,>=2.13.0->spacy<3.8.0,>=3.7.2->en-core-web-sm==3.7.1) (3.4)\n",
      "Requirement already satisfied: charset-normalizer<4,>=2 in /home/uji657/Downloads/Sentiment Analysis/SentiCR-master/SentiCR/.venv/lib/python3.10/site-packages (from requests<3.0.0,>=2.13.0->spacy<3.8.0,>=3.7.2->en-core-web-sm==3.7.1) (3.3.2)\n",
      "Requirement already satisfied: blis<0.8.0,>=0.7.8 in /home/uji657/Downloads/Sentiment Analysis/SentiCR-master/SentiCR/.venv/lib/python3.10/site-packages (from thinc<8.3.0,>=8.1.8->spacy<3.8.0,>=3.7.2->en-core-web-sm==3.7.1) (0.7.11)\n",
      "Requirement already satisfied: confection<1.0.0,>=0.0.1 in /home/uji657/Downloads/Sentiment Analysis/SentiCR-master/SentiCR/.venv/lib/python3.10/site-packages (from thinc<8.3.0,>=8.1.8->spacy<3.8.0,>=3.7.2->en-core-web-sm==3.7.1) (0.1.3)\n",
      "Requirement already satisfied: click<9.0.0,>=7.1.1 in /home/uji657/Downloads/Sentiment Analysis/SentiCR-master/SentiCR/.venv/lib/python3.10/site-packages (from typer<0.10.0,>=0.3.0->spacy<3.8.0,>=3.7.2->en-core-web-sm==3.7.1) (8.1.7)\n",
      "Requirement already satisfied: cloudpathlib<0.17.0,>=0.7.0 in /home/uji657/Downloads/Sentiment Analysis/SentiCR-master/SentiCR/.venv/lib/python3.10/site-packages (from weasel<0.4.0,>=0.1.0->spacy<3.8.0,>=3.7.2->en-core-web-sm==3.7.1) (0.16.0)\n",
      "Requirement already satisfied: MarkupSafe>=2.0 in /home/uji657/Downloads/Sentiment Analysis/SentiCR-master/SentiCR/.venv/lib/python3.10/site-packages (from jinja2->spacy<3.8.0,>=3.7.2->en-core-web-sm==3.7.1) (2.1.3)\n",
      "\u001b[38;5;2m✔ Download and installation successful\u001b[0m\n",
      "You can now load the package via spacy.load('en_core_web_sm')\n"
     ]
    }
   ],
   "source": [
    "## Importing PD and Others\n",
    "import re\n",
    "import numpy as np\n",
    "import pandas as pd\n",
    "from pprint import pprint\n",
    "\n",
    "## Gensim\n",
    "import gensim\n",
    "import gensim.corpora as corpora\n",
    "from gensim.models import CoherenceModel\n",
    "from gensim.utils import simple_preprocess\n",
    "from gensim.parsing.preprocessing import STOPWORDS\n",
    "\n",
    "## NLTK\n",
    "from nltk.stem import WordNetLemmatizer, SnowballStemmer\n",
    "from nltk.stem.porter import *\n",
    "import nltk.stem\n",
    "import numpy as np\n",
    "np.random.seed(2018)\n",
    "import nltk\n",
    "nltk.download('averaged_perceptron_tagger')\n",
    "nltk.download('wordnet')\n",
    "nltk.download('stopwords')\n",
    "\n",
    "from nltk.corpus import stopwords\n",
    "stop_words = stopwords.words('english')\n",
    "stop_words.extend(['#', '`', '\"', '@'])\n",
    "\n",
    "import warnings\n",
    "warnings.filterwarnings(action='ignore', category=UserWarning)\n",
    "\n",
    "import matplotlib.pyplot as plt\n",
    "%matplotlib inline\n",
    "\n",
    "\n",
    "import spacy\n",
    "spacy.cli.download('en_core_web_sm')\n",
    "\n",
    "\n",
    "\n",
    "## Visualization\n",
    "import pyLDAvis\n",
    "import pyLDAvis.gensim\n",
    "\n",
    "import warnings\n",
    "warnings.filterwarnings(\"ignore\", category=DeprecationWarning)"
   ]
  },
  {
   "cell_type": "code",
   "execution_count": 4,
   "metadata": {},
   "outputs": [
    {
     "name": "stdout",
     "output_type": "stream",
     "text": [
      "96\n"
     ]
    }
   ],
   "source": [
    "def FindingPostsWithNegativeSentiments():\n",
    "    df = pd.read_csv('../dataset/SO_Workflow_Data.csv')\n",
    "    my_value = -1\n",
    "    data = df.loc[df[\"RatingsGPTFineTuned\"] == my_value]\n",
    "\n",
    "    df = data[data['Body'].str.contains('luigi', case=False)] \n",
    "    print(len(df))\n",
    "    df.to_csv('../dataset/luigi_posts.csv', index=False)\n",
    "\n",
    "FindingPostsWithNegativeSentiments()"
   ]
  },
  {
   "cell_type": "markdown",
   "id": "c3c80025",
   "metadata": {},
   "source": [
    "# Import data and Preprocess"
   ]
  },
  {
   "cell_type": "code",
   "execution_count": 2,
   "id": "093e46bc",
   "metadata": {},
   "outputs": [
    {
     "name": "stdout",
     "output_type": "stream",
     "text": [
      "96\n"
     ]
    }
   ],
   "source": [
    "df = pd.read_csv('../dataset/luigi_posts.csv')\n",
    "# my_value = -1\n",
    "# new_df = df.loc[df[\"RatingsGPTFineTuned\"] == my_value]\n",
    "df[\"merged\"] = df[[\"Title\",\"Body\"]].apply(\"-\".join, axis=1)\n",
    "#new_df.head()\n",
    "# new_df.to_csv('Dataset/ConcatenatedDatasetSO.csv')\n",
    "\n",
    "data = df.merged.values.tolist()\n",
    "print(len(df))\n",
    "#data"
   ]
  },
  {
   "cell_type": "code",
   "execution_count": 4,
   "id": "ed84875d",
   "metadata": {},
   "outputs": [
    {
     "name": "stdout",
     "output_type": "stream",
     "text": [
      "['writing output to files from python luigi-I just tried to run the python '\n",
      " 'luigi example from the documentation: class TaskA(luigi.Task): def '\n",
      " 'output(self): return luigi.LocalTarget(xyz) class '\n",
      " 'FlipLinesBackwards(luigi.Task): def requires(self): return TaskA() def '\n",
      " 'output(self): return luigi.LocalTarget(abc) def run(self): f = '\n",
      " 'self.input().open(r) # this will return a file stream that reads from \"xyz\" '\n",
      " 'g = self.output().open(w) for line in f: g.write(%s\\\\n, '\n",
      " '.join(reversed(line.strip().split()))) g.close() # needed because files are '\n",
      " 'atomic I ran it using command line: python Luigi_Test.py FlipLinesBackwards '\n",
      " '--local-scheduler I was under the impression that this would create a file '\n",
      " 'in the directory I am running it in but it doesnt? Am I doing something '\n",
      " 'wrong? ',\n",
      " 'Using Parameters in python luigi-I have am triggering Luigi via '\n",
      " 'luigi.run([\"--local-scheduler\"], main_task_cls=Test(Server = ActiveServer, '\n",
      " 'Database = DB)) and in my class I have: class Test(luigi.Task): Database = '\n",
      " 'luigi.Parameter() Server = luigi.Parameter() but the task test cant seem to '\n",
      " 'parse the parameters that Im feeding it properly? I am getting: '\n",
      " 'MissingParameterException: No value for Server (--Server) submitted and no '\n",
      " 'default value has been assigned. ']\n"
     ]
    }
   ],
   "source": [
    "# Remove Emails\n",
    "data = [re.sub('<[^<>]*>', '', sent) for sent in data]\n",
    "# Remove new line characters\n",
    "data = [re.sub('\\s+', ' ', sent) for sent in data]\n",
    "# Remove distracting single quotes\n",
    "data = [re.sub(\"\\'\", \"\", sent) for sent in data]\n",
    "\n",
    "pprint(data[:2])"
   ]
  },
  {
   "cell_type": "markdown",
   "id": "2d98f4b6",
   "metadata": {},
   "source": [
    "# Tokenize words and Clean-up text"
   ]
  },
  {
   "cell_type": "code",
   "execution_count": 5,
   "id": "b7b3a9c8",
   "metadata": {},
   "outputs": [
    {
     "name": "stdout",
     "output_type": "stream",
     "text": [
      "[['writing', 'output', 'to', 'files', 'from', 'python', 'luigi', 'just', 'tried', 'to', 'run', 'the', 'python', 'luigi', 'example', 'from', 'the', 'documentation', 'class', 'taska', 'luigi', 'task', 'def', 'output', 'self', 'return', 'luigi', 'localtarget', 'xyz', 'class', 'luigi', 'task', 'def', 'requires', 'self', 'return', 'taska', 'def', 'output', 'self', 'return', 'luigi', 'localtarget', 'abc', 'def', 'run', 'self', 'self', 'input', 'open', 'this', 'will', 'return', 'file', 'stream', 'that', 'reads', 'from', 'xyz', 'self', 'output', 'open', 'for', 'line', 'in', 'write', 'join', 'reversed', 'line', 'strip', 'split', 'close', 'needed', 'because', 'files', 'are', 'atomic', 'ran', 'it', 'using', 'command', 'line', 'python', 'luigi_test', 'py', 'local', 'scheduler', 'was', 'under', 'the', 'impression', 'that', 'this', 'would', 'create', 'file', 'in', 'the', 'directory', 'am', 'running', 'it', 'in', 'but', 'it', 'doesnt', 'am', 'doing', 'something', 'wrong']]\n"
     ]
    }
   ],
   "source": [
    "def sent_to_words(sentences):\n",
    "    for sentence in sentences:\n",
    "        yield(gensim.utils.simple_preprocess(str(sentence), deacc=True))  # deacc=True removes punctuations\n",
    "\n",
    "data_words = list(sent_to_words(data))\n",
    "\n",
    "print(data_words[:1])"
   ]
  },
  {
   "cell_type": "code",
   "execution_count": 6,
   "id": "38592eb3",
   "metadata": {},
   "outputs": [],
   "source": [
    "# Build the bigram and trigram models\n",
    "bigram = gensim.models.Phrases(data_words, min_count=5, threshold=50) # higher threshold fewer phrases.\n",
    "trigram = gensim.models.Phrases(bigram[data_words], threshold=50)  \n",
    "\n",
    "# Faster way to get a sentence clubbed as a trigram/bigram\n",
    "bigram_mod = gensim.models.phrases.Phraser(bigram)\n",
    "trigram_mod = gensim.models.phrases.Phraser(trigram)\n",
    "\n",
    "# See trigram example\n",
    "#print(trigram_mod[bigram_mod[data_words[0]]])"
   ]
  },
  {
   "cell_type": "markdown",
   "id": "3d485455",
   "metadata": {},
   "source": [
    "# Remove Stopwords, Make Bigrams and Lemmatize"
   ]
  },
  {
   "cell_type": "code",
   "execution_count": 7,
   "id": "c49abe86",
   "metadata": {},
   "outputs": [],
   "source": [
    "# Define functions for stopwords, bigrams, trigrams and lemmatization\n",
    "def remove_stopwords(texts):\n",
    "    return [[word for word in simple_preprocess(str(doc)) if word not in stop_words] for doc in texts]\n",
    "\n",
    "def make_bigrams(texts):\n",
    "    return [bigram_mod[doc] for doc in texts]\n",
    "\n",
    "def make_trigrams(texts):\n",
    "    return [trigram_mod[bigram_mod[doc]] for doc in texts]\n",
    "\n",
    "def lemmatization(texts, allowed_postags=['NOUN', 'ADJ', 'VERB', 'ADV']):\n",
    "    \"\"\"https://spacy.io/api/annotation\"\"\"\n",
    "    texts_out = []\n",
    "    for sent in texts:\n",
    "        doc = nlp(\" \".join(sent)) \n",
    "        texts_out.append([token.lemma_ for token in doc if token.pos_ in allowed_postags])\n",
    "    return texts_out"
   ]
  },
  {
   "cell_type": "code",
   "execution_count": 8,
   "id": "a1408ee7",
   "metadata": {},
   "outputs": [
    {
     "name": "stdout",
     "output_type": "stream",
     "text": [
      "[['write', 'output', 'file', 'try', 'run', 'documentation', 'class', 'taska', 'def', 'output', 'self', 'return', 'localtarget', 'def', 'require', 'self', 'return', 'def', 'output', 'self', 'return', 'run', 'self', 'self', 'input', 'open', 'return', 'file', 'stream', 'read', 'xyz', 'self', 'output', 'open', 'line', 'write', 'join', 'reverse', 'line', 'strip', 'split', 'close', 'need', 'file', 'run', 'use', 'command', 'line', 'luigi_t', 'local', 'scheduler', 'impression', 'create', 'file', 'directory', 'running', 'wrong']]\n"
     ]
    }
   ],
   "source": [
    "# Remove Stop Words\n",
    "data_words_nostops = remove_stopwords(data_words)\n",
    "\n",
    "# Form Bigrams\n",
    "data_words_bigrams = make_bigrams(data_words_nostops)\n",
    "\n",
    "# Initialize spacy 'en' model, keeping only tagger component (for efficiency)\n",
    "# python3 -m spacy download en\n",
    "nlp = spacy.load(\"en_core_web_sm\", disable=[\"parser\", \"ner\"])\n",
    "\n",
    "# Do lemmatization keeping only noun, adj, vb, adv\n",
    "data_lemmatized = lemmatization(data_words_bigrams, allowed_postags=['NOUN', 'ADJ', 'VERB', 'ADV'])\n",
    "\n",
    "print(data_lemmatized[:1])"
   ]
  },
  {
   "cell_type": "markdown",
   "id": "98003715",
   "metadata": {},
   "source": [
    "# Create the Dictionary and Corpus needed for Topic Modeling"
   ]
  },
  {
   "cell_type": "code",
   "execution_count": 9,
   "id": "cfd3247d",
   "metadata": {},
   "outputs": [
    {
     "name": "stdout",
     "output_type": "stream",
     "text": [
      "[[(0, 1), (1, 1), (2, 1), (3, 1), (4, 3), (5, 1), (6, 1), (7, 4), (8, 1), (9, 1), (10, 1), (11, 3), (12, 1), (13, 1), (14, 1), (15, 1), (16, 2), (17, 4), (18, 1), (19, 1), (20, 4), (21, 1), (22, 3), (23, 1), (24, 1), (25, 6), (26, 1), (27, 1), (28, 1), (29, 1), (30, 1), (31, 1), (32, 2), (33, 1), (34, 1)]]\n"
     ]
    }
   ],
   "source": [
    "# Create Dictionary\n",
    "id2word = corpora.Dictionary(data_lemmatized)\n",
    "\n",
    "# Create Corpus\n",
    "texts = data_lemmatized\n",
    "\n",
    "# Term Document Frequency\n",
    "corpus = [id2word.doc2bow(text) for text in texts]\n",
    "\n",
    "# View\n",
    "print(corpus[:1])"
   ]
  },
  {
   "cell_type": "code",
   "execution_count": 10,
   "id": "be414a5b",
   "metadata": {},
   "outputs": [
    {
     "data": {
      "text/plain": [
       "[[('class', 1),\n",
       "  ('close', 1),\n",
       "  ('command', 1),\n",
       "  ('create', 1),\n",
       "  ('def', 3),\n",
       "  ('directory', 1),\n",
       "  ('documentation', 1),\n",
       "  ('file', 4),\n",
       "  ('impression', 1),\n",
       "  ('input', 1),\n",
       "  ('join', 1),\n",
       "  ('line', 3),\n",
       "  ('local', 1),\n",
       "  ('localtarget', 1),\n",
       "  ('luigi_t', 1),\n",
       "  ('need', 1),\n",
       "  ('open', 2),\n",
       "  ('output', 4),\n",
       "  ('read', 1),\n",
       "  ('require', 1),\n",
       "  ('return', 4),\n",
       "  ('reverse', 1),\n",
       "  ('run', 3),\n",
       "  ('running', 1),\n",
       "  ('scheduler', 1),\n",
       "  ('self', 6),\n",
       "  ('split', 1),\n",
       "  ('stream', 1),\n",
       "  ('strip', 1),\n",
       "  ('taska', 1),\n",
       "  ('try', 1),\n",
       "  ('use', 1),\n",
       "  ('write', 2),\n",
       "  ('wrong', 1),\n",
       "  ('xyz', 1)]]"
      ]
     },
     "execution_count": 10,
     "metadata": {},
     "output_type": "execute_result"
    }
   ],
   "source": [
    "# Human readable format of corpus (term-frequency)\n",
    "[[(id2word[id], freq) for id, freq in cp] for cp in corpus[:1]]"
   ]
  },
  {
   "cell_type": "code",
   "execution_count": 10,
   "id": "2a5fd366",
   "metadata": {},
   "outputs": [],
   "source": [
    "# supporting function\n",
    "def compute_coherence_values(corpus, dictionary, k, a, b):\n",
    "    \n",
    "    lda_model = gensim.models.LdaMulticore(corpus=corpus,\n",
    "                                           id2word=id2word,\n",
    "                                           num_topics=k, \n",
    "                                           random_state=100,\n",
    "                                           chunksize=100,\n",
    "                                           passes=10,\n",
    "                                           alpha=a,\n",
    "                                           eta=b)\n",
    "    \n",
    "    coherence_model_lda = CoherenceModel(model=lda_model, texts=data_lemmatized, dictionary=id2word, coherence='c_v')\n",
    "    \n",
    "    return coherence_model_lda.get_coherence()"
   ]
  },
  {
   "cell_type": "code",
   "execution_count": 11,
   "id": "fc885ff8",
   "metadata": {},
   "outputs": [
    {
     "name": "stderr",
     "output_type": "stream",
     "text": [
      "  0%|          | 0/540 [00:00<?, ?it/s]"
     ]
    },
    {
     "name": "stderr",
     "output_type": "stream",
     "text": [
      "100%|██████████| 540/540 [09:45<00:00,  1.08s/it]\n"
     ]
    }
   ],
   "source": [
    "import numpy as np\n",
    "import tqdm\n",
    "\n",
    "grid = {}\n",
    "grid['Validation_Set'] = {}\n",
    "\n",
    "# Topics range\n",
    "min_topics = 2\n",
    "max_topics = 11\n",
    "step_size = 1\n",
    "topics_range = range(min_topics, max_topics, step_size)\n",
    "\n",
    "# Alpha parameter\n",
    "alpha = list(np.arange(0.01, 1, 0.3))\n",
    "alpha.append('symmetric')\n",
    "alpha.append('asymmetric')\n",
    "\n",
    "# Beta parameter\n",
    "beta = list(np.arange(0.01, 1, 0.3))\n",
    "beta.append('symmetric')\n",
    "\n",
    "# Validation sets\n",
    "num_of_docs = len(corpus)\n",
    "corpus_sets = [gensim.utils.ClippedCorpus(corpus, int(num_of_docs*0.75)), \n",
    "               corpus]\n",
    "\n",
    "corpus_title = ['75% Corpus', '100% Corpus']\n",
    "\n",
    "model_results = {'Validation_Set': [],\n",
    "                 'Topics': [],\n",
    "                 'Alpha': [],\n",
    "                 'Beta': [],\n",
    "                 'Coherence': []\n",
    "                }\n",
    "\n",
    "# Can take a long time to run\n",
    "if 1 == 1:\n",
    "    pbar = tqdm.tqdm(total=(len(beta)*len(alpha)*len(topics_range)*len(corpus_title)))\n",
    "    \n",
    "    # iterate through validation corpuses\n",
    "    for i in range(len(corpus_sets)):\n",
    "        # iterate through number of topics\n",
    "        for k in topics_range:\n",
    "            # iterate through alpha values\n",
    "            for a in alpha:\n",
    "                # iterare through beta values\n",
    "                for b in beta:\n",
    "                    # get the coherence score for the given parameters\n",
    "                    cv = compute_coherence_values(corpus=corpus_sets[i], dictionary=id2word, \n",
    "                                                  k=k, a=a, b=b)\n",
    "                    # Save the model results\n",
    "                    model_results['Validation_Set'].append(corpus_title[i])\n",
    "                    model_results['Topics'].append(k)\n",
    "                    model_results['Alpha'].append(a)\n",
    "                    model_results['Beta'].append(b)\n",
    "                    model_results['Coherence'].append(cv)\n",
    "                    \n",
    "                    pbar.update(1)\n",
    "    pd.DataFrame(model_results).to_csv('../dataset/lda_tuning_results.csv', index=False)\n",
    "    pbar.close()"
   ]
  },
  {
   "cell_type": "code",
   "execution_count": 12,
   "id": "41468242",
   "metadata": {},
   "outputs": [
    {
     "data": {
      "text/html": [
       "<div>\n",
       "<style scoped>\n",
       "    .dataframe tbody tr th:only-of-type {\n",
       "        vertical-align: middle;\n",
       "    }\n",
       "\n",
       "    .dataframe tbody tr th {\n",
       "        vertical-align: top;\n",
       "    }\n",
       "\n",
       "    .dataframe thead th {\n",
       "        text-align: right;\n",
       "    }\n",
       "</style>\n",
       "<table border=\"1\" class=\"dataframe\">\n",
       "  <thead>\n",
       "    <tr style=\"text-align: right;\">\n",
       "      <th></th>\n",
       "      <th>Validation_Set</th>\n",
       "      <th>Topics</th>\n",
       "      <th>Alpha</th>\n",
       "      <th>Beta</th>\n",
       "      <th>Coherence</th>\n",
       "    </tr>\n",
       "  </thead>\n",
       "  <tbody>\n",
       "    <tr>\n",
       "      <th>297</th>\n",
       "      <td>100% Corpus</td>\n",
       "      <td>2</td>\n",
       "      <td>asymmetric</td>\n",
       "      <td>0.61</td>\n",
       "      <td>0.544267</td>\n",
       "    </tr>\n",
       "    <tr>\n",
       "      <th>299</th>\n",
       "      <td>100% Corpus</td>\n",
       "      <td>2</td>\n",
       "      <td>asymmetric</td>\n",
       "      <td>symmetric</td>\n",
       "      <td>0.544267</td>\n",
       "    </tr>\n",
       "    <tr>\n",
       "      <th>298</th>\n",
       "      <td>100% Corpus</td>\n",
       "      <td>2</td>\n",
       "      <td>asymmetric</td>\n",
       "      <td>0.9099999999999999</td>\n",
       "      <td>0.542629</td>\n",
       "    </tr>\n",
       "    <tr>\n",
       "      <th>411</th>\n",
       "      <td>100% Corpus</td>\n",
       "      <td>6</td>\n",
       "      <td>symmetric</td>\n",
       "      <td>0.31</td>\n",
       "      <td>0.537383</td>\n",
       "    </tr>\n",
       "    <tr>\n",
       "      <th>391</th>\n",
       "      <td>100% Corpus</td>\n",
       "      <td>6</td>\n",
       "      <td>0.01</td>\n",
       "      <td>0.31</td>\n",
       "      <td>0.537121</td>\n",
       "    </tr>\n",
       "    <tr>\n",
       "      <th>...</th>\n",
       "      <td>...</td>\n",
       "      <td>...</td>\n",
       "      <td>...</td>\n",
       "      <td>...</td>\n",
       "      <td>...</td>\n",
       "    </tr>\n",
       "    <tr>\n",
       "      <th>528</th>\n",
       "      <td>100% Corpus</td>\n",
       "      <td>10</td>\n",
       "      <td>0.9099999999999999</td>\n",
       "      <td>0.9099999999999999</td>\n",
       "      <td>0.434032</td>\n",
       "    </tr>\n",
       "    <tr>\n",
       "      <th>423</th>\n",
       "      <td>100% Corpus</td>\n",
       "      <td>7</td>\n",
       "      <td>0.01</td>\n",
       "      <td>0.9099999999999999</td>\n",
       "      <td>0.431641</td>\n",
       "    </tr>\n",
       "    <tr>\n",
       "      <th>453</th>\n",
       "      <td>100% Corpus</td>\n",
       "      <td>8</td>\n",
       "      <td>0.01</td>\n",
       "      <td>0.9099999999999999</td>\n",
       "      <td>0.425680</td>\n",
       "    </tr>\n",
       "    <tr>\n",
       "      <th>473</th>\n",
       "      <td>100% Corpus</td>\n",
       "      <td>8</td>\n",
       "      <td>symmetric</td>\n",
       "      <td>0.9099999999999999</td>\n",
       "      <td>0.422407</td>\n",
       "    </tr>\n",
       "    <tr>\n",
       "      <th>518</th>\n",
       "      <td>100% Corpus</td>\n",
       "      <td>10</td>\n",
       "      <td>0.31</td>\n",
       "      <td>0.9099999999999999</td>\n",
       "      <td>0.421497</td>\n",
       "    </tr>\n",
       "  </tbody>\n",
       "</table>\n",
       "<p>268 rows × 5 columns</p>\n",
       "</div>"
      ],
      "text/plain": [
       "    Validation_Set  Topics               Alpha                Beta  Coherence\n",
       "297    100% Corpus       2          asymmetric                0.61   0.544267\n",
       "299    100% Corpus       2          asymmetric           symmetric   0.544267\n",
       "298    100% Corpus       2          asymmetric  0.9099999999999999   0.542629\n",
       "411    100% Corpus       6           symmetric                0.31   0.537383\n",
       "391    100% Corpus       6                0.01                0.31   0.537121\n",
       "..             ...     ...                 ...                 ...        ...\n",
       "528    100% Corpus      10  0.9099999999999999  0.9099999999999999   0.434032\n",
       "423    100% Corpus       7                0.01  0.9099999999999999   0.431641\n",
       "453    100% Corpus       8                0.01  0.9099999999999999   0.425680\n",
       "473    100% Corpus       8           symmetric  0.9099999999999999   0.422407\n",
       "518    100% Corpus      10                0.31  0.9099999999999999   0.421497\n",
       "\n",
       "[268 rows x 5 columns]"
      ]
     },
     "execution_count": 12,
     "metadata": {},
     "output_type": "execute_result"
    }
   ],
   "source": [
    "results = pd.read_csv('../dataset/lda_tuning_results.csv')\n",
    "results = results.loc[272:]\n",
    "results.sort_values(by=['Coherence'], ascending=False)"
   ]
  },
  {
   "cell_type": "code",
   "execution_count": 11,
   "id": "1a9f15c6",
   "metadata": {},
   "outputs": [
    {
     "name": "stdout",
     "output_type": "stream",
     "text": [
      "\n",
      "Perplexity:  -6.296507282784464\n",
      "\n",
      "Coherence Score:  0.3406418101810571\n"
     ]
    },
    {
     "data": {
      "text/html": [
       "\n",
       "<link rel=\"stylesheet\" type=\"text/css\" href=\"https://cdn.jsdelivr.net/gh/bmabey/pyLDAvis@3.4.0/pyLDAvis/js/ldavis.v1.0.0.css\">\n",
       "\n",
       "\n",
       "<div id=\"ldavis_el3797331396420319007048819483127\" style=\"background-color:white;\"></div>\n",
       "<script type=\"text/javascript\">\n",
       "\n",
       "var ldavis_el3797331396420319007048819483127_data = {\"mdsDat\": {\"x\": [0.0927206645210283, 0.06686671481619956, -0.02455897356400522, -0.001401304463480149, -0.05127328791046484, -0.0823538133992776], \"y\": [0.05136547099746409, -0.061547296349902025, 0.007730222185408087, 0.0033607623503267526, -0.016971786526816125, 0.0160626273435192], \"topics\": [1, 2, 3, 4, 5, 6], \"cluster\": [1, 1, 1, 1, 1, 1], \"Freq\": [40.16332731517941, 33.75942321510202, 9.309452687471156, 8.998513194527542, 5.280212421737022, 2.489071165982857]}, \"tinfo\": {\"Term\": [\"self\", \"task\", \"scheduler\", \"user\", \"pid\", \"worker\", \"luigi\", \"output\", \"run\", \"file\", \"debug\", \"def\", \"luigid\", \"parameter\", \"try\", \"test\", \"line\", \"time\", \"use\", \"path\", \"m\", \"worker_salt\", \"return\", \"lib_python\", \"info\", \"error\", \"filename\", \"create\", \"site_package\", \"get\", \"user\", \"users_emmanuel\", \"lib_python\", \"env_lib\", \"requesttask_iteration\", \"documents_attributiondata\", \"python_site\", \"first_file\", \"task_list\", \"package\", \"second_file\", \"site_package\", \"local_username\", \"line\", \"action\", \"data_warehouse\", \"venv\", \"lead\", \"response\", \"apache_beam\", \"session\", \"emmanuel\", \"probability\", \"request\", \"panda\", \"http_localhost\", \"wrapper\", \"perform_request\", \"body\", \"miniconda\", \"dist_package\", \"local\", \"worker\", \"file\", \"last\", \"state\", \"debug\", \"worker_salt\", \"import\", \"scheduler\", \"elasticsearch\", \"error\", \"datum\", \"run\", \"info\", \"traceback\", \"self\", \"fail\", \"task\", \"use\", \"luigi\", \"return\", \"pid\", \"work\", \"def\", \"class\", \"require\", \"output\", \"complete\", \"yield\", \"arg\", \"word\", \"taskb\", \"out_file\", \"runalltask\", \"print_file\", \"date\", \"depend\", \"prepdata\", \"argument\", \"job_num\", \"queue\", \"client\", \"result\", \"downloaddata\", \"top\", \"source_path\", \"mhigu\", \"pass\", \"flatten\", \"input_file\", \"alia\", \"tuna\", \"tunapc\", \"doesnt_work\", \"target\", \"touch\", \"method\", \"txt\", \"output\", \"machine\", \"require\", \"def\", \"dependency\", \"task\", \"class\", \"self\", \"first\", \"format\", \"example\", \"return\", \"run\", \"open\", \"complete\", \"path\", \"luigi\", \"get\", \"print\", \"write\", \"parameter\", \"file\", \"try\", \"work\", \"use\", \"fail\", \"worker\", \"import\", \"error\", \"obs_num\", \"concourse\", \"tag\", \"buffer\", \"home\", \"test\", \"testclass\", \"event\", \"position\", \"retcode\", \"partition\", \"failure\", \"state_machine\", \"lead_to_opps\", \"fake\", \"sys\", \"trigger\", \"elem\", \"cmdline_parser\", \"duplicate\", \"consume\", \"binary\", \"shell\", \"image\", \"false\", \"vagrant\", \"byte\", \"my_task\", \"dictparameter\", \"toml\", \"random\", \"job\", \"append\", \"decode\", \"mean\", \"size\", \"m\", \"try\", \"luigi\", \"use\", \"get\", \"error\", \"open\", \"file\", \"library\", \"print\", \"self\", \"output\", \"input\", \"pass\", \"value\", \"return\", \"also\", \"pipeline\", \"write\", \"def\", \"run\", \"datum\", \"class\", \"task\", \"local\", \"import\", \"require\", \"filename_xlsx\", \"stageprovider\", \"flag\", \"import_logfile\", \"root\", \"errorslogfile\", \"timestr\", \"splitext\", \"dupslogfile\", \"share\", \"unfulfilled_dependency\", \"out_dir\", \"click\", \"core\", \"boundary\", \"spotify\", \"simplify\", \"createpartial\", \"sleep\", \"geometry\", \"utilize\", \"simply\", \"volume\", \"informed_scheduler\", \"task_a\", \"kill\", \"os_path\", \"retry\", \"out_clean\", \"outdir\", \"point\", \"docker\", \"pid\", \"runtimeerror_unfulfille\", \"filename\", \"time\", \"df\", \"scheduler\", \"finish_info\", \"do\", \"debug\", \"task\", \"run\", \"self\", \"return\", \"worker_salt\", \"worker\", \"info\", \"def\", \"pende\", \"output\", \"follow\", \"create\", \"luigi\", \"file\", \"import\", \"complete\", \"class\", \"startdate\", \"endpoint\", \"transfer\", \"listid\", \"filesuffix\", \"enddate\", \"messagepath\", \"notebook\", \"contactpath\", \"uploadpath\", \"liststep\", \"unzip\", \"logfile\", \"pipelinenamelog\", \"listdict\", \"pipelinelog\", \"task_config\", \"summary\", \"subscribe\", \"mmessage\", \"datalake\", \"containerclient\", \"pathfile\", \"gmessage\", \"finaltask\", \"grant\", \"permission\", \"today\", \"required_task\", \"requiredinput\", \"step\", \"transform\", \"requirement\", \"none\", \"instance\", \"self\", \"parameter\", \"available\", \"path\", \"m\", \"s\", \"task\", \"luigi\", \"run\", \"message\", \"def\", \"file\", \"return\", \"output\", \"start\", \"morning\", \"branch\", \"afternoon\", \"service\", \"luigi_app\", \"python_version\", \"subclass\", \"copy\", \"hour\", \"flow\", \"child\", \"skip\", \"cfg\", \"unable\", \"cmd\", \"sqlite\", \"entrypoint\", \"docker\", \"ip\", \"reuse\", \"env\", \"condition\", \"connect\", \"inherit\", \"yet\", \"gcc\", \"dev\", \"display\", \"length\", \"pip\", \"luigid\", \"port\", \"core\", \"central\", \"keep\", \"default\", \"scheduler\", \"create\", \"luigi\", \"run\", \"task\", \"try\", \"build\", \"file\", \"txt\", \"print\"], \"Freq\": [454.0, 399.0, 80.0, 73.0, 46.0, 140.0, 156.0, 142.0, 302.0, 278.0, 53.0, 168.0, 14.0, 42.0, 62.0, 18.0, 102.0, 40.0, 76.0, 48.0, 30.0, 42.0, 162.0, 47.0, 64.0, 76.0, 28.0, 32.0, 72.0, 67.0, 69.49263929680637, 29.023879046000083, 43.600349375031556, 12.196296274910928, 12.193703425113855, 22.343839063970822, 21.639077913527373, 11.401157739128122, 11.392494219940197, 27.30064550231263, 10.645767131493464, 60.67812167187261, 9.790249576453384, 84.3933213517802, 9.096101237015139, 8.36669373979309, 8.361228772030278, 8.347455265951712, 8.34670806845155, 8.330545888637, 11.449534433092095, 8.3301412600904, 9.371611076726017, 17.096907751757996, 15.194024098147882, 9.312163571960227, 15.029548799914558, 7.599604898871014, 7.590003038636374, 7.579491384767818, 10.673789520133258, 28.438565235466243, 102.56107358734589, 194.01099763739975, 20.46553969754627, 12.675086035189123, 37.6647837182218, 29.705124575450068, 52.579081647907884, 50.31978975148796, 17.657945090687736, 46.481681949144445, 36.182055921388795, 139.1246991929453, 39.24753171996019, 17.26322994348009, 159.48861630689396, 36.80806096588494, 135.87071117456557, 39.74254385785819, 64.49236880188538, 61.498122521817784, 25.65561945777003, 28.324668505557835, 46.59951077486765, 36.4598818251118, 29.518320235642136, 28.35978927044917, 23.967826906473977, 26.7330597869482, 18.57819211822145, 14.423729193803627, 12.058175676438404, 17.486003021699894, 11.115621218495109, 8.402633985694365, 18.795678041466196, 11.38620007298836, 8.093116489562524, 10.118450628681918, 6.080450997803133, 6.042633369224604, 12.032725706603939, 12.563266915916932, 6.558398489221966, 5.931302009833955, 5.297937455560091, 5.308175763298491, 18.87816874470763, 5.166729371348328, 4.543950018105066, 4.5184943101860675, 5.053510703790484, 5.049767907743048, 5.301419429583316, 10.783869166443283, 5.341665832851302, 20.69568511137575, 9.663390269887648, 95.16298959031879, 10.243080781443066, 64.08356655299507, 101.17833836759061, 25.64950285613995, 225.0960839383833, 67.45422173628572, 240.67566366837804, 19.41061082493308, 15.360425589083132, 17.32839974863792, 78.00643399726478, 130.54103918785873, 28.98278537322537, 35.2330701104498, 26.29754334407215, 61.323940169112916, 31.634679741650995, 16.367017070410846, 21.277003152362248, 21.897770002866693, 57.2052015157073, 25.322598963874167, 24.197669400297386, 24.707753816607422, 22.697277143275215, 25.9261035695282, 21.36618550545685, 17.967699568894744, 5.963946419884975, 5.467300770825258, 3.387799077774987, 2.5298171129252127, 2.4712037154703657, 9.074666048597138, 2.101152808977212, 2.0999381576963536, 2.092561064341601, 3.742726108573344, 2.049547103587534, 2.042960310343752, 1.6694157710156614, 1.6682979293406794, 2.1543939206212803, 1.635422796894136, 3.316165147949444, 1.6240465893447908, 1.6192055336595705, 1.6116489181827771, 1.6052112951637996, 1.5714174064724857, 1.7050467406529535, 2.0645543186725757, 5.064281662323894, 1.2496878711619328, 1.2462916233242893, 1.2452570695568885, 1.2446685879853596, 1.2447738846146335, 2.52421481439557, 4.038023312979082, 3.837239039609272, 3.173944500676928, 1.6836705179753872, 3.236712224161048, 6.250103531634895, 9.565026697211183, 16.65829845397471, 9.830659021732542, 8.712658538719387, 9.287059131496532, 6.983843241725681, 16.39960017141717, 2.493442593729565, 4.381429281438915, 16.350736781519945, 8.779916041428773, 4.452735238156884, 4.124487381181147, 3.2755566110132963, 7.331364121902736, 3.1357865557849185, 4.170128003752892, 4.231939139006587, 6.260194170911262, 5.740506972565914, 4.133067905684131, 4.542863111205404, 5.17651233356154, 3.657191297509405, 3.778138573320107, 3.7533472587359973, 7.17235503737109, 6.315440772671704, 6.810289679626619, 5.47377510613648, 6.344993587058796, 4.629105826719264, 3.783575313240801, 3.7821100751818055, 3.7779106901127424, 3.3494613441865932, 3.240923327458528, 2.0932809709163775, 2.092610087102119, 2.46932991108571, 2.0701664164537243, 2.0585734051000637, 2.5269166310957565, 1.9644793430888825, 2.05852390569325, 1.6451397598481519, 1.6301293428184618, 2.066334105637437, 1.6391645140380096, 3.1920409947106982, 1.5469967575942347, 1.5273664886241205, 4.227834714085925, 1.9737891247816242, 1.2393743513540318, 1.2391643960049066, 5.831853815026564, 2.485148864774449, 12.068346927042237, 2.7247154264635145, 6.536021809068731, 8.356125564896452, 3.757327001388355, 11.597014687708697, 3.091169546221094, 6.13507939474356, 8.06535047642587, 25.077138089695374, 20.445103733464006, 22.94501065171936, 13.112854488622556, 6.401784979521162, 10.713428029160287, 7.352796504227113, 10.662048757233919, 4.59403716551111, 7.667310173390066, 4.489036965937446, 4.788184406323416, 7.091856766083638, 6.702461617873809, 5.187012250483356, 5.026612481655767, 4.302395003161624, 4.499014901090191, 3.3019026653488472, 2.687370641328788, 2.6873086338282843, 2.3855189447673024, 2.384358262264462, 2.3831238234715495, 2.3219896496596326, 2.084606335483175, 2.083831078549252, 2.0829236477326774, 1.7405030544340652, 1.4810785214932085, 1.4806203187000164, 1.4804697057448466, 1.4806650293714319, 1.4517215599128601, 1.4839522427862668, 1.1800130963558673, 1.179661285379328, 1.1794857878351406, 1.1795325382269675, 1.1790189366274046, 1.1785905953410338, 1.1637493448620386, 1.161808346918655, 1.1613445144971277, 1.4887971498847956, 1.1516087657964078, 1.1391035663100548, 3.093625671908599, 2.3215208403203014, 2.6553796663981157, 3.365614066694837, 2.097937295380835, 15.118615250430246, 4.271938538918431, 1.4557753818470742, 3.9151470546676674, 3.024329352898864, 1.64023317303481, 7.4907292877901615, 5.172627182056815, 5.424340755954831, 2.034496932083097, 3.116075324288155, 3.1217261657155926, 2.498696992817365, 2.428642060992263, 1.7314558337553803, 1.8527956823451566, 1.67892526417472, 1.6772782255536347, 0.6798031142107323, 0.6795118902139347, 0.6792542038987546, 0.6705117148982198, 1.1077597005136721, 0.9199949131500141, 0.990692884448651, 0.6494041288334469, 1.0538827995783977, 0.6867329530568734, 0.5050986769739257, 0.5046433414089381, 0.5046302263293148, 0.5045326901359869, 1.224180839286269, 0.4966659884612678, 0.49628953567724055, 0.6885689872828535, 0.46494991832825977, 1.277696133246122, 0.4913202666225351, 0.4746324239301851, 0.33095849584607545, 0.3308995356787365, 0.3308769208200311, 0.3308560751509524, 0.3308347294935009, 1.6633693182369598, 0.8274593727624077, 0.5009238894435001, 0.7820278138916859, 0.7022040548138447, 0.6772980186207413, 1.5049380794889275, 0.8709869759097453, 1.3304439835144672, 1.3440987428952156, 1.1797680259553218, 0.8468683060217712, 0.6312955114889973, 0.8586578780083444, 0.5817913550191085, 0.5938914582457957], \"Total\": [454.0, 399.0, 80.0, 73.0, 46.0, 140.0, 156.0, 142.0, 302.0, 278.0, 53.0, 168.0, 14.0, 42.0, 62.0, 18.0, 102.0, 40.0, 76.0, 48.0, 30.0, 42.0, 162.0, 47.0, 64.0, 76.0, 28.0, 32.0, 72.0, 67.0, 73.33332135386247, 31.466984465156404, 47.304612414229176, 14.156536279811094, 14.154259994895273, 25.9488488922453, 25.212701665816947, 13.369437517361476, 13.365522770856533, 32.040786185113134, 12.606912692857174, 72.90583314501514, 11.837998405168767, 102.52174968941316, 11.063447917394857, 10.31020948947429, 10.307863116589937, 10.300848421340676, 10.304987315724063, 10.286327451173092, 14.148497226310754, 10.294183614439412, 11.615466537640861, 21.20642295532147, 18.88162390736423, 11.576092533478821, 18.862503542890618, 9.544747300730817, 9.54010879136643, 9.529765167646698, 13.46989233716631, 37.053243655100474, 140.43166763666085, 278.298644986122, 27.164811636206284, 16.19979495296298, 53.273590279791456, 42.43016112028049, 83.6213682146601, 80.56942534164797, 24.181004193810423, 76.33748087587774, 57.975010012506516, 302.619788585684, 64.83056586565326, 23.781162562601807, 454.9279896117783, 66.75654472331716, 399.8909428499512, 76.45809905519809, 156.06953535662794, 162.84021160462734, 46.22309112664116, 59.56401825743798, 168.1511332590845, 114.62144454227938, 103.40887629796114, 142.71195492750883, 65.97149358928304, 29.656281037721257, 20.92123478676903, 16.491838093150697, 14.111894644518477, 20.512707740298286, 13.446359245057135, 10.358375909758355, 23.403683779816774, 14.464528008171351, 10.353085180205365, 13.39331202668061, 8.04865504162735, 8.01988458005013, 15.999959931970267, 16.8532769408412, 8.8048882250151, 7.995963754881876, 7.259896154167043, 7.2739365725678, 25.938811360962987, 7.2618847413070435, 6.485319731090226, 6.4771480739707945, 7.2631561326423695, 7.259271321337316, 7.632710644544983, 15.533116644936918, 7.704044885066631, 30.006629055060397, 14.110755120160976, 142.71195492750883, 15.175507251803253, 103.40887629796114, 168.1511332590845, 39.776957129813006, 399.8909428499512, 114.62144454227938, 454.9279896117783, 30.406835561508156, 23.534764728101603, 27.348493518773427, 162.84021160462734, 302.619788585684, 51.83594432289832, 65.97149358928304, 48.69306885877708, 156.06953535662794, 67.12993608510781, 27.45085788152964, 40.637041498605775, 42.76882718042234, 278.298644986122, 62.428133853994616, 59.56401825743798, 76.45809905519809, 66.75654472331716, 140.43166763666085, 83.6213682146601, 76.33748087587774, 8.261923082012254, 7.876942667224895, 5.6628947514735986, 4.794082780192471, 4.845028403240802, 18.15705087393058, 4.365876251819659, 4.363849072152622, 4.368417007608981, 7.925778712533421, 4.400427843297996, 4.793333885012354, 3.9334447545901288, 3.9331295986315986, 5.082574835781487, 3.959091196608318, 8.028984469148542, 3.9659877114254245, 3.9719320025999734, 3.9769837992216783, 3.9801028351270316, 3.9977371441784464, 4.498932658888609, 5.45651641964421, 13.94117034541148, 3.4899076497047083, 3.492440622806944, 3.4929925657939234, 3.493407066326068, 3.4940883283133695, 7.0933315717114445, 12.455611520445286, 12.22289679664633, 10.438259180775281, 5.062307206402632, 11.599029107769951, 30.195506226994624, 62.428133853994616, 156.06953535662794, 76.45809905519809, 67.12993608510781, 76.33748087587774, 51.83594432289832, 278.298644986122, 8.664052854599724, 27.45085788152964, 454.9279896117783, 142.71195492750883, 31.323684185371196, 25.938811360962987, 15.544948009720226, 162.84021160462734, 14.788617908187854, 38.13939350159588, 40.637041498605775, 168.1511332590845, 302.619788585684, 57.975010012506516, 114.62144454227938, 399.8909428499512, 37.053243655100474, 83.6213682146601, 103.40887629796114, 9.493425530973528, 8.637990208875562, 9.383319834350804, 7.776084844334082, 9.07023413658161, 6.917864319359879, 6.056756911314746, 6.058723782060378, 6.061884565061538, 5.633569485304787, 5.714052582680242, 4.339224962857035, 4.33934503810022, 5.174117839918358, 4.351405350575048, 4.351600917605673, 5.530929862689519, 4.435719286458699, 4.657876247991034, 3.923062795254887, 3.9210227641708806, 5.118811149775415, 4.122034609927414, 8.063014408793606, 4.00139297378178, 4.002446955204447, 11.116110744924091, 5.326384114776921, 3.483297093203208, 3.4832937969293876, 16.479548635589452, 7.358034863684368, 46.22309112664116, 8.449060674782682, 28.54846621729648, 40.36866949117385, 13.971486927885332, 80.56942534164797, 10.465378914959398, 32.53381691978134, 53.273590279791456, 399.8909428499512, 302.619788585684, 454.9279896117783, 162.84021160462734, 42.43016112028049, 140.43166763666085, 64.83056586565326, 168.1511332590845, 25.412892800118, 142.71195492750883, 24.86920969891709, 32.085520347740726, 156.06953535662794, 278.298644986122, 83.6213682146601, 65.97149358928304, 114.62144454227938, 6.913952003211064, 6.117626064882101, 5.078226144290999, 5.079083563472852, 4.771825770025401, 4.773236706422077, 4.776570937469972, 4.8673180059044565, 4.466086282966363, 4.46708478619554, 4.468527922110606, 4.225120427751401, 3.8536603968256333, 3.853448325792616, 3.854060990063348, 3.8549954957881543, 3.8983755846585315, 4.049620896403506, 3.546831198088197, 3.547361800826321, 3.5472415764546796, 3.5477047009742817, 3.547884708657252, 3.5492351331855816, 3.571269644999239, 3.5742104794451914, 3.574688926878326, 4.613329863550723, 3.5898733503959024, 3.608012249379418, 9.83476878609521, 7.815939445357942, 9.265880440729624, 14.418783821450416, 9.285449415322502, 454.9279896117783, 42.76882718042234, 5.437703296969378, 48.69306885877708, 30.195506226994624, 7.777384231276016, 399.8909428499512, 156.06953535662794, 302.619788585684, 19.300812352193265, 168.1511332590845, 278.298644986122, 162.84021160462734, 142.71195492750883, 18.109776660349556, 4.629109730953169, 4.445078059843297, 4.449002608082721, 3.182901930089145, 3.184082841508439, 3.184644504978809, 3.21335816520555, 5.338403642778951, 4.441430703226024, 5.003013058779277, 3.2879905589020852, 5.555113965299971, 4.0447337110169315, 3.0029018575308046, 3.003997658514893, 3.004028009944861, 3.004653839750648, 7.358034863684368, 3.029764332436383, 3.0308428177850786, 4.50708353119642, 3.1413110109989577, 9.371954330475631, 4.004431662236158, 3.8684946400873415, 2.820674933825136, 2.820902601643188, 2.821006534855589, 2.8208664758207322, 2.8211022323724326, 14.26240468577486, 9.41004007229253, 5.174117839918358, 10.389534395961102, 9.32393651457938, 10.071650665804269, 80.56942534164797, 32.085520347740726, 156.06953535662794, 302.619788585684, 399.8909428499512, 62.428133853994616, 12.814041857636916, 278.298644986122, 14.110755120160976, 27.45085788152964], \"Category\": [\"Default\", \"Default\", \"Default\", \"Default\", \"Default\", \"Default\", \"Default\", \"Default\", \"Default\", \"Default\", \"Default\", \"Default\", \"Default\", \"Default\", \"Default\", \"Default\", \"Default\", \"Default\", \"Default\", \"Default\", \"Default\", \"Default\", \"Default\", \"Default\", \"Default\", \"Default\", \"Default\", \"Default\", \"Default\", \"Default\", \"Topic1\", \"Topic1\", \"Topic1\", \"Topic1\", \"Topic1\", \"Topic1\", \"Topic1\", \"Topic1\", \"Topic1\", \"Topic1\", \"Topic1\", \"Topic1\", \"Topic1\", \"Topic1\", \"Topic1\", \"Topic1\", \"Topic1\", \"Topic1\", \"Topic1\", \"Topic1\", \"Topic1\", \"Topic1\", \"Topic1\", \"Topic1\", \"Topic1\", \"Topic1\", \"Topic1\", \"Topic1\", \"Topic1\", \"Topic1\", \"Topic1\", \"Topic1\", \"Topic1\", \"Topic1\", \"Topic1\", \"Topic1\", \"Topic1\", \"Topic1\", \"Topic1\", \"Topic1\", \"Topic1\", \"Topic1\", \"Topic1\", \"Topic1\", \"Topic1\", \"Topic1\", \"Topic1\", \"Topic1\", \"Topic1\", \"Topic1\", \"Topic1\", \"Topic1\", \"Topic1\", \"Topic1\", \"Topic1\", \"Topic1\", \"Topic1\", \"Topic1\", \"Topic1\", \"Topic2\", \"Topic2\", \"Topic2\", \"Topic2\", \"Topic2\", \"Topic2\", \"Topic2\", \"Topic2\", \"Topic2\", \"Topic2\", \"Topic2\", \"Topic2\", \"Topic2\", \"Topic2\", \"Topic2\", \"Topic2\", \"Topic2\", \"Topic2\", \"Topic2\", \"Topic2\", \"Topic2\", \"Topic2\", \"Topic2\", \"Topic2\", \"Topic2\", \"Topic2\", \"Topic2\", \"Topic2\", \"Topic2\", \"Topic2\", \"Topic2\", \"Topic2\", \"Topic2\", \"Topic2\", \"Topic2\", \"Topic2\", \"Topic2\", \"Topic2\", \"Topic2\", \"Topic2\", \"Topic2\", \"Topic2\", \"Topic2\", \"Topic2\", \"Topic2\", \"Topic2\", \"Topic2\", \"Topic2\", \"Topic2\", \"Topic2\", \"Topic2\", \"Topic2\", \"Topic2\", \"Topic2\", \"Topic2\", \"Topic2\", \"Topic2\", \"Topic2\", \"Topic2\", \"Topic3\", \"Topic3\", \"Topic3\", \"Topic3\", \"Topic3\", \"Topic3\", \"Topic3\", \"Topic3\", \"Topic3\", \"Topic3\", \"Topic3\", \"Topic3\", \"Topic3\", \"Topic3\", \"Topic3\", \"Topic3\", \"Topic3\", \"Topic3\", \"Topic3\", \"Topic3\", \"Topic3\", \"Topic3\", \"Topic3\", \"Topic3\", \"Topic3\", \"Topic3\", \"Topic3\", \"Topic3\", \"Topic3\", \"Topic3\", \"Topic3\", \"Topic3\", \"Topic3\", \"Topic3\", \"Topic3\", \"Topic3\", \"Topic3\", \"Topic3\", \"Topic3\", \"Topic3\", \"Topic3\", \"Topic3\", \"Topic3\", \"Topic3\", \"Topic3\", \"Topic3\", \"Topic3\", \"Topic3\", \"Topic3\", \"Topic3\", \"Topic3\", \"Topic3\", \"Topic3\", \"Topic3\", \"Topic3\", \"Topic3\", \"Topic3\", \"Topic3\", \"Topic3\", \"Topic3\", \"Topic3\", \"Topic3\", \"Topic3\", \"Topic4\", \"Topic4\", \"Topic4\", \"Topic4\", \"Topic4\", \"Topic4\", \"Topic4\", \"Topic4\", \"Topic4\", \"Topic4\", \"Topic4\", \"Topic4\", \"Topic4\", \"Topic4\", \"Topic4\", \"Topic4\", \"Topic4\", \"Topic4\", \"Topic4\", \"Topic4\", \"Topic4\", \"Topic4\", \"Topic4\", \"Topic4\", \"Topic4\", \"Topic4\", \"Topic4\", \"Topic4\", \"Topic4\", \"Topic4\", \"Topic4\", \"Topic4\", \"Topic4\", \"Topic4\", \"Topic4\", \"Topic4\", \"Topic4\", \"Topic4\", \"Topic4\", \"Topic4\", \"Topic4\", \"Topic4\", \"Topic4\", \"Topic4\", \"Topic4\", \"Topic4\", \"Topic4\", \"Topic4\", \"Topic4\", \"Topic4\", \"Topic4\", \"Topic4\", \"Topic4\", \"Topic4\", \"Topic4\", \"Topic4\", \"Topic4\", \"Topic4\", \"Topic5\", \"Topic5\", \"Topic5\", \"Topic5\", \"Topic5\", \"Topic5\", \"Topic5\", \"Topic5\", \"Topic5\", \"Topic5\", \"Topic5\", \"Topic5\", \"Topic5\", \"Topic5\", \"Topic5\", \"Topic5\", \"Topic5\", \"Topic5\", \"Topic5\", \"Topic5\", \"Topic5\", \"Topic5\", \"Topic5\", \"Topic5\", \"Topic5\", \"Topic5\", \"Topic5\", \"Topic5\", \"Topic5\", \"Topic5\", \"Topic5\", \"Topic5\", \"Topic5\", \"Topic5\", \"Topic5\", \"Topic5\", \"Topic5\", \"Topic5\", \"Topic5\", \"Topic5\", \"Topic5\", \"Topic5\", \"Topic5\", \"Topic5\", \"Topic5\", \"Topic5\", \"Topic5\", \"Topic5\", \"Topic5\", \"Topic5\", \"Topic6\", \"Topic6\", \"Topic6\", \"Topic6\", \"Topic6\", \"Topic6\", \"Topic6\", \"Topic6\", \"Topic6\", \"Topic6\", \"Topic6\", \"Topic6\", \"Topic6\", \"Topic6\", \"Topic6\", \"Topic6\", \"Topic6\", \"Topic6\", \"Topic6\", \"Topic6\", \"Topic6\", \"Topic6\", \"Topic6\", \"Topic6\", \"Topic6\", \"Topic6\", \"Topic6\", \"Topic6\", \"Topic6\", \"Topic6\", \"Topic6\", \"Topic6\", \"Topic6\", \"Topic6\", \"Topic6\", \"Topic6\", \"Topic6\", \"Topic6\", \"Topic6\", \"Topic6\", \"Topic6\", \"Topic6\", \"Topic6\", \"Topic6\", \"Topic6\", \"Topic6\"], \"logprob\": [30.0, 29.0, 28.0, 27.0, 26.0, 25.0, 24.0, 23.0, 22.0, 21.0, 20.0, 19.0, 18.0, 17.0, 16.0, 15.0, 14.0, 13.0, 12.0, 11.0, 10.0, 9.0, 8.0, 7.0, 6.0, 5.0, 4.0, 3.0, 2.0, 1.0, -4.3401, -5.2132, -4.8062, -6.0801, -6.0804, -5.4747, -5.5068, -6.1476, -6.1483, -5.2744, -6.2161, -4.4757, -6.2999, -4.1458, -6.3734, -6.457, -6.4577, -6.4593, -6.4594, -6.4613, -6.1433, -6.4614, -6.3436, -5.7424, -5.8604, -6.3499, -5.8713, -6.5532, -6.5544, -6.5558, -6.2135, -5.2335, -3.9508, -3.3134, -5.5625, -6.0416, -4.9525, -5.19, -4.619, -4.6629, -5.7101, -4.7422, -4.9927, -3.6459, -4.9114, -5.7327, -3.5093, -4.9756, -3.6696, -4.8988, -4.4147, -4.4623, -5.3365, -5.2375, -4.7397, -4.9851, -5.1963, -5.2363, -5.4046, -5.1217, -5.4856, -5.7387, -5.9178, -5.5462, -5.9992, -6.279, -5.4739, -5.9752, -6.3166, -6.0932, -6.6025, -6.6087, -5.9199, -5.8768, -6.5268, -6.6273, -6.7403, -6.7383, -5.4696, -6.7653, -6.8938, -6.8994, -6.7875, -6.7882, -6.7396, -6.0295, -6.732, -5.3777, -6.1392, -3.852, -6.081, -4.2474, -3.7907, -5.1631, -2.991, -4.1961, -2.9241, -5.4418, -5.6758, -5.5552, -4.0508, -3.5359, -5.0409, -4.8456, -5.1381, -4.2914, -4.9533, -5.6123, -5.3499, -5.3212, -4.3609, -5.1759, -5.2213, -5.2005, -5.2853, -5.1523, -5.3458, -5.519, -5.3336, -5.4206, -5.8992, -6.1912, -6.2146, -4.9139, -6.3769, -6.3774, -6.381, -5.7995, -6.4017, -6.4049, -6.6069, -6.6075, -6.3518, -6.6274, -5.9205, -6.6344, -6.6374, -6.6421, -6.6461, -6.6674, -6.5858, -6.3944, -5.4971, -6.8965, -6.8992, -6.9, -6.9005, -6.9004, -6.1934, -5.7236, -5.7746, -5.9644, -6.5984, -5.9448, -5.2867, -4.8612, -4.3064, -4.8338, -4.9546, -4.8907, -5.1757, -4.3221, -6.2057, -5.642, -4.3251, -4.9469, -5.6258, -5.7024, -5.9329, -5.1272, -5.9765, -5.6914, -5.6767, -5.2851, -5.3718, -5.7003, -5.6058, -5.4752, -5.8227, -5.7901, -5.7967, -5.1151, -5.2424, -5.1669, -5.3854, -5.2377, -5.553, -5.7547, -5.7551, -5.7562, -5.8766, -5.9095, -6.3466, -6.347, -6.1814, -6.3577, -6.3634, -6.1584, -6.4101, -6.3634, -6.5876, -6.5967, -6.3596, -6.5912, -5.9247, -6.6491, -6.6618, -5.6437, -6.4054, -6.8708, -6.8709, -5.322, -6.175, -4.5948, -6.083, -5.208, -4.9624, -5.7617, -4.6346, -5.9568, -5.2714, -4.9978, -3.8634, -4.0676, -3.9523, -4.5118, -5.2288, -4.7139, -5.0903, -4.7187, -5.5606, -5.0484, -5.5837, -5.5192, -5.1264, -5.1829, -5.4392, -5.4706, -5.6262, -5.0484, -5.3578, -5.5637, -5.5637, -5.6829, -5.6834, -5.6839, -5.7099, -5.8177, -5.8181, -5.8185, -5.9981, -6.1595, -6.1598, -6.1599, -6.1598, -6.1795, -6.1576, -6.3868, -6.3871, -6.3872, -6.3872, -6.3876, -6.388, -6.4006, -6.4023, -6.4027, -6.1543, -6.4111, -6.422, -5.4229, -5.7101, -5.5757, -5.3387, -5.8113, -3.8364, -5.1002, -6.1767, -5.1874, -5.4456, -6.0574, -4.5386, -4.9089, -4.8614, -5.842, -5.4157, -5.4139, -5.6365, -5.665, -6.0033, -5.1835, -5.2821, -5.2831, -6.1862, -6.1866, -6.187, -6.1999, -5.6979, -5.8836, -5.8096, -6.2319, -5.7477, -6.176, -6.4832, -6.4841, -6.4842, -6.4843, -5.598, -6.5001, -6.5008, -6.1734, -6.5661, -5.5552, -6.5109, -6.5454, -6.906, -6.9062, -6.9062, -6.9063, -6.9064, -5.2914, -5.9896, -6.4915, -6.0461, -6.1538, -6.1899, -5.3915, -5.9384, -5.5147, -5.5045, -5.6349, -5.9664, -6.2602, -5.9526, -6.3419, -6.3213], \"loglift\": [30.0, 29.0, 28.0, 27.0, 26.0, 25.0, 24.0, 23.0, 22.0, 21.0, 20.0, 19.0, 18.0, 17.0, 16.0, 15.0, 14.0, 13.0, 12.0, 11.0, 10.0, 9.0, 8.0, 7.0, 6.0, 5.0, 4.0, 3.0, 2.0, 1.0, 0.8584, 0.8314, 0.8307, 0.7632, 0.7631, 0.7626, 0.7594, 0.753, 0.7525, 0.7521, 0.7431, 0.7286, 0.7223, 0.7176, 0.7164, 0.7033, 0.7029, 0.7019, 0.7015, 0.7013, 0.7006, 0.7005, 0.6976, 0.6968, 0.6949, 0.6946, 0.6851, 0.6843, 0.6835, 0.6832, 0.6796, 0.6476, 0.598, 0.5514, 0.629, 0.6669, 0.5655, 0.5557, 0.4482, 0.4415, 0.5978, 0.4161, 0.4408, 0.1351, 0.4103, 0.5919, -0.136, 0.3169, -0.1673, 0.2579, 0.0285, -0.0615, 0.3235, 0.1689, -0.3711, -0.2332, -0.3415, -0.7036, -0.1003, 0.9821, 0.9671, 0.9519, 0.9286, 0.9263, 0.8956, 0.8767, 0.8666, 0.8466, 0.8396, 0.8055, 0.8055, 0.8028, 0.801, 0.7921, 0.7913, 0.7872, 0.7709, 0.7709, 0.7682, 0.7455, 0.7302, 0.7258, 0.7232, 0.723, 0.7214, 0.721, 0.7197, 0.7144, 0.7073, 0.6807, 0.6928, 0.6074, 0.5779, 0.6471, 0.5112, 0.5557, 0.4492, 0.6371, 0.6592, 0.6296, 0.3499, 0.2451, 0.5045, 0.4587, 0.4698, 0.1518, 0.3335, 0.5688, 0.4389, 0.4165, -0.4961, 0.1836, 0.1851, -0.0437, 0.0071, -0.6036, -0.2786, -0.3607, 2.0482, 2.009, 1.8604, 1.7349, 1.7009, 1.6806, 1.6428, 1.6427, 1.6381, 1.6238, 1.6101, 1.5213, 1.5171, 1.5165, 1.5158, 1.49, 1.4899, 1.4813, 1.4768, 1.4709, 1.4661, 1.4404, 1.4039, 1.4022, 1.3615, 1.3472, 1.3437, 1.3427, 1.3421, 1.342, 1.3409, 1.2477, 1.2156, 1.1836, 1.2733, 1.0978, 0.799, 0.4982, 0.1367, 0.3229, 0.3323, 0.2676, 0.3697, -0.4573, 1.1286, 0.5391, -0.9517, -0.4142, 0.4233, 0.5353, 0.8169, -0.7265, 0.8232, 0.1608, 0.1121, -0.9165, -1.5908, -0.2669, -0.8539, -1.9729, 0.0585, -0.7229, -0.9419, 2.1277, 2.0949, 2.0876, 2.057, 2.0508, 2.0064, 1.9376, 1.9369, 1.9353, 1.8882, 1.841, 1.6791, 1.6788, 1.6684, 1.6652, 1.6596, 1.6248, 1.5936, 1.5915, 1.5391, 1.5304, 1.501, 1.486, 1.4815, 1.4578, 1.4447, 1.4414, 1.4154, 1.3747, 1.3746, 1.3693, 1.3227, 1.0652, 1.2764, 0.9338, 0.8331, 1.0948, 0.4697, 1.1886, 0.7399, 0.5202, -0.3611, -0.2866, -0.5789, -0.1111, 0.5168, -0.1651, 0.2314, -0.3501, 0.6976, -0.5158, 0.6961, 0.5059, -0.6832, -1.3181, -0.372, -0.1664, -0.8744, 2.5115, 2.3245, 2.3048, 2.3046, 2.2479, 2.2471, 2.2459, 2.2011, 2.1793, 2.1787, 2.1779, 2.0543, 1.985, 1.9847, 1.9844, 1.9843, 1.9534, 1.9373, 1.8407, 1.8402, 1.8401, 1.84, 1.8395, 1.8388, 1.8199, 1.8174, 1.8169, 1.8102, 1.8042, 1.7883, 1.7846, 1.7273, 1.6915, 1.4863, 1.4537, -0.463, 0.6375, 1.6234, 0.4205, 0.6402, 1.3848, -1.0363, -0.4657, -1.0804, 0.6913, -1.0471, -1.5491, -1.2358, -1.1323, 0.5937, 2.7776, 2.7196, 2.7178, 2.1495, 2.1487, 2.1482, 2.1262, 2.1207, 2.1189, 2.0739, 2.0713, 2.031, 1.92, 1.9107, 1.9094, 1.9094, 1.909, 1.8997, 1.8849, 1.8838, 1.8145, 1.7828, 1.7006, 1.5952, 1.5952, 1.5505, 1.5503, 1.5502, 1.5501, 1.55, 1.5445, 1.2621, 1.3583, 1.1066, 1.1071, 0.9939, -0.2871, 0.0867, -1.0715, -1.7235, -2.1326, -0.607, 0.6827, -2.0878, 0.5047, -0.1402]}, \"token.table\": {\"Topic\": [1, 2, 1, 2, 6, 1, 2, 1, 2, 3, 1, 2, 1, 2, 3, 1, 2, 1, 2, 1, 2, 5, 1, 2, 3, 1, 2, 1, 2, 4, 1, 2, 6, 1, 2, 3, 1, 2, 3, 5, 6, 1, 2, 3, 1, 2, 4, 6, 1, 2, 3, 4, 6, 1, 2, 6, 1, 2, 3, 4, 5, 1, 2, 4, 1, 2, 3, 5, 1, 2, 6, 1, 2, 3, 1, 2, 3, 4, 5, 1, 2, 3, 1, 2, 1, 2, 3, 6, 1, 2, 3, 1, 2, 5, 1, 2, 5, 1, 2, 3, 4, 6, 1, 2, 4, 6, 1, 2, 3, 4, 5, 6, 1, 2, 4, 1, 2, 1, 2, 5, 1, 2, 1, 2, 3, 4, 5, 1, 2, 4, 1, 2, 3, 1, 2, 3, 4, 5, 1, 2, 3, 4, 6, 1, 2, 6, 1, 2, 3, 4, 1, 2, 1, 2, 3, 4, 1, 2, 3, 1, 2, 1, 2, 4, 1, 2, 4, 1, 2, 4, 6, 1, 2, 3, 1, 2, 3, 1, 2, 1, 2, 3, 1, 2, 4, 1, 2, 1, 2, 3, 1, 2, 1, 2, 5, 1, 2, 3, 5, 1, 2, 6, 1, 2, 4, 6, 1, 2, 1, 2, 3, 4, 5, 1, 2, 4, 1, 2, 3, 1, 2, 3, 4, 5, 1, 2, 3, 4, 5, 1, 2, 3, 5, 1, 2, 3, 1, 2, 3, 4, 5, 1, 2, 3, 4, 5, 6, 1, 2, 4, 5, 1, 2, 4, 1, 2, 5, 1, 2, 5, 1, 2, 4, 1, 2, 3, 5, 1, 2, 1, 2, 4, 5, 1, 2, 1, 2, 4, 6, 1, 2, 3, 4, 5, 1, 2, 3, 1, 2, 1, 2, 4, 1, 2, 3, 4, 5, 1, 2, 5, 1, 2, 5, 1, 2, 3, 1, 2, 4, 6, 1, 2, 1, 2, 3, 4, 1, 2, 3, 4, 5, 1, 2, 4, 1, 2, 4, 1, 2, 4, 1, 2, 3, 5, 1, 2, 3, 4, 5, 1, 2, 1, 2, 3, 5, 1, 2, 1, 2, 3, 4, 5, 1, 2, 1, 2, 3, 6, 1, 2, 4, 1, 2, 3, 4, 1, 2, 1, 2, 3, 1, 2, 1, 2, 4, 1, 2, 3, 1, 2, 3, 4, 1, 2, 5, 1, 2, 5, 1, 2, 5, 1, 2, 3, 4, 1, 2, 1, 2, 5, 1, 2, 3, 4, 5, 6, 1, 2, 6, 1, 2, 4, 6, 1, 2, 3, 4, 5, 1, 2, 3, 1, 2, 3, 4, 5, 1, 2, 4, 5, 1, 2, 5, 1, 2, 3, 4, 1, 2, 1, 2, 1, 2, 5, 1, 2, 6, 1, 2, 3, 1, 2, 3, 4, 5, 1, 2, 5, 1, 2, 3, 1, 2, 3, 4, 5, 1, 2, 4, 1, 2, 4, 1, 2, 4, 1, 2, 4, 1, 2, 4, 1, 2, 3, 4, 5, 1, 2, 3, 1, 2, 3, 4, 1, 2, 3, 4, 5, 1, 2, 3, 1, 2, 3, 5, 1, 2, 3, 4, 5, 1, 2, 5, 1, 2, 4, 1, 2, 1, 2, 5, 1, 2, 3, 4, 1, 2, 1, 2, 3, 4, 5, 1, 2, 5, 1, 2, 5, 1, 2, 3, 4, 1, 2, 3, 6, 1, 2, 3, 1, 2, 1, 2, 3, 4, 6, 1, 2, 1, 2, 3, 1, 2, 3, 1, 2, 6, 1, 2, 1, 2, 3, 1, 2, 3, 4, 1, 2, 1, 2, 3, 4, 5, 1, 2, 5, 1, 2, 5, 1, 2, 5, 1, 2, 1, 2, 3, 4, 1, 2, 3, 1, 2, 4, 1, 2, 3, 4, 5, 1, 2, 1, 2, 3, 4, 1, 2, 3, 4, 5, 6, 1, 2, 1, 2, 4, 1, 2, 4, 5, 1, 2, 3, 4, 5, 6, 1, 2, 1, 2, 3, 4, 5, 1, 2, 6, 1, 2, 1, 2, 4, 1, 2, 3, 4, 1, 2, 4, 1, 2, 4, 1, 2, 3, 1, 2, 3, 1, 2, 3, 6, 1, 2, 4, 1, 2, 1, 2, 4, 1, 2, 4, 1, 2, 6, 1, 2, 4, 1, 2, 4, 5, 1, 2, 5, 1, 2, 3, 4, 1, 2, 3, 1, 2, 5, 1, 2, 6, 1, 2, 5, 1, 2, 5, 1, 2, 3, 1, 2, 3, 1, 2, 3, 1, 2, 3, 4, 5, 6, 1, 2, 4, 1, 2, 5, 1, 2, 1, 2, 1, 2, 3, 4, 5, 1, 2, 3, 1, 2, 3, 4, 5, 1, 2, 4, 1, 2, 5, 1, 2, 3, 1, 2, 1, 2, 4, 1, 2, 3, 4, 1, 2, 5, 1, 2, 3, 4, 5, 1, 2, 3, 1, 2, 3, 4, 5, 6, 1, 2, 1, 2, 1, 2, 3, 4, 6, 1, 2, 6, 1, 2, 4, 1, 2, 5, 1, 2, 5, 1, 2, 3, 4, 5, 1, 2, 1, 2, 3, 1, 2, 4, 1, 2, 3, 1, 2, 3, 1, 2, 1, 2, 4, 1, 2, 1, 2, 3, 4, 1, 2, 3, 4, 1, 2, 4, 1, 2, 3, 1, 2, 3, 4, 5, 1, 2, 1, 2, 3], \"Freq\": [0.8134896161846131, 0.09038773513162368, 0.2247694793847167, 0.2247694793847167, 0.4495389587694334, 0.1543889360841728, 0.7719446804208641, 0.2704782843693164, 0.47333699764630377, 0.20285871327698732, 0.7777314146350308, 0.09721642682937885, 0.4090683316062916, 0.16362733264251664, 0.3272546652850333, 0.04779832596842793, 0.9081681934001308, 0.14932826144988118, 0.7466413072494059, 0.1839011702895476, 0.3678023405790952, 0.1839011702895476, 0.25014150854220424, 0.25014150854220424, 0.5002830170844085, 0.8385648607319666, 0.10482060759149582, 0.2298108126993611, 0.2298108126993611, 0.4596216253987222, 0.22496792779275807, 0.22496792779275807, 0.44993585558551613, 0.20859047410104428, 0.20859047410104428, 0.6257714223031329, 0.4682363353155522, 0.1560787784385174, 0.2341181676577761, 0.0780393892192587, 0.0780393892192587, 0.286332713423852, 0.286332713423852, 0.286332713423852, 0.48125352007533023, 0.28875211204519813, 0.09625070401506605, 0.09625070401506605, 0.24723506451765373, 0.24723506451765373, 0.24723506451765373, 0.24723506451765373, 0.24723506451765373, 0.3041371263346683, 0.3041371263346683, 0.3041371263346683, 0.3140773538822485, 0.5845328530586291, 0.043621854705867845, 0.03489748376469428, 0.01744874188234714, 0.23044952434522317, 0.23044952434522317, 0.46089904869044634, 0.0625001565161331, 0.7500018781935972, 0.0625001565161331, 0.0625001565161331, 0.332889740165236, 0.332889740165236, 0.332889740165236, 0.25176664639410073, 0.25176664639410073, 0.5035332927882015, 0.3637934916164875, 0.5305321752740443, 0.01515806215068698, 0.0757903107534349, 0.01515806215068698, 0.12695280926201122, 0.12695280926201122, 0.6347640463100561, 0.3183384251029615, 0.3183384251029615, 0.5335066543955563, 0.10670133087911127, 0.10670133087911127, 0.10670133087911127, 0.2512497896221024, 0.2512497896221024, 0.5024995792442049, 0.22390969108993625, 0.22390969108993625, 0.4478193821798725, 0.28187238913243734, 0.28187238913243734, 0.28187238913243734, 0.18732191623476444, 0.37464383246952887, 0.18732191623476444, 0.18732191623476444, 0.18732191623476444, 0.1932696608270095, 0.1932696608270095, 0.386539321654019, 0.1932696608270095, 0.4986673062052, 0.28050035974042503, 0.031166706637825, 0.155833533189125, 0.031166706637825, 0.031166706637825, 0.2254425799785811, 0.2254425799785811, 0.4508851599571622, 0.7759299176381637, 0.09699123970477046, 0.28190919012610877, 0.28190919012610877, 0.28190919012610877, 0.12818494849888484, 0.8118380071596041, 0.6209572019432854, 0.22423454514618638, 0.06899524466036504, 0.05174643349527378, 0.01724881116509126, 0.713299024909435, 0.13139718879910645, 0.15016821577040737, 0.4790070751652513, 0.09580141503305027, 0.2874042450991508, 0.2795104563915318, 0.6006501296924408, 0.035682185922323216, 0.06541734085759256, 0.017841092961161608, 0.09928859063740623, 0.4964429531870312, 0.19857718127481247, 0.09928859063740623, 0.09928859063740623, 0.06913464438211026, 0.7604810882032128, 0.06913464438211026, 0.20112146773549866, 0.6536447701403707, 0.025140183466937333, 0.10056073386774933, 0.3544964648611036, 0.3544964648611036, 0.42944605903218175, 0.14314868634406058, 0.07157434317203029, 0.28629737268812117, 0.28625350009716327, 0.28625350009716327, 0.28625350009716327, 0.35448340429001923, 0.35448340429001923, 0.8166360743395588, 0.07423964312177807, 0.07423964312177807, 0.49179596846724793, 0.30737248029202996, 0.18442348817521798, 0.13590585238125288, 0.27181170476250577, 0.27181170476250577, 0.13590585238125288, 0.8478218086419472, 0.038537354938270325, 0.07707470987654065, 0.13101505435879315, 0.6550752717939657, 0.13101505435879315, 0.11357327593994358, 0.7950129315796051, 0.2514468377255413, 0.2514468377255413, 0.5028936754510825, 0.16496520005736012, 0.16496520005736012, 0.6598608002294405, 0.7443859591491835, 0.20677387754143986, 0.25214399861077424, 0.25214399861077424, 0.5042879972215485, 0.7771378770414185, 0.09714223463017731, 0.20950144765596174, 0.20950144765596174, 0.4190028953119235, 0.1634620994147461, 0.1634620994147461, 0.1634620994147461, 0.4903862982442383, 0.33281704094172415, 0.33281704094172415, 0.33281704094172415, 0.4437459359598542, 0.2218729679799271, 0.2218729679799271, 0.2218729679799271, 0.847664976998182, 0.07063874808318184, 0.6025873459826963, 0.23579504842801158, 0.11789752421400579, 0.02619944982533462, 0.01309972491266731, 0.14455328318618016, 0.14455328318618016, 0.7227664159309007, 0.22915549632121326, 0.22915549632121326, 0.45831099264242653, 0.21939051216409006, 0.6216064511315885, 0.07313017072136335, 0.036565085360681676, 0.036565085360681676, 0.5542527725686257, 0.34453550727238896, 0.029959609328033824, 0.05991921865606765, 0.014979804664016912, 0.2086230636106466, 0.2086230636106466, 0.4172461272212932, 0.2086230636106466, 0.19675066916082937, 0.19675066916082937, 0.39350133832165873, 0.43037993592659934, 0.07172998932109989, 0.3586499466054995, 0.07172998932109989, 0.07172998932109989, 0.697092865865999, 0.20481594512557702, 0.057492195122968985, 0.02515283536629893, 0.010779786585556684, 0.0035932621951855616, 0.31525336357815353, 0.38530966659552096, 0.24519706056078608, 0.03502815150868373, 0.10533605564581201, 0.10533605564581201, 0.737352389520684, 0.20956339317365244, 0.20956339317365244, 0.4191267863473049, 0.2800124603865394, 0.2800124603865394, 0.2800124603865394, 0.3822126300923829, 0.2866594725692872, 0.2866594725692872, 0.23021139394265877, 0.6248594978443595, 0.06577468398361679, 0.03288734199180839, 0.8227720863884859, 0.07479746239895325, 0.10657208937279992, 0.10657208937279992, 0.7460046256095995, 0.10657208937279992, 0.13770529767730977, 0.6885264883865488, 0.19987955023327436, 0.19987955023327436, 0.3997591004665487, 0.19987955023327436, 0.5629451104193962, 0.1608414601198275, 0.040210365029956875, 0.1608414601198275, 0.040210365029956875, 0.25494200045415033, 0.6373550011353758, 0.042490333409025055, 0.3545250776713549, 0.3545250776713549, 0.25490287874299206, 0.25490287874299206, 0.5098057574859841, 0.34261912555436425, 0.4766874790321589, 0.1340683534777947, 0.029792967439509932, 0.029792967439509932, 0.281750845597671, 0.281750845597671, 0.281750845597671, 0.27978206816606543, 0.27978206816606543, 0.27978206816606543, 0.20639713883433744, 0.20639713883433744, 0.4127942776686749, 0.22515267417628562, 0.22515267417628562, 0.22515267417628562, 0.22515267417628562, 0.7774644141770125, 0.08638493490855695, 0.1832671109354427, 0.1832671109354427, 0.3665342218708854, 0.1832671109354427, 0.6338092897971538, 0.25113198274981563, 0.04783466338091726, 0.05979332922614658, 0.011958665845229316, 0.1285994198904136, 0.1285994198904136, 0.642997099452068, 0.6015680949140366, 0.2622219900907339, 0.10797376062559631, 0.37206928425281854, 0.12402309475093952, 0.37206928425281854, 0.2497233276398527, 0.2497233276398527, 0.2497233276398527, 0.2497233276398527, 0.3192472488491697, 0.47887087327375455, 0.1276988995396679, 0.031924724884916975, 0.031924724884916975, 0.15419440235244858, 0.770972011762243, 0.21539075929913254, 0.3230861389486988, 0.10769537964956627, 0.21539075929913254, 0.3300586746282839, 0.3300586746282839, 0.2408552960306802, 0.3211403947075736, 0.3211403947075736, 0.0802850986768934, 0.0802850986768934, 0.12424436068237941, 0.7454661640942765, 0.21450167500311684, 0.5362541875077921, 0.10725083750155842, 0.10725083750155842, 0.24984715879861535, 0.24984715879861535, 0.4996943175972307, 0.7362465923873092, 0.11043698885809637, 0.03681232961936546, 0.07362465923873092, 0.7766350569168733, 0.09707938211460916, 0.254250457535881, 0.254250457535881, 0.508500915071762, 0.3545010047698375, 0.3545010047698375, 0.9301418562466617, 0.042279175283939166, 0.021139587641969583, 0.46167770062441504, 0.11541942515610376, 0.23083885031220752, 0.8193383380060886, 0.1268023618342756, 0.03901611133362327, 0.009754027833405817, 0.25946657372009135, 0.25946657372009135, 0.25946657372009135, 0.19688591209478828, 0.19688591209478828, 0.5906577362843648, 0.2237873450565065, 0.2237873450565065, 0.447574690113013, 0.7556693352039566, 0.08096457162899535, 0.1079527621719938, 0.02698819054299845, 0.8447374005079904, 0.08447374005079904, 0.2594935456232022, 0.2594935456232022, 0.2594935456232022, 0.4100736242582916, 0.39085142312118415, 0.1089258064436087, 0.044851802653250644, 0.03203700189517903, 0.006407400379035806, 0.3140621804696062, 0.3140621804696062, 0.3140621804696062, 0.7011440370903143, 0.07011440370903142, 0.07011440370903142, 0.14022880741806285, 0.3642926174943892, 0.2649400854504649, 0.19870506408784866, 0.03311751068130811, 0.09935253204392433, 0.13179131127642188, 0.6589565563821094, 0.13179131127642188, 0.19753838698987575, 0.19753838698987575, 0.3950767739797515, 0.19753838698987575, 0.19753838698987575, 0.25905645362288704, 0.5181129072457741, 0.05181129072457741, 0.10362258144915482, 0.20935520755181633, 0.20935520755181633, 0.41871041510363266, 0.19995581606285576, 0.6998453562199951, 0.06665193868761858, 0.03332596934380929, 0.13747714047594262, 0.6873857023797131, 0.8394750404931057, 0.10493438006163822, 0.2818996358835066, 0.2818996358835066, 0.2818996358835066, 0.21602425911690204, 0.21602425911690204, 0.4320485182338041, 0.2862874687432121, 0.2862874687432121, 0.2862874687432121, 0.4161238613671404, 0.1387079537890468, 0.1387079537890468, 0.0693539768945234, 0.2080619306835702, 0.20545195501648297, 0.20545195501648297, 0.41090391003296595, 0.1210371955867256, 0.1210371955867256, 0.7262231735203536, 0.23149959273914583, 0.5594573491196024, 0.13504142909783506, 0.0385832654565243, 0.01929163272826215, 0.08995952118024969, 0.44979760590124845, 0.35983808472099876, 0.2870843264995261, 0.2870843264995261, 0.2870843264995261, 0.2304559013556143, 0.2304559013556143, 0.4609118027112286, 0.0487502680124208, 0.8287545562111536, 0.0487502680124208, 0.2870845981701358, 0.2870845981701358, 0.2870845981701358, 0.1961994004932714, 0.6656765373878851, 0.06306409301569438, 0.05605697156950611, 0.014014242892376528, 0.8426759519572838, 0.06242044088572473, 0.06242044088572473, 0.7944231954620008, 0.05296154636413339, 0.05296154636413339, 0.05296154636413339, 0.28057818722448075, 0.5143933432448813, 0.023381515602040062, 0.07014454680612019, 0.09352606240816025, 0.22725063007748997, 0.22725063007748997, 0.45450126015497994, 0.07710453544567315, 0.7324930867338949, 0.1542090708913463, 0.038552267722836576, 0.287515252747855, 0.5339568979603021, 0.041073607535407855, 0.06161041130311178, 0.08214721507081571, 0.2818580878797678, 0.2818580878797678, 0.2818580878797678, 0.6296016799758313, 0.15740041999395782, 0.19675052499244727, 0.8381573391039342, 0.10476966738799177, 0.2797446212678627, 0.2797446212678627, 0.2797446212678627, 0.562489426091511, 0.15143946087079144, 0.021634208695827346, 0.25961050434992816, 0.3544713794930574, 0.3544713794930574, 0.4981725784182954, 0.3146353126852392, 0.10487843756174639, 0.026219609390436598, 0.052439218780873195, 0.25940367533310177, 0.25940367533310177, 0.25940367533310177, 0.25950782661509025, 0.25950782661509025, 0.25950782661509025, 0.12136254725331332, 0.4247689153865966, 0.06068127362665666, 0.36408764175993996, 0.2125389461293493, 0.5313473653233732, 0.2125389461293493, 0.10626947306467464, 0.22891587461961244, 0.22891587461961244, 0.45783174923922487, 0.09658956558301628, 0.7727165246641302, 0.18214367002949877, 0.582859744094396, 0.145714936023599, 0.03642873400589975, 0.03642873400589975, 0.09654023069947927, 0.7723218455958342, 0.7748289722874901, 0.08609210803194335, 0.08609210803194335, 0.8725760646994571, 0.03966254839542987, 0.07932509679085974, 0.3140067905339576, 0.3140067905339576, 0.3140067905339576, 0.12469007378080611, 0.7481404426848367, 0.28195495724126285, 0.14097747862063142, 0.4229324358618943, 0.8016439187229393, 0.09431104926152227, 0.047155524630761135, 0.047155524630761135, 0.8478012982895463, 0.07065010819079552, 0.2901104921937102, 0.6189023833465818, 0.03868139895916136, 0.03868139895916136, 0.01934069947958068, 0.27856135924397357, 0.27856135924397357, 0.27856135924397357, 0.2771609215495322, 0.2771609215495322, 0.2771609215495322, 0.5396141286284808, 0.10792282572569616, 0.3237684771770885, 0.7763231292670343, 0.09704039115837929, 0.11867128315878571, 0.7713633405321071, 0.059335641579392855, 0.059335641579392855, 0.2523411354946489, 0.12617056774732446, 0.5046822709892979, 0.18774462720886245, 0.18774462720886245, 0.3754892544177249, 0.3746003483961734, 0.4789971668016643, 0.04298692522579039, 0.07983286113361072, 0.012281978635940112, 0.32994122761232264, 0.32994122761232264, 0.11025073718514615, 0.11025073718514615, 0.11025073718514615, 0.6615044231108769, 0.45932224277079436, 0.43288643023722345, 0.019826859400178174, 0.06608953133392724, 0.01652238283348181, 0.0033044765666963623, 0.07436957333767494, 0.8180653067144243, 0.23671270416713416, 0.35506905625070123, 0.35506905625070123, 0.12857793446524018, 0.5143117378609607, 0.12857793446524018, 0.25715586893048037, 0.6205828053008836, 0.18617484159026507, 0.012411656106017672, 0.14893987327221206, 0.012411656106017672, 0.024823312212035344, 0.87253717607106, 0.07932156146100544, 0.34950586385261934, 0.5297541709967375, 0.035170401393974274, 0.050557452003838016, 0.03297225130685088, 0.3141787029460856, 0.3141787029460856, 0.3141787029460856, 0.7774677284838589, 0.07067888440762353, 0.17750735170809703, 0.17750735170809703, 0.5325220551242911, 0.22227494292991581, 0.22227494292991581, 0.44454988585983163, 0.22227494292991581, 0.18080142486452197, 0.18080142486452197, 0.5424042745935659, 0.19535786156984408, 0.19535786156984408, 0.39071572313968816, 0.8366957398136642, 0.13716323603502692, 0.013716323603502691, 0.6034987872658104, 0.08621411246654434, 0.258642337399633, 0.18001430866162274, 0.3600286173232455, 0.18001430866162274, 0.18001430866162274, 0.21469011771862878, 0.21469011771862878, 0.42938023543725756, 0.13774301708517125, 0.6887150854258562, 0.16505126095382616, 0.16505126095382616, 0.6602050438153046, 0.2298004846800652, 0.2298004846800652, 0.4596009693601304, 0.3328863767879298, 0.3328863767879298, 0.3328863767879298, 0.1157676700041286, 0.1157676700041286, 0.6946060200247716, 0.6074067177252355, 0.2208751700819038, 0.05521879252047595, 0.1104375850409519, 0.1446350798408157, 0.1446350798408157, 0.5785403193632628, 0.8024792929630428, 0.06172917638177252, 0.06172917638177252, 0.06172917638177252, 0.25423008644853884, 0.25423008644853884, 0.5084601728970777, 0.40672028870219706, 0.20336014435109853, 0.30504021652664776, 0.3112009146157639, 0.3112009146157639, 0.3112009146157639, 0.28194180781397693, 0.28194180781397693, 0.28194180781397693, 0.24693669496028783, 0.24693669496028783, 0.24693669496028783, 0.25258321931474625, 0.25258321931474625, 0.5051664386294925, 0.176588130962487, 0.176588130962487, 0.5297643928874609, 0.12875716095597003, 0.7081643852578352, 0.12875716095597003, 0.34009272385804074, 0.5626534034416115, 0.012503408965369145, 0.06251704482684572, 0.017504772551516803, 0.0025006817930738287, 0.2499129694464586, 0.2499129694464586, 0.4998259388929172, 0.2565171000801844, 0.2565171000801844, 0.2565171000801844, 0.8230130754021425, 0.07481937049110386, 0.07086220703811963, 0.8503464844574357, 0.33045013981949256, 0.05507502330324877, 0.4956752097292389, 0.05507502330324877, 0.05507502330324877, 0.2290490940010516, 0.2290490940010516, 0.4580981880021032, 0.4458903458271147, 0.32203191643069395, 0.024771685879284147, 0.19817348703427318, 0.024771685879284147, 0.16510485968685326, 0.16510485968685326, 0.660419438747413, 0.21676316881237148, 0.21676316881237148, 0.21676316881237148, 0.28619768764767023, 0.28619768764767023, 0.28619768764767023, 0.12506309816492822, 0.7503785889895692, 0.12980194364370595, 0.6490097182185298, 0.12980194364370595, 0.7148515113695137, 0.16820035561635618, 0.042050088904089046, 0.042050088904089046, 0.19691915475725943, 0.19691915475725943, 0.5907574642717783, 0.12794367292519415, 0.12794367292519415, 0.12794367292519415, 0.2558873458503883, 0.2558873458503883, 0.12454875256547208, 0.3736462576964163, 0.3736462576964163, 0.368423634987902, 0.40046047281293695, 0.1601841891251748, 0.04805525673755243, 0.016018418912517478, 0.016018418912517478, 0.1376811928227399, 0.6884059641136996, 0.13775487314555673, 0.6887743657277837, 0.1417358591350272, 0.7086792956751361, 0.0708679295675136, 0.0708679295675136, 0.0708679295675136, 0.3330112162980477, 0.3330112162980477, 0.3330112162980477, 0.17500713994671335, 0.17500713994671335, 0.5250214198401401, 0.23667964430831565, 0.23667964430831565, 0.4733592886166313, 0.22385964177135423, 0.22385964177135423, 0.44771928354270846, 0.5231623659793377, 0.3269764787370861, 0.13079059149483444, 0.013079059149483444, 0.013079059149483444, 0.9409092446126575, 0.027272731727903114, 0.9216008617575633, 0.031779340060605635, 0.031779340060605635, 0.25503549970117423, 0.25503549970117423, 0.5100709994023485, 0.28654053355383574, 0.28654053355383574, 0.28654053355383574, 0.25731832602455845, 0.45030707054297725, 0.19298874451841883, 0.7761065421138976, 0.0970133177642372, 0.2425986423286265, 0.2425986423286265, 0.485197284657253, 0.060636054898896605, 0.8489047685845524, 0.47008245613959293, 0.4029278195482225, 0.03357731829568521, 0.06715463659137041, 0.7334528011622857, 0.18514342553611096, 0.007120900982158114, 0.07832991080373924, 0.7070442159047282, 0.11784070265078803, 0.14140884318094563, 0.7952284788650753, 0.05301523192433835, 0.1060304638486767, 0.2460809062673298, 0.5167699031613926, 0.09843236250693192, 0.07382427188019895, 0.04921618125346596, 0.2584984840453139, 0.2584984840453139, 0.03371966966215527, 0.9104310808781922, 0.03371966966215527], \"Term\": [\"action\", \"action\", \"afternoon\", \"afternoon\", \"afternoon\", \"alia\", \"alia\", \"also\", \"also\", \"also\", \"apache_beam\", \"apache_beam\", \"append\", \"append\", \"append\", \"arg\", \"arg\", \"argument\", \"argument\", \"available\", \"available\", \"available\", \"binary\", \"binary\", \"binary\", \"body\", \"body\", \"boundary\", \"boundary\", \"boundary\", \"branch\", \"branch\", \"branch\", \"buffer\", \"buffer\", \"buffer\", \"build\", \"build\", \"build\", \"build\", \"build\", \"byte\", \"byte\", \"byte\", \"central\", \"central\", \"central\", \"central\", \"cfg\", \"cfg\", \"cfg\", \"cfg\", \"cfg\", \"child\", \"child\", \"child\", \"class\", \"class\", \"class\", \"class\", \"class\", \"click\", \"click\", \"click\", \"client\", \"client\", \"client\", \"client\", \"cmd\", \"cmd\", \"cmd\", \"cmdline_parser\", \"cmdline_parser\", \"cmdline_parser\", \"complete\", \"complete\", \"complete\", \"complete\", \"complete\", \"concourse\", \"concourse\", \"concourse\", \"condition\", \"condition\", \"connect\", \"connect\", \"connect\", \"connect\", \"consume\", \"consume\", \"consume\", \"contactpath\", \"contactpath\", \"contactpath\", \"containerclient\", \"containerclient\", \"containerclient\", \"copy\", \"copy\", \"copy\", \"copy\", \"copy\", \"core\", \"core\", \"core\", \"core\", \"create\", \"create\", \"create\", \"create\", \"create\", \"create\", \"createpartial\", \"createpartial\", \"createpartial\", \"data_warehouse\", \"data_warehouse\", \"datalake\", \"datalake\", \"datalake\", \"date\", \"date\", \"datum\", \"datum\", \"datum\", \"datum\", \"datum\", \"debug\", \"debug\", \"debug\", \"decode\", \"decode\", \"decode\", \"def\", \"def\", \"def\", \"def\", \"def\", \"default\", \"default\", \"default\", \"default\", \"default\", \"depend\", \"depend\", \"depend\", \"dependency\", \"dependency\", \"dependency\", \"dependency\", \"dev\", \"dev\", \"df\", \"df\", \"df\", \"df\", \"dictparameter\", \"dictparameter\", \"dictparameter\", \"display\", \"display\", \"dist_package\", \"dist_package\", \"dist_package\", \"do\", \"do\", \"do\", \"docker\", \"docker\", \"docker\", \"docker\", \"documents_attributiondata\", \"documents_attributiondata\", \"documents_attributiondata\", \"doesnt_work\", \"doesnt_work\", \"doesnt_work\", \"downloaddata\", \"downloaddata\", \"duplicate\", \"duplicate\", \"duplicate\", \"dupslogfile\", \"dupslogfile\", \"dupslogfile\", \"elasticsearch\", \"elasticsearch\", \"elem\", \"elem\", \"elem\", \"emmanuel\", \"emmanuel\", \"enddate\", \"enddate\", \"enddate\", \"endpoint\", \"endpoint\", \"endpoint\", \"endpoint\", \"entrypoint\", \"entrypoint\", \"entrypoint\", \"env\", \"env\", \"env\", \"env\", \"env_lib\", \"env_lib\", \"error\", \"error\", \"error\", \"error\", \"error\", \"errorslogfile\", \"errorslogfile\", \"errorslogfile\", \"event\", \"event\", \"event\", \"example\", \"example\", \"example\", \"example\", \"example\", \"fail\", \"fail\", \"fail\", \"fail\", \"fail\", \"failure\", \"failure\", \"failure\", \"failure\", \"fake\", \"fake\", \"fake\", \"false\", \"false\", \"false\", \"false\", \"false\", \"file\", \"file\", \"file\", \"file\", \"file\", \"file\", \"filename\", \"filename\", \"filename\", \"filename\", \"filename_xlsx\", \"filename_xlsx\", \"filename_xlsx\", \"filesuffix\", \"filesuffix\", \"filesuffix\", \"finaltask\", \"finaltask\", \"finaltask\", \"finish_info\", \"finish_info\", \"finish_info\", \"first\", \"first\", \"first\", \"first\", \"first_file\", \"first_file\", \"flag\", \"flag\", \"flag\", \"flag\", \"flatten\", \"flatten\", \"flow\", \"flow\", \"flow\", \"flow\", \"follow\", \"follow\", \"follow\", \"follow\", \"follow\", \"format\", \"format\", \"format\", \"gcc\", \"gcc\", \"geometry\", \"geometry\", \"geometry\", \"get\", \"get\", \"get\", \"get\", \"get\", \"gmessage\", \"gmessage\", \"gmessage\", \"grant\", \"grant\", \"grant\", \"home\", \"home\", \"home\", \"hour\", \"hour\", \"hour\", \"hour\", \"http_localhost\", \"http_localhost\", \"image\", \"image\", \"image\", \"image\", \"import\", \"import\", \"import\", \"import\", \"import\", \"import_logfile\", \"import_logfile\", \"import_logfile\", \"info\", \"info\", \"info\", \"informed_scheduler\", \"informed_scheduler\", \"informed_scheduler\", \"inherit\", \"inherit\", \"inherit\", \"inherit\", \"input\", \"input\", \"input\", \"input\", \"input\", \"input_file\", \"input_file\", \"instance\", \"instance\", \"instance\", \"instance\", \"ip\", \"ip\", \"job\", \"job\", \"job\", \"job\", \"job\", \"job_num\", \"job_num\", \"keep\", \"keep\", \"keep\", \"keep\", \"kill\", \"kill\", \"kill\", \"last\", \"last\", \"last\", \"last\", \"lead\", \"lead\", \"lead_to_opps\", \"lead_to_opps\", \"lead_to_opps\", \"length\", \"length\", \"lib_python\", \"lib_python\", \"lib_python\", \"library\", \"library\", \"library\", \"line\", \"line\", \"line\", \"line\", \"listdict\", \"listdict\", \"listdict\", \"listid\", \"listid\", \"listid\", \"liststep\", \"liststep\", \"liststep\", \"local\", \"local\", \"local\", \"local\", \"local_username\", \"local_username\", \"logfile\", \"logfile\", \"logfile\", \"luigi\", \"luigi\", \"luigi\", \"luigi\", \"luigi\", \"luigi\", \"luigi_app\", \"luigi_app\", \"luigi_app\", \"luigid\", \"luigid\", \"luigid\", \"luigid\", \"m\", \"m\", \"m\", \"m\", \"m\", \"machine\", \"machine\", \"machine\", \"mean\", \"mean\", \"mean\", \"mean\", \"mean\", \"message\", \"message\", \"message\", \"message\", \"messagepath\", \"messagepath\", \"messagepath\", \"method\", \"method\", \"method\", \"method\", \"mhigu\", \"mhigu\", \"miniconda\", \"miniconda\", \"mmessage\", \"mmessage\", \"mmessage\", \"morning\", \"morning\", \"morning\", \"my_task\", \"my_task\", \"my_task\", \"none\", \"none\", \"none\", \"none\", \"none\", \"notebook\", \"notebook\", \"notebook\", \"obs_num\", \"obs_num\", \"obs_num\", \"open\", \"open\", \"open\", \"open\", \"open\", \"os_path\", \"os_path\", \"os_path\", \"out_clean\", \"out_clean\", \"out_clean\", \"out_dir\", \"out_dir\", \"out_dir\", \"out_file\", \"out_file\", \"out_file\", \"outdir\", \"outdir\", \"outdir\", \"output\", \"output\", \"output\", \"output\", \"output\", \"package\", \"package\", \"package\", \"panda\", \"panda\", \"panda\", \"panda\", \"parameter\", \"parameter\", \"parameter\", \"parameter\", \"parameter\", \"partition\", \"partition\", \"partition\", \"pass\", \"pass\", \"pass\", \"pass\", \"path\", \"path\", \"path\", \"path\", \"path\", \"pathfile\", \"pathfile\", \"pathfile\", \"pende\", \"pende\", \"pende\", \"perform_request\", \"perform_request\", \"permission\", \"permission\", \"permission\", \"pid\", \"pid\", \"pid\", \"pid\", \"pip\", \"pip\", \"pipeline\", \"pipeline\", \"pipeline\", \"pipeline\", \"pipeline\", \"pipelinelog\", \"pipelinelog\", \"pipelinelog\", \"pipelinenamelog\", \"pipelinenamelog\", \"pipelinenamelog\", \"point\", \"point\", \"point\", \"point\", \"port\", \"port\", \"port\", \"port\", \"position\", \"position\", \"position\", \"prepdata\", \"prepdata\", \"print\", \"print\", \"print\", \"print\", \"print\", \"print_file\", \"print_file\", \"probability\", \"probability\", \"probability\", \"python_site\", \"python_site\", \"python_site\", \"python_version\", \"python_version\", \"python_version\", \"queue\", \"queue\", \"random\", \"random\", \"random\", \"request\", \"request\", \"request\", \"request\", \"requesttask_iteration\", \"requesttask_iteration\", \"require\", \"require\", \"require\", \"require\", \"require\", \"required_task\", \"required_task\", \"required_task\", \"requiredinput\", \"requiredinput\", \"requiredinput\", \"requirement\", \"requirement\", \"requirement\", \"response\", \"response\", \"result\", \"result\", \"result\", \"result\", \"retcode\", \"retcode\", \"retcode\", \"retry\", \"retry\", \"retry\", \"return\", \"return\", \"return\", \"return\", \"return\", \"reuse\", \"reuse\", \"root\", \"root\", \"root\", \"root\", \"run\", \"run\", \"run\", \"run\", \"run\", \"run\", \"runalltask\", \"runalltask\", \"runtimeerror_unfulfille\", \"runtimeerror_unfulfille\", \"runtimeerror_unfulfille\", \"s\", \"s\", \"s\", \"s\", \"scheduler\", \"scheduler\", \"scheduler\", \"scheduler\", \"scheduler\", \"scheduler\", \"second_file\", \"second_file\", \"self\", \"self\", \"self\", \"self\", \"self\", \"service\", \"service\", \"service\", \"session\", \"session\", \"share\", \"share\", \"share\", \"shell\", \"shell\", \"shell\", \"shell\", \"simplify\", \"simplify\", \"simplify\", \"simply\", \"simply\", \"simply\", \"site_package\", \"site_package\", \"site_package\", \"size\", \"size\", \"size\", \"skip\", \"skip\", \"skip\", \"skip\", \"sleep\", \"sleep\", \"sleep\", \"source_path\", \"source_path\", \"splitext\", \"splitext\", \"splitext\", \"spotify\", \"spotify\", \"spotify\", \"sqlite\", \"sqlite\", \"sqlite\", \"stageprovider\", \"stageprovider\", \"stageprovider\", \"start\", \"start\", \"start\", \"start\", \"startdate\", \"startdate\", \"startdate\", \"state\", \"state\", \"state\", \"state\", \"state_machine\", \"state_machine\", \"state_machine\", \"step\", \"step\", \"step\", \"subclass\", \"subclass\", \"subclass\", \"subscribe\", \"subscribe\", \"subscribe\", \"summary\", \"summary\", \"summary\", \"sys\", \"sys\", \"sys\", \"tag\", \"tag\", \"tag\", \"target\", \"target\", \"target\", \"task\", \"task\", \"task\", \"task\", \"task\", \"task\", \"task_a\", \"task_a\", \"task_a\", \"task_config\", \"task_config\", \"task_config\", \"task_list\", \"task_list\", \"taskb\", \"taskb\", \"test\", \"test\", \"test\", \"test\", \"test\", \"testclass\", \"testclass\", \"testclass\", \"time\", \"time\", \"time\", \"time\", \"time\", \"timestr\", \"timestr\", \"timestr\", \"today\", \"today\", \"today\", \"toml\", \"toml\", \"toml\", \"top\", \"top\", \"touch\", \"touch\", \"touch\", \"traceback\", \"traceback\", \"traceback\", \"traceback\", \"transfer\", \"transfer\", \"transfer\", \"transform\", \"transform\", \"transform\", \"transform\", \"transform\", \"trigger\", \"trigger\", \"trigger\", \"try\", \"try\", \"try\", \"try\", \"try\", \"try\", \"tuna\", \"tuna\", \"tunapc\", \"tunapc\", \"txt\", \"txt\", \"txt\", \"txt\", \"txt\", \"unable\", \"unable\", \"unable\", \"unfulfilled_dependency\", \"unfulfilled_dependency\", \"unfulfilled_dependency\", \"unzip\", \"unzip\", \"unzip\", \"uploadpath\", \"uploadpath\", \"uploadpath\", \"use\", \"use\", \"use\", \"use\", \"use\", \"user\", \"user\", \"users_emmanuel\", \"users_emmanuel\", \"users_emmanuel\", \"utilize\", \"utilize\", \"utilize\", \"vagrant\", \"vagrant\", \"vagrant\", \"value\", \"value\", \"value\", \"venv\", \"venv\", \"volume\", \"volume\", \"volume\", \"word\", \"word\", \"work\", \"work\", \"work\", \"work\", \"worker\", \"worker\", \"worker\", \"worker\", \"worker_salt\", \"worker_salt\", \"worker_salt\", \"wrapper\", \"wrapper\", \"wrapper\", \"write\", \"write\", \"write\", \"write\", \"write\", \"yet\", \"yet\", \"yield\", \"yield\", \"yield\"]}, \"R\": 30, \"lambda.step\": 0.01, \"plot.opts\": {\"xlab\": \"PC1\", \"ylab\": \"PC2\"}, \"topic.order\": [3, 4, 2, 5, 6, 1]};\n",
       "\n",
       "function LDAvis_load_lib(url, callback){\n",
       "  var s = document.createElement('script');\n",
       "  s.src = url;\n",
       "  s.async = true;\n",
       "  s.onreadystatechange = s.onload = callback;\n",
       "  s.onerror = function(){console.warn(\"failed to load library \" + url);};\n",
       "  document.getElementsByTagName(\"head\")[0].appendChild(s);\n",
       "}\n",
       "\n",
       "if(typeof(LDAvis) !== \"undefined\"){\n",
       "   // already loaded: just create the visualization\n",
       "   !function(LDAvis){\n",
       "       new LDAvis(\"#\" + \"ldavis_el3797331396420319007048819483127\", ldavis_el3797331396420319007048819483127_data);\n",
       "   }(LDAvis);\n",
       "}else if(typeof define === \"function\" && define.amd){\n",
       "   // require.js is available: use it to load d3/LDAvis\n",
       "   require.config({paths: {d3: \"https://d3js.org/d3.v5\"}});\n",
       "   require([\"d3\"], function(d3){\n",
       "      window.d3 = d3;\n",
       "      LDAvis_load_lib(\"https://cdn.jsdelivr.net/gh/bmabey/pyLDAvis@3.4.0/pyLDAvis/js/ldavis.v3.0.0.js\", function(){\n",
       "        new LDAvis(\"#\" + \"ldavis_el3797331396420319007048819483127\", ldavis_el3797331396420319007048819483127_data);\n",
       "      });\n",
       "    });\n",
       "}else{\n",
       "    // require.js not available: dynamically load d3 & LDAvis\n",
       "    LDAvis_load_lib(\"https://d3js.org/d3.v5.js\", function(){\n",
       "         LDAvis_load_lib(\"https://cdn.jsdelivr.net/gh/bmabey/pyLDAvis@3.4.0/pyLDAvis/js/ldavis.v3.0.0.js\", function(){\n",
       "                 new LDAvis(\"#\" + \"ldavis_el3797331396420319007048819483127\", ldavis_el3797331396420319007048819483127_data);\n",
       "            })\n",
       "         });\n",
       "}\n",
       "</script>"
      ],
      "text/plain": [
       "PreparedData(topic_coordinates=              x         y  topics  cluster       Freq\n",
       "topic                                                \n",
       "2      0.092721  0.051365       1        1  40.163327\n",
       "3      0.066867 -0.061547       2        1  33.759423\n",
       "1     -0.024559  0.007730       3        1   9.309453\n",
       "4     -0.001401  0.003361       4        1   8.998513\n",
       "5     -0.051273 -0.016972       5        1   5.280212\n",
       "0     -0.082354  0.016063       6        1   2.489071, topic_info=          Term        Freq       Total Category  logprob  loglift\n",
       "25        self  454.000000  454.000000  Default  30.0000  30.0000\n",
       "119       task  399.000000  399.000000  Default  29.0000  29.0000\n",
       "24   scheduler   80.000000   80.000000  Default  28.0000  28.0000\n",
       "416       user   73.000000   73.000000  Default  27.0000  27.0000\n",
       "102        pid   46.000000   46.000000  Default  26.0000  26.0000\n",
       "..         ...         ...         ...      ...      ...      ...\n",
       "30         try    0.846868   62.428134   Topic6  -5.9664  -0.6070\n",
       "57       build    0.631296   12.814042   Topic6  -6.2602   0.6827\n",
       "7         file    0.858658  278.298645   Topic6  -5.9526  -2.0878\n",
       "171        txt    0.581791   14.110755   Topic6  -6.3419   0.5047\n",
       "105      print    0.593891   27.450858   Topic6  -6.3213  -0.1402\n",
       "\n",
       "[365 rows x 6 columns], token_table=      Topic      Freq       Term\n",
       "term                            \n",
       "1196      1  0.813490     action\n",
       "1196      2  0.090388     action\n",
       "1575      1  0.224769  afternoon\n",
       "1575      2  0.224769  afternoon\n",
       "1575      6  0.449539  afternoon\n",
       "...     ...       ...        ...\n",
       "1160      1  0.258498        yet\n",
       "1160      2  0.258498        yet\n",
       "721       1  0.033720      yield\n",
       "721       2  0.910431      yield\n",
       "721       3  0.033720      yield\n",
       "\n",
       "[858 rows x 3 columns], R=30, lambda_step=0.01, plot_opts={'xlab': 'PC1', 'ylab': 'PC2'}, topic_order=[3, 4, 2, 5, 6, 1])"
      ]
     },
     "execution_count": 11,
     "metadata": {},
     "output_type": "execute_result"
    }
   ],
   "source": [
    "# Build LDA model\n",
    "lda_model = gensim.models.ldamodel.LdaModel(corpus=corpus,\n",
    "                                           id2word=id2word,\n",
    "                                           num_topics=6, \n",
    "                                           random_state=100,\n",
    "                                           chunksize=100,\n",
    "                                           passes=10,\n",
    "                                           alpha=0.61,\n",
    "                                           eta=0.91)\n",
    "\n",
    "# Compute Perplexity\n",
    "print('\\nPerplexity: ', lda_model.log_perplexity(corpus))  # a measure of how good the model is. lower the better.\n",
    "# Compute Coherence Score\n",
    "coherence_model_lda = CoherenceModel(model=lda_model, texts=data_lemmatized, dictionary=id2word, coherence='c_v')\n",
    "coherence_lda = coherence_model_lda.get_coherence()\n",
    "print('\\nCoherence Score: ', coherence_lda)\n",
    "\n",
    "# Visualize the topics\n",
    "pyLDAvis.enable_notebook()\n",
    "vis = pyLDAvis.gensim.prepare(lda_model, corpus, id2word)\n",
    "vis"
   ]
  },
  {
   "cell_type": "code",
   "execution_count": 12,
   "id": "392209b0-cdfe-4134-8a90-7ebd77bb2098",
   "metadata": {},
   "outputs": [
    {
     "name": "stdout",
     "output_type": "stream",
     "text": [
      "[(0,\n",
      "  '0.006*\"morning\" + 0.005*\"branch\" + 0.005*\"afternoon\" + 0.005*\"luigid\" + '\n",
      "  '0.005*\"scheduler\" + 0.004*\"run\" + 0.004*\"luigi\" + 0.004*\"connect\" + '\n",
      "  '0.004*\"docker\" + 0.004*\"task\"'),\n",
      " (1,\n",
      "  '0.013*\"luigi\" + 0.013*\"file\" + 0.013*\"self\" + 0.008*\"use\" + 0.008*\"try\" + '\n",
      "  '0.008*\"error\" + 0.007*\"test\" + 0.007*\"output\" + 0.007*\"get\" + '\n",
      "  '0.006*\"return\"'),\n",
      " (2,\n",
      "  '0.036*\"file\" + 0.030*\"self\" + 0.026*\"run\" + 0.025*\"task\" + 0.019*\"worker\" + '\n",
      "  '0.016*\"line\" + 0.013*\"user\" + 0.012*\"luigi\" + 0.012*\"return\" + '\n",
      "  '0.011*\"site_package\"'),\n",
      " (3,\n",
      "  '0.054*\"self\" + 0.050*\"task\" + 0.029*\"run\" + 0.023*\"def\" + 0.021*\"output\" + '\n",
      "  '0.017*\"return\" + 0.015*\"class\" + 0.014*\"require\" + 0.014*\"luigi\" + '\n",
      "  '0.013*\"file\"'),\n",
      " (4,\n",
      "  '0.021*\"task\" + 0.019*\"self\" + 0.017*\"run\" + 0.011*\"return\" + 0.010*\"pid\" + '\n",
      "  '0.010*\"scheduler\" + 0.009*\"worker\" + 0.009*\"def\" + 0.007*\"time\" + '\n",
      "  '0.007*\"debug\"'),\n",
      " (5,\n",
      "  '0.022*\"self\" + 0.011*\"task\" + 0.008*\"run\" + 0.007*\"luigi\" + '\n",
      "  '0.006*\"startdate\" + 0.006*\"parameter\" + 0.006*\"path\" + 0.005*\"none\" + '\n",
      "  '0.005*\"endpoint\" + 0.004*\"file\"')]\n",
      "<gensim.interfaces.TransformedCorpus object at 0x7f0244c379a0>\n"
     ]
    }
   ],
   "source": [
    "pprint(lda_model.print_topics())\n",
    "doc_lda = lda_model[corpus]\n",
    "print(doc_lda)"
   ]
  },
  {
   "cell_type": "code",
   "execution_count": 13,
   "metadata": {},
   "outputs": [
    {
     "name": "stdout",
     "output_type": "stream",
     "text": [
      "         Id                                              Title  \\\n",
      "0  31467892          writing output to files from python luigi   \n",
      "1  31533967                   Using Parameters in python luigi   \n",
      "2  32978429  python luigi died unexpectedly with exit code -11   \n",
      "3  33332058                     Luigi Pipeline beginning in S3   \n",
      "4  34147832  output for append job in BigQuery using Luigi ...   \n",
      "\n",
      "                                                Body  RatingsSentiCR  \\\n",
      "0  I just tried to run the python luigi example f...              -1   \n",
      "1  I have am triggering Luigi via\\n\\nluigi.run([\"...              -1   \n",
      "2  I have a data pipeline with luigi that works p...               1   \n",
      "3  My initial files are in AWS S3. Could someone ...              -1   \n",
      "4  I have a Bigquery task which only aims to appe...               0   \n",
      "\n",
      "   RatingsGPT35  RatingsGPTFineTuned  \\\n",
      "0            -1                 -1.0   \n",
      "1            -1                 -1.0   \n",
      "2            -1                 -1.0   \n",
      "3            -1                 -1.0   \n",
      "4            -1                 -1.0   \n",
      "\n",
      "                                              merged  topic  \n",
      "0  writing output to files from python luigi-I ju...      3  \n",
      "1  Using Parameters in python luigi-I have am tri...      1  \n",
      "2  python luigi died unexpectedly with exit code ...      2  \n",
      "3  Luigi Pipeline beginning in S3-My initial file...      3  \n",
      "4  output for append job in BigQuery using Luigi ...      1  \n",
      "topic:  0 total data:  3\n",
      "topic:  1 total data:  15\n",
      "topic:  2 total data:  30\n",
      "topic:  3 total data:  34\n",
      "topic:  4 total data:  9\n",
      "topic:  5 total data:  5\n"
     ]
    }
   ],
   "source": [
    "num_topics = 6\n",
    "topic_distributions = [lda_model[doc] for doc in corpus]\n",
    "\n",
    "# Extract the dominant topic for each document\n",
    "df['topic'] = [max(topics, key=lambda x: x[1])[0] for topics in topic_distributions]\n",
    "\n",
    "# Display the DataFrame with assigned topics\n",
    "print(df.head())\n",
    "df.to_csv('../dataset/AssignedTopicLuigi.csv')\n",
    "for i in range(num_topics): \n",
    "    topic_df = df[df['topic'] == i]\n",
    "    print('topic: ', i, 'total data: ', len(topic_df))"
   ]
  },
  {
   "cell_type": "code",
   "execution_count": null,
   "metadata": {},
   "outputs": [],
   "source": []
  }
 ],
 "metadata": {
  "kernelspec": {
   "display_name": "Python 3 (ipykernel)",
   "language": "python",
   "name": "python3"
  },
  "language_info": {
   "codemirror_mode": {
    "name": "ipython",
    "version": 3
   },
   "file_extension": ".py",
   "mimetype": "text/x-python",
   "name": "python",
   "nbconvert_exporter": "python",
   "pygments_lexer": "ipython3",
   "version": "3.10.12"
  },
  "widgets": {
   "application/vnd.jupyter.widget-state+json": {
    "state": {},
    "version_major": 2,
    "version_minor": 0
   }
  }
 },
 "nbformat": 4,
 "nbformat_minor": 5
}
