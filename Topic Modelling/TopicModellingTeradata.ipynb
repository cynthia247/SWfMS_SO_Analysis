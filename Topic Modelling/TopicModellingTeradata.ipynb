{
 "cells": [
  {
   "cell_type": "markdown",
   "id": "19a3956d",
   "metadata": {},
   "source": [
    "# Necessary Tools and Services"
   ]
  },
  {
   "cell_type": "code",
   "execution_count": 32,
   "id": "57e1172e",
   "metadata": {},
   "outputs": [],
   "source": [
    "# ! pip install pandas\n",
    "# ! pip install matplotlib\n",
    "# ! pip install numpy\n",
    "# ! pip install seaborn\n",
    "# ! pip install unzip\n",
    "# ! pip install gensim\n",
    "# ! pip install nltk\n",
    "# ! pip install wordcloud\n",
    "# ! pip install spacy\n",
    "# ! pip install spacy_download\n",
    "# ! pip install pyLDAvis\n",
    "# ! pip install PyStemmer\n",
    "\n",
    "# ! python3 -m spacy download en"
   ]
  },
  {
   "cell_type": "code",
   "execution_count": 1,
   "id": "893b4ccc",
   "metadata": {},
   "outputs": [
    {
     "name": "stderr",
     "output_type": "stream",
     "text": [
      "[nltk_data] Downloading package averaged_perceptron_tagger to\n",
      "[nltk_data]     /home/uji657/nltk_data...\n",
      "[nltk_data]   Package averaged_perceptron_tagger is already up-to-\n",
      "[nltk_data]       date!\n",
      "[nltk_data] Downloading package wordnet to /home/uji657/nltk_data...\n",
      "[nltk_data]   Package wordnet is already up-to-date!\n",
      "[nltk_data] Downloading package stopwords to /home/uji657/nltk_data...\n",
      "[nltk_data]   Package stopwords is already up-to-date!\n"
     ]
    },
    {
     "name": "stdout",
     "output_type": "stream",
     "text": [
      "Collecting en-core-web-sm==3.7.1\n",
      "  Downloading https://github.com/explosion/spacy-models/releases/download/en_core_web_sm-3.7.1/en_core_web_sm-3.7.1-py3-none-any.whl (12.8 MB)\n",
      "     ━━━━━━━━━━━━━━━━━━━━━━━━━━━━━━━━━━━━━━━━ 12.8/12.8 MB 6.8 MB/s eta 0:00:00\n",
      "Requirement already satisfied: spacy<3.8.0,>=3.7.2 in /home/uji657/Downloads/Sentiment Analysis/SentiCR-master/SentiCR/.venv/lib/python3.10/site-packages (from en-core-web-sm==3.7.1) (3.7.2)\n",
      "Requirement already satisfied: setuptools in /home/uji657/Downloads/Sentiment Analysis/SentiCR-master/SentiCR/.venv/lib/python3.10/site-packages (from spacy<3.8.0,>=3.7.2->en-core-web-sm==3.7.1) (59.6.0)\n",
      "Requirement already satisfied: pydantic!=1.8,!=1.8.1,<3.0.0,>=1.7.4 in /home/uji657/Downloads/Sentiment Analysis/SentiCR-master/SentiCR/.venv/lib/python3.10/site-packages (from spacy<3.8.0,>=3.7.2->en-core-web-sm==3.7.1) (2.5.1)\n",
      "Requirement already satisfied: catalogue<2.1.0,>=2.0.6 in /home/uji657/Downloads/Sentiment Analysis/SentiCR-master/SentiCR/.venv/lib/python3.10/site-packages (from spacy<3.8.0,>=3.7.2->en-core-web-sm==3.7.1) (2.0.10)\n",
      "Requirement already satisfied: cymem<2.1.0,>=2.0.2 in /home/uji657/Downloads/Sentiment Analysis/SentiCR-master/SentiCR/.venv/lib/python3.10/site-packages (from spacy<3.8.0,>=3.7.2->en-core-web-sm==3.7.1) (2.0.8)\n",
      "Requirement already satisfied: langcodes<4.0.0,>=3.2.0 in /home/uji657/Downloads/Sentiment Analysis/SentiCR-master/SentiCR/.venv/lib/python3.10/site-packages (from spacy<3.8.0,>=3.7.2->en-core-web-sm==3.7.1) (3.3.0)\n",
      "Requirement already satisfied: preshed<3.1.0,>=3.0.2 in /home/uji657/Downloads/Sentiment Analysis/SentiCR-master/SentiCR/.venv/lib/python3.10/site-packages (from spacy<3.8.0,>=3.7.2->en-core-web-sm==3.7.1) (3.0.9)\n",
      "Requirement already satisfied: srsly<3.0.0,>=2.4.3 in /home/uji657/Downloads/Sentiment Analysis/SentiCR-master/SentiCR/.venv/lib/python3.10/site-packages (from spacy<3.8.0,>=3.7.2->en-core-web-sm==3.7.1) (2.4.8)\n",
      "Requirement already satisfied: numpy>=1.19.0 in /home/uji657/Downloads/Sentiment Analysis/SentiCR-master/SentiCR/.venv/lib/python3.10/site-packages (from spacy<3.8.0,>=3.7.2->en-core-web-sm==3.7.1) (1.26.2)\n",
      "Requirement already satisfied: spacy-legacy<3.1.0,>=3.0.11 in /home/uji657/Downloads/Sentiment Analysis/SentiCR-master/SentiCR/.venv/lib/python3.10/site-packages (from spacy<3.8.0,>=3.7.2->en-core-web-sm==3.7.1) (3.0.12)\n",
      "Requirement already satisfied: smart-open<7.0.0,>=5.2.1 in /home/uji657/Downloads/Sentiment Analysis/SentiCR-master/SentiCR/.venv/lib/python3.10/site-packages (from spacy<3.8.0,>=3.7.2->en-core-web-sm==3.7.1) (6.4.0)\n",
      "Requirement already satisfied: wasabi<1.2.0,>=0.9.1 in /home/uji657/Downloads/Sentiment Analysis/SentiCR-master/SentiCR/.venv/lib/python3.10/site-packages (from spacy<3.8.0,>=3.7.2->en-core-web-sm==3.7.1) (1.1.2)\n",
      "Requirement already satisfied: typer<0.10.0,>=0.3.0 in /home/uji657/Downloads/Sentiment Analysis/SentiCR-master/SentiCR/.venv/lib/python3.10/site-packages (from spacy<3.8.0,>=3.7.2->en-core-web-sm==3.7.1) (0.9.0)\n",
      "Requirement already satisfied: thinc<8.3.0,>=8.1.8 in /home/uji657/Downloads/Sentiment Analysis/SentiCR-master/SentiCR/.venv/lib/python3.10/site-packages (from spacy<3.8.0,>=3.7.2->en-core-web-sm==3.7.1) (8.2.1)\n",
      "Requirement already satisfied: packaging>=20.0 in /home/uji657/Downloads/Sentiment Analysis/SentiCR-master/SentiCR/.venv/lib/python3.10/site-packages (from spacy<3.8.0,>=3.7.2->en-core-web-sm==3.7.1) (23.2)\n",
      "Requirement already satisfied: requests<3.0.0,>=2.13.0 in /home/uji657/Downloads/Sentiment Analysis/SentiCR-master/SentiCR/.venv/lib/python3.10/site-packages (from spacy<3.8.0,>=3.7.2->en-core-web-sm==3.7.1) (2.31.0)\n",
      "Requirement already satisfied: tqdm<5.0.0,>=4.38.0 in /home/uji657/Downloads/Sentiment Analysis/SentiCR-master/SentiCR/.venv/lib/python3.10/site-packages (from spacy<3.8.0,>=3.7.2->en-core-web-sm==3.7.1) (4.66.1)\n",
      "Requirement already satisfied: weasel<0.4.0,>=0.1.0 in /home/uji657/Downloads/Sentiment Analysis/SentiCR-master/SentiCR/.venv/lib/python3.10/site-packages (from spacy<3.8.0,>=3.7.2->en-core-web-sm==3.7.1) (0.3.4)\n",
      "Requirement already satisfied: murmurhash<1.1.0,>=0.28.0 in /home/uji657/Downloads/Sentiment Analysis/SentiCR-master/SentiCR/.venv/lib/python3.10/site-packages (from spacy<3.8.0,>=3.7.2->en-core-web-sm==3.7.1) (1.0.10)\n",
      "Requirement already satisfied: spacy-loggers<2.0.0,>=1.0.0 in /home/uji657/Downloads/Sentiment Analysis/SentiCR-master/SentiCR/.venv/lib/python3.10/site-packages (from spacy<3.8.0,>=3.7.2->en-core-web-sm==3.7.1) (1.0.5)\n",
      "Requirement already satisfied: jinja2 in /home/uji657/Downloads/Sentiment Analysis/SentiCR-master/SentiCR/.venv/lib/python3.10/site-packages (from spacy<3.8.0,>=3.7.2->en-core-web-sm==3.7.1) (3.1.2)\n",
      "Requirement already satisfied: typing-extensions>=4.6.1 in /home/uji657/Downloads/Sentiment Analysis/SentiCR-master/SentiCR/.venv/lib/python3.10/site-packages (from pydantic!=1.8,!=1.8.1,<3.0.0,>=1.7.4->spacy<3.8.0,>=3.7.2->en-core-web-sm==3.7.1) (4.8.0)\n",
      "Requirement already satisfied: annotated-types>=0.4.0 in /home/uji657/Downloads/Sentiment Analysis/SentiCR-master/SentiCR/.venv/lib/python3.10/site-packages (from pydantic!=1.8,!=1.8.1,<3.0.0,>=1.7.4->spacy<3.8.0,>=3.7.2->en-core-web-sm==3.7.1) (0.6.0)\n",
      "Requirement already satisfied: pydantic-core==2.14.3 in /home/uji657/Downloads/Sentiment Analysis/SentiCR-master/SentiCR/.venv/lib/python3.10/site-packages (from pydantic!=1.8,!=1.8.1,<3.0.0,>=1.7.4->spacy<3.8.0,>=3.7.2->en-core-web-sm==3.7.1) (2.14.3)\n",
      "Requirement already satisfied: urllib3<3,>=1.21.1 in /home/uji657/Downloads/Sentiment Analysis/SentiCR-master/SentiCR/.venv/lib/python3.10/site-packages (from requests<3.0.0,>=2.13.0->spacy<3.8.0,>=3.7.2->en-core-web-sm==3.7.1) (2.1.0)\n",
      "Requirement already satisfied: idna<4,>=2.5 in /home/uji657/Downloads/Sentiment Analysis/SentiCR-master/SentiCR/.venv/lib/python3.10/site-packages (from requests<3.0.0,>=2.13.0->spacy<3.8.0,>=3.7.2->en-core-web-sm==3.7.1) (3.4)\n",
      "Requirement already satisfied: certifi>=2017.4.17 in /home/uji657/Downloads/Sentiment Analysis/SentiCR-master/SentiCR/.venv/lib/python3.10/site-packages (from requests<3.0.0,>=2.13.0->spacy<3.8.0,>=3.7.2->en-core-web-sm==3.7.1) (2023.7.22)\n",
      "Requirement already satisfied: charset-normalizer<4,>=2 in /home/uji657/Downloads/Sentiment Analysis/SentiCR-master/SentiCR/.venv/lib/python3.10/site-packages (from requests<3.0.0,>=2.13.0->spacy<3.8.0,>=3.7.2->en-core-web-sm==3.7.1) (3.3.2)\n",
      "Requirement already satisfied: confection<1.0.0,>=0.0.1 in /home/uji657/Downloads/Sentiment Analysis/SentiCR-master/SentiCR/.venv/lib/python3.10/site-packages (from thinc<8.3.0,>=8.1.8->spacy<3.8.0,>=3.7.2->en-core-web-sm==3.7.1) (0.1.3)\n",
      "Requirement already satisfied: blis<0.8.0,>=0.7.8 in /home/uji657/Downloads/Sentiment Analysis/SentiCR-master/SentiCR/.venv/lib/python3.10/site-packages (from thinc<8.3.0,>=8.1.8->spacy<3.8.0,>=3.7.2->en-core-web-sm==3.7.1) (0.7.11)\n",
      "Requirement already satisfied: click<9.0.0,>=7.1.1 in /home/uji657/Downloads/Sentiment Analysis/SentiCR-master/SentiCR/.venv/lib/python3.10/site-packages (from typer<0.10.0,>=0.3.0->spacy<3.8.0,>=3.7.2->en-core-web-sm==3.7.1) (8.1.7)\n",
      "Requirement already satisfied: cloudpathlib<0.17.0,>=0.7.0 in /home/uji657/Downloads/Sentiment Analysis/SentiCR-master/SentiCR/.venv/lib/python3.10/site-packages (from weasel<0.4.0,>=0.1.0->spacy<3.8.0,>=3.7.2->en-core-web-sm==3.7.1) (0.16.0)\n",
      "Requirement already satisfied: MarkupSafe>=2.0 in /home/uji657/Downloads/Sentiment Analysis/SentiCR-master/SentiCR/.venv/lib/python3.10/site-packages (from jinja2->spacy<3.8.0,>=3.7.2->en-core-web-sm==3.7.1) (2.1.3)\n",
      "\u001b[38;5;2m✔ Download and installation successful\u001b[0m\n",
      "You can now load the package via spacy.load('en_core_web_sm')\n"
     ]
    }
   ],
   "source": [
    "## Importing PD and Others\n",
    "import re\n",
    "import numpy as np\n",
    "import pandas as pd\n",
    "from pprint import pprint\n",
    "\n",
    "## Gensim\n",
    "import gensim\n",
    "import gensim.corpora as corpora\n",
    "from gensim.models import CoherenceModel\n",
    "from gensim.utils import simple_preprocess\n",
    "from gensim.parsing.preprocessing import STOPWORDS\n",
    "\n",
    "## NLTK\n",
    "from nltk.stem import WordNetLemmatizer, SnowballStemmer\n",
    "from nltk.stem.porter import *\n",
    "import nltk.stem\n",
    "import numpy as np\n",
    "np.random.seed(2018)\n",
    "import nltk\n",
    "nltk.download('averaged_perceptron_tagger')\n",
    "nltk.download('wordnet')\n",
    "nltk.download('stopwords')\n",
    "\n",
    "from nltk.corpus import stopwords\n",
    "stop_words = stopwords.words('english')\n",
    "stop_words.extend(['#', '`', '\"', '@'])\n",
    "\n",
    "import warnings\n",
    "warnings.filterwarnings(action='ignore', category=UserWarning)\n",
    "\n",
    "import matplotlib.pyplot as plt\n",
    "%matplotlib inline\n",
    "\n",
    "\n",
    "import spacy\n",
    "spacy.cli.download('en_core_web_sm')\n",
    "\n",
    "\n",
    "\n",
    "## Visualization\n",
    "import pyLDAvis\n",
    "import pyLDAvis.gensim\n",
    "\n",
    "import warnings\n",
    "warnings.filterwarnings(\"ignore\", category=DeprecationWarning)"
   ]
  },
  {
   "cell_type": "markdown",
   "id": "c3c80025",
   "metadata": {},
   "source": [
    "# Import data and Preprocess"
   ]
  },
  {
   "cell_type": "code",
   "execution_count": 2,
   "id": "093e46bc",
   "metadata": {},
   "outputs": [
    {
     "name": "stdout",
     "output_type": "stream",
     "text": [
      "617\n"
     ]
    }
   ],
   "source": [
    "df = pd.read_csv('../dataset/teradata_posts.csv')\n",
    "# my_value = -1\n",
    "# new_df = df.loc[df[\"RatingsGPTFineTuned\"] == my_value]\n",
    "df[\"merged\"] = df[[\"Body\"]]\n",
    "#new_df.head()\n",
    "# new_df.to_csv('Dataset/ConcatenatedDatasetSO.csv')\n",
    "\n",
    "data = df.merged.values.tolist()\n",
    "print(len(df))\n",
    "#data"
   ]
  },
  {
   "cell_type": "code",
   "execution_count": 3,
   "id": "ed84875d",
   "metadata": {},
   "outputs": [
    {
     "name": "stdout",
     "output_type": "stream",
     "text": [
      "['oI have a teradata table with about 10 million records in it, that stores a '\n",
      " 'numeric id field as a varchar. i need to transfer the values in this field '\n",
      " 'to a bigint column in another table, but i cant simply say cast(id_field as '\n",
      " 'bigint) because i get an invalid character error. looking through the '\n",
      " 'values, i find that there could be a character at any position in the '\n",
      " 'string, so lets say the string is varchar(18) i could filter out invalid '\n",
      " 'rows like so : where substr(id_field,1,1) not in (/*big,ugly array of '\n",
      " 'non-numeric chars*/) and substr(id_field,2,1) not in (/*big,ugly array of '\n",
      " 'non-numeric chars*/) etc, etc... then the cast would work, but this is not '\n",
      " 'feasible in the long run. its slow and if the string has 18 possible '\n",
      " 'characters, it makes the query unreadable. how can i filter out rows that '\n",
      " 'have a value in this field that will not cast as a bigint without checking '\n",
      " 'each character individually for an array of non-numeric characters? example '\n",
      " 'values would be 123abc464 a2.3v65 a_356087 ........ 000000000 BOB KNIGHT '\n",
      " '1235468099 the values follow no specific patterns, I simply need to filter '\n",
      " 'out the ones that contain ANY non-numeric data. 123456789 is okay but '\n",
      " '123.abc_c3865 is not... ',\n",
      " 'I use teradata and the below query outputs \"Altlüd\" when run using a '\n",
      " 'teradata client. select name as name from MYTABLE where selector=? Whereas, '\n",
      " 'I get \"Altl?d\" as the output when I try to execute the query using a java '\n",
      " 'client(jdbc with teradata drivers). I am using \"UTF-8\" charset and I have '\n",
      " 'also tried Latin charset with no luck. I have also tried this to '\n",
      " 'troubleshoot. while (rs.next()) { System.out.println(rs.getString(1)); '\n",
      " 'Reader rd = rs.getCharacterStream(1); int charr = rd.read(); while (charr '\n",
      " '&gt;= 0) { System.out.println(charr + \" = \" + ((char) charr)); charr = '\n",
      " 'rd.read(); } } And the output is Altl?dersdorf 65 = A 108 = l 116 = t 108 = '\n",
      " 'l 65533 = ? 100 = d If you look at the output produced, the int value for '\n",
      " 'the spl character is 65533 which shouldnt be the case. Infact it returns '\n",
      " '65533 for all the special characters. Any clues/pointers will be '\n",
      " 'appreciated. Thanks!!! ']\n"
     ]
    }
   ],
   "source": [
    "# Remove Emails\n",
    "data = [re.sub('<[^<>]*>', '', sent) for sent in data]\n",
    "# Remove new line characters\n",
    "data = [re.sub('\\s+', ' ', sent) for sent in data]\n",
    "# Remove distracting single quotes\n",
    "data = [re.sub(\"\\'\", \"\", sent) for sent in data]\n",
    "\n",
    "pprint(data[:2])"
   ]
  },
  {
   "cell_type": "markdown",
   "id": "2d98f4b6",
   "metadata": {},
   "source": [
    "# Tokenize words and Clean-up text"
   ]
  },
  {
   "cell_type": "code",
   "execution_count": 4,
   "id": "b7b3a9c8",
   "metadata": {},
   "outputs": [
    {
     "name": "stdout",
     "output_type": "stream",
     "text": [
      "[['oi', 'have', 'teradata', 'table', 'with', 'about', 'million', 'records', 'in', 'it', 'that', 'stores', 'numeric', 'id', 'field', 'as', 'varchar', 'need', 'to', 'transfer', 'the', 'values', 'in', 'this', 'field', 'to', 'bigint', 'column', 'in', 'another', 'table', 'but', 'cant', 'simply', 'say', 'cast', 'id_field', 'as', 'bigint', 'because', 'get', 'an', 'invalid', 'character', 'error', 'looking', 'through', 'the', 'values', 'find', 'that', 'there', 'could', 'be', 'character', 'at', 'any', 'position', 'in', 'the', 'string', 'so', 'lets', 'say', 'the', 'string', 'is', 'varchar', 'could', 'filter', 'out', 'invalid', 'rows', 'like', 'so', 'where', 'substr', 'id_field', 'not', 'in', 'big', 'ugly', 'array', 'of', 'non', 'numeric', 'chars', 'and', 'substr', 'id_field', 'not', 'in', 'big', 'ugly', 'array', 'of', 'non', 'numeric', 'chars', 'etc', 'etc', 'then', 'the', 'cast', 'would', 'work', 'but', 'this', 'is', 'not', 'feasible', 'in', 'the', 'long', 'run', 'its', 'slow', 'and', 'if', 'the', 'string', 'has', 'possible', 'characters', 'it', 'makes', 'the', 'query', 'unreadable', 'how', 'can', 'filter', 'out', 'rows', 'that', 'have', 'value', 'in', 'this', 'field', 'that', 'will', 'not', 'cast', 'as', 'bigint', 'without', 'checking', 'each', 'character', 'individually', 'for', 'an', 'array', 'of', 'non', 'numeric', 'characters', 'example', 'values', 'would', 'be', 'abc', 'a_', 'bob', 'knight', 'the', 'values', 'follow', 'no', 'specific', 'patterns', 'simply', 'need', 'to', 'filter', 'out', 'the', 'ones', 'that', 'contain', 'any', 'non', 'numeric', 'data', 'is', 'okay', 'but', 'abc_c', 'is', 'not']]\n"
     ]
    }
   ],
   "source": [
    "def sent_to_words(sentences):\n",
    "    for sentence in sentences:\n",
    "        yield(gensim.utils.simple_preprocess(str(sentence), deacc=True))  # deacc=True removes punctuations\n",
    "\n",
    "data_words = list(sent_to_words(data))\n",
    "\n",
    "print(data_words[:1])"
   ]
  },
  {
   "cell_type": "code",
   "execution_count": 5,
   "id": "38592eb3",
   "metadata": {},
   "outputs": [],
   "source": [
    "# Build the bigram and trigram models\n",
    "bigram = gensim.models.Phrases(data_words, min_count=5, threshold=50) # higher threshold fewer phrases.\n",
    "trigram = gensim.models.Phrases(bigram[data_words], threshold=50)  \n",
    "\n",
    "# Faster way to get a sentence clubbed as a trigram/bigram\n",
    "bigram_mod = gensim.models.phrases.Phraser(bigram)\n",
    "trigram_mod = gensim.models.phrases.Phraser(trigram)\n",
    "\n",
    "# See trigram example\n",
    "#print(trigram_mod[bigram_mod[data_words[0]]])"
   ]
  },
  {
   "cell_type": "markdown",
   "id": "3d485455",
   "metadata": {},
   "source": [
    "# Remove Stopwords, Make Bigrams and Lemmatize"
   ]
  },
  {
   "cell_type": "code",
   "execution_count": 6,
   "id": "c49abe86",
   "metadata": {},
   "outputs": [],
   "source": [
    "# Define functions for stopwords, bigrams, trigrams and lemmatization\n",
    "def remove_stopwords(texts):\n",
    "    return [[word for word in simple_preprocess(str(doc)) if word not in stop_words] for doc in texts]\n",
    "\n",
    "def make_bigrams(texts):\n",
    "    return [bigram_mod[doc] for doc in texts]\n",
    "\n",
    "def make_trigrams(texts):\n",
    "    return [trigram_mod[bigram_mod[doc]] for doc in texts]\n",
    "\n",
    "def lemmatization(texts, allowed_postags=['NOUN', 'ADJ', 'VERB', 'ADV']):\n",
    "    \"\"\"https://spacy.io/api/annotation\"\"\"\n",
    "    texts_out = []\n",
    "    for sent in texts:\n",
    "        doc = nlp(\" \".join(sent)) \n",
    "        texts_out.append([token.lemma_ for token in doc if token.pos_ in allowed_postags])\n",
    "    return texts_out"
   ]
  },
  {
   "cell_type": "code",
   "execution_count": 7,
   "id": "a1408ee7",
   "metadata": {},
   "outputs": [
    {
     "name": "stdout",
     "output_type": "stream",
     "text": [
      "[['teradata', 'table', 'record', 'store', 'numeric', 'field', 'varchar', 'need', 'transfer', 'value', 'field', 'bigint', 'column', 'table', 'simply', 'say', 'cast', 'bigint', 'get', 'invalid', 'character', 'error', 'look', 'value', 'find', 'character', 'position', 'string', 'let', 'say', 'string', 'filter', 'invalid', 'row', 'substr', 'big', 'ugly', 'array', 'non', 'numeric', 'char', 'substr', 'big', 'ugly', 'array', 'non', 'numeric', 'char', 'cast', 'work', 'feasible', 'long', 'run', 'slow', 'string', 'possible', 'character', 'make', 'query', 'unreadable', 'filter', 'row', 'value', 'field', 'cast', 'bigint', 'check', 'character', 'individually', 'array', 'non', 'numeric', 'character', 'example', 'value', 'abc', 'value', 'follow', 'specific', 'pattern', 'simply', 'need', 'filter', 'one', 'contain', 'non', 'numeric', 'datum', 'abc_c']]\n"
     ]
    }
   ],
   "source": [
    "# Remove Stop Words\n",
    "data_words_nostops = remove_stopwords(data_words)\n",
    "\n",
    "# Form Bigrams\n",
    "data_words_bigrams = make_bigrams(data_words_nostops)\n",
    "\n",
    "# Initialize spacy 'en' model, keeping only tagger component (for efficiency)\n",
    "# python3 -m spacy download en\n",
    "nlp = spacy.load(\"en_core_web_sm\", disable=[\"parser\", \"ner\"])\n",
    "\n",
    "# Do lemmatization keeping only noun, adj, vb, adv\n",
    "data_lemmatized = lemmatization(data_words_bigrams, allowed_postags=['NOUN', 'ADJ', 'VERB', 'ADV'])\n",
    "\n",
    "print(data_lemmatized[:1])"
   ]
  },
  {
   "cell_type": "markdown",
   "id": "98003715",
   "metadata": {},
   "source": [
    "# Create the Dictionary and Corpus needed for Topic Modeling"
   ]
  },
  {
   "cell_type": "code",
   "execution_count": 8,
   "id": "cfd3247d",
   "metadata": {},
   "outputs": [
    {
     "name": "stdout",
     "output_type": "stream",
     "text": [
      "[[(0, 1), (1, 1), (2, 3), (3, 2), (4, 3), (5, 3), (6, 2), (7, 5), (8, 1), (9, 1), (10, 1), (11, 1), (12, 1), (13, 1), (14, 1), (15, 3), (16, 3), (17, 1), (18, 1), (19, 1), (20, 1), (21, 2), (22, 1), (23, 1), (24, 1), (25, 1), (26, 2), (27, 4), (28, 5), (29, 1), (30, 1), (31, 1), (32, 1), (33, 1), (34, 1), (35, 2), (36, 1), (37, 2), (38, 2), (39, 1), (40, 1), (41, 1), (42, 3), (43, 2), (44, 2), (45, 1), (46, 1), (47, 2), (48, 1), (49, 5), (50, 1), (51, 1)]]\n"
     ]
    }
   ],
   "source": [
    "# Create Dictionary\n",
    "id2word = corpora.Dictionary(data_lemmatized)\n",
    "\n",
    "# Create Corpus\n",
    "texts = data_lemmatized\n",
    "\n",
    "# Term Document Frequency\n",
    "corpus = [id2word.doc2bow(text) for text in texts]\n",
    "\n",
    "# View\n",
    "print(corpus[:1])"
   ]
  },
  {
   "cell_type": "code",
   "execution_count": 9,
   "id": "be414a5b",
   "metadata": {},
   "outputs": [
    {
     "data": {
      "text/plain": [
       "[[('abc', 1),\n",
       "  ('abc_c', 1),\n",
       "  ('array', 3),\n",
       "  ('big', 2),\n",
       "  ('bigint', 3),\n",
       "  ('cast', 3),\n",
       "  ('char', 2),\n",
       "  ('character', 5),\n",
       "  ('check', 1),\n",
       "  ('column', 1),\n",
       "  ('contain', 1),\n",
       "  ('datum', 1),\n",
       "  ('error', 1),\n",
       "  ('example', 1),\n",
       "  ('feasible', 1),\n",
       "  ('field', 3),\n",
       "  ('filter', 3),\n",
       "  ('find', 1),\n",
       "  ('follow', 1),\n",
       "  ('get', 1),\n",
       "  ('individually', 1),\n",
       "  ('invalid', 2),\n",
       "  ('let', 1),\n",
       "  ('long', 1),\n",
       "  ('look', 1),\n",
       "  ('make', 1),\n",
       "  ('need', 2),\n",
       "  ('non', 4),\n",
       "  ('numeric', 5),\n",
       "  ('one', 1),\n",
       "  ('pattern', 1),\n",
       "  ('position', 1),\n",
       "  ('possible', 1),\n",
       "  ('query', 1),\n",
       "  ('record', 1),\n",
       "  ('row', 2),\n",
       "  ('run', 1),\n",
       "  ('say', 2),\n",
       "  ('simply', 2),\n",
       "  ('slow', 1),\n",
       "  ('specific', 1),\n",
       "  ('store', 1),\n",
       "  ('string', 3),\n",
       "  ('substr', 2),\n",
       "  ('table', 2),\n",
       "  ('teradata', 1),\n",
       "  ('transfer', 1),\n",
       "  ('ugly', 2),\n",
       "  ('unreadable', 1),\n",
       "  ('value', 5),\n",
       "  ('varchar', 1),\n",
       "  ('work', 1)]]"
      ]
     },
     "execution_count": 9,
     "metadata": {},
     "output_type": "execute_result"
    }
   ],
   "source": [
    "# Human readable format of corpus (term-frequency)\n",
    "[[(id2word[id], freq) for id, freq in cp] for cp in corpus[:1]]"
   ]
  },
  {
   "cell_type": "code",
   "execution_count": 10,
   "id": "2a5fd366",
   "metadata": {},
   "outputs": [],
   "source": [
    "# supporting function\n",
    "def compute_coherence_values(corpus, dictionary, k, a, b):\n",
    "    \n",
    "    lda_model = gensim.models.LdaMulticore(corpus=corpus,\n",
    "                                           id2word=id2word,\n",
    "                                           num_topics=k, \n",
    "                                           random_state=100,\n",
    "                                           chunksize=100,\n",
    "                                           passes=10,\n",
    "                                           alpha=a,\n",
    "                                           eta=b)\n",
    "    \n",
    "    coherence_model_lda = CoherenceModel(model=lda_model, texts=data_lemmatized, dictionary=id2word, coherence='c_v')\n",
    "    \n",
    "    return coherence_model_lda.get_coherence()"
   ]
  },
  {
   "cell_type": "code",
   "execution_count": 11,
   "id": "fc885ff8",
   "metadata": {},
   "outputs": [
    {
     "name": "stderr",
     "output_type": "stream",
     "text": [
      "  0%|          | 0/540 [00:00<?, ?it/s]"
     ]
    },
    {
     "name": "stderr",
     "output_type": "stream",
     "text": [
      "100%|██████████| 540/540 [09:45<00:00,  1.08s/it]\n"
     ]
    }
   ],
   "source": [
    "import numpy as np\n",
    "import tqdm\n",
    "\n",
    "grid = {}\n",
    "grid['Validation_Set'] = {}\n",
    "\n",
    "# Topics range\n",
    "min_topics = 2\n",
    "max_topics = 11\n",
    "step_size = 1\n",
    "topics_range = range(min_topics, max_topics, step_size)\n",
    "\n",
    "# Alpha parameter\n",
    "alpha = list(np.arange(0.01, 1, 0.3))\n",
    "alpha.append('symmetric')\n",
    "alpha.append('asymmetric')\n",
    "\n",
    "# Beta parameter\n",
    "beta = list(np.arange(0.01, 1, 0.3))\n",
    "beta.append('symmetric')\n",
    "\n",
    "# Validation sets\n",
    "num_of_docs = len(corpus)\n",
    "corpus_sets = [gensim.utils.ClippedCorpus(corpus, int(num_of_docs*0.75)), \n",
    "               corpus]\n",
    "\n",
    "corpus_title = ['75% Corpus', '100% Corpus']\n",
    "\n",
    "model_results = {'Validation_Set': [],\n",
    "                 'Topics': [],\n",
    "                 'Alpha': [],\n",
    "                 'Beta': [],\n",
    "                 'Coherence': []\n",
    "                }\n",
    "\n",
    "# Can take a long time to run\n",
    "if 1 == 1:\n",
    "    pbar = tqdm.tqdm(total=(len(beta)*len(alpha)*len(topics_range)*len(corpus_title)))\n",
    "    \n",
    "    # iterate through validation corpuses\n",
    "    for i in range(len(corpus_sets)):\n",
    "        # iterate through number of topics\n",
    "        for k in topics_range:\n",
    "            # iterate through alpha values\n",
    "            for a in alpha:\n",
    "                # iterare through beta values\n",
    "                for b in beta:\n",
    "                    # get the coherence score for the given parameters\n",
    "                    cv = compute_coherence_values(corpus=corpus_sets[i], dictionary=id2word, \n",
    "                                                  k=k, a=a, b=b)\n",
    "                    # Save the model results\n",
    "                    model_results['Validation_Set'].append(corpus_title[i])\n",
    "                    model_results['Topics'].append(k)\n",
    "                    model_results['Alpha'].append(a)\n",
    "                    model_results['Beta'].append(b)\n",
    "                    model_results['Coherence'].append(cv)\n",
    "                    \n",
    "                    pbar.update(1)\n",
    "    pd.DataFrame(model_results).to_csv('../dataset/lda_tuning_results.csv', index=False)\n",
    "    pbar.close()"
   ]
  },
  {
   "cell_type": "code",
   "execution_count": 12,
   "id": "41468242",
   "metadata": {},
   "outputs": [
    {
     "data": {
      "text/html": [
       "<div>\n",
       "<style scoped>\n",
       "    .dataframe tbody tr th:only-of-type {\n",
       "        vertical-align: middle;\n",
       "    }\n",
       "\n",
       "    .dataframe tbody tr th {\n",
       "        vertical-align: top;\n",
       "    }\n",
       "\n",
       "    .dataframe thead th {\n",
       "        text-align: right;\n",
       "    }\n",
       "</style>\n",
       "<table border=\"1\" class=\"dataframe\">\n",
       "  <thead>\n",
       "    <tr style=\"text-align: right;\">\n",
       "      <th></th>\n",
       "      <th>Validation_Set</th>\n",
       "      <th>Topics</th>\n",
       "      <th>Alpha</th>\n",
       "      <th>Beta</th>\n",
       "      <th>Coherence</th>\n",
       "    </tr>\n",
       "  </thead>\n",
       "  <tbody>\n",
       "    <tr>\n",
       "      <th>297</th>\n",
       "      <td>100% Corpus</td>\n",
       "      <td>2</td>\n",
       "      <td>asymmetric</td>\n",
       "      <td>0.61</td>\n",
       "      <td>0.544267</td>\n",
       "    </tr>\n",
       "    <tr>\n",
       "      <th>299</th>\n",
       "      <td>100% Corpus</td>\n",
       "      <td>2</td>\n",
       "      <td>asymmetric</td>\n",
       "      <td>symmetric</td>\n",
       "      <td>0.544267</td>\n",
       "    </tr>\n",
       "    <tr>\n",
       "      <th>298</th>\n",
       "      <td>100% Corpus</td>\n",
       "      <td>2</td>\n",
       "      <td>asymmetric</td>\n",
       "      <td>0.9099999999999999</td>\n",
       "      <td>0.542629</td>\n",
       "    </tr>\n",
       "    <tr>\n",
       "      <th>411</th>\n",
       "      <td>100% Corpus</td>\n",
       "      <td>6</td>\n",
       "      <td>symmetric</td>\n",
       "      <td>0.31</td>\n",
       "      <td>0.537383</td>\n",
       "    </tr>\n",
       "    <tr>\n",
       "      <th>391</th>\n",
       "      <td>100% Corpus</td>\n",
       "      <td>6</td>\n",
       "      <td>0.01</td>\n",
       "      <td>0.31</td>\n",
       "      <td>0.537121</td>\n",
       "    </tr>\n",
       "    <tr>\n",
       "      <th>...</th>\n",
       "      <td>...</td>\n",
       "      <td>...</td>\n",
       "      <td>...</td>\n",
       "      <td>...</td>\n",
       "      <td>...</td>\n",
       "    </tr>\n",
       "    <tr>\n",
       "      <th>528</th>\n",
       "      <td>100% Corpus</td>\n",
       "      <td>10</td>\n",
       "      <td>0.9099999999999999</td>\n",
       "      <td>0.9099999999999999</td>\n",
       "      <td>0.434032</td>\n",
       "    </tr>\n",
       "    <tr>\n",
       "      <th>423</th>\n",
       "      <td>100% Corpus</td>\n",
       "      <td>7</td>\n",
       "      <td>0.01</td>\n",
       "      <td>0.9099999999999999</td>\n",
       "      <td>0.431641</td>\n",
       "    </tr>\n",
       "    <tr>\n",
       "      <th>453</th>\n",
       "      <td>100% Corpus</td>\n",
       "      <td>8</td>\n",
       "      <td>0.01</td>\n",
       "      <td>0.9099999999999999</td>\n",
       "      <td>0.425680</td>\n",
       "    </tr>\n",
       "    <tr>\n",
       "      <th>473</th>\n",
       "      <td>100% Corpus</td>\n",
       "      <td>8</td>\n",
       "      <td>symmetric</td>\n",
       "      <td>0.9099999999999999</td>\n",
       "      <td>0.422407</td>\n",
       "    </tr>\n",
       "    <tr>\n",
       "      <th>518</th>\n",
       "      <td>100% Corpus</td>\n",
       "      <td>10</td>\n",
       "      <td>0.31</td>\n",
       "      <td>0.9099999999999999</td>\n",
       "      <td>0.421497</td>\n",
       "    </tr>\n",
       "  </tbody>\n",
       "</table>\n",
       "<p>268 rows × 5 columns</p>\n",
       "</div>"
      ],
      "text/plain": [
       "    Validation_Set  Topics               Alpha                Beta  Coherence\n",
       "297    100% Corpus       2          asymmetric                0.61   0.544267\n",
       "299    100% Corpus       2          asymmetric           symmetric   0.544267\n",
       "298    100% Corpus       2          asymmetric  0.9099999999999999   0.542629\n",
       "411    100% Corpus       6           symmetric                0.31   0.537383\n",
       "391    100% Corpus       6                0.01                0.31   0.537121\n",
       "..             ...     ...                 ...                 ...        ...\n",
       "528    100% Corpus      10  0.9099999999999999  0.9099999999999999   0.434032\n",
       "423    100% Corpus       7                0.01  0.9099999999999999   0.431641\n",
       "453    100% Corpus       8                0.01  0.9099999999999999   0.425680\n",
       "473    100% Corpus       8           symmetric  0.9099999999999999   0.422407\n",
       "518    100% Corpus      10                0.31  0.9099999999999999   0.421497\n",
       "\n",
       "[268 rows x 5 columns]"
      ]
     },
     "execution_count": 12,
     "metadata": {},
     "output_type": "execute_result"
    }
   ],
   "source": [
    "results = pd.read_csv('../dataset/lda_tuning_results.csv')\n",
    "results = results.loc[272:]\n",
    "results.sort_values(by=['Coherence'], ascending=False)"
   ]
  },
  {
   "cell_type": "code",
   "execution_count": 10,
   "id": "1a9f15c6",
   "metadata": {},
   "outputs": [
    {
     "name": "stdout",
     "output_type": "stream",
     "text": [
      "\n",
      "Perplexity:  -6.997446755545206\n",
      "\n",
      "Coherence Score:  0.593419664072752\n"
     ]
    },
    {
     "data": {
      "text/html": [
       "\n",
       "<link rel=\"stylesheet\" type=\"text/css\" href=\"https://cdn.jsdelivr.net/gh/bmabey/pyLDAvis@3.4.0/pyLDAvis/js/ldavis.v1.0.0.css\">\n",
       "\n",
       "\n",
       "<div id=\"ldavis_el3804581405313358137604055956601\" style=\"background-color:white;\"></div>\n",
       "<script type=\"text/javascript\">\n",
       "\n",
       "var ldavis_el3804581405313358137604055956601_data = {\"mdsDat\": {\"x\": [-0.1332189186458957, -0.11515164466453409, 0.015105903336022693, 0.10866982056183605, 0.12459483941257123], \"y\": [-0.11997736263363945, 0.09114839287596714, 0.08409559982306258, -0.008052092956240974, -0.04721453710914921], \"topics\": [1, 2, 3, 4, 5], \"cluster\": [1, 1, 1, 1, 1], \"Freq\": [45.82745685832633, 26.01370362718996, 22.06491971128845, 3.1559061522531304, 2.938013650942133]}, \"tinfo\": {\"Term\": [\"java\", \"com\", \"table\", \"teradata\", \"jdbc\", \"odbc\", \"connect\", \"partition\", \"column\", \"import\", \"driver\", \"sqoop\", \"connection\", \"select\", \"spark\", \"host\", \"date\", \"varchar\", \"org_apache\", \"file\", \"condition\", \"option\", \"result\", \"month\", \"user\", \"database\", \"sum\", \"python\", \"single\", \"second\", \"month\", \"date\", \"varchar\", \"column\", \"statement\", \"case\", \"cast\", \"order\", \"interval\", \"startdate\", \"group\", \"year\", \"day\", \"record\", \"field\", \"select\", \"want\", \"first\", \"member\", \"span\", \"procedure\", \"end\", \"stored_procedure\", \"mean\", \"spl\", \"number\", \"automate\", \"volatile\", \"example\", \"hinic\", \"table\", \"new\", \"character\", \"row\", \"need\", \"value\", \"insert\", \"result\", \"query\", \"datum\", \"create\", \"try\", \"use\", \"work\", \"error\", \"get\", \"syntax\", \"teradata\", \"sql\", \"name\", \"code\", \"m\", \"follow\", \"type\", \"database\", \"run\", \"odbc\", \"python\", \"host\", \"teradatasql\", \"sqlalchemy\", \"udaexec\", \"create_engine\", \"package\", \"client\", \"pyodbc\", \"self\", \"panda\", \"library\", \"module\", \"dbcname\", \"import\", \"python_site\", \"gosqldriver_teradatasql\", \"py_line\", \"password\", \"userid\", \"opt\", \"lib_site\", \"desktop\", \"version_logconsole\", \"traceback\", \"pd\", \"if_exist\", \"push\", \"databaseerror\", \"username\", \"connect\", \"session\", \"go\", \"df\", \"connection\", \"driver\", \"dataframe\", \"user\", \"false\", \"true\", \"file\", \"teradata\", \"database\", \"error\", \"version\", \"server\", \"use\", \"get\", \"code\", \"try\", \"datum\", \"java\", \"com\", \"jdbc\", \"sqoop\", \"spark\", \"org_apache\", \"scala\", \"hadoop_mapre\", \"hadoop\", \"maptask\", \"errorfactory\", \"util_errorfactory\", \"internal\", \"hive\", \"jdbc__statemachine\", \"jar\", \"execution_datasource\", \"connector\", \"client_provider\", \"invoke\", \"org_hibernate\", \"sql_sqlexception\", \"sqlstate_hy\", \"connector_common\", \"tdsession\", \"jdbc_teradriver\", \"pyspark\", \"action\", \"charset_utf\", \"deserialize\", \"task\", \"job\", \"exception\", \"terajdbc\", \"option\", \"run\", \"net\", \"cause\", \"teradata\", \"error\", \"database\", \"load\", \"driver\", \"fail\", \"connect\", \"connection\", \"table\", \"use\", \"office\", \"regexp_matche\", \"pointer_target\", \"type_enable\", \"warning_return\", \"qualifier\", \"cli\", \"gi\", \"lookbehind\", \"netty_shade\", \"sku\", \"migration\", \"prthd\", \"gem\", \"util_concurrent\", \"aws_autoscale\", \"delete_complete_aw\", \"concatenation\", \"follwe\", \"greenplum\", \"regex_substr\", \"extraction\", \"create_complete\", \"clientcallimpl\", \"prthd_byo_po\", \"channel\", \"sport\", \"onclose\", \"coalesce\", \"ruby_gem\", \"postgre\", \"provide\", \"part\", \"partition\", \"range_n\", \"elimination\", \"table_mult\", \"td_map\", \"multilevel\", \"table_single\", \"become\", \"unknown\", \"explain\", \"cw\", \"spool\", \"rows_scan\", \"plan\", \"practice\", \"aggregate\", \"contrast\", \"eliminate\", \"observe\", \"parition\", \"indicate\", \"behavior\", \"amp\", \"step\", \"range\", \"slightly\", \"my_date\", \"certain\", \"multi\", \"kind\", \"integer\", \"sum\", \"expression\", \"occur\", \"condition\", \"count\", \"single\", \"second\", \"change\", \"result\"], \"Freq\": [301.0, 236.0, 872.0, 1284.0, 180.0, 185.0, 274.0, 63.0, 331.0, 196.0, 227.0, 114.0, 204.0, 339.0, 112.0, 115.0, 212.0, 201.0, 85.0, 227.0, 56.0, 154.0, 129.0, 169.0, 188.0, 378.0, 43.0, 84.0, 52.0, 53.0, 167.72615280208984, 209.30722368169364, 198.38354260096418, 324.9751982479292, 136.75364877129635, 140.009619948443, 84.73228317848933, 81.21754253336226, 64.87262939212208, 62.73844754529002, 66.99036759420461, 54.1227298899239, 62.984708684895395, 62.78995037566425, 50.369299853152484, 325.7517407782877, 111.28023628827049, 63.28302061031953, 38.12121544436774, 36.489899781115525, 44.16452637683248, 79.68443792071871, 35.77154264684816, 37.52312456735202, 30.157766515243566, 60.40769415484669, 27.914339787714944, 28.63498837202314, 68.14005283805973, 27.229998233021075, 810.0855332309494, 92.23903366094325, 59.84789789128506, 173.9148811467109, 95.83270479715064, 196.50947520365824, 97.60597828113883, 114.92525583104499, 225.1150209333633, 312.3503645825401, 168.2142715120917, 296.02232846899193, 350.028478347382, 127.03102624805479, 361.0771729720782, 203.4244537316547, 81.59826695764617, 476.6123629898608, 105.5860427137656, 113.86253111623937, 129.00656503086444, 106.44352324469669, 103.28176055270697, 90.25757695933252, 108.53638426959682, 92.7250203261245, 183.33495913876504, 81.9396666815639, 112.20579257915503, 70.48811640917027, 64.10487366038691, 60.15725727915392, 48.93017890050155, 68.34619465034608, 53.89113103867167, 38.79084928840658, 46.51040446074915, 37.832265739452325, 32.635149284878686, 27.796768233804237, 24.8211781529974, 179.91741244735556, 21.97548565677545, 19.91541368425876, 19.007458184048467, 65.66354287922273, 18.94509953907371, 23.028147258494982, 17.445889187838972, 21.588999482778714, 16.726026170544994, 16.6122477287379, 17.21914667368711, 17.467773953303176, 30.08327450425267, 15.059724454438086, 72.35057371417207, 226.6174405752705, 76.46697382181614, 77.37504667040382, 60.58467682931963, 160.3497543172133, 176.61145699365906, 54.88242792203453, 136.6040867674644, 46.45035885126114, 38.37101072618705, 153.50561238481293, 569.2149821097273, 190.93744870089787, 264.68432672235406, 63.055462467337335, 53.9826175302834, 157.91732321873386, 110.34165563713718, 83.24039002855066, 109.02633584860688, 80.503565722152, 299.85476647252415, 233.9702845440858, 178.48544556927044, 113.07008923196604, 110.4049408809361, 83.5931263438461, 55.64544342395295, 51.007600807949444, 61.593976833942634, 38.82497312779911, 29.359911740733946, 29.359911740733946, 32.61521824340723, 30.042215621767333, 26.766488786966015, 31.66643310545382, 25.46284461451991, 29.575989746576855, 39.085367139835306, 24.381955709444128, 22.86987016933877, 29.212095782424033, 22.741328088052683, 17.683857720273014, 17.669083319766944, 25.19163842756791, 26.221704354279467, 18.19690957083366, 17.344802017750204, 14.953568893505311, 46.65057733299344, 40.6638559352022, 38.75381855964756, 47.0799175741932, 99.05849869903813, 108.63745248584863, 46.48504168784281, 37.46133433615515, 237.62234366138807, 135.00817441769993, 78.56788743405357, 42.43664968319867, 49.05534606263704, 38.82415525919967, 45.891907070123494, 42.305776316637925, 47.98204822535374, 43.074798253628686, 11.869788996966403, 8.911552158484785, 5.746161521917221, 5.6265411020569776, 5.506921025241568, 5.387301291470993, 5.7614558328160665, 5.9584740282235344, 5.9584740282235344, 5.443833708008004, 4.285591879919627, 4.12939773503515, 3.3017077346098596, 2.7362940345379614, 3.1895660351853263, 2.630334346074941, 2.630334346074941, 3.023337142803698, 3.023337142803698, 3.023337142803698, 3.023337142803698, 5.505264804780873, 2.470970123875369, 2.909134430013826, 2.4547305529352137, 5.465684634827575, 2.0201050973088797, 2.072214122228154, 6.880273233305982, 1.6799205706946099, 3.102482731782414, 2.177007972821317, 2.1335764385117173, 53.902348687263526, 12.494725094991924, 11.897806635178908, 7.204798924540021, 7.204798924540021, 4.859135944282205, 4.859135944282205, 5.24989757940582, 9.961699630104242, 8.373271628767442, 4.395144087261029, 3.7139187209179143, 2.9574601063245907, 7.458830697810301, 2.737153714418916, 7.123253524526402, 2.515916707272231, 2.515916707272231, 2.515916707272231, 2.515916707272231, 2.78746857392681, 2.513849329865682, 10.362625538143318, 10.707806507421614, 12.520503839760075, 2.5545180781700383, 2.1437756803306236, 2.6709778370850787, 2.663238784533461, 2.804182921857071, 6.672287087278687, 8.422824814510816, 6.048620944248232, 7.0248989266420345, 7.520077571839485, 5.837771762065294, 5.613441113930389, 5.5951494466194305, 3.9204460032873327, 4.693262559973935], \"Total\": [301.0, 236.0, 872.0, 1284.0, 180.0, 185.0, 274.0, 63.0, 331.0, 196.0, 227.0, 114.0, 204.0, 339.0, 112.0, 115.0, 212.0, 201.0, 85.0, 227.0, 56.0, 154.0, 129.0, 169.0, 188.0, 378.0, 43.0, 84.0, 52.0, 53.0, 169.7148027211459, 212.04688828562843, 201.86553493227672, 331.2403714129728, 139.45165780121033, 142.8242344819731, 86.73301616537402, 83.62272790368841, 66.81759302651922, 64.69169580884626, 69.12865025219624, 56.055586701667565, 65.28621323269032, 65.0927059187991, 52.45672011007211, 339.8836768103355, 116.33192016240662, 66.26601088165205, 40.081250033780584, 38.438285005601145, 46.5736483141479, 84.51975043447787, 37.969760158642735, 39.88710634641157, 32.10672061917852, 64.37264781193224, 29.85130984829047, 30.648520227588694, 72.94622766474713, 29.19659927828062, 872.398408910396, 99.51691058919181, 64.45116378339696, 192.3409312409276, 104.96597971646968, 222.96104916039198, 108.25324836385498, 129.7052515549822, 272.30755699177666, 410.8563337251481, 212.03339483919393, 431.9624677377437, 551.578618778919, 174.40504944173344, 761.335384361038, 340.59225857838027, 94.61432946928042, 1284.0565094002377, 143.17479745372833, 166.53364208147715, 218.9955314354547, 163.96960505954897, 156.66163261034058, 117.79083171989396, 378.7315781343557, 245.42220146257748, 185.6150367097865, 84.08783773349184, 115.68894897172173, 72.72593473071885, 66.36684781956428, 62.289969839547496, 51.12267502083527, 71.42957510567273, 56.60105112280131, 40.909668951157116, 49.066818156165745, 40.1604501829655, 35.06684409743879, 29.921871232162538, 26.952692312524253, 196.81565002251943, 24.15614392041249, 21.98183751931461, 21.112848375298196, 73.07103864869545, 21.110458444907795, 25.683395943459356, 19.511130379677105, 24.156989723529573, 18.860333005042406, 18.821790355561113, 19.539554021948526, 19.829503444962235, 34.24438698774032, 17.177789416504815, 83.69424931225134, 274.0271327552019, 89.48007366897832, 92.08863188268687, 71.45732074288587, 204.77878765682655, 227.08746409140645, 66.02044630521637, 188.9050954129125, 57.012781419370434, 46.03844312378325, 227.22020898082886, 1284.0565094002377, 378.7315781343557, 761.335384361038, 101.38660012356912, 79.38699297400728, 551.578618778919, 340.59225857838027, 218.9955314354547, 431.9624677377437, 410.8563337251481, 301.7904067563555, 236.5322141335964, 180.46611377992974, 114.97800477218708, 112.5243179429042, 85.46056870022416, 57.535227327920246, 52.87790206028199, 64.09483572996052, 40.6933539311023, 31.243078121042256, 31.243078121042256, 34.85398181268381, 32.122470818380854, 28.66898589247286, 33.97086149877531, 27.35869314904588, 31.81553126339635, 42.13274932180113, 26.327695590805412, 24.758602975903177, 31.78269644604531, 24.845488320321536, 19.56249707456451, 19.55017884632038, 27.891705150840068, 29.042171787689007, 20.17054829783175, 19.464778490803667, 16.81717370562988, 53.53468915037053, 49.01889415700921, 48.79826034561208, 62.53260777233422, 154.46388797204253, 245.42220146257748, 70.43377378638127, 53.23369046301382, 1284.0565094002377, 761.335384361038, 378.7315781343557, 118.91742782008117, 227.08746409140645, 114.9158065678878, 274.0271327552019, 204.77878765682655, 872.398408910396, 551.578618778919, 14.985016419562697, 12.009069403462407, 8.187625872412584, 8.067981723916295, 7.948336738954267, 7.828691155793841, 8.423500251167724, 9.02326145004023, 9.02326145004023, 8.44972267417541, 7.016720596319619, 7.067717714532954, 5.920983909266413, 5.226975997209675, 6.154245438174167, 5.090216384710593, 5.090216384710593, 6.003234837743303, 6.003234837743303, 6.003234837743303, 6.003234837743303, 10.98248693142401, 4.930515947265963, 5.8645809931616215, 5.064007611547478, 12.533498760738015, 4.820553487345998, 4.986777142473437, 16.664395504543865, 4.118538782060935, 8.74799960031324, 22.964819868111096, 48.441705905613034, 63.58710935889312, 15.130863495882588, 14.509025560018134, 9.811607350713818, 9.811607350713818, 7.460696830830075, 7.460696830830075, 8.214963010186397, 15.637730189443186, 13.438615126401782, 7.963295380554195, 6.838494988937659, 5.490248682104564, 14.020690983052202, 5.324379922304038, 14.25858935046107, 5.103389899216799, 5.103389899216799, 5.103389899216799, 5.103389899216799, 5.880767326311204, 5.386665915299826, 22.468731984769946, 23.845034227690206, 29.644223500773673, 6.060920600218514, 5.151005903297207, 6.580584619507382, 6.579817621118266, 6.98573829290361, 26.91112504254383, 43.06135296821192, 28.2342217191441, 39.39554631753863, 56.24985026862781, 42.92038022632585, 52.33984353401455, 53.99829152895442, 44.281574172202035, 129.7052515549822], \"Category\": [\"Default\", \"Default\", \"Default\", \"Default\", \"Default\", \"Default\", \"Default\", \"Default\", \"Default\", \"Default\", \"Default\", \"Default\", \"Default\", \"Default\", \"Default\", \"Default\", \"Default\", \"Default\", \"Default\", \"Default\", \"Default\", \"Default\", \"Default\", \"Default\", \"Default\", \"Default\", \"Default\", \"Default\", \"Default\", \"Default\", \"Topic1\", \"Topic1\", \"Topic1\", \"Topic1\", \"Topic1\", \"Topic1\", \"Topic1\", \"Topic1\", \"Topic1\", \"Topic1\", \"Topic1\", \"Topic1\", \"Topic1\", \"Topic1\", \"Topic1\", \"Topic1\", \"Topic1\", \"Topic1\", \"Topic1\", \"Topic1\", \"Topic1\", \"Topic1\", \"Topic1\", \"Topic1\", \"Topic1\", \"Topic1\", \"Topic1\", \"Topic1\", \"Topic1\", \"Topic1\", \"Topic1\", \"Topic1\", \"Topic1\", \"Topic1\", \"Topic1\", \"Topic1\", \"Topic1\", \"Topic1\", \"Topic1\", \"Topic1\", \"Topic1\", \"Topic1\", \"Topic1\", \"Topic1\", \"Topic1\", \"Topic1\", \"Topic1\", \"Topic1\", \"Topic1\", \"Topic1\", \"Topic1\", \"Topic1\", \"Topic1\", \"Topic1\", \"Topic1\", \"Topic1\", \"Topic2\", \"Topic2\", \"Topic2\", \"Topic2\", \"Topic2\", \"Topic2\", \"Topic2\", \"Topic2\", \"Topic2\", \"Topic2\", \"Topic2\", \"Topic2\", \"Topic2\", \"Topic2\", \"Topic2\", \"Topic2\", \"Topic2\", \"Topic2\", \"Topic2\", \"Topic2\", \"Topic2\", \"Topic2\", \"Topic2\", \"Topic2\", \"Topic2\", \"Topic2\", \"Topic2\", \"Topic2\", \"Topic2\", \"Topic2\", \"Topic2\", \"Topic2\", \"Topic2\", \"Topic2\", \"Topic2\", \"Topic2\", \"Topic2\", \"Topic2\", \"Topic2\", \"Topic2\", \"Topic2\", \"Topic2\", \"Topic2\", \"Topic2\", \"Topic2\", \"Topic2\", \"Topic2\", \"Topic2\", \"Topic2\", \"Topic2\", \"Topic2\", \"Topic2\", \"Topic3\", \"Topic3\", \"Topic3\", \"Topic3\", \"Topic3\", \"Topic3\", \"Topic3\", \"Topic3\", \"Topic3\", \"Topic3\", \"Topic3\", \"Topic3\", \"Topic3\", \"Topic3\", \"Topic3\", \"Topic3\", \"Topic3\", \"Topic3\", \"Topic3\", \"Topic3\", \"Topic3\", \"Topic3\", \"Topic3\", \"Topic3\", \"Topic3\", \"Topic3\", \"Topic3\", \"Topic3\", \"Topic3\", \"Topic3\", \"Topic3\", \"Topic3\", \"Topic3\", \"Topic3\", \"Topic3\", \"Topic3\", \"Topic3\", \"Topic3\", \"Topic3\", \"Topic3\", \"Topic3\", \"Topic3\", \"Topic3\", \"Topic3\", \"Topic3\", \"Topic3\", \"Topic3\", \"Topic3\", \"Topic4\", \"Topic4\", \"Topic4\", \"Topic4\", \"Topic4\", \"Topic4\", \"Topic4\", \"Topic4\", \"Topic4\", \"Topic4\", \"Topic4\", \"Topic4\", \"Topic4\", \"Topic4\", \"Topic4\", \"Topic4\", \"Topic4\", \"Topic4\", \"Topic4\", \"Topic4\", \"Topic4\", \"Topic4\", \"Topic4\", \"Topic4\", \"Topic4\", \"Topic4\", \"Topic4\", \"Topic4\", \"Topic4\", \"Topic4\", \"Topic4\", \"Topic4\", \"Topic4\", \"Topic5\", \"Topic5\", \"Topic5\", \"Topic5\", \"Topic5\", \"Topic5\", \"Topic5\", \"Topic5\", \"Topic5\", \"Topic5\", \"Topic5\", \"Topic5\", \"Topic5\", \"Topic5\", \"Topic5\", \"Topic5\", \"Topic5\", \"Topic5\", \"Topic5\", \"Topic5\", \"Topic5\", \"Topic5\", \"Topic5\", \"Topic5\", \"Topic5\", \"Topic5\", \"Topic5\", \"Topic5\", \"Topic5\", \"Topic5\", \"Topic5\", \"Topic5\", \"Topic5\", \"Topic5\", \"Topic5\", \"Topic5\", \"Topic5\", \"Topic5\", \"Topic5\", \"Topic5\"], \"logprob\": [30.0, 29.0, 28.0, 27.0, 26.0, 25.0, 24.0, 23.0, 22.0, 21.0, 20.0, 19.0, 18.0, 17.0, 16.0, 15.0, 14.0, 13.0, 12.0, 11.0, 10.0, 9.0, 8.0, 7.0, 6.0, 5.0, 4.0, 3.0, 2.0, 1.0, -4.8486, -4.6271, -4.6807, -4.1872, -5.0527, -5.0292, -5.5314, -5.5738, -5.7985, -5.8319, -5.7664, -5.9797, -5.828, -5.8311, -6.0515, -4.1848, -5.2589, -5.8233, -6.3301, -6.3739, -6.183, -5.5928, -6.3938, -6.346, -6.5645, -5.8698, -6.6418, -6.6163, -5.7493, -6.6666, -3.2738, -5.4465, -5.8791, -4.8123, -5.4083, -4.6902, -5.39, -5.2266, -4.5543, -4.2268, -4.8457, -4.2805, -4.1129, -5.1265, -4.0818, -4.6556, -5.5691, -3.8042, -5.3114, -5.2359, -5.111, -5.3033, -5.3335, -5.4682, -5.2838, -5.4413, -4.1933, -4.9987, -4.6843, -5.1492, -5.2441, -5.3077, -5.5143, -5.1801, -5.4177, -5.7465, -5.565, -5.7715, -5.9193, -6.0797, -6.193, -4.2122, -6.3147, -6.4132, -6.4598, -5.2201, -6.4631, -6.2679, -6.5455, -6.3325, -6.5877, -6.5945, -6.5586, -6.5443, -6.0007, -6.6926, -5.1231, -3.9814, -5.0678, -5.056, -5.3006, -4.3273, -4.2307, -5.3995, -4.4876, -5.5663, -5.7574, -4.3709, -3.0604, -4.1527, -3.8261, -5.2606, -5.416, -4.3426, -4.7011, -4.9829, -4.7131, -5.0164, -3.5367, -3.7848, -4.0555, -4.512, -4.5359, -4.8141, -5.221, -5.308, -5.1195, -5.581, -5.8604, -5.8604, -5.7552, -5.8374, -5.9529, -5.7848, -6.0028, -5.8531, -5.5743, -6.0462, -6.1102, -5.8654, -6.1158, -6.3674, -6.3682, -6.0135, -5.9734, -6.3388, -6.3867, -6.5351, -5.3973, -5.5347, -5.5828, -5.3882, -4.6443, -4.552, -5.4009, -5.6167, -3.7693, -4.3347, -4.8761, -5.492, -5.3471, -5.581, -5.4137, -5.4951, -5.3692, -5.4771, -4.8213, -5.108, -5.5468, -5.5678, -5.5893, -5.6113, -5.5441, -5.5105, -5.5105, -5.6008, -5.84, -5.8772, -6.1009, -6.2887, -6.1354, -6.3282, -6.3282, -6.1889, -6.1889, -6.1889, -6.1889, -5.5896, -6.3907, -6.2274, -6.3973, -5.5968, -6.5922, -6.5667, -5.3666, -6.7766, -6.1631, -6.5174, -6.5375, -3.2366, -4.6985, -4.7474, -5.249, -5.249, -5.6429, -5.6429, -5.5656, -4.925, -5.0987, -5.7433, -5.9117, -6.1394, -5.2144, -6.2168, -5.2604, -6.3011, -6.3011, -6.3011, -6.3011, -6.1986, -6.3019, -4.8856, -4.8528, -4.6964, -6.2859, -6.4612, -6.2413, -6.2442, -6.1927, -5.3258, -5.0928, -5.4239, -5.2743, -5.2062, -5.4594, -5.4986, -5.5019, -5.8576, -5.6776], \"loglift\": [30.0, 29.0, 28.0, 27.0, 26.0, 25.0, 24.0, 23.0, 22.0, 21.0, 20.0, 19.0, 18.0, 17.0, 16.0, 15.0, 14.0, 13.0, 12.0, 11.0, 10.0, 9.0, 8.0, 7.0, 6.0, 5.0, 4.0, 3.0, 2.0, 1.0, 0.7685, 0.7673, 0.7629, 0.7612, 0.7607, 0.7604, 0.7569, 0.7511, 0.7507, 0.7496, 0.7489, 0.7452, 0.7444, 0.7443, 0.7397, 0.7378, 0.7359, 0.7342, 0.7301, 0.7283, 0.7272, 0.7214, 0.7206, 0.7192, 0.7177, 0.7167, 0.7132, 0.7123, 0.7121, 0.7106, 0.7062, 0.7043, 0.7062, 0.6796, 0.6893, 0.654, 0.6768, 0.6593, 0.59, 0.5062, 0.5488, 0.4024, 0.3255, 0.4633, 0.0343, 0.2649, 0.6323, -0.2108, 0.4757, 0.4001, 0.2511, 0.3482, 0.3637, 0.514, -0.4695, -0.1931, 1.3342, 1.3207, 1.316, 1.3153, 1.3119, 1.3117, 1.3027, 1.3024, 1.2975, 1.2934, 1.293, 1.2868, 1.2747, 1.2729, 1.2642, 1.2568, 1.2519, 1.2478, 1.2415, 1.2397, 1.2383, 1.2374, 1.2347, 1.2342, 1.2265, 1.2217, 1.2201, 1.2197, 1.217, 1.215, 1.2009, 1.1566, 1.1894, 1.1725, 1.1815, 1.102, 1.0952, 1.1618, 1.0224, 1.1417, 1.1644, 0.9544, 0.533, 0.6617, 0.29, 0.8716, 0.9609, 0.0958, 0.2194, 0.3792, -0.0302, -0.2834, 1.5047, 1.5003, 1.5001, 1.4944, 1.4922, 1.4891, 1.4778, 1.4752, 1.4714, 1.4642, 1.449, 1.449, 1.4448, 1.4442, 1.4425, 1.4409, 1.4394, 1.4382, 1.4361, 1.4344, 1.4318, 1.4268, 1.4227, 1.4102, 1.41, 1.4094, 1.409, 1.4082, 1.3959, 1.3937, 1.3735, 1.3243, 1.2807, 1.2273, 1.0669, 0.6962, 1.0956, 1.1598, -0.1759, -0.2186, -0.0617, 0.4808, -0.0212, 0.426, -0.2758, -0.0658, -1.3892, -1.0387, 3.2228, 3.1576, 3.1018, 3.0955, 3.0889, 3.0821, 3.0761, 3.0409, 3.0409, 3.0162, 2.9629, 2.9185, 2.8718, 2.8087, 2.7986, 2.7957, 2.7957, 2.77, 2.77, 2.77, 2.77, 2.7653, 2.7651, 2.7548, 2.7318, 2.626, 2.5862, 2.5777, 2.5713, 2.5591, 2.4193, 1.0999, 0.3333, 3.3622, 3.336, 3.329, 3.2186, 3.2186, 3.0986, 3.0986, 3.0797, 3.0765, 3.0543, 2.9331, 2.917, 2.9088, 2.8963, 2.8621, 2.8334, 2.8202, 2.8202, 2.8202, 2.8202, 2.7809, 2.7653, 2.7535, 2.7268, 2.6655, 2.6634, 2.6508, 2.6258, 2.623, 2.6147, 2.1329, 1.8958, 1.9867, 1.8032, 1.5152, 1.5324, 1.2948, 1.2604, 1.1031, 0.2083]}, \"token.table\": {\"Topic\": [1, 2, 3, 1, 2, 3, 5, 1, 2, 3, 5, 1, 2, 3, 1, 2, 3, 4, 1, 2, 3, 5, 1, 2, 3, 5, 1, 2, 3, 1, 2, 3, 1, 2, 3, 1, 2, 3, 5, 1, 2, 3, 5, 1, 2, 3, 4, 1, 2, 3, 1, 2, 3, 1, 2, 3, 4, 1, 2, 3, 1, 2, 3, 1, 2, 3, 4, 1, 2, 3, 4, 1, 2, 3, 1, 2, 3, 1, 2, 3, 1, 2, 3, 4, 1, 2, 3, 5, 1, 2, 3, 1, 2, 3, 1, 2, 3, 1, 2, 3, 1, 2, 3, 5, 1, 2, 3, 5, 1, 2, 3, 1, 2, 3, 4, 1, 2, 3, 1, 2, 3, 5, 1, 2, 3, 1, 2, 3, 1, 2, 3, 1, 2, 3, 1, 2, 3, 1, 2, 3, 1, 2, 3, 1, 2, 3, 4, 1, 2, 3, 1, 2, 3, 1, 2, 3, 1, 2, 3, 1, 2, 3, 5, 1, 2, 3, 5, 1, 2, 3, 1, 2, 3, 1, 2, 3, 1, 2, 3, 5, 1, 2, 3, 1, 2, 3, 1, 2, 3, 5, 1, 2, 3, 5, 1, 2, 3, 4, 1, 2, 3, 4, 1, 2, 3, 1, 2, 3, 1, 2, 3, 1, 2, 3, 1, 2, 3, 5, 1, 2, 3, 4, 1, 2, 3, 4, 1, 2, 3, 1, 2, 3, 4, 1, 2, 3, 1, 2, 3, 1, 2, 3, 4, 1, 2, 3, 1, 2, 3, 1, 2, 3, 1, 2, 3, 1, 2, 3, 1, 2, 3, 1, 2, 3, 1, 2, 3, 1, 2, 3, 5, 1, 2, 3, 1, 2, 3, 5, 1, 2, 3, 1, 2, 3, 1, 2, 3, 1, 2, 3, 1, 2, 3, 1, 2, 3, 1, 2, 3, 1, 2, 3, 1, 2, 3, 1, 2, 3, 5, 1, 2, 3, 1, 2, 3, 1, 2, 3, 1, 2, 3, 4, 1, 2, 3, 1, 2, 3, 1, 2, 3, 1, 2, 3, 1, 2, 3, 4, 1, 2, 3, 1, 2, 3, 1, 2, 3, 5, 1, 2, 3, 5, 1, 2, 3, 5, 1, 2, 3, 1, 2, 3, 1, 2, 3, 1, 2, 3, 4, 1, 2, 3, 1, 2, 3, 1, 2, 3, 5, 1, 2, 3, 5, 1, 2, 3, 1, 2, 3, 4, 1, 2, 3, 4, 1, 2, 3, 1, 2, 3, 1, 2, 3, 4, 1, 2, 3, 1, 2, 3, 1, 2, 3, 1, 2, 3, 1, 2, 3, 5, 1, 2, 3, 4, 1, 2, 3, 5, 1, 2, 3, 1, 2, 3, 1, 2, 3, 5, 1, 2, 3, 4, 1, 2, 3, 4, 1, 2, 3, 5, 1, 2, 3, 1, 2, 3, 4, 1, 2, 3, 4, 1, 2, 3, 4, 1, 2, 3, 1, 2, 3, 1, 2, 3, 1, 2, 3, 1, 2, 3, 1, 2, 3, 1, 2, 3, 4, 1, 2, 3, 5, 1, 2, 3, 5, 1, 2, 3, 5, 1, 2, 3, 1, 2, 3, 4, 1, 2, 3, 4, 1, 2, 3, 4, 5, 1, 2, 3, 1, 2, 3, 5, 1, 2, 3, 4, 1, 2, 3, 1, 2, 3, 1, 2, 3, 5, 1, 2, 3, 5, 1, 2, 3, 1, 2, 3, 1, 2, 3, 1, 2, 3, 5, 1, 2, 3, 4, 1, 2, 3, 5, 1, 2, 3, 1, 2, 3, 1, 2, 3, 1, 2, 3, 5, 1, 2, 3, 4, 1, 2, 3, 1, 2, 3, 1, 2, 3, 1, 2, 3, 1, 2, 3, 1, 2, 3, 1, 2, 3, 1, 2, 3, 5, 1, 2, 3, 1, 2, 3, 5, 1, 2, 3, 1, 2, 3, 5, 1, 2, 3, 5, 1, 2, 3, 5, 1, 2, 3, 1, 2, 3, 5, 1, 2, 3, 1, 2, 3, 1, 2, 3, 1, 2, 3, 1, 2, 3, 1, 2, 3, 1, 2, 3, 1, 2, 3, 1, 2, 3, 4, 1, 2, 3, 1, 2, 3, 5, 1, 2, 3, 1, 2, 3, 1, 2, 3, 1, 2, 3, 1, 2, 3, 4, 1, 2, 3, 1, 2, 3, 1, 2, 3, 1, 2, 3, 4, 1, 2, 3, 1, 2, 3, 1, 2, 3, 1, 2, 3, 4, 1, 2, 3, 1, 2, 3], \"Freq\": [0.049577234353490325, 0.049577234353490325, 0.8923902183628258, 0.3506658251461824, 0.07013316502923647, 0.07013316502923647, 0.49093215520465533, 0.04450629437735219, 0.40055664939616975, 0.04450629437735219, 0.4450629437735219, 0.9379822909715135, 0.033499367534696914, 0.033499367534696914, 0.19645530256899985, 0.19645530256899985, 0.19645530256899985, 0.5893659077069995, 0.12172909345544455, 0.12172909345544455, 0.12172909345544455, 0.6086454672772228, 0.18564359025119515, 0.18564359025119515, 0.18564359025119515, 0.5569307707535854, 0.9802258034694415, 0.007001612881924583, 0.007001612881924583, 0.9800189565404981, 0.011529634782829389, 0.011529634782829389, 0.13149567386960562, 0.15028077013669214, 0.6950485618822011, 0.3039243647245613, 0.15196218236228065, 0.15196218236228065, 0.45588654708684195, 0.7226482029649287, 0.09033102537061609, 0.06774826902796206, 0.09033102537061609, 0.39893090472572745, 0.07978618094514549, 0.07978618094514549, 0.39893090472572745, 0.9309374180060406, 0.046546870900302025, 0.01551562363343401, 0.05137484613413198, 0.05137484613413198, 0.8733723842802436, 0.11871549476850471, 0.11871549476850471, 0.11871549476850471, 0.7122929686110282, 0.01766751641820937, 0.9540458865833059, 0.01766751641820937, 0.023734506199968322, 0.047469012399936644, 0.9256457417987646, 0.1705151657323937, 0.1705151657323937, 0.1705151657323937, 0.5115454971971811, 0.480065418383682, 0.06000817729796025, 0.06000817729796025, 0.42005724108572173, 0.5890531151683367, 0.37900316712381354, 0.027397819310155197, 0.9811605952911077, 0.0030189556778187927, 0.015094778389093963, 0.0042277539389843416, 0.0042277539389843416, 0.9892944217223361, 0.166576858481837, 0.166576858481837, 0.166576858481837, 0.499730575445511, 0.8355577797193404, 0.0177778251004115, 0.0177778251004115, 0.142222600803292, 0.0036492736684339043, 0.8283851227344963, 0.1678665887479596, 0.009766636588119909, 0.7813309270495928, 0.20509936835051812, 0.03143118974569808, 0.03143118974569808, 0.9429356923709424, 0.051118218506992996, 0.051118218506992996, 0.9201279331258739, 0.1959481873320059, 0.1959481873320059, 0.1959481873320059, 0.5878445619960178, 0.7921644640777343, 0.04659790965163143, 0.023298954825815715, 0.13979372895489428, 0.7923280204394744, 0.1273384318563441, 0.07545981147042613, 0.20281853069647068, 0.20281853069647068, 0.20281853069647068, 0.40563706139294137, 0.01956079175419607, 0.9584787959556076, 0.01956079175419607, 0.2511523062278788, 0.1255761531139394, 0.1255761531139394, 0.5023046124557576, 0.28780277719892705, 0.504314958210964, 0.20859100365793795, 0.058214708292976106, 0.8732206243946415, 0.058214708292976106, 0.030293645558739236, 0.833075252865329, 0.12117458223495695, 0.9856310634394962, 0.004715938102581321, 0.004715938102581321, 0.7593895344661272, 0.19714920606332148, 0.04137699386514154, 0.9649816841950706, 0.015317169590397944, 0.015317169590397944, 0.03710204488682285, 0.9275511221705712, 0.03710204488682285, 0.19645530256899985, 0.19645530256899985, 0.19645530256899985, 0.5893659077069995, 0.05946302378176841, 0.05946302378176841, 0.8919453567265262, 0.04139588630225613, 0.9107094986496349, 0.04139588630225613, 0.02798873480292242, 0.8536564114891338, 0.1259493066131509, 0.004403589621298882, 0.7794353629699021, 0.21577589144364523, 0.1959481873320059, 0.1959481873320059, 0.1959481873320059, 0.5878445619960178, 0.06892261619247916, 0.06892261619247916, 0.06892261619247916, 0.8270713943097501, 0.9465243282044271, 0.011831554102555339, 0.035494662307666014, 0.47416684869175574, 0.3480726174607071, 0.17732001266866212, 0.032007089574394354, 0.032007089574394354, 0.9282055976574364, 0.9321935098895114, 0.013708728086610462, 0.013708728086610462, 0.027417456173220923, 0.040985067619932876, 0.1639402704797315, 0.7992088185886911, 0.03655145348325508, 0.03655145348325508, 0.913786337081377, 0.2232372883502064, 0.0744124294500688, 0.0744124294500688, 0.5952994356005504, 0.6729422255374983, 0.035418011870394644, 0.07083602374078929, 0.21250807122236787, 0.3642162312576822, 0.09105405781442055, 0.09105405781442055, 0.5463243468865233, 0.4612072227739154, 0.19144450756653092, 0.3393788997770321, 0.00870202307120595, 0.03507985315237555, 0.8068366225046376, 0.1403194126095022, 0.9531667228733121, 0.01906333445746624, 0.01906333445746624, 0.25085796838083724, 0.6777566163271743, 0.07041627182619993, 0.9507136337588663, 0.015090692599347085, 0.015090692599347085, 0.6574679344507316, 0.2872432723328439, 0.04468228680733128, 0.006383183829618754, 0.166576858481837, 0.166576858481837, 0.166576858481837, 0.499730575445511, 0.19131520797758236, 0.19131520797758236, 0.19131520797758236, 0.5739456239327471, 0.5960205932081799, 0.3229668239059103, 0.07633761292321516, 0.11082467304497105, 0.11082467304497105, 0.11082467304497105, 0.6649480382698263, 0.14116834764752398, 0.8361509822199497, 0.010859103665194152, 0.04549210224674519, 0.909842044934904, 0.04549210224674519, 0.166576858481837, 0.166576858481837, 0.166576858481837, 0.499730575445511, 0.9692074090202765, 0.014465782224183231, 0.014465782224183231, 0.015601881003535508, 0.015601881003535508, 0.9673166222192014, 0.01891149158792226, 0.01891149158792226, 0.9644860709840353, 0.9247652352472888, 0.034250564268418104, 0.034250564268418104, 0.031130855582497355, 0.031130855582497355, 0.9339256674749207, 0.008643867965681265, 0.9681132121563018, 0.01728773593136253, 0.05042990626444829, 0.857308406495621, 0.05042990626444829, 0.005080896767536428, 0.9145614181565571, 0.07621345151304643, 0.170045836625076, 0.170045836625076, 0.170045836625076, 0.510137509875228, 0.905284612528279, 0.055425588522139524, 0.03695039234809302, 0.6688683572888082, 0.03715935318271157, 0.03715935318271157, 0.26011547227898096, 0.02869112646509981, 0.02869112646509981, 0.9468071733482938, 0.9727976877916295, 0.014966118273717376, 0.014966118273717376, 0.03798281534177402, 0.03798281534177402, 0.9115875682025765, 0.02943699264253429, 0.02943699264253429, 0.9419837645610972, 0.0033135579448929607, 0.0033135579448929607, 0.9940673834678883, 0.005541206484999476, 0.005541206484999476, 0.9863347543299067, 0.03488089895298854, 0.03488089895298854, 0.9417842717306907, 0.035852953220032194, 0.035852953220032194, 0.8963238305008049, 0.14280207908360312, 0.020400297011943305, 0.8364121774896754, 0.28629758461345156, 0.14314879230672578, 0.28629758461345156, 0.42944637692017734, 0.05125279676474333, 0.8712975450006366, 0.05125279676474333, 0.028516965975647575, 0.9410598771963701, 0.028516965975647575, 0.48773338831169827, 0.1513655343036305, 0.35318624670847115, 0.11082467304497105, 0.11082467304497105, 0.11082467304497105, 0.6649480382698263, 0.6464612753168729, 0.28663848999899083, 0.06098691276574272, 0.024574037364752353, 0.024574037364752353, 0.9583874572253418, 0.9526888130208687, 0.025070758237391282, 0.025070758237391282, 0.9480742234329892, 0.02494932166928919, 0.02494932166928919, 0.14148838994287447, 0.14148838994287447, 0.14148838994287447, 0.5659535597714979, 0.03342036974362473, 0.9357703528214923, 0.03342036974362473, 0.989895974342536, 0.005892237942515095, 0.005892237942515095, 0.30395979268192724, 0.15197989634096362, 0.15197989634096362, 0.4559396890228909, 0.13403573723404336, 0.13403573723404336, 0.13403573723404336, 0.6701786861702168, 0.19413683827461556, 0.19413683827461556, 0.19413683827461556, 0.3882736765492311, 0.6845463689806598, 0.19815815944176995, 0.11409106149677664, 0.914582041336743, 0.05716137758354644, 0.02858068879177322, 0.15617507636836161, 0.1703728105836672, 0.6530957739040576, 0.11834707937294378, 0.11834707937294378, 0.11834707937294378, 0.5917353968647189, 0.9244659973396703, 0.030145630348032727, 0.04019417379737697, 0.9320728918172336, 0.03106909639390779, 0.015534548196953895, 0.1959481873320059, 0.1959481873320059, 0.1959481873320059, 0.5878445619960178, 0.3046029595141743, 0.05076715991902906, 0.482288019230776, 0.1776850597166017, 0.00538749455715446, 0.9859115039592662, 0.00538749455715446, 0.06673332694480842, 0.06673332694480842, 0.06673332694480842, 0.8007999233377011, 0.20053031676165922, 0.20053031676165922, 0.20053031676165922, 0.40106063352331844, 0.038935661086308346, 0.8955202049850919, 0.038935661086308346, 0.3366482657060389, 0.01942201532919455, 0.6409265058634203, 0.9686361833745831, 0.011958471399686211, 0.011958471399686211, 0.011958471399686211, 0.01170130289569881, 0.01170130289569881, 0.9829094432387, 0.04039000104219413, 0.04039000104219413, 0.928970023970465, 0.013999803282052324, 0.9519866231795581, 0.013999803282052324, 0.02490011928263098, 0.9462045327399772, 0.02490011928263098, 0.1959481873320059, 0.1959481873320059, 0.1959481873320059, 0.5878445619960178, 0.8876648581241956, 0.041286737587171884, 0.020643368793585942, 0.041286737587171884, 0.031452915852987824, 0.015726457926493912, 0.11008520548545739, 0.8492287280306713, 0.013685312519063983, 0.9032306262582229, 0.0821118751143839, 0.05117824075599234, 0.8700300928518697, 0.05117824075599234, 0.21396948293249682, 0.07132316097749894, 0.21396948293249682, 0.49926212684249255, 0.1221355269015654, 0.1221355269015654, 0.1221355269015654, 0.7328131614093925, 0.34293554378907143, 0.11431184792969047, 0.11431184792969047, 0.34293554378907143, 0.1878152976670505, 0.1878152976670505, 0.1878152976670505, 0.5634458930011514, 0.9447402467423602, 0.021471369244144552, 0.021471369244144552, 0.43544865831436286, 0.21772432915718143, 0.21772432915718143, 0.08708973166287257, 0.16889084910955215, 0.16889084910955215, 0.16889084910955215, 0.5066725473286565, 0.19747205705609444, 0.19747205705609444, 0.19747205705609444, 0.3949441141121889, 0.08760559799403086, 0.8760559799403086, 0.02920186599801029, 0.04736452335678161, 0.8999259437788505, 0.04736452335678161, 0.024444099051349456, 0.9533198630026288, 0.024444099051349456, 0.03443268662242059, 0.03443268662242059, 0.8952498521829354, 0.011892326250193304, 0.975170752515851, 0.011892326250193304, 0.04139733573763722, 0.9107413862280188, 0.04139733573763722, 0.1277352727422287, 0.1277352727422287, 0.1277352727422287, 0.6386763637111436, 0.8262715970339182, 0.15790968298870436, 0.01101695462711891, 0.0036723182090396362, 0.20240030911396306, 0.3373338485232718, 0.03373338485232718, 0.4385340030802533, 0.06609008139371028, 0.06609008139371028, 0.06609008139371028, 0.7930809767245234, 0.9678503775613557, 0.015362704405735806, 0.015362704405735806, 0.166576858481837, 0.166576858481837, 0.166576858481837, 0.499730575445511, 0.08327039892963596, 0.08327039892963596, 0.08327039892963596, 0.7494335903667236, 0.8866256271146536, 0.06167830449493243, 0.007709788061866554, 0.007709788061866554, 0.03854894030933277, 0.9046436391744739, 0.07278741924392318, 0.020796405498263767, 0.18214111197904287, 0.18214111197904287, 0.18214111197904287, 0.5464233359371287, 0.2428045607718171, 0.2428045607718171, 0.2428045607718171, 0.4856091215436342, 0.37893882234684806, 0.175208272698005, 0.4441325982344778, 0.01738065610309543, 0.01738065610309543, 0.973316741773344, 0.8333596994614275, 0.037038208864952335, 0.018519104432476167, 0.111114626594857, 0.9591516811262373, 0.01765309842563627, 0.02059528149657565, 0.002942183070939378, 0.020380371859803178, 0.9578774774107494, 0.020380371859803178, 0.2771234830270394, 0.6802121856118238, 0.03778956586732355, 0.022351345031283498, 0.8493511111887729, 0.12293239767205924, 0.8597656577012016, 0.019105903504471146, 0.019105903504471146, 0.11463542102682688, 0.14251671935241597, 0.14251671935241597, 0.14251671935241597, 0.5700668774096639, 0.164991437103457, 0.164991437103457, 0.164991437103457, 0.49497431131037106, 0.93656623844571, 0.026015728845714167, 0.026015728845714167, 0.008886967886420858, 0.008886967886420858, 0.9775664675062944, 0.9343838119075887, 0.03114612706358629, 0.03114612706358629, 0.14623100574288017, 0.14623100574288017, 0.14623100574288017, 0.5849240229715207, 0.20744505846164973, 0.20744505846164973, 0.20744505846164973, 0.41489011692329947, 0.740353762569543, 0.13968938916406473, 0.11873598078945502, 0.03146366142022003, 0.03146366142022003, 0.9124461811863808, 0.015067763994438349, 0.9643368956440543, 0.015067763994438349, 0.04024875611650118, 0.04024875611650118, 0.9257213906795271, 0.008697315647295853, 0.008697315647295853, 0.9827966681444315, 0.9738498769015894, 0.015457934553993483, 0.015457934553993483, 0.9824192997066755, 0.007170943793479383, 0.007170943793479383, 0.2096872645371889, 0.25162471744462667, 0.08387490581487556, 0.46131198198181556, 0.9481229233365496, 0.02633674787045971, 0.02633674787045971, 0.7199030653515308, 0.04644535905493747, 0.023222679527468735, 0.18578143621974988, 0.8666763317983872, 0.11626145914368609, 0.021138447117033835, 0.9284748708009107, 0.013755183271124603, 0.05502073308449841, 0.002292530545187434, 0.1019200997609477, 0.1019200997609477, 0.1019200997609477, 0.7134406983266338, 0.13403573723404336, 0.13403573723404336, 0.13403573723404336, 0.6701786861702168, 0.09339738549626739, 0.018679477099253477, 0.8779354236649135, 0.1019200997609477, 0.1019200997609477, 0.1019200997609477, 0.7134406983266338, 0.051150427208915994, 0.051150427208915994, 0.9207076897604879, 0.3714789781508908, 0.4431269152365972, 0.18535009811302308, 0.013750252969627464, 0.9625177078739225, 0.013750252969627464, 0.22388319468413254, 0.015991656763152323, 0.7516078678681591, 0.05312990853202966, 0.9032084450445043, 0.05312990853202966, 0.08688391110979203, 0.8253971555430243, 0.06516293333234402, 0.6852447194086079, 0.25233673789033195, 0.06019041454264799, 0.7640662578393161, 0.16130287665496676, 0.0679170006968281, 0.12394673590244426, 0.12394673590244426, 0.12394673590244426, 0.7436804154146656, 0.016053949015802968, 0.963236940948178, 0.016053949015802968, 0.1918436987757506, 0.06394789959191687, 0.06394789959191687, 0.6394789959191687, 0.6345423627457272, 0.286450552325214, 0.07795806170876077, 0.1693972305514246, 0.7252318932982866, 0.10587326909464038, 0.0473698855290003, 0.9000278250510058, 0.0473698855290003, 0.02389650443650297, 0.8602741597141069, 0.10753426996426337, 0.16248945708227697, 0.16248945708227697, 0.16248945708227697, 0.48746837124683084, 0.032007089574394354, 0.032007089574394354, 0.9282055976574364, 0.8835624013335337, 0.08970176663284607, 0.02691052998985382, 0.9808509415261325, 0.004953792633970366, 0.009907585267940732, 0.1972647270509532, 0.6213838902105026, 0.16767501799331022, 0.009863236352547659, 0.05302133317225337, 0.9013626639283072, 0.05302133317225337, 0.9462120776028607, 0.032628002675960714, 0.032628002675960714, 0.9541663186255077, 0.017192185921180318, 0.017192185921180318, 0.12581248540956586, 0.12581248540956586, 0.12581248540956586, 0.7548749124573951, 0.7281899257304997, 0.19494848405383455, 0.07453912625587793, 0.9633294944782655, 0.017839435082930843, 0.017839435082930843], \"Term\": [\"action\", \"action\", \"action\", \"aggregate\", \"aggregate\", \"aggregate\", \"aggregate\", \"amp\", \"amp\", \"amp\", \"amp\", \"automate\", \"automate\", \"automate\", \"aws_autoscale\", \"aws_autoscale\", \"aws_autoscale\", \"aws_autoscale\", \"become\", \"become\", \"become\", \"become\", \"behavior\", \"behavior\", \"behavior\", \"behavior\", \"case\", \"case\", \"case\", \"cast\", \"cast\", \"cast\", \"cause\", \"cause\", \"cause\", \"certain\", \"certain\", \"certain\", \"certain\", \"change\", \"change\", \"change\", \"change\", \"channel\", \"channel\", \"channel\", \"channel\", \"character\", \"character\", \"character\", \"charset_utf\", \"charset_utf\", \"charset_utf\", \"cli\", \"cli\", \"cli\", \"cli\", \"client\", \"client\", \"client\", \"client_provider\", \"client_provider\", \"client_provider\", \"clientcallimpl\", \"clientcallimpl\", \"clientcallimpl\", \"clientcallimpl\", \"coalesce\", \"coalesce\", \"coalesce\", \"coalesce\", \"code\", \"code\", \"code\", \"column\", \"column\", \"column\", \"com\", \"com\", \"com\", \"concatenation\", \"concatenation\", \"concatenation\", \"concatenation\", \"condition\", \"condition\", \"condition\", \"condition\", \"connect\", \"connect\", \"connect\", \"connection\", \"connection\", \"connection\", \"connector\", \"connector\", \"connector\", \"connector_common\", \"connector_common\", \"connector_common\", \"contrast\", \"contrast\", \"contrast\", \"contrast\", \"count\", \"count\", \"count\", \"count\", \"create\", \"create\", \"create\", \"create_complete\", \"create_complete\", \"create_complete\", \"create_complete\", \"create_engine\", \"create_engine\", \"create_engine\", \"cw\", \"cw\", \"cw\", \"cw\", \"database\", \"database\", \"database\", \"databaseerror\", \"databaseerror\", \"databaseerror\", \"dataframe\", \"dataframe\", \"dataframe\", \"date\", \"date\", \"date\", \"datum\", \"datum\", \"datum\", \"day\", \"day\", \"day\", \"dbcname\", \"dbcname\", \"dbcname\", \"delete_complete_aw\", \"delete_complete_aw\", \"delete_complete_aw\", \"delete_complete_aw\", \"deserialize\", \"deserialize\", \"deserialize\", \"desktop\", \"desktop\", \"desktop\", \"df\", \"df\", \"df\", \"driver\", \"driver\", \"driver\", \"eliminate\", \"eliminate\", \"eliminate\", \"eliminate\", \"elimination\", \"elimination\", \"elimination\", \"elimination\", \"end\", \"end\", \"end\", \"error\", \"error\", \"error\", \"errorfactory\", \"errorfactory\", \"errorfactory\", \"example\", \"example\", \"example\", \"example\", \"exception\", \"exception\", \"exception\", \"execution_datasource\", \"execution_datasource\", \"execution_datasource\", \"explain\", \"explain\", \"explain\", \"explain\", \"expression\", \"expression\", \"expression\", \"expression\", \"extraction\", \"extraction\", \"extraction\", \"extraction\", \"fail\", \"fail\", \"fail\", \"fail\", \"false\", \"false\", \"false\", \"field\", \"field\", \"field\", \"file\", \"file\", \"file\", \"first\", \"first\", \"first\", \"follow\", \"follow\", \"follow\", \"follow\", \"follwe\", \"follwe\", \"follwe\", \"follwe\", \"gem\", \"gem\", \"gem\", \"gem\", \"get\", \"get\", \"get\", \"gi\", \"gi\", \"gi\", \"gi\", \"go\", \"go\", \"go\", \"gosqldriver_teradatasql\", \"gosqldriver_teradatasql\", \"gosqldriver_teradatasql\", \"greenplum\", \"greenplum\", \"greenplum\", \"greenplum\", \"group\", \"group\", \"group\", \"hadoop\", \"hadoop\", \"hadoop\", \"hadoop_mapre\", \"hadoop_mapre\", \"hadoop_mapre\", \"hinic\", \"hinic\", \"hinic\", \"hive\", \"hive\", \"hive\", \"host\", \"host\", \"host\", \"if_exist\", \"if_exist\", \"if_exist\", \"import\", \"import\", \"import\", \"indicate\", \"indicate\", \"indicate\", \"indicate\", \"insert\", \"insert\", \"insert\", \"integer\", \"integer\", \"integer\", \"integer\", \"internal\", \"internal\", \"internal\", \"interval\", \"interval\", \"interval\", \"invoke\", \"invoke\", \"invoke\", \"jar\", \"jar\", \"jar\", \"java\", \"java\", \"java\", \"jdbc\", \"jdbc\", \"jdbc\", \"jdbc__statemachine\", \"jdbc__statemachine\", \"jdbc__statemachine\", \"jdbc_teradriver\", \"jdbc_teradriver\", \"jdbc_teradriver\", \"job\", \"job\", \"job\", \"kind\", \"kind\", \"kind\", \"kind\", \"lib_site\", \"lib_site\", \"lib_site\", \"library\", \"library\", \"library\", \"load\", \"load\", \"load\", \"lookbehind\", \"lookbehind\", \"lookbehind\", \"lookbehind\", \"m\", \"m\", \"m\", \"maptask\", \"maptask\", \"maptask\", \"mean\", \"mean\", \"mean\", \"member\", \"member\", \"member\", \"migration\", \"migration\", \"migration\", \"migration\", \"module\", \"module\", \"module\", \"month\", \"month\", \"month\", \"multi\", \"multi\", \"multi\", \"multi\", \"multilevel\", \"multilevel\", \"multilevel\", \"multilevel\", \"my_date\", \"my_date\", \"my_date\", \"my_date\", \"name\", \"name\", \"name\", \"need\", \"need\", \"need\", \"net\", \"net\", \"net\", \"netty_shade\", \"netty_shade\", \"netty_shade\", \"netty_shade\", \"new\", \"new\", \"new\", \"number\", \"number\", \"number\", \"observe\", \"observe\", \"observe\", \"observe\", \"occur\", \"occur\", \"occur\", \"occur\", \"odbc\", \"odbc\", \"odbc\", \"office\", \"office\", \"office\", \"office\", \"onclose\", \"onclose\", \"onclose\", \"onclose\", \"opt\", \"opt\", \"opt\", \"option\", \"option\", \"option\", \"order\", \"order\", \"order\", \"order\", \"org_apache\", \"org_apache\", \"org_apache\", \"org_hibernate\", \"org_hibernate\", \"org_hibernate\", \"package\", \"package\", \"package\", \"panda\", \"panda\", \"panda\", \"parition\", \"parition\", \"parition\", \"parition\", \"part\", \"part\", \"part\", \"part\", \"partition\", \"partition\", \"partition\", \"partition\", \"password\", \"password\", \"password\", \"pd\", \"pd\", \"pd\", \"plan\", \"plan\", \"plan\", \"plan\", \"pointer_target\", \"pointer_target\", \"pointer_target\", \"pointer_target\", \"postgre\", \"postgre\", \"postgre\", \"postgre\", \"practice\", \"practice\", \"practice\", \"practice\", \"procedure\", \"procedure\", \"procedure\", \"provide\", \"provide\", \"provide\", \"provide\", \"prthd\", \"prthd\", \"prthd\", \"prthd\", \"prthd_byo_po\", \"prthd_byo_po\", \"prthd_byo_po\", \"prthd_byo_po\", \"push\", \"push\", \"push\", \"py_line\", \"py_line\", \"py_line\", \"pyodbc\", \"pyodbc\", \"pyodbc\", \"pyspark\", \"pyspark\", \"pyspark\", \"python\", \"python\", \"python\", \"python_site\", \"python_site\", \"python_site\", \"qualifier\", \"qualifier\", \"qualifier\", \"qualifier\", \"query\", \"query\", \"query\", \"query\", \"range\", \"range\", \"range\", \"range\", \"range_n\", \"range_n\", \"range_n\", \"range_n\", \"record\", \"record\", \"record\", \"regex_substr\", \"regex_substr\", \"regex_substr\", \"regex_substr\", \"regexp_matche\", \"regexp_matche\", \"regexp_matche\", \"regexp_matche\", \"result\", \"result\", \"result\", \"result\", \"result\", \"row\", \"row\", \"row\", \"rows_scan\", \"rows_scan\", \"rows_scan\", \"rows_scan\", \"ruby_gem\", \"ruby_gem\", \"ruby_gem\", \"ruby_gem\", \"run\", \"run\", \"run\", \"scala\", \"scala\", \"scala\", \"second\", \"second\", \"second\", \"second\", \"select\", \"select\", \"select\", \"select\", \"self\", \"self\", \"self\", \"server\", \"server\", \"server\", \"session\", \"session\", \"session\", \"single\", \"single\", \"single\", \"single\", \"sku\", \"sku\", \"sku\", \"sku\", \"slightly\", \"slightly\", \"slightly\", \"slightly\", \"span\", \"span\", \"span\", \"spark\", \"spark\", \"spark\", \"spl\", \"spl\", \"spl\", \"spool\", \"spool\", \"spool\", \"spool\", \"sport\", \"sport\", \"sport\", \"sport\", \"sql\", \"sql\", \"sql\", \"sql_sqlexception\", \"sql_sqlexception\", \"sql_sqlexception\", \"sqlalchemy\", \"sqlalchemy\", \"sqlalchemy\", \"sqlstate_hy\", \"sqlstate_hy\", \"sqlstate_hy\", \"sqoop\", \"sqoop\", \"sqoop\", \"startdate\", \"startdate\", \"startdate\", \"statement\", \"statement\", \"statement\", \"step\", \"step\", \"step\", \"step\", \"stored_procedure\", \"stored_procedure\", \"stored_procedure\", \"sum\", \"sum\", \"sum\", \"sum\", \"syntax\", \"syntax\", \"syntax\", \"table\", \"table\", \"table\", \"table\", \"table_mult\", \"table_mult\", \"table_mult\", \"table_mult\", \"table_single\", \"table_single\", \"table_single\", \"table_single\", \"task\", \"task\", \"task\", \"td_map\", \"td_map\", \"td_map\", \"td_map\", \"tdsession\", \"tdsession\", \"tdsession\", \"teradata\", \"teradata\", \"teradata\", \"teradatasql\", \"teradatasql\", \"teradatasql\", \"terajdbc\", \"terajdbc\", \"terajdbc\", \"traceback\", \"traceback\", \"traceback\", \"true\", \"true\", \"true\", \"try\", \"try\", \"try\", \"type\", \"type\", \"type\", \"type_enable\", \"type_enable\", \"type_enable\", \"type_enable\", \"udaexec\", \"udaexec\", \"udaexec\", \"unknown\", \"unknown\", \"unknown\", \"unknown\", \"use\", \"use\", \"use\", \"user\", \"user\", \"user\", \"userid\", \"userid\", \"userid\", \"username\", \"username\", \"username\", \"util_concurrent\", \"util_concurrent\", \"util_concurrent\", \"util_concurrent\", \"util_errorfactory\", \"util_errorfactory\", \"util_errorfactory\", \"value\", \"value\", \"value\", \"varchar\", \"varchar\", \"varchar\", \"version\", \"version\", \"version\", \"version\", \"version_logconsole\", \"version_logconsole\", \"version_logconsole\", \"volatile\", \"volatile\", \"volatile\", \"want\", \"want\", \"want\", \"warning_return\", \"warning_return\", \"warning_return\", \"warning_return\", \"work\", \"work\", \"work\", \"year\", \"year\", \"year\"]}, \"R\": 30, \"lambda.step\": 0.01, \"plot.opts\": {\"xlab\": \"PC1\", \"ylab\": \"PC2\"}, \"topic.order\": [4, 2, 1, 3, 5]};\n",
       "\n",
       "function LDAvis_load_lib(url, callback){\n",
       "  var s = document.createElement('script');\n",
       "  s.src = url;\n",
       "  s.async = true;\n",
       "  s.onreadystatechange = s.onload = callback;\n",
       "  s.onerror = function(){console.warn(\"failed to load library \" + url);};\n",
       "  document.getElementsByTagName(\"head\")[0].appendChild(s);\n",
       "}\n",
       "\n",
       "if(typeof(LDAvis) !== \"undefined\"){\n",
       "   // already loaded: just create the visualization\n",
       "   !function(LDAvis){\n",
       "       new LDAvis(\"#\" + \"ldavis_el3804581405313358137604055956601\", ldavis_el3804581405313358137604055956601_data);\n",
       "   }(LDAvis);\n",
       "}else if(typeof define === \"function\" && define.amd){\n",
       "   // require.js is available: use it to load d3/LDAvis\n",
       "   require.config({paths: {d3: \"https://d3js.org/d3.v5\"}});\n",
       "   require([\"d3\"], function(d3){\n",
       "      window.d3 = d3;\n",
       "      LDAvis_load_lib(\"https://cdn.jsdelivr.net/gh/bmabey/pyLDAvis@3.4.0/pyLDAvis/js/ldavis.v3.0.0.js\", function(){\n",
       "        new LDAvis(\"#\" + \"ldavis_el3804581405313358137604055956601\", ldavis_el3804581405313358137604055956601_data);\n",
       "      });\n",
       "    });\n",
       "}else{\n",
       "    // require.js not available: dynamically load d3 & LDAvis\n",
       "    LDAvis_load_lib(\"https://d3js.org/d3.v5.js\", function(){\n",
       "         LDAvis_load_lib(\"https://cdn.jsdelivr.net/gh/bmabey/pyLDAvis@3.4.0/pyLDAvis/js/ldavis.v3.0.0.js\", function(){\n",
       "                 new LDAvis(\"#\" + \"ldavis_el3804581405313358137604055956601\", ldavis_el3804581405313358137604055956601_data);\n",
       "            })\n",
       "         });\n",
       "}\n",
       "</script>"
      ],
      "text/plain": [
       "PreparedData(topic_coordinates=              x         y  topics  cluster       Freq\n",
       "topic                                                \n",
       "3     -0.133219 -0.119977       1        1  45.827457\n",
       "1     -0.115152  0.091148       2        1  26.013704\n",
       "0      0.015106  0.084096       3        1  22.064920\n",
       "2      0.108670 -0.008052       4        1   3.155906\n",
       "4      0.124595 -0.047215       5        1   2.938014, topic_info=         Term         Freq        Total Category  logprob  loglift\n",
       "169      java   301.000000   301.000000  Default  30.0000  30.0000\n",
       "158       com   236.000000   236.000000  Default  29.0000  29.0000\n",
       "44      table   872.000000   872.000000  Default  28.0000  28.0000\n",
       "45   teradata  1284.000000  1284.000000  Default  27.0000  27.0000\n",
       "170      jdbc   180.000000   180.000000  Default  26.0000  26.0000\n",
       "..        ...          ...          ...      ...      ...      ...\n",
       "415     count     5.837772    42.920380   Topic5  -5.4594   1.5324\n",
       "312    single     5.613441    52.339844   Topic5  -5.4986   1.2948\n",
       "246    second     5.595149    53.998292   Topic5  -5.5019   1.2604\n",
       "264    change     3.920446    44.281574   Topic5  -5.8576   1.1031\n",
       "245    result     4.693263   129.705252   Topic5  -5.6776   0.2083\n",
       "\n",
       "[259 rows x 6 columns], token_table=      Topic      Freq       Term\n",
       "term                            \n",
       "156       1  0.049577     action\n",
       "156       2  0.049577     action\n",
       "156       3  0.892390     action\n",
       "298       1  0.350666  aggregate\n",
       "298       2  0.070133  aggregate\n",
       "...     ...       ...        ...\n",
       "51        2  0.194948       work\n",
       "51        3  0.074539       work\n",
       "640       1  0.963329       year\n",
       "640       2  0.017839       year\n",
       "640       3  0.017839       year\n",
       "\n",
       "[715 rows x 3 columns], R=30, lambda_step=0.01, plot_opts={'xlab': 'PC1', 'ylab': 'PC2'}, topic_order=[4, 2, 1, 3, 5])"
      ]
     },
     "execution_count": 10,
     "metadata": {},
     "output_type": "execute_result"
    }
   ],
   "source": [
    "# Build LDA model\n",
    "lda_model = gensim.models.ldamodel.LdaModel(corpus=corpus,\n",
    "                                           id2word=id2word,\n",
    "                                           num_topics=5, \n",
    "                                           random_state=100,\n",
    "                                           chunksize=100,\n",
    "                                           passes=10,\n",
    "                                           alpha=0.61,\n",
    "                                           eta=0.91)\n",
    "\n",
    "# Compute Perplexity\n",
    "print('\\nPerplexity: ', lda_model.log_perplexity(corpus))  # a measure of how good the model is. lower the better.\n",
    "# Compute Coherence Score\n",
    "coherence_model_lda = CoherenceModel(model=lda_model, texts=data_lemmatized, dictionary=id2word, coherence='c_v')\n",
    "coherence_lda = coherence_model_lda.get_coherence()\n",
    "print('\\nCoherence Score: ', coherence_lda)\n",
    "\n",
    "# Visualize the topics\n",
    "pyLDAvis.enable_notebook()\n",
    "vis = pyLDAvis.gensim.prepare(lda_model, corpus, id2word)\n",
    "vis"
   ]
  },
  {
   "cell_type": "code",
   "execution_count": 11,
   "id": "392209b0-cdfe-4134-8a90-7ebd77bb2098",
   "metadata": {},
   "outputs": [
    {
     "name": "stdout",
     "output_type": "stream",
     "text": [
      "[(0,\n",
      "  '0.029*\"java\" + 0.023*\"teradata\" + 0.023*\"com\" + 0.017*\"jdbc\" + '\n",
      "  '0.013*\"error\" + 0.011*\"sqoop\" + 0.011*\"spark\" + 0.011*\"run\" + '\n",
      "  '0.010*\"option\" + 0.008*\"org_apache\"'),\n",
      " (1,\n",
      "  '0.047*\"teradata\" + 0.022*\"error\" + 0.019*\"connect\" + 0.016*\"database\" + '\n",
      "  '0.015*\"odbc\" + 0.015*\"import\" + 0.015*\"driver\" + 0.013*\"connection\" + '\n",
      "  '0.013*\"use\" + 0.013*\"file\"'),\n",
      " (2,\n",
      "  '0.008*\"office\" + 0.006*\"regexp_matche\" + 0.005*\"coalesce\" + '\n",
      "  '0.004*\"lookbehind\" + 0.004*\"gi\" + 0.004*\"cli\" + 0.004*\"pointer_target\" + '\n",
      "  '0.004*\"type_enable\" + 0.004*\"warning_return\" + 0.004*\"extraction\"'),\n",
      " (3,\n",
      "  '0.038*\"table\" + 0.022*\"teradata\" + 0.017*\"error\" + 0.016*\"use\" + '\n",
      "  '0.015*\"select\" + 0.015*\"column\" + 0.015*\"datum\" + 0.014*\"try\" + '\n",
      "  '0.011*\"query\" + 0.010*\"date\"'),\n",
      " (4,\n",
      "  '0.039*\"partition\" + 0.009*\"range\" + 0.009*\"range_n\" + 0.009*\"elimination\" + '\n",
      "  '0.008*\"step\" + 0.008*\"amp\" + 0.007*\"unknown\" + 0.006*\"sum\" + '\n",
      "  '0.006*\"explain\" + 0.005*\"condition\"')]\n",
      "<gensim.interfaces.TransformedCorpus object at 0x7fd153795210>\n"
     ]
    }
   ],
   "source": [
    "pprint(lda_model.print_topics())\n",
    "doc_lda = lda_model[corpus]\n",
    "print(doc_lda)"
   ]
  },
  {
   "cell_type": "code",
   "execution_count": 12,
   "metadata": {},
   "outputs": [
    {
     "name": "stdout",
     "output_type": "stream",
     "text": [
      "        Id                                              Title  \\\n",
      "0  3559698  how do i filter out non-numeric values in a te...   \n",
      "1  3598327  Problem reading special characters from terada...   \n",
      "2  4751146     Oracle XE Database link to Teradata using ODBC   \n",
      "3  6017422  Threads hanging permanently on JDBC Teradata r...   \n",
      "4  6110652       Executing teradata stored procedure from SAS   \n",
      "\n",
      "                                                Body  RatingsSentiCR  \\\n",
      "0  oI have a teradata table with about 10 million...              -1   \n",
      "1  I use teradata and the below query outputs \"Al...              -1   \n",
      "2  I installed Oracle Server Express 10g on my co...               1   \n",
      "3  I'm using JDBC to query a Teradata server. The...               1   \n",
      "4  I'm trying to execute Teradata stored procedur...               1   \n",
      "\n",
      "  RatingsGPT35  RatingsGPTFineTuned  \\\n",
      "0           -1                 -1.0   \n",
      "1           -1                 -1.0   \n",
      "2           -1                 -1.0   \n",
      "3           -1                 -1.0   \n",
      "4           -1                 -1.0   \n",
      "\n",
      "                                              merged  topic  \n",
      "0  oI have a teradata table with about 10 million...      3  \n",
      "1  I use teradata and the below query outputs \"Al...      3  \n",
      "2  I installed Oracle Server Express 10g on my co...      1  \n",
      "3  I'm using JDBC to query a Teradata server. The...      0  \n",
      "4  I'm trying to execute Teradata stored procedur...      3  \n",
      "topic:  0 total data:  73\n",
      "topic:  1 total data:  152\n",
      "topic:  2 total data:  7\n",
      "topic:  3 total data:  383\n",
      "topic:  4 total data:  2\n"
     ]
    }
   ],
   "source": [
    "num_topics = 5\n",
    "topic_distributions = [lda_model[doc] for doc in corpus]\n",
    "\n",
    "# Extract the dominant topic for each document\n",
    "df['topic'] = [max(topics, key=lambda x: x[1])[0] for topics in topic_distributions]\n",
    "\n",
    "# Display the DataFrame with assigned topics\n",
    "print(df.head())\n",
    "df.to_csv('../dataset/AssignedTopicTeradata.csv')\n",
    "for i in range(num_topics): \n",
    "    topic_df = df[df['topic'] == i]\n",
    "    print('topic: ', i, 'total data: ', len(topic_df))"
   ]
  },
  {
   "cell_type": "code",
   "execution_count": null,
   "metadata": {},
   "outputs": [],
   "source": []
  }
 ],
 "metadata": {
  "kernelspec": {
   "display_name": "Python 3 (ipykernel)",
   "language": "python",
   "name": "python3"
  },
  "language_info": {
   "codemirror_mode": {
    "name": "ipython",
    "version": 3
   },
   "file_extension": ".py",
   "mimetype": "text/x-python",
   "name": "python",
   "nbconvert_exporter": "python",
   "pygments_lexer": "ipython3",
   "version": "3.10.12"
  },
  "widgets": {
   "application/vnd.jupyter.widget-state+json": {
    "state": {},
    "version_major": 2,
    "version_minor": 0
   }
  }
 },
 "nbformat": 4,
 "nbformat_minor": 5
}
