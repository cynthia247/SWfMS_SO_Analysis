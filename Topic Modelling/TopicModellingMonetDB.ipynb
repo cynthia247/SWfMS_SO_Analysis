{
 "cells": [
  {
   "cell_type": "markdown",
   "id": "19a3956d",
   "metadata": {},
   "source": [
    "# Necessary Tools and Services"
   ]
  },
  {
   "cell_type": "code",
   "execution_count": 32,
   "id": "57e1172e",
   "metadata": {},
   "outputs": [],
   "source": [
    "# ! pip install pandas\n",
    "# ! pip install matplotlib\n",
    "# ! pip install numpy\n",
    "# ! pip install seaborn\n",
    "# ! pip install unzip\n",
    "# ! pip install gensim\n",
    "# ! pip install nltk\n",
    "# ! pip install wordcloud\n",
    "# ! pip install spacy\n",
    "# ! pip install spacy_download\n",
    "# ! pip install pyLDAvis\n",
    "# ! pip install PyStemmer\n",
    "\n",
    "# ! python3 -m spacy download en"
   ]
  },
  {
   "cell_type": "code",
   "execution_count": 1,
   "id": "893b4ccc",
   "metadata": {},
   "outputs": [
    {
     "name": "stderr",
     "output_type": "stream",
     "text": [
      "[nltk_data] Downloading package averaged_perceptron_tagger to\n",
      "[nltk_data]     /home/uji657/nltk_data...\n",
      "[nltk_data]   Package averaged_perceptron_tagger is already up-to-\n",
      "[nltk_data]       date!\n",
      "[nltk_data] Downloading package wordnet to /home/uji657/nltk_data...\n",
      "[nltk_data]   Package wordnet is already up-to-date!\n",
      "[nltk_data] Downloading package stopwords to /home/uji657/nltk_data...\n",
      "[nltk_data]   Package stopwords is already up-to-date!\n"
     ]
    },
    {
     "name": "stdout",
     "output_type": "stream",
     "text": [
      "Collecting en-core-web-sm==3.7.1\n",
      "  Downloading https://github.com/explosion/spacy-models/releases/download/en_core_web_sm-3.7.1/en_core_web_sm-3.7.1-py3-none-any.whl (12.8 MB)\n",
      "     ━━━━━━━━━━━━━━━━━━━━━━━━━━━━━━━━━━━━━━━━ 12.8/12.8 MB 83.7 MB/s eta 0:00:00\n",
      "Requirement already satisfied: spacy<3.8.0,>=3.7.2 in /home/uji657/Downloads/Sentiment Analysis/SentiCR-master/SentiCR/.venv/lib/python3.10/site-packages (from en-core-web-sm==3.7.1) (3.7.2)\n",
      "Requirement already satisfied: langcodes<4.0.0,>=3.2.0 in /home/uji657/Downloads/Sentiment Analysis/SentiCR-master/SentiCR/.venv/lib/python3.10/site-packages (from spacy<3.8.0,>=3.7.2->en-core-web-sm==3.7.1) (3.3.0)\n",
      "Requirement already satisfied: srsly<3.0.0,>=2.4.3 in /home/uji657/Downloads/Sentiment Analysis/SentiCR-master/SentiCR/.venv/lib/python3.10/site-packages (from spacy<3.8.0,>=3.7.2->en-core-web-sm==3.7.1) (2.4.8)\n",
      "Requirement already satisfied: cymem<2.1.0,>=2.0.2 in /home/uji657/Downloads/Sentiment Analysis/SentiCR-master/SentiCR/.venv/lib/python3.10/site-packages (from spacy<3.8.0,>=3.7.2->en-core-web-sm==3.7.1) (2.0.8)\n",
      "Requirement already satisfied: preshed<3.1.0,>=3.0.2 in /home/uji657/Downloads/Sentiment Analysis/SentiCR-master/SentiCR/.venv/lib/python3.10/site-packages (from spacy<3.8.0,>=3.7.2->en-core-web-sm==3.7.1) (3.0.9)\n",
      "Requirement already satisfied: jinja2 in /home/uji657/Downloads/Sentiment Analysis/SentiCR-master/SentiCR/.venv/lib/python3.10/site-packages (from spacy<3.8.0,>=3.7.2->en-core-web-sm==3.7.1) (3.1.2)\n",
      "Requirement already satisfied: packaging>=20.0 in /home/uji657/Downloads/Sentiment Analysis/SentiCR-master/SentiCR/.venv/lib/python3.10/site-packages (from spacy<3.8.0,>=3.7.2->en-core-web-sm==3.7.1) (23.2)\n",
      "Requirement already satisfied: catalogue<2.1.0,>=2.0.6 in /home/uji657/Downloads/Sentiment Analysis/SentiCR-master/SentiCR/.venv/lib/python3.10/site-packages (from spacy<3.8.0,>=3.7.2->en-core-web-sm==3.7.1) (2.0.10)\n",
      "Requirement already satisfied: requests<3.0.0,>=2.13.0 in /home/uji657/Downloads/Sentiment Analysis/SentiCR-master/SentiCR/.venv/lib/python3.10/site-packages (from spacy<3.8.0,>=3.7.2->en-core-web-sm==3.7.1) (2.31.0)\n",
      "Requirement already satisfied: typer<0.10.0,>=0.3.0 in /home/uji657/Downloads/Sentiment Analysis/SentiCR-master/SentiCR/.venv/lib/python3.10/site-packages (from spacy<3.8.0,>=3.7.2->en-core-web-sm==3.7.1) (0.9.0)\n",
      "Requirement already satisfied: setuptools in /home/uji657/Downloads/Sentiment Analysis/SentiCR-master/SentiCR/.venv/lib/python3.10/site-packages (from spacy<3.8.0,>=3.7.2->en-core-web-sm==3.7.1) (59.6.0)\n",
      "Requirement already satisfied: weasel<0.4.0,>=0.1.0 in /home/uji657/Downloads/Sentiment Analysis/SentiCR-master/SentiCR/.venv/lib/python3.10/site-packages (from spacy<3.8.0,>=3.7.2->en-core-web-sm==3.7.1) (0.3.4)\n",
      "Requirement already satisfied: murmurhash<1.1.0,>=0.28.0 in /home/uji657/Downloads/Sentiment Analysis/SentiCR-master/SentiCR/.venv/lib/python3.10/site-packages (from spacy<3.8.0,>=3.7.2->en-core-web-sm==3.7.1) (1.0.10)\n",
      "Requirement already satisfied: spacy-loggers<2.0.0,>=1.0.0 in /home/uji657/Downloads/Sentiment Analysis/SentiCR-master/SentiCR/.venv/lib/python3.10/site-packages (from spacy<3.8.0,>=3.7.2->en-core-web-sm==3.7.1) (1.0.5)\n",
      "Requirement already satisfied: smart-open<7.0.0,>=5.2.1 in /home/uji657/Downloads/Sentiment Analysis/SentiCR-master/SentiCR/.venv/lib/python3.10/site-packages (from spacy<3.8.0,>=3.7.2->en-core-web-sm==3.7.1) (6.4.0)\n",
      "Requirement already satisfied: tqdm<5.0.0,>=4.38.0 in /home/uji657/Downloads/Sentiment Analysis/SentiCR-master/SentiCR/.venv/lib/python3.10/site-packages (from spacy<3.8.0,>=3.7.2->en-core-web-sm==3.7.1) (4.66.1)\n",
      "Requirement already satisfied: thinc<8.3.0,>=8.1.8 in /home/uji657/Downloads/Sentiment Analysis/SentiCR-master/SentiCR/.venv/lib/python3.10/site-packages (from spacy<3.8.0,>=3.7.2->en-core-web-sm==3.7.1) (8.2.1)\n",
      "Requirement already satisfied: wasabi<1.2.0,>=0.9.1 in /home/uji657/Downloads/Sentiment Analysis/SentiCR-master/SentiCR/.venv/lib/python3.10/site-packages (from spacy<3.8.0,>=3.7.2->en-core-web-sm==3.7.1) (1.1.2)\n",
      "Requirement already satisfied: pydantic!=1.8,!=1.8.1,<3.0.0,>=1.7.4 in /home/uji657/Downloads/Sentiment Analysis/SentiCR-master/SentiCR/.venv/lib/python3.10/site-packages (from spacy<3.8.0,>=3.7.2->en-core-web-sm==3.7.1) (2.5.1)\n",
      "Requirement already satisfied: numpy>=1.19.0 in /home/uji657/Downloads/Sentiment Analysis/SentiCR-master/SentiCR/.venv/lib/python3.10/site-packages (from spacy<3.8.0,>=3.7.2->en-core-web-sm==3.7.1) (1.26.2)\n",
      "Requirement already satisfied: spacy-legacy<3.1.0,>=3.0.11 in /home/uji657/Downloads/Sentiment Analysis/SentiCR-master/SentiCR/.venv/lib/python3.10/site-packages (from spacy<3.8.0,>=3.7.2->en-core-web-sm==3.7.1) (3.0.12)\n",
      "Requirement already satisfied: annotated-types>=0.4.0 in /home/uji657/Downloads/Sentiment Analysis/SentiCR-master/SentiCR/.venv/lib/python3.10/site-packages (from pydantic!=1.8,!=1.8.1,<3.0.0,>=1.7.4->spacy<3.8.0,>=3.7.2->en-core-web-sm==3.7.1) (0.6.0)\n",
      "Requirement already satisfied: pydantic-core==2.14.3 in /home/uji657/Downloads/Sentiment Analysis/SentiCR-master/SentiCR/.venv/lib/python3.10/site-packages (from pydantic!=1.8,!=1.8.1,<3.0.0,>=1.7.4->spacy<3.8.0,>=3.7.2->en-core-web-sm==3.7.1) (2.14.3)\n",
      "Requirement already satisfied: typing-extensions>=4.6.1 in /home/uji657/Downloads/Sentiment Analysis/SentiCR-master/SentiCR/.venv/lib/python3.10/site-packages (from pydantic!=1.8,!=1.8.1,<3.0.0,>=1.7.4->spacy<3.8.0,>=3.7.2->en-core-web-sm==3.7.1) (4.8.0)\n",
      "Requirement already satisfied: idna<4,>=2.5 in /home/uji657/Downloads/Sentiment Analysis/SentiCR-master/SentiCR/.venv/lib/python3.10/site-packages (from requests<3.0.0,>=2.13.0->spacy<3.8.0,>=3.7.2->en-core-web-sm==3.7.1) (3.4)\n",
      "Requirement already satisfied: certifi>=2017.4.17 in /home/uji657/Downloads/Sentiment Analysis/SentiCR-master/SentiCR/.venv/lib/python3.10/site-packages (from requests<3.0.0,>=2.13.0->spacy<3.8.0,>=3.7.2->en-core-web-sm==3.7.1) (2023.7.22)\n",
      "Requirement already satisfied: urllib3<3,>=1.21.1 in /home/uji657/Downloads/Sentiment Analysis/SentiCR-master/SentiCR/.venv/lib/python3.10/site-packages (from requests<3.0.0,>=2.13.0->spacy<3.8.0,>=3.7.2->en-core-web-sm==3.7.1) (2.1.0)\n",
      "Requirement already satisfied: charset-normalizer<4,>=2 in /home/uji657/Downloads/Sentiment Analysis/SentiCR-master/SentiCR/.venv/lib/python3.10/site-packages (from requests<3.0.0,>=2.13.0->spacy<3.8.0,>=3.7.2->en-core-web-sm==3.7.1) (3.3.2)\n",
      "Requirement already satisfied: confection<1.0.0,>=0.0.1 in /home/uji657/Downloads/Sentiment Analysis/SentiCR-master/SentiCR/.venv/lib/python3.10/site-packages (from thinc<8.3.0,>=8.1.8->spacy<3.8.0,>=3.7.2->en-core-web-sm==3.7.1) (0.1.3)\n",
      "Requirement already satisfied: blis<0.8.0,>=0.7.8 in /home/uji657/Downloads/Sentiment Analysis/SentiCR-master/SentiCR/.venv/lib/python3.10/site-packages (from thinc<8.3.0,>=8.1.8->spacy<3.8.0,>=3.7.2->en-core-web-sm==3.7.1) (0.7.11)\n",
      "Requirement already satisfied: click<9.0.0,>=7.1.1 in /home/uji657/Downloads/Sentiment Analysis/SentiCR-master/SentiCR/.venv/lib/python3.10/site-packages (from typer<0.10.0,>=0.3.0->spacy<3.8.0,>=3.7.2->en-core-web-sm==3.7.1) (8.1.7)\n",
      "Requirement already satisfied: cloudpathlib<0.17.0,>=0.7.0 in /home/uji657/Downloads/Sentiment Analysis/SentiCR-master/SentiCR/.venv/lib/python3.10/site-packages (from weasel<0.4.0,>=0.1.0->spacy<3.8.0,>=3.7.2->en-core-web-sm==3.7.1) (0.16.0)\n",
      "Requirement already satisfied: MarkupSafe>=2.0 in /home/uji657/Downloads/Sentiment Analysis/SentiCR-master/SentiCR/.venv/lib/python3.10/site-packages (from jinja2->spacy<3.8.0,>=3.7.2->en-core-web-sm==3.7.1) (2.1.3)\n",
      "\u001b[38;5;2m✔ Download and installation successful\u001b[0m\n",
      "You can now load the package via spacy.load('en_core_web_sm')\n"
     ]
    }
   ],
   "source": [
    "## Importing PD and Others\n",
    "import re\n",
    "import numpy as np\n",
    "import pandas as pd\n",
    "from pprint import pprint\n",
    "\n",
    "## Gensim\n",
    "import gensim\n",
    "import gensim.corpora as corpora\n",
    "from gensim.models import CoherenceModel\n",
    "from gensim.utils import simple_preprocess\n",
    "from gensim.parsing.preprocessing import STOPWORDS\n",
    "\n",
    "## NLTK\n",
    "from nltk.stem import WordNetLemmatizer, SnowballStemmer\n",
    "from nltk.stem.porter import *\n",
    "import nltk.stem\n",
    "import numpy as np\n",
    "np.random.seed(2018)\n",
    "import nltk\n",
    "nltk.download('averaged_perceptron_tagger')\n",
    "nltk.download('wordnet')\n",
    "nltk.download('stopwords')\n",
    "\n",
    "from nltk.corpus import stopwords\n",
    "stop_words = stopwords.words('english')\n",
    "stop_words.extend(['#', '`', '\"', '@'])\n",
    "\n",
    "import warnings\n",
    "warnings.filterwarnings(action='ignore', category=UserWarning)\n",
    "\n",
    "import matplotlib.pyplot as plt\n",
    "%matplotlib inline\n",
    "\n",
    "\n",
    "import spacy\n",
    "spacy.cli.download('en_core_web_sm')\n",
    "\n",
    "\n",
    "\n",
    "## Visualization\n",
    "import pyLDAvis\n",
    "import pyLDAvis.gensim\n",
    "\n",
    "import warnings\n",
    "warnings.filterwarnings(\"ignore\", category=DeprecationWarning)"
   ]
  },
  {
   "cell_type": "code",
   "execution_count": 2,
   "metadata": {},
   "outputs": [
    {
     "name": "stdout",
     "output_type": "stream",
     "text": [
      "140\n"
     ]
    }
   ],
   "source": [
    "def FindingPostsWithNegativeSentiments():\n",
    "    df = pd.read_csv('../dataset/SO_Workflow_Data.csv')\n",
    "    my_value = -1\n",
    "    data = df.loc[df[\"RatingsGPTFineTuned\"] == my_value]\n",
    "\n",
    "    df = data[data['Body'].str.contains('monetdb', case=False)] \n",
    "    print(len(df))\n",
    "    df.to_csv('../dataset/monetdb_posts.csv', index=False)\n",
    "\n",
    "FindingPostsWithNegativeSentiments()"
   ]
  },
  {
   "cell_type": "markdown",
   "id": "c3c80025",
   "metadata": {},
   "source": [
    "# Import data and Preprocess"
   ]
  },
  {
   "cell_type": "code",
   "execution_count": 2,
   "id": "093e46bc",
   "metadata": {},
   "outputs": [
    {
     "name": "stdout",
     "output_type": "stream",
     "text": [
      "140\n"
     ]
    }
   ],
   "source": [
    "df = pd.read_csv('../dataset/monetdb_posts.csv')\n",
    "# my_value = -1\n",
    "# new_df = df.loc[df[\"RatingsGPTFineTuned\"] == my_value]\n",
    "df[\"merged\"] = df[[\"Title\",\"Body\"]].apply(\"-\".join, axis=1)\n",
    "#new_df.head()\n",
    "# new_df.to_csv('Dataset/ConcatenatedDatasetSO.csv')\n",
    "\n",
    "data = df.merged.values.tolist()\n",
    "print(len(df))\n",
    "#data"
   ]
  },
  {
   "cell_type": "code",
   "execution_count": 3,
   "id": "ed84875d",
   "metadata": {},
   "outputs": [
    {
     "name": "stdout",
     "output_type": "stream",
     "text": [
      "['monetdb - anyone uses it in production?-I am very interested in using '\n",
      " 'monetdb as a datamart, holding some huge data tables for querying and '\n",
      " 'reporting However, after some searching, I am unable to find any online '\n",
      " 'posts / blogs regarding their use of Monetdb in any kind of production '\n",
      " 'capacity. Also, there seems to be little or next to no activity online '\n",
      " 'regarding Monetdb. Is this a bad sign for the future of Monetdb ? ',\n",
      " 'How to discover the columns for a given index or key in MonetDB-MonetDB '\n",
      " 'seems to support a fairly comprehensive set of system catalog views in order '\n",
      " 'to discover the schema structure of the database. Unfortunately, I cant seem '\n",
      " 'to find a SQL query that will obtain the set of columns for a given key or '\n",
      " 'index. Here are the system tables/views are reported by the Tables table: '\n",
      " 'schemas types functions args sequences dependencies connections _tables '\n",
      " '_columns keys idxs triggers objects tables columns db_user_info users '\n",
      " 'user_role auths privileges queryhistory callhistory querylog systemfunctions '\n",
      " 'I tried dependencies, but the IDs dont seem to match up. BTW, I did try '\n",
      " 'looking in the source code, but I havent yet found where the system views '\n",
      " 'are created and maintained. ']\n"
     ]
    }
   ],
   "source": [
    "# Remove Emails\n",
    "data = [re.sub('<[^<>]*>', '', sent) for sent in data]\n",
    "# Remove new line characters\n",
    "data = [re.sub('\\s+', ' ', sent) for sent in data]\n",
    "# Remove distracting single quotes\n",
    "data = [re.sub(\"\\'\", \"\", sent) for sent in data]\n",
    "\n",
    "pprint(data[:2])"
   ]
  },
  {
   "cell_type": "markdown",
   "id": "2d98f4b6",
   "metadata": {},
   "source": [
    "# Tokenize words and Clean-up text"
   ]
  },
  {
   "cell_type": "code",
   "execution_count": 4,
   "id": "b7b3a9c8",
   "metadata": {},
   "outputs": [
    {
     "name": "stdout",
     "output_type": "stream",
     "text": [
      "[['monetdb', 'anyone', 'uses', 'it', 'in', 'production', 'am', 'very', 'interested', 'in', 'using', 'monetdb', 'as', 'datamart', 'holding', 'some', 'huge', 'data', 'tables', 'for', 'querying', 'and', 'reporting', 'however', 'after', 'some', 'searching', 'am', 'unable', 'to', 'find', 'any', 'online', 'posts', 'blogs', 'regarding', 'their', 'use', 'of', 'monetdb', 'in', 'any', 'kind', 'of', 'production', 'capacity', 'also', 'there', 'seems', 'to', 'be', 'little', 'or', 'next', 'to', 'no', 'activity', 'online', 'regarding', 'monetdb', 'is', 'this', 'bad', 'sign', 'for', 'the', 'future', 'of', 'monetdb']]\n"
     ]
    }
   ],
   "source": [
    "def sent_to_words(sentences):\n",
    "    for sentence in sentences:\n",
    "        yield(gensim.utils.simple_preprocess(str(sentence), deacc=True))  # deacc=True removes punctuations\n",
    "\n",
    "data_words = list(sent_to_words(data))\n",
    "\n",
    "print(data_words[:1])"
   ]
  },
  {
   "cell_type": "code",
   "execution_count": 5,
   "id": "38592eb3",
   "metadata": {},
   "outputs": [],
   "source": [
    "# Build the bigram and trigram models\n",
    "bigram = gensim.models.Phrases(data_words, min_count=5, threshold=50) # higher threshold fewer phrases.\n",
    "trigram = gensim.models.Phrases(bigram[data_words], threshold=50)  \n",
    "\n",
    "# Faster way to get a sentence clubbed as a trigram/bigram\n",
    "bigram_mod = gensim.models.phrases.Phraser(bigram)\n",
    "trigram_mod = gensim.models.phrases.Phraser(trigram)\n",
    "\n",
    "# See trigram example\n",
    "#print(trigram_mod[bigram_mod[data_words[0]]])"
   ]
  },
  {
   "cell_type": "markdown",
   "id": "3d485455",
   "metadata": {},
   "source": [
    "# Remove Stopwords, Make Bigrams and Lemmatize"
   ]
  },
  {
   "cell_type": "code",
   "execution_count": 6,
   "id": "c49abe86",
   "metadata": {},
   "outputs": [],
   "source": [
    "# Define functions for stopwords, bigrams, trigrams and lemmatization\n",
    "def remove_stopwords(texts):\n",
    "    return [[word for word in simple_preprocess(str(doc)) if word not in stop_words] for doc in texts]\n",
    "\n",
    "def make_bigrams(texts):\n",
    "    return [bigram_mod[doc] for doc in texts]\n",
    "\n",
    "def make_trigrams(texts):\n",
    "    return [trigram_mod[bigram_mod[doc]] for doc in texts]\n",
    "\n",
    "def lemmatization(texts, allowed_postags=['NOUN', 'ADJ', 'VERB', 'ADV']):\n",
    "    \"\"\"https://spacy.io/api/annotation\"\"\"\n",
    "    texts_out = []\n",
    "    for sent in texts:\n",
    "        doc = nlp(\" \".join(sent)) \n",
    "        texts_out.append([token.lemma_ for token in doc if token.pos_ in allowed_postags])\n",
    "    return texts_out"
   ]
  },
  {
   "cell_type": "code",
   "execution_count": 7,
   "id": "a1408ee7",
   "metadata": {},
   "outputs": [
    {
     "name": "stdout",
     "output_type": "stream",
     "text": [
      "[['monetdb', 'use', 'production', 'interested', 'use', 'monetdb', 'datamart', 'hold', 'huge', 'data', 'table', 'query', 'reporting', 'however', 'search', 'unable', 'find', 'online', 'post', 'blog', 'regard', 'use', 'monetdb', 'kind', 'production', 'capacity', 'also', 'seem', 'little', 'next', 'activity', 'online', 'regard', 'monetdb', 'bad', 'sign', 'future', 'monetdb']]\n"
     ]
    }
   ],
   "source": [
    "# Remove Stop Words\n",
    "data_words_nostops = remove_stopwords(data_words)\n",
    "\n",
    "# Form Bigrams\n",
    "data_words_bigrams = make_bigrams(data_words_nostops)\n",
    "\n",
    "# Initialize spacy 'en' model, keeping only tagger component (for efficiency)\n",
    "# python3 -m spacy download en\n",
    "nlp = spacy.load(\"en_core_web_sm\", disable=[\"parser\", \"ner\"])\n",
    "\n",
    "# Do lemmatization keeping only noun, adj, vb, adv\n",
    "data_lemmatized = lemmatization(data_words_bigrams, allowed_postags=['NOUN', 'ADJ', 'VERB', 'ADV'])\n",
    "\n",
    "print(data_lemmatized[:1])"
   ]
  },
  {
   "cell_type": "markdown",
   "id": "98003715",
   "metadata": {},
   "source": [
    "# Create the Dictionary and Corpus needed for Topic Modeling"
   ]
  },
  {
   "cell_type": "code",
   "execution_count": 8,
   "id": "cfd3247d",
   "metadata": {},
   "outputs": [
    {
     "name": "stdout",
     "output_type": "stream",
     "text": [
      "[[(0, 1), (1, 1), (2, 1), (3, 1), (4, 1), (5, 1), (6, 1), (7, 1), (8, 1), (9, 1), (10, 1), (11, 1), (12, 1), (13, 1), (14, 1), (15, 5), (16, 1), (17, 2), (18, 1), (19, 2), (20, 1), (21, 2), (22, 1), (23, 1), (24, 1), (25, 1), (26, 1), (27, 1), (28, 3)]]\n"
     ]
    }
   ],
   "source": [
    "# Create Dictionary\n",
    "id2word = corpora.Dictionary(data_lemmatized)\n",
    "\n",
    "# Create Corpus\n",
    "texts = data_lemmatized\n",
    "\n",
    "# Term Document Frequency\n",
    "corpus = [id2word.doc2bow(text) for text in texts]\n",
    "\n",
    "# View\n",
    "print(corpus[:1])"
   ]
  },
  {
   "cell_type": "code",
   "execution_count": 9,
   "id": "be414a5b",
   "metadata": {},
   "outputs": [
    {
     "data": {
      "text/plain": [
       "[[('activity', 1),\n",
       "  ('also', 1),\n",
       "  ('bad', 1),\n",
       "  ('blog', 1),\n",
       "  ('capacity', 1),\n",
       "  ('data', 1),\n",
       "  ('datamart', 1),\n",
       "  ('find', 1),\n",
       "  ('future', 1),\n",
       "  ('hold', 1),\n",
       "  ('however', 1),\n",
       "  ('huge', 1),\n",
       "  ('interested', 1),\n",
       "  ('kind', 1),\n",
       "  ('little', 1),\n",
       "  ('monetdb', 5),\n",
       "  ('next', 1),\n",
       "  ('online', 2),\n",
       "  ('post', 1),\n",
       "  ('production', 2),\n",
       "  ('query', 1),\n",
       "  ('regard', 2),\n",
       "  ('reporting', 1),\n",
       "  ('search', 1),\n",
       "  ('seem', 1),\n",
       "  ('sign', 1),\n",
       "  ('table', 1),\n",
       "  ('unable', 1),\n",
       "  ('use', 3)]]"
      ]
     },
     "execution_count": 9,
     "metadata": {},
     "output_type": "execute_result"
    }
   ],
   "source": [
    "# Human readable format of corpus (term-frequency)\n",
    "[[(id2word[id], freq) for id, freq in cp] for cp in corpus[:1]]"
   ]
  },
  {
   "cell_type": "code",
   "execution_count": 11,
   "id": "2a5fd366",
   "metadata": {},
   "outputs": [],
   "source": [
    "# supporting function\n",
    "def compute_coherence_values(corpus, dictionary, k, a, b):\n",
    "    \n",
    "    lda_model = gensim.models.LdaMulticore(corpus=corpus,\n",
    "                                           id2word=id2word,\n",
    "                                           num_topics=k, \n",
    "                                           random_state=100,\n",
    "                                           chunksize=100,\n",
    "                                           passes=10,\n",
    "                                           alpha=a,\n",
    "                                           eta=b)\n",
    "    \n",
    "    coherence_model_lda = CoherenceModel(model=lda_model, texts=data_lemmatized, dictionary=id2word, coherence='c_v')\n",
    "    \n",
    "    return coherence_model_lda.get_coherence()"
   ]
  },
  {
   "cell_type": "code",
   "execution_count": 13,
   "id": "fc885ff8",
   "metadata": {},
   "outputs": [
    {
     "name": "stderr",
     "output_type": "stream",
     "text": [
      "100%|██████████| 540/540 [06:52<00:00,  1.31it/s]\n"
     ]
    }
   ],
   "source": [
    "import numpy as np\n",
    "import tqdm\n",
    "\n",
    "grid = {}\n",
    "grid['Validation_Set'] = {}\n",
    "\n",
    "# Topics range\n",
    "min_topics = 2\n",
    "max_topics = 11\n",
    "step_size = 1\n",
    "topics_range = range(min_topics, max_topics, step_size)\n",
    "\n",
    "# Alpha parameter\n",
    "alpha = list(np.arange(0.01, 1, 0.3))\n",
    "alpha.append('symmetric')\n",
    "alpha.append('asymmetric')\n",
    "\n",
    "# Beta parameter\n",
    "beta = list(np.arange(0.01, 1, 0.3))\n",
    "beta.append('symmetric')\n",
    "\n",
    "# Validation sets\n",
    "num_of_docs = len(corpus)\n",
    "corpus_sets = [gensim.utils.ClippedCorpus(corpus, int(num_of_docs*0.75)), \n",
    "               corpus]\n",
    "\n",
    "corpus_title = ['75% Corpus', '100% Corpus']\n",
    "\n",
    "model_results = {'Validation_Set': [],\n",
    "                 'Topics': [],\n",
    "                 'Alpha': [],\n",
    "                 'Beta': [],\n",
    "                 'Coherence': []\n",
    "                }\n",
    "\n",
    "# Can take a long time to run\n",
    "if 1 == 1:\n",
    "    pbar = tqdm.tqdm(total=(len(beta)*len(alpha)*len(topics_range)*len(corpus_title)))\n",
    "    \n",
    "    # iterate through validation corpuses\n",
    "    for i in range(len(corpus_sets)):\n",
    "        # iterate through number of topics\n",
    "        for k in topics_range:\n",
    "            # iterate through alpha values\n",
    "            for a in alpha:\n",
    "                # iterare through beta values\n",
    "                for b in beta:\n",
    "                    # get the coherence score for the given parameters\n",
    "                    cv = compute_coherence_values(corpus=corpus_sets[i], dictionary=id2word, \n",
    "                                                  k=k, a=a, b=b)\n",
    "                    # Save the model results\n",
    "                    model_results['Validation_Set'].append(corpus_title[i])\n",
    "                    model_results['Topics'].append(k)\n",
    "                    model_results['Alpha'].append(a)\n",
    "                    model_results['Beta'].append(b)\n",
    "                    model_results['Coherence'].append(cv)\n",
    "                    \n",
    "                    pbar.update(1)\n",
    "    pd.DataFrame(model_results).to_csv('../dataset/lda_tuning_results.csv', index=False)\n",
    "    pbar.close()"
   ]
  },
  {
   "cell_type": "code",
   "execution_count": 12,
   "id": "41468242",
   "metadata": {},
   "outputs": [
    {
     "data": {
      "text/html": [
       "<div>\n",
       "<style scoped>\n",
       "    .dataframe tbody tr th:only-of-type {\n",
       "        vertical-align: middle;\n",
       "    }\n",
       "\n",
       "    .dataframe tbody tr th {\n",
       "        vertical-align: top;\n",
       "    }\n",
       "\n",
       "    .dataframe thead th {\n",
       "        text-align: right;\n",
       "    }\n",
       "</style>\n",
       "<table border=\"1\" class=\"dataframe\">\n",
       "  <thead>\n",
       "    <tr style=\"text-align: right;\">\n",
       "      <th></th>\n",
       "      <th>Validation_Set</th>\n",
       "      <th>Topics</th>\n",
       "      <th>Alpha</th>\n",
       "      <th>Beta</th>\n",
       "      <th>Coherence</th>\n",
       "    </tr>\n",
       "  </thead>\n",
       "  <tbody>\n",
       "    <tr>\n",
       "      <th>528</th>\n",
       "      <td>100% Corpus</td>\n",
       "      <td>10</td>\n",
       "      <td>0.9099999999999999</td>\n",
       "      <td>0.9099999999999999</td>\n",
       "      <td>0.545106</td>\n",
       "    </tr>\n",
       "    <tr>\n",
       "      <th>358</th>\n",
       "      <td>100% Corpus</td>\n",
       "      <td>4</td>\n",
       "      <td>asymmetric</td>\n",
       "      <td>0.9099999999999999</td>\n",
       "      <td>0.530929</td>\n",
       "    </tr>\n",
       "    <tr>\n",
       "      <th>523</th>\n",
       "      <td>100% Corpus</td>\n",
       "      <td>10</td>\n",
       "      <td>0.61</td>\n",
       "      <td>0.9099999999999999</td>\n",
       "      <td>0.530743</td>\n",
       "    </tr>\n",
       "    <tr>\n",
       "      <th>417</th>\n",
       "      <td>100% Corpus</td>\n",
       "      <td>6</td>\n",
       "      <td>asymmetric</td>\n",
       "      <td>0.61</td>\n",
       "      <td>0.524255</td>\n",
       "    </tr>\n",
       "    <tr>\n",
       "      <th>418</th>\n",
       "      <td>100% Corpus</td>\n",
       "      <td>6</td>\n",
       "      <td>asymmetric</td>\n",
       "      <td>0.9099999999999999</td>\n",
       "      <td>0.520599</td>\n",
       "    </tr>\n",
       "    <tr>\n",
       "      <th>...</th>\n",
       "      <td>...</td>\n",
       "      <td>...</td>\n",
       "      <td>...</td>\n",
       "      <td>...</td>\n",
       "      <td>...</td>\n",
       "    </tr>\n",
       "    <tr>\n",
       "      <th>301</th>\n",
       "      <td>100% Corpus</td>\n",
       "      <td>3</td>\n",
       "      <td>0.01</td>\n",
       "      <td>0.31</td>\n",
       "      <td>0.333287</td>\n",
       "    </tr>\n",
       "    <tr>\n",
       "      <th>304</th>\n",
       "      <td>100% Corpus</td>\n",
       "      <td>3</td>\n",
       "      <td>0.01</td>\n",
       "      <td>symmetric</td>\n",
       "      <td>0.333239</td>\n",
       "    </tr>\n",
       "    <tr>\n",
       "      <th>326</th>\n",
       "      <td>100% Corpus</td>\n",
       "      <td>3</td>\n",
       "      <td>asymmetric</td>\n",
       "      <td>0.31</td>\n",
       "      <td>0.325645</td>\n",
       "    </tr>\n",
       "    <tr>\n",
       "      <th>327</th>\n",
       "      <td>100% Corpus</td>\n",
       "      <td>3</td>\n",
       "      <td>asymmetric</td>\n",
       "      <td>0.61</td>\n",
       "      <td>0.325645</td>\n",
       "    </tr>\n",
       "    <tr>\n",
       "      <th>329</th>\n",
       "      <td>100% Corpus</td>\n",
       "      <td>3</td>\n",
       "      <td>asymmetric</td>\n",
       "      <td>symmetric</td>\n",
       "      <td>0.325645</td>\n",
       "    </tr>\n",
       "  </tbody>\n",
       "</table>\n",
       "<p>268 rows × 5 columns</p>\n",
       "</div>"
      ],
      "text/plain": [
       "    Validation_Set  Topics               Alpha                Beta  Coherence\n",
       "528    100% Corpus      10  0.9099999999999999  0.9099999999999999   0.545106\n",
       "358    100% Corpus       4          asymmetric  0.9099999999999999   0.530929\n",
       "523    100% Corpus      10                0.61  0.9099999999999999   0.530743\n",
       "417    100% Corpus       6          asymmetric                0.61   0.524255\n",
       "418    100% Corpus       6          asymmetric  0.9099999999999999   0.520599\n",
       "..             ...     ...                 ...                 ...        ...\n",
       "301    100% Corpus       3                0.01                0.31   0.333287\n",
       "304    100% Corpus       3                0.01           symmetric   0.333239\n",
       "326    100% Corpus       3          asymmetric                0.31   0.325645\n",
       "327    100% Corpus       3          asymmetric                0.61   0.325645\n",
       "329    100% Corpus       3          asymmetric           symmetric   0.325645\n",
       "\n",
       "[268 rows x 5 columns]"
      ]
     },
     "execution_count": 12,
     "metadata": {},
     "output_type": "execute_result"
    }
   ],
   "source": [
    "results = pd.read_csv('../dataset/lda_tuning_results.csv')\n",
    "results = results.loc[272:]\n",
    "results.sort_values(by=['Coherence'], ascending=False)"
   ]
  },
  {
   "cell_type": "code",
   "execution_count": 10,
   "id": "1a9f15c6",
   "metadata": {},
   "outputs": [
    {
     "name": "stdout",
     "output_type": "stream",
     "text": [
      "\n",
      "Perplexity:  -6.797670739179591\n",
      "\n",
      "Coherence Score:  0.47836778947731434\n"
     ]
    },
    {
     "data": {
      "text/html": [
       "\n",
       "<link rel=\"stylesheet\" type=\"text/css\" href=\"https://cdn.jsdelivr.net/gh/bmabey/pyLDAvis@3.4.0/pyLDAvis/js/ldavis.v1.0.0.css\">\n",
       "\n",
       "\n",
       "<div id=\"ldavis_el3799121399831422771201010491159\" style=\"background-color:white;\"></div>\n",
       "<script type=\"text/javascript\">\n",
       "\n",
       "var ldavis_el3799121399831422771201010491159_data = {\"mdsDat\": {\"x\": [-0.1227737561512692, 0.0236571181327046, -0.035136195023013454, -0.001656527997280054, 0.07419256362944103, 0.06171679740941703], \"y\": [0.033877873292719254, -0.12184204649658717, -0.042066529727582784, 0.046091302575467466, 0.036836873039987575, 0.047102527315995714], \"topics\": [1, 2, 3, 4, 5, 6], \"cluster\": [1, 1, 1, 1, 1, 1], \"Freq\": [27.298462406070183, 26.864603499268302, 23.990024829362415, 14.956261419144917, 3.5850857592403007, 3.305562086913879]}, \"tinfo\": {\"Term\": [\"table\", \"datum\", \"monetdb\", \"column\", \"import\", \"error\", \"set\", \"undefined_reference\", \"user\", \"insert\", \"select\", \"test_text\", \"copy\", \"test\", \"start\", \"database\", \"connect\", \"mclient\", \"command\", \"server\", \"take\", \"email\", \"voc\", \"result\", \"row\", \"case\", \"docker\", \"msg_merovingian\", \"mtcar\", \"support\", \"docker\", \"enter\", \"require\", \"container\", \"mclient\", \"discover\", \"port\", \"org_apache\", \"remote\", \"cluster\", \"warning\", \"odbc\", \"setup\", \"monetdbtest\", \"enotfound\", \"getaddrinfo\", \"unknown\", \"connect\", \"host\", \"credential\", \"management\", \"user\", \"command\", \"warn\", \"java\", \"install\", \"server\", \"able\", \"localhost\", \"call\", \"connection\", \"version\", \"directory\", \"monetdb\", \"try\", \"work\", \"use\", \"database\", \"error\", \"create\", \"follow\", \"file\", \"message\", \"make\", \"fail\", \"get\", \"m\", \"query\", \"new\", \"run\", \"mtcar\", \"take\", \"join\", \"report\", \"break_case\", \"insert\", \"match_alway\", \"value\", \"table_name\", \"datum\", \"mdb\", \"sample\", \"destination\", \"amount\", \"delete\", \"mapi_double\", \"contactid\", \"column\", \"sync\", \"dflowworker\", \"storage\", \"update\", \"table\", \"convert\", \"break\", \"size_t\", \"marketing_sent\", \"templateid\", \"next\", \"row\", \"record\", \"type\", \"result\", \"select\", \"time\", \"core\", \"use\", \"query\", \"monetdblite\", \"problem\", \"monetdb\", \"get\", \"create\", \"function\", \"try\", \"error\", \"work\", \"import\", \"copy\", \"lo_libbat_la\", \"delimiter\", \"exception\", \"syntax\", \"emit\", \"enable\", \"pymonetdb\", \"yum_install\", \"sqoop\", \"undefined\", \"region\", \"varchar\", \"loader\", \"monetdbe\", \"go\", \"default_null\", \"cancel\", \"bulk\", \"unexpected_ident\", \"python\", \"read\", \"industry\", \"bar\", \"debug\", \"sqlstate_errorcode\", \"myloader\", \"col\", \"environment\", \"end\", \"script\", \"error\", \"fine\", \"path\", \"int\", \"monet\", \"follow\", \"file\", \"query\", \"m\", \"get\", \"code\", \"create\", \"use\", \"seem\", \"expect\", \"monetdb\", \"select\", \"table\", \"try\", \"load\", \"fail\", \"function\", \"message\", \"work\", \"run\", \"column\", \"datum\", \"database\", \"msg_merovingian\", \"voc\", \"crash\", \"serve\", \"mytable\", \"exist\", \"copyright\", \"lose\", \"accepting_connection\", \"share\", \"shutdown\", \"case\", \"insensitive\", \"preserve\", \"month\", \"mserver\", \"false\", \"restart\", \"merovingian\", \"control\", \"shut\", \"mserver_dbpath\", \"research\", \"especially\", \"backup\", \"procedure\", \"volumes_transcend\", \"stop\", \"listen\", \"reference\", \"manage\", \"start\", \"set\", \"log\", \"socket\", \"database\", \"list\", \"root\", \"monetdb\", \"see\", \"use\", \"issue\", \"run\", \"look\", \"still\", \"db\", \"try\", \"table\", \"index\", \"fail\", \"m\", \"get\", \"error\", \"geterr\", \"stmt\", \"groupid\", \"panic\", \"d\", \"format\", \"u_email\", \"replica\", \"wlr\", \"timestamp\", \"web\", \"gap\", \"replicate\", \"nil\", \"replication\", \"userid\", \"tenant\", \"support\", \"threshold\", \"baicmr\", \"defer\", \"fmt\", \"i\", \"range\", \"u_password_hash\", \"u_phone\", \"userresponse\", \"dbn\", \"master\", \"clone\", \"do\", \"email\", \"incorrect\", \"quot\", \"result\", \"return\", \"err\", \"insert\", \"statement\", \"db\", \"log\", \"index\", \"monet\", \"undefined_reference\", \"test_text\", \"cctyqopc\", \"mapi_destroy\", \"mapi_error\", \"xf\", \"lmapi\", \"mapi_explain\", \"compilation\", \"icc\", \"direction\", \"community\", \"functionmain\", \"functionupdate\", \"lt\", \"tomapi_destroy\", \"tomapi_error\", \"gcc\", \"mapi_connect\", \"accept\", \"interface\", \"tmp\", \"ignore\", \"successful\", \"answer\", \"exit\", \"previously\", \"compile\", \"collect\", \"hat\", \"great\", \"test\", \"include\", \"client\", \"sure\", \"m\", \"function\", \"try\", \"instal\", \"status\", \"error\", \"return\", \"follow\", \"problem\"], \"Freq\": [171.0, 87.0, 298.0, 68.0, 38.0, 169.0, 55.0, 11.0, 64.0, 35.0, 78.0, 10.0, 31.0, 31.0, 38.0, 75.0, 47.0, 37.0, 49.0, 55.0, 26.0, 11.0, 15.0, 17.0, 39.0, 17.0, 21.0, 13.0, 21.0, 9.0, 20.115637149375203, 16.62644909603886, 15.501574535885316, 12.84772743893327, 32.99835310258334, 11.182843971594618, 15.892504113169121, 9.63423669889199, 10.014093455338447, 9.50792950936701, 10.977839284470408, 10.06072937324644, 9.126593149603947, 7.686407335296136, 7.681315367125479, 7.681315367125479, 10.172638317694762, 38.698918809276385, 12.46903598410316, 6.2287602374667665, 6.212307806277725, 50.95865511739604, 38.770795679353554, 6.543856812334697, 9.471182168390044, 11.555748206055513, 42.13803607612337, 9.825029056007773, 12.576057116172732, 10.907731063023471, 29.315783912501878, 14.867546624779822, 13.437950953698252, 143.30424382272997, 45.84724233530148, 26.909310494374548, 63.110703805465675, 33.3349449671703, 55.479031970955766, 35.40648502343255, 26.59506491942271, 20.622357437418742, 15.502172270368838, 15.54989421290182, 15.013306844538468, 18.934033938590726, 16.100455378733226, 15.439669729128305, 13.00940058539994, 12.653268696358703, 19.448112663175667, 24.144726776180473, 13.984210043101346, 16.841599618233253, 11.051754967942324, 30.04763052931748, 10.186327942262972, 19.833832998187376, 8.819138880794196, 72.89909554279994, 8.353796298915372, 11.858665769618012, 7.944826889193033, 7.686014715340063, 21.193701576816075, 6.499999146564917, 6.496601608504366, 54.86600466500548, 6.441504325463081, 6.394732080815237, 7.014025735515822, 13.402722198016622, 131.2284321693967, 5.41176411560619, 5.450416720676487, 4.982813716198548, 4.979512145988112, 4.979512145988112, 5.061337856118841, 29.529224630486862, 23.560919132704477, 19.151660379591924, 13.05195211126771, 52.83619211930103, 24.135687847448764, 7.355380616710633, 50.25040674915112, 27.55257413124908, 12.405958681749478, 13.347611797067767, 53.343620400744385, 22.878343311055303, 24.888832488493396, 16.185626913135422, 18.530805003474356, 19.141732194810228, 10.809481713869989, 36.32061055830337, 29.05436656272623, 11.254978842159902, 10.540507678237173, 9.678953509061142, 18.271606771452877, 6.996254982949509, 6.996254982949509, 6.996254982949509, 6.996254982949509, 6.869394488290135, 6.220692107754494, 8.021965381871736, 11.794655995916083, 5.363945100624221, 5.274855076818661, 11.979450284187312, 4.482937246180808, 4.4703696956946315, 4.771033729079424, 4.331915475411371, 7.12334606355285, 7.965197465318816, 4.066699098591899, 4.0933666096277035, 3.874312737288547, 3.9602473095935053, 3.7317412631715596, 3.6882952337423673, 5.104357733613363, 8.611249340578748, 5.8549797179225225, 87.51149408715479, 8.192998498299781, 11.10514483561788, 14.347369402865597, 9.547988091367184, 30.581513841103487, 21.92943599148355, 30.919898097335587, 22.456708361302237, 29.84378925615757, 13.467189561584613, 31.425414005147005, 41.524932847486184, 11.042832375230473, 11.074696393294964, 42.7034563740233, 20.88182362712417, 29.592813102727973, 20.642793551903964, 9.603599995500481, 12.622654361385251, 13.059414966257231, 11.502614582101758, 12.726984019851196, 11.840033336760989, 12.56301891749171, 11.416016612802926, 11.129854524019812, 11.43425046181528, 12.702944793800201, 7.3025837879796445, 6.694936751377795, 6.064818848365941, 6.933276072918372, 5.1749597004507715, 4.401228280448623, 4.241854291769349, 5.9184370725383895, 4.105806400812617, 12.527691177608629, 4.096715195866937, 4.096715195866937, 4.686146382072173, 3.539575622155001, 3.4096592592421335, 9.190406396703718, 4.9877670551361755, 2.9664943445905534, 2.9583927095388636, 2.9372112244492676, 2.85234652521276, 2.8470788768879647, 2.8436664078575338, 3.749672322953412, 2.774267557927506, 10.384007191337984, 6.309282779225158, 2.941974766766696, 4.4917521125455755, 22.071045579205432, 30.563846905184302, 8.313162006741884, 7.9183457205232, 25.17968417261002, 3.831129165642972, 4.547106142455618, 58.768642207798955, 7.263524509095402, 20.777699060496506, 7.596787203228799, 10.120463722549895, 5.056871282683704, 5.8385050400136995, 5.919122026335667, 8.763638668648632, 9.660519938293575, 5.458568241138674, 5.748914467074878, 5.7167247135918355, 5.690473916967228, 5.427287146901851, 1.8193965998443706, 1.8193965998443706, 1.821506149224612, 2.8571390005507484, 1.6291422600669179, 1.8132026547606828, 1.2648770923126413, 1.2558723495811972, 1.2558723495811972, 1.4853410342386606, 1.9007981547469004, 1.210494096003678, 2.2982403537591707, 1.493743575068058, 1.095722484600684, 1.5429863874857612, 1.3350230182433662, 2.704716134119063, 0.7527700676997751, 0.7106108209999719, 0.7106108209999719, 0.7106108209999719, 0.7106108209999719, 0.7106108209999719, 0.7106108209999719, 0.7106108209999719, 0.7106108209999719, 0.7373564723056157, 0.8582908407041941, 0.7024272878084515, 0.9155539210486645, 2.3260754229488105, 1.2739758139210877, 1.4511373298174932, 1.7198554632296121, 1.8559825766613944, 1.8387311874729921, 2.035712756393044, 1.257881009872892, 1.450068550431976, 1.2507024978483736, 1.177818838239954, 1.1563715686018576, 9.767751176116946, 8.506946891386171, 1.743318503791052, 0.9759074473864982, 0.9759053235755373, 0.8296747373918488, 0.8296738878674644, 0.8296740577723413, 0.829672443676011, 0.8216808828400228, 0.7651460544910085, 0.6830941046855902, 0.6830941046855902, 0.6830941046855902, 0.6830941046855902, 0.6830941046855902, 0.6830941046855902, 0.9826290542203264, 0.8667520592417854, 0.7088459497293891, 0.6950284356179893, 1.8201642708356587, 0.5359111167146106, 0.44562697829133785, 1.261310856121161, 0.8507098956250969, 0.7013010263384711, 1.4506938829321265, 0.8472173309761706, 0.3969138059014423, 0.716220670909903, 3.1452522356348287, 1.0182502912754927, 0.9814046347251675, 0.8625529451623979, 1.3859428794999027, 1.344000501405689, 1.2791688781093906, 0.8618965176706131, 0.8395903860059439, 1.0197907338416288, 0.8186773044267265, 0.8499221316634922, 0.781181761722376], \"Total\": [171.0, 87.0, 298.0, 68.0, 38.0, 169.0, 55.0, 11.0, 64.0, 35.0, 78.0, 10.0, 31.0, 31.0, 38.0, 75.0, 47.0, 37.0, 49.0, 55.0, 26.0, 11.0, 15.0, 17.0, 39.0, 17.0, 21.0, 13.0, 21.0, 9.0, 21.736486328706267, 18.551106030979174, 17.42133028034479, 14.468610562743192, 37.582936422917314, 13.013335903057127, 18.53042287123726, 11.252293783379153, 11.703581845482264, 11.145916930013291, 12.87534539054685, 11.964705854541611, 10.97536105948419, 9.306765216555505, 9.305117150911556, 9.305117150911556, 12.385134945037167, 47.651852804131096, 15.566739395608318, 7.852717314427799, 7.846252755226956, 64.59817459297402, 49.42794534879376, 8.381994503564526, 12.164156825992901, 15.147901350629981, 55.29976129516789, 12.924121056536855, 16.609522301056867, 14.535029074440391, 40.68104377261952, 21.0131734091334, 18.812712550029186, 298.9975183592992, 96.0664477410878, 52.506469861849475, 176.3125066111168, 75.29212062361793, 169.0120498490536, 94.64902438552862, 69.99439940346818, 46.994865800819845, 31.6124543319723, 32.82238227400639, 37.775730602267735, 78.48856017967019, 51.64990330791178, 76.39648101836244, 32.722166203131266, 43.75839139760298, 21.13305459003854, 26.323336194891354, 15.629907853438398, 18.877520658770152, 12.657768790214718, 35.21971590250296, 11.986000874584773, 23.339516384687222, 10.45866824643662, 87.69186535798542, 10.049136580111876, 14.337435941446556, 9.630958329500206, 9.36486347298486, 26.287847514046263, 8.10568037259203, 8.104522478884297, 68.68360647089342, 8.112499918997822, 8.108112612507554, 9.044827367859373, 17.492405100541593, 171.91322218450904, 7.104916532379514, 7.169114883914954, 6.588344218272885, 6.587192035113054, 6.587192035113054, 6.731269686870618, 39.32242132873034, 31.746768556051652, 26.17677681364607, 17.971406408356447, 78.04895009900011, 35.98108202987088, 10.195472015789907, 176.3125066111168, 76.39648101836244, 23.170270697509704, 26.175187480591536, 298.9975183592992, 78.48856017967019, 94.64902438552862, 46.20323255457274, 96.0664477410878, 169.0120498490536, 52.506469861849475, 38.019406819495195, 31.468809291882792, 12.833945796714742, 12.1559574020833, 11.26282962638979, 21.63406047548649, 8.566560313114566, 8.566560313114566, 8.566560313114566, 8.566560313114566, 8.544542409509809, 7.8278632382703, 10.098790083116839, 15.200026744891112, 6.934060698210909, 6.9107642838521075, 16.14384024906784, 6.0815444203124205, 6.078786482343463, 6.4948820822111015, 5.913272440933255, 9.822460236699687, 11.01909809779109, 5.6358216911248045, 5.731093201019873, 5.4649533942633255, 5.623835964232084, 5.301607265780563, 5.290043535685824, 7.393953246374495, 12.92789550525769, 8.63129076615261, 169.0120498490536, 12.572751981265869, 19.03846958710355, 26.18762589935436, 16.150382039482388, 69.99439940346818, 46.994865800819845, 76.39648101836244, 51.64990330791178, 78.48856017967019, 27.179071159767073, 94.64902438552862, 176.3125066111168, 21.378839010728488, 22.229588478996142, 298.9975183592992, 78.04895009900011, 171.91322218450904, 96.0664477410878, 17.767036816055263, 37.775730602267735, 46.20323255457274, 31.6124543319723, 52.506469861849475, 43.75839139760298, 68.68360647089342, 87.69186535798542, 75.29212062361793, 13.115134948489697, 15.369595884493082, 8.98087967199016, 8.845257859116327, 8.185903915324744, 9.517767352496458, 7.217361994946072, 6.1392773016854, 5.919872620709452, 8.288874660612096, 5.790046107115125, 17.682885693425458, 5.788592563898512, 5.788592563898512, 6.864862612447983, 5.231659967028984, 5.144897682886829, 14.346346630429585, 7.8458426547960345, 4.672446309859183, 4.6722344576523955, 4.673213109692041, 4.539246375692673, 4.538589021615729, 4.539851923403079, 5.993732447106278, 4.453544710045486, 16.804058892309694, 10.735571725852822, 5.049953553706149, 7.733717342977065, 38.86373506698846, 55.61933319516533, 16.461412843153397, 15.5385705853429, 75.29212062361793, 6.626146418520765, 8.394361493442641, 298.9975183592992, 17.533189293132725, 176.3125066111168, 24.09806533242546, 43.75839139760298, 10.989708621491797, 17.92334147114131, 20.39915815641489, 96.0664477410878, 171.91322218450904, 16.332353310420615, 37.775730602267735, 51.64990330791178, 78.48856017967019, 169.0120498490536, 3.7185749565592805, 3.7185749565592805, 3.761974027283415, 6.461731601711534, 3.7905331120751047, 4.220669950906433, 3.1635558740126712, 3.177018428153451, 3.177018428153451, 3.7858216879063837, 4.886455454249848, 3.1499174444751663, 6.247346616680818, 4.276267966468626, 3.1649445381412518, 4.626026322338753, 4.110454855975819, 9.401057430651816, 2.6899756915119575, 2.60815856440646, 2.60815856440646, 2.60815856440646, 2.60815856440646, 2.60815856440646, 2.60815856440646, 2.60815856440646, 2.60815856440646, 2.7142413587259915, 3.1836168124083355, 2.6203302498250776, 3.5153083332382615, 11.939830387965497, 6.176609507992283, 9.443666845317905, 17.971406408356447, 21.393008670324758, 24.18983625894609, 35.21971590250296, 12.100319499983854, 20.39915815641489, 16.461412843153397, 16.332353310420615, 16.150382039482388, 11.66146849492893, 10.400808863024748, 3.638069317189494, 2.868708712654775, 2.8687127047304672, 2.7227603841993804, 2.7227606290147084, 2.7227618976226933, 2.7227647385050133, 2.8856226663814066, 2.8386158530215875, 2.577301666338945, 2.577301666338945, 2.577301666338945, 2.577301666338945, 2.577301666338945, 2.577301666338945, 3.7511037393420983, 3.464177794685643, 2.89365987556147, 2.9977258105928213, 8.007485204158927, 2.581940516713256, 2.3387229550825253, 6.637682996864768, 4.524013002181802, 3.801334026304345, 8.0489638839106, 4.761453379470436, 2.423357526427477, 4.82225933499779, 31.396595074265356, 7.543777203116732, 9.960313595163727, 7.63359612000891, 51.64990330791178, 46.20323255457274, 96.0664477410878, 16.963561818092437, 14.486863082569016, 169.0120498490536, 21.393008670324758, 69.99439940346818, 26.175187480591536], \"Category\": [\"Default\", \"Default\", \"Default\", \"Default\", \"Default\", \"Default\", \"Default\", \"Default\", \"Default\", \"Default\", \"Default\", \"Default\", \"Default\", \"Default\", \"Default\", \"Default\", \"Default\", \"Default\", \"Default\", \"Default\", \"Default\", \"Default\", \"Default\", \"Default\", \"Default\", \"Default\", \"Default\", \"Default\", \"Default\", \"Default\", \"Topic1\", \"Topic1\", \"Topic1\", \"Topic1\", \"Topic1\", \"Topic1\", \"Topic1\", \"Topic1\", \"Topic1\", \"Topic1\", \"Topic1\", \"Topic1\", \"Topic1\", \"Topic1\", \"Topic1\", \"Topic1\", \"Topic1\", \"Topic1\", \"Topic1\", \"Topic1\", \"Topic1\", \"Topic1\", \"Topic1\", \"Topic1\", \"Topic1\", \"Topic1\", \"Topic1\", \"Topic1\", \"Topic1\", \"Topic1\", \"Topic1\", \"Topic1\", \"Topic1\", \"Topic1\", \"Topic1\", \"Topic1\", \"Topic1\", \"Topic1\", \"Topic1\", \"Topic1\", \"Topic1\", \"Topic1\", \"Topic1\", \"Topic1\", \"Topic1\", \"Topic1\", \"Topic1\", \"Topic1\", \"Topic1\", \"Topic1\", \"Topic2\", \"Topic2\", \"Topic2\", \"Topic2\", \"Topic2\", \"Topic2\", \"Topic2\", \"Topic2\", \"Topic2\", \"Topic2\", \"Topic2\", \"Topic2\", \"Topic2\", \"Topic2\", \"Topic2\", \"Topic2\", \"Topic2\", \"Topic2\", \"Topic2\", \"Topic2\", \"Topic2\", \"Topic2\", \"Topic2\", \"Topic2\", \"Topic2\", \"Topic2\", \"Topic2\", \"Topic2\", \"Topic2\", \"Topic2\", \"Topic2\", \"Topic2\", \"Topic2\", \"Topic2\", \"Topic2\", \"Topic2\", \"Topic2\", \"Topic2\", \"Topic2\", \"Topic2\", \"Topic2\", \"Topic2\", \"Topic2\", \"Topic2\", \"Topic2\", \"Topic2\", \"Topic2\", \"Topic3\", \"Topic3\", \"Topic3\", \"Topic3\", \"Topic3\", \"Topic3\", \"Topic3\", \"Topic3\", \"Topic3\", \"Topic3\", \"Topic3\", \"Topic3\", \"Topic3\", \"Topic3\", \"Topic3\", \"Topic3\", \"Topic3\", \"Topic3\", \"Topic3\", \"Topic3\", \"Topic3\", \"Topic3\", \"Topic3\", \"Topic3\", \"Topic3\", \"Topic3\", \"Topic3\", \"Topic3\", \"Topic3\", \"Topic3\", \"Topic3\", \"Topic3\", \"Topic3\", \"Topic3\", \"Topic3\", \"Topic3\", \"Topic3\", \"Topic3\", \"Topic3\", \"Topic3\", \"Topic3\", \"Topic3\", \"Topic3\", \"Topic3\", \"Topic3\", \"Topic3\", \"Topic3\", \"Topic3\", \"Topic3\", \"Topic3\", \"Topic3\", \"Topic3\", \"Topic3\", \"Topic3\", \"Topic3\", \"Topic3\", \"Topic3\", \"Topic3\", \"Topic3\", \"Topic3\", \"Topic4\", \"Topic4\", \"Topic4\", \"Topic4\", \"Topic4\", \"Topic4\", \"Topic4\", \"Topic4\", \"Topic4\", \"Topic4\", \"Topic4\", \"Topic4\", \"Topic4\", \"Topic4\", \"Topic4\", \"Topic4\", \"Topic4\", \"Topic4\", \"Topic4\", \"Topic4\", \"Topic4\", \"Topic4\", \"Topic4\", \"Topic4\", \"Topic4\", \"Topic4\", \"Topic4\", \"Topic4\", \"Topic4\", \"Topic4\", \"Topic4\", \"Topic4\", \"Topic4\", \"Topic4\", \"Topic4\", \"Topic4\", \"Topic4\", \"Topic4\", \"Topic4\", \"Topic4\", \"Topic4\", \"Topic4\", \"Topic4\", \"Topic4\", \"Topic4\", \"Topic4\", \"Topic4\", \"Topic4\", \"Topic4\", \"Topic4\", \"Topic4\", \"Topic4\", \"Topic4\", \"Topic5\", \"Topic5\", \"Topic5\", \"Topic5\", \"Topic5\", \"Topic5\", \"Topic5\", \"Topic5\", \"Topic5\", \"Topic5\", \"Topic5\", \"Topic5\", \"Topic5\", \"Topic5\", \"Topic5\", \"Topic5\", \"Topic5\", \"Topic5\", \"Topic5\", \"Topic5\", \"Topic5\", \"Topic5\", \"Topic5\", \"Topic5\", \"Topic5\", \"Topic5\", \"Topic5\", \"Topic5\", \"Topic5\", \"Topic5\", \"Topic5\", \"Topic5\", \"Topic5\", \"Topic5\", \"Topic5\", \"Topic5\", \"Topic5\", \"Topic5\", \"Topic5\", \"Topic5\", \"Topic5\", \"Topic5\", \"Topic5\", \"Topic6\", \"Topic6\", \"Topic6\", \"Topic6\", \"Topic6\", \"Topic6\", \"Topic6\", \"Topic6\", \"Topic6\", \"Topic6\", \"Topic6\", \"Topic6\", \"Topic6\", \"Topic6\", \"Topic6\", \"Topic6\", \"Topic6\", \"Topic6\", \"Topic6\", \"Topic6\", \"Topic6\", \"Topic6\", \"Topic6\", \"Topic6\", \"Topic6\", \"Topic6\", \"Topic6\", \"Topic6\", \"Topic6\", \"Topic6\", \"Topic6\", \"Topic6\", \"Topic6\", \"Topic6\", \"Topic6\", \"Topic6\", \"Topic6\", \"Topic6\", \"Topic6\", \"Topic6\", \"Topic6\", \"Topic6\", \"Topic6\", \"Topic6\"], \"logprob\": [30.0, 29.0, 28.0, 27.0, 26.0, 25.0, 24.0, 23.0, 22.0, 21.0, 20.0, 19.0, 18.0, 17.0, 16.0, 15.0, 14.0, 13.0, 12.0, 11.0, 10.0, 9.0, 8.0, 7.0, 6.0, 5.0, 4.0, 3.0, 2.0, 1.0, -5.0093, -5.1998, -5.2698, -5.4576, -4.5143, -5.5964, -5.2449, -5.7454, -5.7068, -5.7586, -5.6149, -5.7021, -5.7996, -5.9713, -5.972, -5.972, -5.6911, -4.3549, -5.4875, -6.1816, -6.1842, -4.0797, -4.3531, -6.1322, -5.7625, -5.5636, -4.2698, -5.7258, -5.479, -5.6213, -4.6326, -5.3116, -5.4127, -3.0458, -4.1854, -4.7183, -3.8659, -4.5042, -3.9948, -4.4439, -4.73, -4.9844, -5.2698, -5.2667, -5.3018, -5.0698, -5.2319, -5.2738, -5.4451, -5.4728, -5.027, -4.8107, -5.3568, -5.1709, -5.5921, -4.592, -5.6737, -5.0073, -5.8178, -3.7057, -5.872, -5.5217, -5.9222, -5.9553, -4.941, -6.1229, -6.1235, -3.9898, -6.132, -6.1393, -6.0468, -5.3993, -3.1178, -6.3062, -6.299, -6.3887, -6.3894, -6.3894, -6.3731, -4.6094, -4.8351, -5.0423, -5.4258, -4.0275, -4.811, -5.9993, -4.0777, -4.6786, -5.4766, -5.4034, -4.018, -4.8645, -4.7803, -5.2106, -5.0753, -5.0429, -5.6143, -4.2892, -4.5124, -5.4608, -5.5263, -5.6116, -4.9762, -5.9362, -5.9362, -5.9362, -5.9362, -5.9545, -6.0537, -5.7994, -5.4139, -6.2019, -6.2186, -5.3984, -6.3813, -6.3841, -6.319, -6.4156, -5.9182, -5.8065, -6.4787, -6.4722, -6.5272, -6.5053, -6.5647, -6.5764, -6.2515, -5.7285, -6.1143, -3.4098, -5.7783, -5.4742, -5.218, -5.6252, -4.4612, -4.7937, -4.4502, -4.77, -4.4856, -5.2813, -4.434, -4.1553, -5.4798, -5.4769, -4.1273, -4.8427, -4.494, -4.8542, -5.6194, -5.3461, -5.3121, -5.439, -5.3378, -5.4101, -5.3508, -5.4465, -5.4719, -4.9724, -4.8672, -5.4208, -5.5077, -5.6066, -5.4727, -5.7652, -5.9272, -5.9641, -5.631, -5.9967, -4.8811, -5.9989, -5.9989, -5.8644, -6.1451, -6.1824, -5.1909, -5.8021, -6.3217, -6.3244, -6.3316, -6.3609, -6.3628, -6.364, -6.0874, -6.3887, -5.0688, -5.567, -6.33, -5.9068, -4.3148, -3.9892, -5.2912, -5.3399, -4.183, -6.0659, -5.8946, -3.3355, -5.4262, -4.3752, -5.3813, -5.0945, -5.7883, -5.6446, -5.6309, -5.2384, -5.141, -5.7119, -5.66, -5.6657, -5.6703, -5.7176, -5.3822, -5.3822, -5.381, -4.9309, -5.4927, -5.3856, -5.7457, -5.7529, -5.7529, -5.5851, -5.3384, -5.7897, -5.1486, -5.5794, -5.8893, -5.547, -5.6918, -4.9857, -6.2647, -6.3223, -6.3223, -6.3223, -6.3223, -6.3223, -6.3223, -6.3223, -6.3223, -6.2854, -6.1335, -6.3339, -6.0689, -5.1365, -5.7386, -5.6084, -5.4385, -5.3623, -5.3716, -5.2699, -5.7513, -5.6091, -5.757, -5.817, -5.8354, -3.6204, -3.7587, -5.3437, -5.9239, -5.9239, -6.0863, -6.0863, -6.0863, -6.0863, -6.0959, -6.1672, -6.2807, -6.2807, -6.2807, -6.2807, -6.2807, -6.2807, -5.9171, -6.0425, -6.2437, -6.2633, -5.3006, -6.5233, -6.7078, -5.6674, -6.0612, -6.2544, -5.5275, -6.0653, -6.8236, -6.2333, -4.7536, -5.8814, -5.9183, -6.0474, -5.5732, -5.6039, -5.6533, -6.0482, -6.0744, -5.8799, -6.0996, -6.0621, -6.1465], \"loglift\": [30.0, 29.0, 28.0, 27.0, 26.0, 25.0, 24.0, 23.0, 22.0, 21.0, 20.0, 19.0, 18.0, 17.0, 16.0, 15.0, 14.0, 13.0, 12.0, 11.0, 10.0, 9.0, 8.0, 7.0, 6.0, 5.0, 4.0, 3.0, 2.0, 1.0, 1.2208, 1.1888, 1.1816, 1.1795, 1.1682, 1.1467, 1.1448, 1.1431, 1.1424, 1.1394, 1.1389, 1.125, 1.1139, 1.1071, 1.1066, 1.1066, 1.1015, 1.0902, 1.0765, 1.0667, 1.0648, 1.0612, 1.0555, 1.0508, 1.0481, 1.0277, 1.0265, 1.0242, 1.0202, 1.0113, 0.9707, 0.9524, 0.9619, 0.5629, 0.5586, 0.6299, 0.271, 0.4836, 0.1844, 0.3151, 0.3307, 0.4747, 0.5858, 0.5513, 0.3756, -0.1237, 0.1327, -0.3007, 0.376, 0.0576, 1.2313, 1.228, 1.2031, 1.2002, 1.1787, 1.1555, 1.1517, 1.1516, 1.1439, 1.1296, 1.1296, 1.1245, 1.1219, 1.1168, 1.099, 1.0936, 1.0932, 1.0897, 1.0837, 1.077, 1.0601, 1.0481, 1.0443, 1.0421, 1.0403, 1.0351, 1.0346, 1.0346, 1.0292, 1.0279, 1.0162, 1.0019, 0.9945, 0.9242, 0.9151, 0.9878, 0.0591, 0.2945, 0.6897, 0.6409, -0.4093, 0.0816, -0.0214, 0.2654, -0.3312, -0.8637, -0.2662, 1.3818, 1.3477, 1.2962, 1.2849, 1.276, 1.2586, 1.225, 1.225, 1.225, 1.225, 1.2093, 1.1977, 1.1973, 1.1739, 1.1708, 1.1574, 1.1292, 1.1226, 1.1202, 1.1191, 1.1163, 1.1062, 1.103, 1.1012, 1.091, 1.0835, 1.0768, 1.0764, 1.0669, 1.057, 1.0212, 1.0394, 0.7693, 0.9993, 0.8885, 0.8258, 0.9019, 0.5995, 0.6653, 0.523, 0.5946, 0.4606, 0.7253, 0.325, -0.0184, 0.7669, 0.7308, -0.5186, 0.1091, -0.3319, -0.1101, 0.8123, 0.3314, 0.164, 0.4166, 0.0103, 0.1203, -0.2712, -0.6113, -0.4842, 1.7629, 1.7095, 1.6932, 1.6215, 1.6001, 1.5832, 1.5674, 1.5672, 1.5667, 1.5632, 1.5563, 1.5554, 1.5543, 1.5543, 1.5182, 1.5093, 1.4886, 1.4547, 1.447, 1.4457, 1.443, 1.4357, 1.4354, 1.4337, 1.4322, 1.431, 1.4267, 1.4187, 1.3685, 1.3597, 1.3567, 1.3342, 1.3013, 1.2169, 1.2259, 0.8047, 1.3522, 1.287, 0.2732, 1.0188, -0.2383, 0.7456, 0.4359, 1.1238, 0.7784, 0.6627, -0.4944, -0.9789, 0.8041, 0.0174, -0.3011, -0.7241, -1.5385, 2.6136, 2.6136, 2.6031, 2.5123, 2.4839, 2.4835, 2.4117, 2.4003, 2.4003, 2.3928, 2.3842, 2.372, 2.3284, 2.2766, 2.2677, 2.2304, 2.2038, 2.0826, 2.0549, 2.0281, 2.0281, 2.0281, 2.0281, 2.0281, 2.0281, 2.0281, 2.0281, 2.0252, 2.0176, 2.0119, 1.983, 1.6927, 1.7498, 1.4554, 0.9818, 0.8837, 0.7515, 0.4776, 1.0646, 0.6845, 0.7511, 0.6989, 0.6917, 3.2324, 3.2086, 2.6739, 2.3313, 2.3313, 2.2212, 2.2212, 2.2212, 2.2212, 2.1534, 2.0986, 2.0817, 2.0817, 2.0817, 2.0817, 2.0817, 2.0817, 2.07, 2.0241, 2.0029, 1.9479, 1.9281, 1.8372, 1.7517, 1.749, 1.7385, 1.7194, 1.6961, 1.6832, 1.6004, 1.5026, 1.1088, 1.4069, 1.0922, 1.2291, -0.2085, -0.1278, -0.9093, 0.4299, 0.5615, -1.7008, 0.1464, -1.0015, -0.1022]}, \"token.table\": {\"Topic\": [1, 4, 4, 6, 4, 2, 3, 1, 3, 4, 6, 4, 5, 3, 2, 3, 2, 2, 3, 1, 2, 3, 4, 5, 3, 2, 3, 4, 6, 1, 2, 3, 4, 6, 5, 1, 1, 2, 3, 4, 3, 3, 6, 2, 3, 1, 2, 3, 4, 6, 6, 1, 2, 4, 6, 1, 2, 3, 4, 1, 2, 3, 4, 2, 1, 4, 2, 3, 1, 2, 3, 1, 4, 2, 4, 4, 1, 2, 3, 4, 1, 2, 3, 5, 1, 2, 3, 4, 1, 2, 3, 4, 1, 2, 3, 4, 5, 3, 5, 3, 3, 5, 2, 3, 3, 2, 3, 2, 3, 1, 3, 6, 1, 3, 4, 1, 2, 2, 3, 5, 1, 2, 5, 3, 3, 2, 3, 4, 5, 1, 1, 3, 4, 1, 3, 4, 1, 2, 3, 4, 5, 1, 2, 3, 4, 6, 4, 3, 1, 2, 3, 4, 3, 4, 6, 1, 2, 3, 4, 1, 2, 3, 4, 3, 4, 1, 2, 3, 4, 1, 2, 3, 5, 1, 2, 3, 4, 6, 2, 3, 4, 5, 1, 2, 3, 4, 6, 6, 6, 5, 3, 6, 1, 2, 3, 4, 6, 1, 5, 2, 3, 4, 1, 2, 3, 6, 5, 1, 1, 3, 5, 1, 3, 6, 1, 6, 2, 3, 1, 6, 2, 5, 1, 2, 3, 4, 5, 3, 4, 1, 2, 3, 4, 5, 1, 3, 6, 1, 2, 3, 1, 2, 3, 4, 3, 6, 1, 2, 3, 4, 5, 1, 3, 2, 3, 2, 3, 4, 1, 4, 6, 3, 1, 2, 3, 4, 3, 1, 3, 4, 1, 2, 3, 4, 5, 1, 2, 3, 4, 4, 6, 1, 2, 3, 4, 6, 1, 2, 3, 1, 3, 4, 1, 1, 2, 3, 6, 6, 2, 6, 6, 2, 1, 3, 5, 2, 3, 1, 2, 3, 4, 2, 3, 2, 3, 4, 1, 2, 3, 4, 1, 2, 3, 5, 1, 2, 3, 4, 3, 1, 2, 3, 1, 2, 4, 4, 4, 4, 2, 3, 3, 2, 3, 4, 1, 2, 3, 4, 2, 2, 5, 1, 3, 4, 1, 2, 5, 1, 2, 3, 1, 3, 4, 4, 4, 6, 1, 2, 3, 4, 6, 1, 2, 4, 3, 2, 3, 1, 2, 3, 4, 6, 1, 2, 3, 5, 5, 1, 2, 3, 4, 2, 3, 2, 3, 4, 1, 3, 1, 5, 1, 5, 5, 1, 2, 3, 1, 2, 3, 4, 1, 2, 3, 4, 1, 2, 3, 5, 1, 2, 3, 4, 5, 6, 1, 3, 4, 1, 2, 3, 4, 1, 2, 3, 4, 5, 2, 3, 6, 2, 3, 1, 2, 3, 4, 1, 2, 3, 4, 5, 1, 2, 3, 4, 1, 3, 4, 1, 2, 3, 4, 1, 2, 3, 4, 1, 1, 3, 4, 4, 4, 2, 1, 4, 3, 1, 3, 1, 2, 3, 4, 1, 2, 3, 4, 5, 1, 3, 4, 6, 1, 2, 3, 4, 5, 1, 3, 4, 1, 2, 3, 2, 3, 4, 5, 1, 2, 3, 4, 6, 2, 3, 2, 3, 4, 1, 2, 3, 4, 2, 3, 1, 2, 3, 2, 4, 5, 1, 2, 3, 6, 6, 5, 1, 2, 3, 4, 2, 3, 5, 3, 4, 6, 6, 6, 1, 2, 3, 4, 5, 6, 1, 2, 3, 5, 5, 5, 3, 6, 3, 1, 2, 3, 1, 2, 3, 1, 2, 3, 4, 1, 2, 3, 5, 2, 3, 5, 5, 2, 3, 4, 5, 2, 3, 1, 2, 3, 4, 1, 2, 3, 4, 4, 1, 2, 3, 1, 2, 1, 2, 3, 5, 5, 1, 2, 3, 4, 6, 3], \"Freq\": [0.773747008114113, 0.15474940162282258, 0.34558311723003227, 0.34558311723003227, 0.6756902143479956, 0.8542569812232578, 0.10678212265290722, 0.45196494038914103, 0.15065498012971368, 0.15065498012971368, 0.15065498012971368, 0.660814504661464, 0.3834122716490477, 0.6979471210288785, 0.697436166243938, 0.1394872332487876, 0.8690315159259125, 0.15396738344779348, 0.7698369172389674, 0.7567924318323738, 0.06879931198476125, 0.06879931198476125, 0.06879931198476125, 0.06879931198476125, 0.6580260733977845, 0.2262074227786933, 0.056551855694673324, 0.7351741240307532, 0.5497421367290092, 0.4015937813385933, 0.10039844533464833, 0.10039844533464833, 0.4015937813385933, 0.10039844533464833, 0.38163128486066056, 0.8971895325249006, 0.14717206399316407, 0.29434412798632814, 0.47830920797778326, 0.03679301599829102, 0.7561374444305821, 0.4200398157048506, 0.2100199078524253, 0.800773326067375, 0.18927369525228863, 0.789027335139913, 0.04046294026358528, 0.12138882079075584, 0.06069441039537792, 0.38800269796143, 0.36727374416824177, 0.1242395933716314, 0.2484791867432628, 0.37271878011489423, 0.1242395933716314, 0.8184361720478361, 0.02098554287302144, 0.12591325723812863, 0.02098554287302144, 0.7128627318927968, 0.02458147351354472, 0.19665178810835776, 0.07374442054063415, 0.7403273932094745, 0.8984967798825909, 0.6420619523588306, 0.7037380350934883, 0.14074760701869768, 0.03177749722668867, 0.03177749722668867, 0.9215474195739713, 0.1385547795302835, 0.6927738976514175, 0.6865792960991877, 0.19616551317119646, 0.7794336697140941, 0.3697872241919414, 0.26413373156567244, 0.3275258271414338, 0.03169604778788069, 0.7640667248999526, 0.26381513376427307, 0.26381513376427307, 0.5276302675285461, 0.4382928748277071, 0.06640801133753138, 0.14609762494256903, 0.3320400566876569, 0.011403566293380686, 0.8324603394167901, 0.12543922922718756, 0.03421069888014206, 0.34315141567735336, 0.09804326162210096, 0.19608652324420192, 0.29412978486630287, 0.04902163081105048, 0.3684270732907037, 0.3684270732907037, 0.731936708590943, 0.6577276631639751, 0.3834122716490477, 0.7988482126115183, 0.15216156430695585, 0.9049060996310179, 0.830654616736895, 0.10383182709211188, 0.7399995888987057, 0.12333326481645093, 0.35228437089701375, 0.35228437089701375, 0.35228437089701375, 0.691022092929381, 0.15946663682985715, 0.10631109121990477, 0.8452867183283765, 0.0768442471207615, 0.28447006783009887, 0.28447006783009887, 0.28447006783009887, 0.9201119121809039, 0.6700262683851383, 0.1675065670962846, 0.8171307670925616, 0.8171307670925616, 0.1547042207439419, 0.6961689933477386, 0.07735211037197096, 0.07735211037197096, 0.8597419968233605, 0.9163874095491167, 0.05390514173818333, 0.05390514173818333, 0.13524564825864077, 0.6762282412932039, 0.13524564825864077, 0.33071741017020617, 0.4133967627127577, 0.04133967627127577, 0.20669838135637886, 0.08267935254255154, 0.325420584207582, 0.11241801999898289, 0.5206729347321313, 0.02958368947341655, 0.00591673789468331, 0.6609983820328384, 0.8878763447303801, 0.10506665722793755, 0.10506665722793755, 0.10506665722793755, 0.7354666005955628, 0.22104268920485606, 0.4420853784097121, 0.22104268920485606, 0.044985088272995265, 0.3598807061839621, 0.4948359710029479, 0.08997017654599053, 0.39708034128927017, 0.10588809101047204, 0.34413629578403415, 0.15883213651570807, 0.19436732499583836, 0.583101974987515, 0.44685732456403027, 0.021278920217334775, 0.46813624478136506, 0.06383676065200433, 0.23861124473545445, 0.07953708157848481, 0.6362966526278785, 0.3834122716490477, 0.3857451486134499, 0.1285817162044833, 0.4428925780376647, 0.042860572068161094, 0.014286857356053699, 0.2369292106778545, 0.2369292106778545, 0.2369292106778545, 0.473858421355709, 0.28136559459654925, 0.34629611642652214, 0.28136559459654925, 0.0649305218299729, 0.021643507276657634, 0.38800269796143, 0.38800269796143, 0.31746863771111256, 0.2665882016303257, 0.2665882016303257, 0.2420734939780601, 0.2930363348155465, 0.38222130628114753, 0.07644426125622951, 0.012740710209371585, 0.8597419968233605, 0.537840442471693, 0.12388626058880148, 0.7433175635328089, 0.06194313029440074, 0.20737167591598601, 0.41474335183197203, 0.20737167591598601, 0.20737167591598601, 0.5316357809743396, 0.4126506258753342, 0.7708743427275101, 0.12847905712125168, 0.3834122716490477, 0.3465456560382539, 0.3465456560382539, 0.3465456560382539, 0.38730559187047975, 0.38730559187047975, 0.026302356708185946, 0.9468848414946941, 0.6627979413196663, 0.13255958826393327, 0.4857033613859062, 0.16190112046196872, 0.06122816357162473, 0.48982530857299783, 0.06122816357162473, 0.30614081785812364, 0.06122816357162473, 0.7097456625178776, 0.691014258793518, 0.028393187576193166, 0.8517956272857949, 0.028393187576193166, 0.028393187576193166, 0.05678637515238633, 0.5894988391727102, 0.2947494195863551, 0.05894988391727102, 0.7921889456654625, 0.06601574547212187, 0.13203149094424374, 0.03818597393453121, 0.30548779147624966, 0.534603635083437, 0.07637194786906241, 0.33358621274380096, 0.33358621274380096, 0.04149710718289228, 0.2074855359144614, 0.4149710718289228, 0.33197685746313826, 0.04149710718289228, 0.7398786556885232, 0.16441747904189402, 0.8957186524244392, 0.0639799037446028, 0.15091728085043465, 0.15091728085043465, 0.6036691234017386, 0.2794448285204562, 0.5588896570409124, 0.3672742984982386, 0.8571019524498694, 0.28142002809842365, 0.05628400561968473, 0.5628400561968473, 0.11256801123936946, 0.72107819899674, 0.7826835573213811, 0.06020642748626009, 0.12041285497252018, 0.12149625424356188, 0.18224438136534282, 0.12149625424356188, 0.4859850169742475, 0.06074812712178094, 0.36397689308863773, 0.09099422327215943, 0.09099422327215943, 0.4549711163607971, 0.6515424867519651, 0.38800269796143, 0.3097779274554635, 0.11616672279579882, 0.4259446502512623, 0.11616672279579882, 0.01936112046596647, 0.48747223362489334, 0.182802087609335, 0.3351371606171142, 0.25860784811539383, 0.12930392405769692, 0.5172156962307877, 0.7646962425474971, 0.2886687864387587, 0.2886687864387587, 0.2886687864387587, 0.2886687864387587, 0.34858889492289197, 0.7402216376910163, 0.3485884098296124, 0.3672741273752667, 0.7590487681773174, 0.314108154003472, 0.314108154003472, 0.314108154003472, 0.8343066302626502, 0.08343066302626502, 0.8780580534914582, 0.07982345940831437, 0.026607819802771458, 0.026607819802771458, 0.7960882943747329, 0.09951103679684162, 0.2549120710160346, 0.1274560355080173, 0.6372801775400865, 0.5061296358700587, 0.031633102241878666, 0.379597226902544, 0.12653240896751466, 0.061918039929664076, 0.2476721597186563, 0.6191803992966407, 0.061918039929664076, 0.47826483906852973, 0.17725899629812641, 0.1438139026569705, 0.19732605248281998, 0.7235089773909877, 0.25895252059549173, 0.5179050411909835, 0.17263501373032783, 0.8595897515249507, 0.145669339133854, 0.7283466956692699, 0.7645756844307232, 0.6419566002196926, 0.8387256435563196, 0.8990654862054823, 0.047319236116078016, 0.7544881767870965, 0.12216121888847371, 0.12216121888847371, 0.7329673133308423, 0.3972842115433054, 0.2750429156838268, 0.24448259171895717, 0.06112064792973929, 0.742801912951509, 0.23384876902974056, 0.23384876902974056, 0.835791545698899, 0.0835791545698899, 0.0835791545698899, 0.8887076886288797, 0.30951455790430155, 0.46427183685645235, 0.21010092127938457, 0.15757569095953844, 0.5777775335183075, 0.8634449473268655, 0.053965309207929094, 0.053965309207929094, 0.691014258793518, 0.5261310861293604, 0.2630655430646802, 0.2674288390557043, 0.49665355824630797, 0.15281647946040247, 0.03820411986510062, 0.03820411986510062, 0.16684094741045563, 0.16684094741045563, 0.6673637896418225, 0.8171307670925616, 0.20361497545466198, 0.7126524140913169, 0.19634412213822575, 0.36650902799135476, 0.4057778524189999, 0.026179216285096767, 0.013089608142548384, 0.31767321413793587, 0.10589107137931195, 0.4235642855172478, 0.10589107137931195, 0.3834122716490477, 0.0907515289477695, 0.0907515289477695, 0.726012231582156, 0.0907515289477695, 0.7559824540134198, 0.22049488242058077, 0.19802162324168357, 0.19802162324168357, 0.5940648697250507, 0.0990217631785218, 0.7921741054281743, 0.8544392761144428, 0.3147605286574371, 0.32013591092574745, 0.32013591092574745, 0.3159613029387531, 0.05297305817199136, 0.9005419889238532, 0.05297305817199136, 0.918414365753207, 0.05740089785957544, 0.05740089785957544, 0.6609026590988268, 0.1394083142922159, 0.1394083142922159, 0.06970415714610795, 0.6273374143149715, 0.055643947795594575, 0.7233713213427295, 0.11128789559118915, 0.11128789559118915, 0.46744243196944374, 0.23372121598472187, 0.1402327295908331, 0.04674424319694437, 0.09348848639388874, 0.04674424319694437, 0.23825516706211958, 0.11912758353105979, 0.5956379176552989, 0.025430783919436945, 0.7629235175831084, 0.17801548743605863, 0.025430783919436945, 0.2970858750697157, 0.18282207696597888, 0.27423311544896833, 0.22852759620747362, 0.02285275962074736, 0.8369697377555835, 0.06974747814629861, 0.06974747814629861, 0.231715053308475, 0.695145159925425, 0.057034689084870194, 0.39924282359409136, 0.11406937816974039, 0.39924282359409136, 0.09355044953546567, 0.280651348606397, 0.5145274724450611, 0.04677522476773283, 0.04677522476773283, 0.012812472156660197, 0.6790610243029904, 0.2690619152898641, 0.025624944313320394, 0.11305492908489427, 0.11305492908489427, 0.7913845035942598, 0.7594969492873738, 0.09041630348659212, 0.054249782091955266, 0.09041630348659212, 0.21575231687680663, 0.1258555181781372, 0.08989679869866943, 0.5573601519317505, 0.8200185808213378, 0.12064363872600221, 0.12064363872600221, 0.7238618323560133, 0.6420910652474782, 0.6908407853755398, 0.7589160241707491, 0.3861359040103491, 0.5148478720137988, 0.7112582986844259, 0.11703376869977627, 0.8192363808984339, 0.2573092880229666, 0.05146185760459331, 0.10292371520918663, 0.5660804336505264, 0.08264244592891405, 0.49585467557348434, 0.24792733778674217, 0.08264244592891405, 0.08264244592891405, 0.2761122250691323, 0.3451402813364154, 0.2761122250691323, 0.06902805626728307, 0.5021385110857292, 0.11158633579682871, 0.055793167898414354, 0.33475900739048614, 0.537840442471693, 0.059509432001434236, 0.23803772800573694, 0.5950943200143424, 0.1105604296609885, 0.7739230076269196, 0.1105604296609885, 0.31911303830764887, 0.21274202553843258, 0.10637101276921629, 0.31911303830764887, 0.26199971396936644, 0.26199971396936644, 0.13099985698468322, 0.13099985698468322, 0.13099985698468322, 0.7395993910519768, 0.12326656517532947, 0.09244681562512021, 0.8320213406260819, 0.046223407812560104, 0.005816888237524462, 0.7620123591157045, 0.17450664712573385, 0.05816888237524462, 0.860530211680287, 0.09561446796447633, 0.037989105658806005, 0.911738535811344, 0.037989105658806005, 0.7590487681773174, 0.2432820782707759, 0.2432820782707759, 0.2548047003529153, 0.3185058754411441, 0.2866552878970297, 0.09555176263234323, 0.8653173150787652, 0.37175057126182764, 0.2779238265180066, 0.6670171836432158, 0.02779238265180066, 0.02779238265180066, 0.26414344954345037, 0.26414344954345037, 0.26414344954345037, 0.12488315301296093, 0.49953261205184374, 0.24976630602592187, 0.38800269796143, 0.38800269796143, 0.47883523417016816, 0.19777977063550425, 0.21859869386029418, 0.09368515451155464, 0.010409461612394961, 0.010409461612394961, 0.11460540086188482, 0.7258342054586039, 0.11460540086188482, 0.3160999962777944, 0.3834122716490477, 0.3834122716490477, 0.7664926963294523, 0.8575249338750578, 0.6764443952067773, 0.8074195432167728, 0.08074195432167727, 0.08074195432167727, 0.11433533516429235, 0.7431796785679002, 0.05716766758214618, 0.35732008585729985, 0.28358736972801574, 0.23821339057153323, 0.11910669528576662, 0.789495993057782, 0.07740156794684136, 0.1083621951255779, 0.015480313589368274, 0.21616824685390804, 0.21616824685390804, 0.43233649370781607, 0.3834122716490477, 0.8569157848155654, 0.042845789240778274, 0.042845789240778274, 0.042845789240778274, 0.1315787158514192, 0.7894722951085152, 0.7138379200487743, 0.09517838933983658, 0.09517838933983658, 0.09517838933983658, 0.06506351939994302, 0.06506351939994302, 0.06506351939994302, 0.8458257521992593, 0.6736207213173705, 0.8351234299930859, 0.11930334714186941, 0.11930334714186941, 0.8543460129680297, 0.07766781936072997, 0.2046473173372081, 0.2046473173372081, 0.2046473173372081, 0.4092946346744162, 0.3147605286574371, 0.514222343856673, 0.20949799194160754, 0.24758853593099073, 0.03809054398938319, 0.36727433152148165, 0.8171307670925616], \"Term\": [\"able\", \"able\", \"accept\", \"accept\", \"accepting_connection\", \"amount\", \"amount\", \"answer\", \"answer\", \"answer\", \"answer\", \"backup\", \"baicmr\", \"bar\", \"break\", \"break\", \"break_case\", \"bulk\", \"bulk\", \"call\", \"call\", \"call\", \"call\", \"call\", \"cancel\", \"case\", \"case\", \"case\", \"cctyqopc\", \"client\", \"client\", \"client\", \"client\", \"client\", \"clone\", \"cluster\", \"code\", \"code\", \"code\", \"code\", \"col\", \"collect\", \"collect\", \"column\", \"column\", \"command\", \"command\", \"command\", \"command\", \"community\", \"compilation\", \"compile\", \"compile\", \"compile\", \"compile\", \"connect\", \"connect\", \"connect\", \"connect\", \"connection\", \"connection\", \"connection\", \"connection\", \"contactid\", \"container\", \"control\", \"convert\", \"convert\", \"copy\", \"copy\", \"copy\", \"copyright\", \"copyright\", \"core\", \"core\", \"crash\", \"create\", \"create\", \"create\", \"create\", \"credential\", \"d\", \"d\", \"d\", \"database\", \"database\", \"database\", \"database\", \"datum\", \"datum\", \"datum\", \"datum\", \"db\", \"db\", \"db\", \"db\", \"db\", \"dbn\", \"dbn\", \"debug\", \"default_null\", \"defer\", \"delete\", \"delete\", \"delimiter\", \"destination\", \"destination\", \"dflowworker\", \"dflowworker\", \"direction\", \"direction\", \"direction\", \"directory\", \"directory\", \"directory\", \"discover\", \"discover\", \"do\", \"do\", \"do\", \"docker\", \"email\", \"email\", \"emit\", \"enable\", \"end\", \"end\", \"end\", \"end\", \"enotfound\", \"enter\", \"enter\", \"enter\", \"environment\", \"environment\", \"environment\", \"err\", \"err\", \"err\", \"err\", \"err\", \"error\", \"error\", \"error\", \"error\", \"error\", \"especially\", \"exception\", \"exist\", \"exist\", \"exist\", \"exist\", \"exit\", \"exit\", \"exit\", \"expect\", \"expect\", \"expect\", \"expect\", \"fail\", \"fail\", \"fail\", \"fail\", \"false\", \"false\", \"file\", \"file\", \"file\", \"file\", \"fine\", \"fine\", \"fine\", \"fmt\", \"follow\", \"follow\", \"follow\", \"follow\", \"follow\", \"format\", \"format\", \"format\", \"format\", \"function\", \"function\", \"function\", \"function\", \"function\", \"functionmain\", \"functionupdate\", \"gap\", \"gcc\", \"gcc\", \"get\", \"get\", \"get\", \"get\", \"get\", \"getaddrinfo\", \"geterr\", \"go\", \"go\", \"go\", \"great\", \"great\", \"great\", \"great\", \"groupid\", \"hat\", \"host\", \"host\", \"i\", \"icc\", \"icc\", \"icc\", \"ignore\", \"ignore\", \"import\", \"import\", \"include\", \"include\", \"incorrect\", \"incorrect\", \"index\", \"index\", \"index\", \"index\", \"index\", \"industry\", \"insensitive\", \"insert\", \"insert\", \"insert\", \"insert\", \"insert\", \"instal\", \"instal\", \"instal\", \"install\", \"install\", \"install\", \"int\", \"int\", \"int\", \"int\", \"interface\", \"interface\", \"issue\", \"issue\", \"issue\", \"issue\", \"issue\", \"java\", \"java\", \"join\", \"join\", \"list\", \"list\", \"list\", \"listen\", \"listen\", \"lmapi\", \"lo_libbat_la\", \"load\", \"load\", \"load\", \"load\", \"loader\", \"localhost\", \"localhost\", \"localhost\", \"log\", \"log\", \"log\", \"log\", \"log\", \"look\", \"look\", \"look\", \"look\", \"lose\", \"lt\", \"m\", \"m\", \"m\", \"m\", \"m\", \"make\", \"make\", \"make\", \"manage\", \"manage\", \"manage\", \"management\", \"mapi_connect\", \"mapi_connect\", \"mapi_connect\", \"mapi_connect\", \"mapi_destroy\", \"mapi_double\", \"mapi_error\", \"mapi_explain\", \"marketing_sent\", \"master\", \"master\", \"master\", \"match_alway\", \"match_alway\", \"mclient\", \"mclient\", \"mclient\", \"mclient\", \"mdb\", \"mdb\", \"merovingian\", \"merovingian\", \"merovingian\", \"message\", \"message\", \"message\", \"message\", \"monet\", \"monet\", \"monet\", \"monet\", \"monetdb\", \"monetdb\", \"monetdb\", \"monetdb\", \"monetdbe\", \"monetdblite\", \"monetdblite\", \"monetdblite\", \"monetdbtest\", \"month\", \"month\", \"mserver\", \"mserver_dbpath\", \"msg_merovingian\", \"mtcar\", \"mtcar\", \"myloader\", \"mytable\", \"mytable\", \"mytable\", \"new\", \"new\", \"new\", \"new\", \"next\", \"nil\", \"nil\", \"odbc\", \"odbc\", \"odbc\", \"org_apache\", \"panic\", \"panic\", \"path\", \"path\", \"path\", \"port\", \"port\", \"port\", \"preserve\", \"previously\", \"previously\", \"problem\", \"problem\", \"problem\", \"problem\", \"problem\", \"procedure\", \"procedure\", \"procedure\", \"pymonetdb\", \"python\", \"python\", \"query\", \"query\", \"query\", \"query\", \"query\", \"quot\", \"quot\", \"quot\", \"quot\", \"range\", \"read\", \"read\", \"read\", \"read\", \"record\", \"record\", \"reference\", \"reference\", \"reference\", \"region\", \"region\", \"remote\", \"replica\", \"replicate\", \"replicate\", \"replication\", \"report\", \"report\", \"report\", \"require\", \"require\", \"require\", \"research\", \"restart\", \"restart\", \"restart\", \"restart\", \"result\", \"result\", \"result\", \"result\", \"return\", \"return\", \"return\", \"return\", \"return\", \"return\", \"root\", \"root\", \"root\", \"row\", \"row\", \"row\", \"row\", \"run\", \"run\", \"run\", \"run\", \"run\", \"sample\", \"sample\", \"sample\", \"script\", \"script\", \"see\", \"see\", \"see\", \"see\", \"seem\", \"seem\", \"seem\", \"seem\", \"seem\", \"select\", \"select\", \"select\", \"select\", \"serve\", \"serve\", \"serve\", \"server\", \"server\", \"server\", \"server\", \"set\", \"set\", \"set\", \"set\", \"setup\", \"share\", \"share\", \"share\", \"shut\", \"shutdown\", \"size_t\", \"socket\", \"socket\", \"sqlstate_errorcode\", \"sqoop\", \"sqoop\", \"start\", \"start\", \"start\", \"start\", \"statement\", \"statement\", \"statement\", \"statement\", \"statement\", \"status\", \"status\", \"status\", \"status\", \"still\", \"still\", \"still\", \"still\", \"stmt\", \"stop\", \"stop\", \"stop\", \"storage\", \"storage\", \"storage\", \"support\", \"support\", \"support\", \"support\", \"sure\", \"sure\", \"sure\", \"sure\", \"sure\", \"sync\", \"sync\", \"syntax\", \"syntax\", \"syntax\", \"table\", \"table\", \"table\", \"table\", \"table_name\", \"table_name\", \"take\", \"take\", \"take\", \"templateid\", \"tenant\", \"tenant\", \"test\", \"test\", \"test\", \"test\", \"test_text\", \"threshold\", \"time\", \"time\", \"time\", \"time\", \"timestamp\", \"timestamp\", \"timestamp\", \"tmp\", \"tmp\", \"tmp\", \"tomapi_destroy\", \"tomapi_error\", \"try\", \"try\", \"try\", \"try\", \"try\", \"try\", \"type\", \"type\", \"type\", \"u_email\", \"u_password_hash\", \"u_phone\", \"undefined\", \"undefined_reference\", \"unexpected_ident\", \"unknown\", \"unknown\", \"unknown\", \"update\", \"update\", \"update\", \"use\", \"use\", \"use\", \"use\", \"user\", \"user\", \"user\", \"user\", \"userid\", \"userid\", \"userid\", \"userresponse\", \"value\", \"value\", \"value\", \"value\", \"varchar\", \"varchar\", \"version\", \"version\", \"version\", \"version\", \"voc\", \"voc\", \"voc\", \"voc\", \"volumes_transcend\", \"warn\", \"warn\", \"warn\", \"warning\", \"warning\", \"web\", \"web\", \"web\", \"web\", \"wlr\", \"work\", \"work\", \"work\", \"work\", \"xf\", \"yum_install\"]}, \"R\": 30, \"lambda.step\": 0.01, \"plot.opts\": {\"xlab\": \"PC1\", \"ylab\": \"PC2\"}, \"topic.order\": [4, 5, 1, 6, 3, 2]};\n",
       "\n",
       "function LDAvis_load_lib(url, callback){\n",
       "  var s = document.createElement('script');\n",
       "  s.src = url;\n",
       "  s.async = true;\n",
       "  s.onreadystatechange = s.onload = callback;\n",
       "  s.onerror = function(){console.warn(\"failed to load library \" + url);};\n",
       "  document.getElementsByTagName(\"head\")[0].appendChild(s);\n",
       "}\n",
       "\n",
       "if(typeof(LDAvis) !== \"undefined\"){\n",
       "   // already loaded: just create the visualization\n",
       "   !function(LDAvis){\n",
       "       new LDAvis(\"#\" + \"ldavis_el3799121399831422771201010491159\", ldavis_el3799121399831422771201010491159_data);\n",
       "   }(LDAvis);\n",
       "}else if(typeof define === \"function\" && define.amd){\n",
       "   // require.js is available: use it to load d3/LDAvis\n",
       "   require.config({paths: {d3: \"https://d3js.org/d3.v5\"}});\n",
       "   require([\"d3\"], function(d3){\n",
       "      window.d3 = d3;\n",
       "      LDAvis_load_lib(\"https://cdn.jsdelivr.net/gh/bmabey/pyLDAvis@3.4.0/pyLDAvis/js/ldavis.v3.0.0.js\", function(){\n",
       "        new LDAvis(\"#\" + \"ldavis_el3799121399831422771201010491159\", ldavis_el3799121399831422771201010491159_data);\n",
       "      });\n",
       "    });\n",
       "}else{\n",
       "    // require.js not available: dynamically load d3 & LDAvis\n",
       "    LDAvis_load_lib(\"https://d3js.org/d3.v5.js\", function(){\n",
       "         LDAvis_load_lib(\"https://cdn.jsdelivr.net/gh/bmabey/pyLDAvis@3.4.0/pyLDAvis/js/ldavis.v3.0.0.js\", function(){\n",
       "                 new LDAvis(\"#\" + \"ldavis_el3799121399831422771201010491159\", ldavis_el3799121399831422771201010491159_data);\n",
       "            })\n",
       "         });\n",
       "}\n",
       "</script>"
      ],
      "text/plain": [
       "PreparedData(topic_coordinates=              x         y  topics  cluster       Freq\n",
       "topic                                                \n",
       "3     -0.122774  0.033878       1        1  27.298462\n",
       "4      0.023657 -0.121842       2        1  26.864603\n",
       "0     -0.035136 -0.042067       3        1  23.990025\n",
       "5     -0.001657  0.046091       4        1  14.956261\n",
       "2      0.074193  0.036837       5        1   3.585086\n",
       "1      0.061717  0.047103       6        1   3.305562, topic_info=        Term        Freq       Total Category  logprob  loglift\n",
       "26     table  171.000000  171.000000  Default  30.0000  30.0000\n",
       "192    datum   87.000000   87.000000  Default  29.0000  29.0000\n",
       "15   monetdb  298.000000  298.000000  Default  28.0000  28.0000\n",
       "34    column   68.000000   68.000000  Default  27.0000  27.0000\n",
       "402   import   38.000000   38.000000  Default  26.0000  26.0000\n",
       "..       ...         ...         ...      ...      ...      ...\n",
       "616   status    0.839590   14.486863   Topic6  -6.0744   0.5615\n",
       "84     error    1.019791  169.012050   Topic6  -5.8799  -1.7008\n",
       "296   return    0.818677   21.393009   Topic6  -6.0996   0.1464\n",
       "85    follow    0.849922   69.994399   Topic6  -6.0621  -1.0015\n",
       "105  problem    0.781182   26.175187   Topic6  -6.1465  -0.1022\n",
       "\n",
       "[327 rows x 6 columns], token_table=      Topic      Freq                  Term\n",
       "term                                       \n",
       "187       1  0.773747                  able\n",
       "187       4  0.154749                  able\n",
       "507       4  0.345583                accept\n",
       "507       6  0.345583                accept\n",
       "1555      4  0.675690  accepting_connection\n",
       "...     ...       ...                   ...\n",
       "168       2  0.209498                  work\n",
       "168       3  0.247589                  work\n",
       "168       4  0.038091                  work\n",
       "1281      6  0.367274                    xf\n",
       "1715      3  0.817131           yum_install\n",
       "\n",
       "[609 rows x 3 columns], R=30, lambda_step=0.01, plot_opts={'xlab': 'PC1', 'ylab': 'PC2'}, topic_order=[4, 5, 1, 6, 3, 2])"
      ]
     },
     "execution_count": 10,
     "metadata": {},
     "output_type": "execute_result"
    }
   ],
   "source": [
    "# Build LDA model\n",
    "lda_model = gensim.models.ldamodel.LdaModel(corpus=corpus,\n",
    "                                           id2word=id2word,\n",
    "                                           num_topics=6, \n",
    "                                           random_state=100,\n",
    "                                           chunksize=100,\n",
    "                                           passes=10,\n",
    "                                           alpha=0.91,\n",
    "                                           eta=0.61)\n",
    "\n",
    "# Compute Perplexity\n",
    "print('\\nPerplexity: ', lda_model.log_perplexity(corpus))  # a measure of how good the model is. lower the better.\n",
    "# Compute Coherence Score\n",
    "coherence_model_lda = CoherenceModel(model=lda_model, texts=data_lemmatized, dictionary=id2word, coherence='c_v')\n",
    "coherence_lda = coherence_model_lda.get_coherence()\n",
    "print('\\nCoherence Score: ', coherence_lda)\n",
    "\n",
    "# Visualize the topics\n",
    "pyLDAvis.enable_notebook()\n",
    "vis = pyLDAvis.gensim.prepare(lda_model, corpus, id2word)\n",
    "vis"
   ]
  },
  {
   "cell_type": "code",
   "execution_count": 11,
   "id": "392209b0-cdfe-4134-8a90-7ebd77bb2098",
   "metadata": {},
   "outputs": [
    {
     "name": "stdout",
     "output_type": "stream",
     "text": [
      "[(0,\n",
      "  '0.033*\"error\" + 0.016*\"monetdb\" + 0.016*\"use\" + 0.014*\"import\" + '\n",
      "  '0.012*\"create\" + 0.012*\"query\" + 0.012*\"follow\" + 0.011*\"get\" + '\n",
      "  '0.011*\"table\" + 0.011*\"copy\"'),\n",
      " (1,\n",
      "  '0.027*\"undefined_reference\" + 0.023*\"test_text\" + 0.009*\"test\" + '\n",
      "  '0.005*\"tmp\" + 0.005*\"cctyqopc\" + 0.004*\"compile\" + 0.004*\"m\" + '\n",
      "  '0.004*\"function\" + 0.004*\"try\" + 0.003*\"answer\"'),\n",
      " (2,\n",
      "  '0.007*\"panic\" + 0.007*\"support\" + 0.006*\"email\" + 0.006*\"replicate\" + '\n",
      "  '0.005*\"insert\" + 0.005*\"web\" + 0.005*\"return\" + 0.005*\"err\" + '\n",
      "  '0.005*\"groupid\" + 0.005*\"stmt\"'),\n",
      " (3,\n",
      "  '0.048*\"monetdb\" + 0.021*\"use\" + 0.018*\"error\" + 0.017*\"user\" + 0.015*\"try\" '\n",
      "  '+ 0.014*\"server\" + 0.013*\"command\" + 0.013*\"connect\" + 0.012*\"create\" + '\n",
      "  '0.011*\"database\"'),\n",
      " (4,\n",
      "  '0.044*\"table\" + 0.025*\"datum\" + 0.019*\"column\" + 0.018*\"monetdb\" + '\n",
      "  '0.018*\"select\" + 0.017*\"use\" + 0.010*\"insert\" + 0.010*\"row\" + 0.009*\"query\" '\n",
      "  '+ 0.008*\"create\"'),\n",
      " (5,\n",
      "  '0.036*\"monetdb\" + 0.019*\"set\" + 0.015*\"database\" + 0.013*\"start\" + '\n",
      "  '0.013*\"use\" + 0.008*\"voc\" + 0.008*\"case\" + 0.007*\"msg_merovingian\" + '\n",
      "  '0.006*\"stop\" + 0.006*\"run\"')]\n",
      "<gensim.interfaces.TransformedCorpus object at 0x7f508648e380>\n"
     ]
    }
   ],
   "source": [
    "pprint(lda_model.print_topics())\n",
    "doc_lda = lda_model[corpus]\n",
    "print(doc_lda)"
   ]
  },
  {
   "cell_type": "code",
   "execution_count": 12,
   "metadata": {},
   "outputs": [
    {
     "name": "stdout",
     "output_type": "stream",
     "text": [
      "         Id                                              Title  \\\n",
      "0  10087647            monetdb - anyone uses it in production?   \n",
      "1  10860452  How to discover the columns for a given index ...   \n",
      "2  11444703                       Node.js and ODBC for MonetDB   \n",
      "3  11517507                                    php_monetdb.dll   \n",
      "4  12654775                  MonetDB + JDBC \"no such database\"   \n",
      "\n",
      "                                                Body  RatingsSentiCR  \\\n",
      "0  I am very interested in using monetdb as a dat...               1   \n",
      "1  MonetDB seems to support a fairly comprehensiv...              -1   \n",
      "2  I am trying to use odbc to connect to monetDB ...              -1   \n",
      "3  I need the php_monetdb.dll for php 5.4. I've f...              -1   \n",
      "4  So I'm working on getting MonetDB hooked up wi...              -1   \n",
      "\n",
      "   RatingsGPT35  RatingsGPTFineTuned  \\\n",
      "0            -1                 -1.0   \n",
      "1            -1                 -1.0   \n",
      "2            -1                 -1.0   \n",
      "3            -1                 -1.0   \n",
      "4            -1                 -1.0   \n",
      "\n",
      "                                              merged  topic  \n",
      "0  monetdb - anyone uses it in production?-I am v...      5  \n",
      "1  How to discover the columns for a given index ...      4  \n",
      "2  Node.js and ODBC for MonetDB-I am trying to us...      3  \n",
      "3  php_monetdb.dll-I need the php_monetdb.dll for...      3  \n",
      "4  MonetDB + JDBC \"no such database\"-So I'm worki...      3  \n",
      "topic:  0 total data:  34\n",
      "topic:  1 total data:  2\n",
      "topic:  2 total data:  4\n",
      "topic:  3 total data:  39\n",
      "topic:  4 total data:  36\n",
      "topic:  5 total data:  25\n"
     ]
    }
   ],
   "source": [
    "num_topics = 6\n",
    "topic_distributions = [lda_model[doc] for doc in corpus]\n",
    "\n",
    "# Extract the dominant topic for each document\n",
    "df['topic'] = [max(topics, key=lambda x: x[1])[0] for topics in topic_distributions]\n",
    "\n",
    "# Display the DataFrame with assigned topics\n",
    "print(df.head())\n",
    "df.to_csv('../dataset/AssignedTopicMonetDB.csv')\n",
    "for i in range(num_topics): \n",
    "    topic_df = df[df['topic'] == i]\n",
    "    print('topic: ', i, 'total data: ', len(topic_df))"
   ]
  },
  {
   "cell_type": "code",
   "execution_count": null,
   "metadata": {},
   "outputs": [],
   "source": []
  }
 ],
 "metadata": {
  "kernelspec": {
   "display_name": "Python 3 (ipykernel)",
   "language": "python",
   "name": "python3"
  },
  "language_info": {
   "codemirror_mode": {
    "name": "ipython",
    "version": 3
   },
   "file_extension": ".py",
   "mimetype": "text/x-python",
   "name": "python",
   "nbconvert_exporter": "python",
   "pygments_lexer": "ipython3",
   "version": "3.10.12"
  },
  "widgets": {
   "application/vnd.jupyter.widget-state+json": {
    "state": {},
    "version_major": 2,
    "version_minor": 0
   }
  }
 },
 "nbformat": 4,
 "nbformat_minor": 5
}
