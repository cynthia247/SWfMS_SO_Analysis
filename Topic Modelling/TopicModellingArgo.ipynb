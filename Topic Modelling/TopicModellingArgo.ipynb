{
 "cells": [
  {
   "cell_type": "markdown",
   "id": "19a3956d",
   "metadata": {},
   "source": [
    "# Necessary Tools and Services"
   ]
  },
  {
   "cell_type": "code",
   "execution_count": 32,
   "id": "57e1172e",
   "metadata": {},
   "outputs": [],
   "source": [
    "# ! pip install pandas\n",
    "# ! pip install matplotlib\n",
    "# ! pip install numpy\n",
    "# ! pip install seaborn\n",
    "# ! pip install unzip\n",
    "# ! pip install gensim\n",
    "# ! pip install nltk\n",
    "# ! pip install wordcloud\n",
    "# ! pip install spacy\n",
    "# ! pip install spacy_download\n",
    "# ! pip install pyLDAvis\n",
    "# ! pip install PyStemmer\n",
    "\n",
    "# ! python3 -m spacy download en"
   ]
  },
  {
   "cell_type": "code",
   "execution_count": 1,
   "id": "893b4ccc",
   "metadata": {},
   "outputs": [
    {
     "name": "stderr",
     "output_type": "stream",
     "text": [
      "[nltk_data] Downloading package averaged_perceptron_tagger to\n",
      "[nltk_data]     /home/uji657/nltk_data...\n",
      "[nltk_data]   Package averaged_perceptron_tagger is already up-to-\n",
      "[nltk_data]       date!\n",
      "[nltk_data] Downloading package wordnet to /home/uji657/nltk_data...\n",
      "[nltk_data]   Package wordnet is already up-to-date!\n",
      "[nltk_data] Downloading package stopwords to /home/uji657/nltk_data...\n",
      "[nltk_data]   Package stopwords is already up-to-date!\n"
     ]
    },
    {
     "name": "stdout",
     "output_type": "stream",
     "text": [
      "Collecting en-core-web-sm==3.7.1\n",
      "  Downloading https://github.com/explosion/spacy-models/releases/download/en_core_web_sm-3.7.1/en_core_web_sm-3.7.1-py3-none-any.whl (12.8 MB)\n",
      "     ━━━━━━━━━━━━━━━━━━━━━━━━━━━━━━━━━━━━━━━━ 12.8/12.8 MB 84.6 MB/s eta 0:00:00\n",
      "Requirement already satisfied: spacy<3.8.0,>=3.7.2 in /home/uji657/Downloads/Sentiment Analysis/SentiCR-master/SentiCR/.venv/lib/python3.10/site-packages (from en-core-web-sm==3.7.1) (3.7.2)\n",
      "Requirement already satisfied: weasel<0.4.0,>=0.1.0 in /home/uji657/Downloads/Sentiment Analysis/SentiCR-master/SentiCR/.venv/lib/python3.10/site-packages (from spacy<3.8.0,>=3.7.2->en-core-web-sm==3.7.1) (0.3.4)\n",
      "Requirement already satisfied: setuptools in /home/uji657/Downloads/Sentiment Analysis/SentiCR-master/SentiCR/.venv/lib/python3.10/site-packages (from spacy<3.8.0,>=3.7.2->en-core-web-sm==3.7.1) (59.6.0)\n",
      "Requirement already satisfied: wasabi<1.2.0,>=0.9.1 in /home/uji657/Downloads/Sentiment Analysis/SentiCR-master/SentiCR/.venv/lib/python3.10/site-packages (from spacy<3.8.0,>=3.7.2->en-core-web-sm==3.7.1) (1.1.2)\n",
      "Requirement already satisfied: packaging>=20.0 in /home/uji657/Downloads/Sentiment Analysis/SentiCR-master/SentiCR/.venv/lib/python3.10/site-packages (from spacy<3.8.0,>=3.7.2->en-core-web-sm==3.7.1) (23.2)\n",
      "Requirement already satisfied: preshed<3.1.0,>=3.0.2 in /home/uji657/Downloads/Sentiment Analysis/SentiCR-master/SentiCR/.venv/lib/python3.10/site-packages (from spacy<3.8.0,>=3.7.2->en-core-web-sm==3.7.1) (3.0.9)\n",
      "Requirement already satisfied: thinc<8.3.0,>=8.1.8 in /home/uji657/Downloads/Sentiment Analysis/SentiCR-master/SentiCR/.venv/lib/python3.10/site-packages (from spacy<3.8.0,>=3.7.2->en-core-web-sm==3.7.1) (8.2.1)\n",
      "Requirement already satisfied: pydantic!=1.8,!=1.8.1,<3.0.0,>=1.7.4 in /home/uji657/Downloads/Sentiment Analysis/SentiCR-master/SentiCR/.venv/lib/python3.10/site-packages (from spacy<3.8.0,>=3.7.2->en-core-web-sm==3.7.1) (2.5.1)\n",
      "Requirement already satisfied: spacy-loggers<2.0.0,>=1.0.0 in /home/uji657/Downloads/Sentiment Analysis/SentiCR-master/SentiCR/.venv/lib/python3.10/site-packages (from spacy<3.8.0,>=3.7.2->en-core-web-sm==3.7.1) (1.0.5)\n",
      "Requirement already satisfied: tqdm<5.0.0,>=4.38.0 in /home/uji657/Downloads/Sentiment Analysis/SentiCR-master/SentiCR/.venv/lib/python3.10/site-packages (from spacy<3.8.0,>=3.7.2->en-core-web-sm==3.7.1) (4.66.1)\n",
      "Requirement already satisfied: langcodes<4.0.0,>=3.2.0 in /home/uji657/Downloads/Sentiment Analysis/SentiCR-master/SentiCR/.venv/lib/python3.10/site-packages (from spacy<3.8.0,>=3.7.2->en-core-web-sm==3.7.1) (3.3.0)\n",
      "Requirement already satisfied: murmurhash<1.1.0,>=0.28.0 in /home/uji657/Downloads/Sentiment Analysis/SentiCR-master/SentiCR/.venv/lib/python3.10/site-packages (from spacy<3.8.0,>=3.7.2->en-core-web-sm==3.7.1) (1.0.10)\n",
      "Requirement already satisfied: spacy-legacy<3.1.0,>=3.0.11 in /home/uji657/Downloads/Sentiment Analysis/SentiCR-master/SentiCR/.venv/lib/python3.10/site-packages (from spacy<3.8.0,>=3.7.2->en-core-web-sm==3.7.1) (3.0.12)\n",
      "Requirement already satisfied: smart-open<7.0.0,>=5.2.1 in /home/uji657/Downloads/Sentiment Analysis/SentiCR-master/SentiCR/.venv/lib/python3.10/site-packages (from spacy<3.8.0,>=3.7.2->en-core-web-sm==3.7.1) (6.4.0)\n",
      "Requirement already satisfied: jinja2 in /home/uji657/Downloads/Sentiment Analysis/SentiCR-master/SentiCR/.venv/lib/python3.10/site-packages (from spacy<3.8.0,>=3.7.2->en-core-web-sm==3.7.1) (3.1.2)\n",
      "Requirement already satisfied: numpy>=1.19.0 in /home/uji657/Downloads/Sentiment Analysis/SentiCR-master/SentiCR/.venv/lib/python3.10/site-packages (from spacy<3.8.0,>=3.7.2->en-core-web-sm==3.7.1) (1.26.2)\n",
      "Requirement already satisfied: srsly<3.0.0,>=2.4.3 in /home/uji657/Downloads/Sentiment Analysis/SentiCR-master/SentiCR/.venv/lib/python3.10/site-packages (from spacy<3.8.0,>=3.7.2->en-core-web-sm==3.7.1) (2.4.8)\n",
      "Requirement already satisfied: catalogue<2.1.0,>=2.0.6 in /home/uji657/Downloads/Sentiment Analysis/SentiCR-master/SentiCR/.venv/lib/python3.10/site-packages (from spacy<3.8.0,>=3.7.2->en-core-web-sm==3.7.1) (2.0.10)\n",
      "Requirement already satisfied: typer<0.10.0,>=0.3.0 in /home/uji657/Downloads/Sentiment Analysis/SentiCR-master/SentiCR/.venv/lib/python3.10/site-packages (from spacy<3.8.0,>=3.7.2->en-core-web-sm==3.7.1) (0.9.0)\n",
      "Requirement already satisfied: cymem<2.1.0,>=2.0.2 in /home/uji657/Downloads/Sentiment Analysis/SentiCR-master/SentiCR/.venv/lib/python3.10/site-packages (from spacy<3.8.0,>=3.7.2->en-core-web-sm==3.7.1) (2.0.8)\n",
      "Requirement already satisfied: requests<3.0.0,>=2.13.0 in /home/uji657/Downloads/Sentiment Analysis/SentiCR-master/SentiCR/.venv/lib/python3.10/site-packages (from spacy<3.8.0,>=3.7.2->en-core-web-sm==3.7.1) (2.31.0)\n",
      "Requirement already satisfied: annotated-types>=0.4.0 in /home/uji657/Downloads/Sentiment Analysis/SentiCR-master/SentiCR/.venv/lib/python3.10/site-packages (from pydantic!=1.8,!=1.8.1,<3.0.0,>=1.7.4->spacy<3.8.0,>=3.7.2->en-core-web-sm==3.7.1) (0.6.0)\n",
      "Requirement already satisfied: pydantic-core==2.14.3 in /home/uji657/Downloads/Sentiment Analysis/SentiCR-master/SentiCR/.venv/lib/python3.10/site-packages (from pydantic!=1.8,!=1.8.1,<3.0.0,>=1.7.4->spacy<3.8.0,>=3.7.2->en-core-web-sm==3.7.1) (2.14.3)\n",
      "Requirement already satisfied: typing-extensions>=4.6.1 in /home/uji657/Downloads/Sentiment Analysis/SentiCR-master/SentiCR/.venv/lib/python3.10/site-packages (from pydantic!=1.8,!=1.8.1,<3.0.0,>=1.7.4->spacy<3.8.0,>=3.7.2->en-core-web-sm==3.7.1) (4.8.0)\n",
      "Requirement already satisfied: certifi>=2017.4.17 in /home/uji657/Downloads/Sentiment Analysis/SentiCR-master/SentiCR/.venv/lib/python3.10/site-packages (from requests<3.0.0,>=2.13.0->spacy<3.8.0,>=3.7.2->en-core-web-sm==3.7.1) (2023.7.22)\n",
      "Requirement already satisfied: charset-normalizer<4,>=2 in /home/uji657/Downloads/Sentiment Analysis/SentiCR-master/SentiCR/.venv/lib/python3.10/site-packages (from requests<3.0.0,>=2.13.0->spacy<3.8.0,>=3.7.2->en-core-web-sm==3.7.1) (3.3.2)\n",
      "Requirement already satisfied: urllib3<3,>=1.21.1 in /home/uji657/Downloads/Sentiment Analysis/SentiCR-master/SentiCR/.venv/lib/python3.10/site-packages (from requests<3.0.0,>=2.13.0->spacy<3.8.0,>=3.7.2->en-core-web-sm==3.7.1) (2.1.0)\n",
      "Requirement already satisfied: idna<4,>=2.5 in /home/uji657/Downloads/Sentiment Analysis/SentiCR-master/SentiCR/.venv/lib/python3.10/site-packages (from requests<3.0.0,>=2.13.0->spacy<3.8.0,>=3.7.2->en-core-web-sm==3.7.1) (3.4)\n",
      "Requirement already satisfied: blis<0.8.0,>=0.7.8 in /home/uji657/Downloads/Sentiment Analysis/SentiCR-master/SentiCR/.venv/lib/python3.10/site-packages (from thinc<8.3.0,>=8.1.8->spacy<3.8.0,>=3.7.2->en-core-web-sm==3.7.1) (0.7.11)\n",
      "Requirement already satisfied: confection<1.0.0,>=0.0.1 in /home/uji657/Downloads/Sentiment Analysis/SentiCR-master/SentiCR/.venv/lib/python3.10/site-packages (from thinc<8.3.0,>=8.1.8->spacy<3.8.0,>=3.7.2->en-core-web-sm==3.7.1) (0.1.3)\n",
      "Requirement already satisfied: click<9.0.0,>=7.1.1 in /home/uji657/Downloads/Sentiment Analysis/SentiCR-master/SentiCR/.venv/lib/python3.10/site-packages (from typer<0.10.0,>=0.3.0->spacy<3.8.0,>=3.7.2->en-core-web-sm==3.7.1) (8.1.7)\n",
      "Requirement already satisfied: cloudpathlib<0.17.0,>=0.7.0 in /home/uji657/Downloads/Sentiment Analysis/SentiCR-master/SentiCR/.venv/lib/python3.10/site-packages (from weasel<0.4.0,>=0.1.0->spacy<3.8.0,>=3.7.2->en-core-web-sm==3.7.1) (0.16.0)\n",
      "Requirement already satisfied: MarkupSafe>=2.0 in /home/uji657/Downloads/Sentiment Analysis/SentiCR-master/SentiCR/.venv/lib/python3.10/site-packages (from jinja2->spacy<3.8.0,>=3.7.2->en-core-web-sm==3.7.1) (2.1.3)\n",
      "\u001b[38;5;2m✔ Download and installation successful\u001b[0m\n",
      "You can now load the package via spacy.load('en_core_web_sm')\n"
     ]
    }
   ],
   "source": [
    "## Importing PD and Others\n",
    "import re\n",
    "import numpy as np\n",
    "import pandas as pd\n",
    "from pprint import pprint\n",
    "\n",
    "## Gensim\n",
    "import gensim\n",
    "import gensim.corpora as corpora\n",
    "from gensim.models import CoherenceModel\n",
    "from gensim.utils import simple_preprocess\n",
    "from gensim.parsing.preprocessing import STOPWORDS\n",
    "\n",
    "## NLTK\n",
    "from nltk.stem import WordNetLemmatizer, SnowballStemmer\n",
    "from nltk.stem.porter import *\n",
    "import nltk.stem\n",
    "import numpy as np\n",
    "np.random.seed(2018)\n",
    "import nltk\n",
    "nltk.download('averaged_perceptron_tagger')\n",
    "nltk.download('wordnet')\n",
    "nltk.download('stopwords')\n",
    "\n",
    "from nltk.corpus import stopwords\n",
    "stop_words = stopwords.words('english')\n",
    "stop_words.extend(['#', '`', '\"', '@'])\n",
    "\n",
    "import warnings\n",
    "warnings.filterwarnings(action='ignore', category=UserWarning)\n",
    "\n",
    "import matplotlib.pyplot as plt\n",
    "%matplotlib inline\n",
    "\n",
    "\n",
    "import spacy\n",
    "spacy.cli.download('en_core_web_sm')\n",
    "\n",
    "\n",
    "\n",
    "## Visualization\n",
    "import pyLDAvis\n",
    "import pyLDAvis.gensim\n",
    "\n",
    "import warnings\n",
    "warnings.filterwarnings(\"ignore\", category=DeprecationWarning)"
   ]
  },
  {
   "cell_type": "code",
   "execution_count": 3,
   "metadata": {},
   "outputs": [
    {
     "name": "stdout",
     "output_type": "stream",
     "text": [
      "13\n"
     ]
    }
   ],
   "source": [
    "def FindingPostsWithNegativeSentiments():\n",
    "    df = pd.read_csv('../dataset/SO_Workflow_Data.csv')\n",
    "    my_value = -1\n",
    "    data = df.loc[df[\"RatingsGPTFineTuned\"] == my_value]\n",
    "\n",
    "    df = data[data['Body'].str.contains('argo', case=False)] \n",
    "    print(len(df))\n",
    "    df.to_csv('../dataset/argo_posts.csv', index=False)\n",
    "\n",
    "FindingPostsWithNegativeSentiments()"
   ]
  },
  {
   "cell_type": "markdown",
   "id": "c3c80025",
   "metadata": {},
   "source": [
    "# Import data and Preprocess"
   ]
  },
  {
   "cell_type": "code",
   "execution_count": 2,
   "id": "093e46bc",
   "metadata": {},
   "outputs": [
    {
     "name": "stdout",
     "output_type": "stream",
     "text": [
      "13\n"
     ]
    }
   ],
   "source": [
    "df = pd.read_csv('../dataset/argo_posts.csv')\n",
    "# my_value = -1\n",
    "# new_df = df.loc[df[\"RatingsGPTFineTuned\"] == my_value]\n",
    "df[\"merged\"] = df[[\"Title\",\"Body\"]].apply(\"-\".join, axis=1)\n",
    "#new_df.head()\n",
    "# new_df.to_csv('Dataset/ConcatenatedDatasetSO.csv')\n",
    "\n",
    "data = df.merged.values.tolist()\n",
    "print(len(df))\n",
    "#data"
   ]
  },
  {
   "cell_type": "code",
   "execution_count": 3,
   "id": "ed84875d",
   "metadata": {},
   "outputs": [
    {
     "name": "stdout",
     "output_type": "stream",
     "text": [
      "['Compilation of Elyra-Pipelines to Tekton based Kubeflow fails-Ive installed '\n",
      " 'a kubernetes cluster running kubeflow pipelines based on tekton on top of '\n",
      " 'KIND using the following instructions Now Im getting the following error '\n",
      " 'message from the Elyra pipelines editor. Running against an argo based kfp '\n",
      " 'cluster works fine. Is the kfp compiler somehow not supporting tekton? Can '\n",
      " 'someone please shine some light on this? HTTP response body: '\n",
      " '{&quot;error_message&quot;:&quot;Error creating pipeline: Create pipeline '\n",
      " 'failed: Failed to get parameters from the pipelineRun: Invalid input error: '\n",
      " 'Unsupported argo version. Expected: tekton.dev/v1beta1. Received: '\n",
      " 'argoproj.io/v1alpha1&quot;, &quot;error_details&quot;:&quot;Error creating '\n",
      " 'pipeline: Create pipeline failed: Failed to get parameters from the '\n",
      " 'pipelineRun: Invalid input error: Unsupported argo version. Expected: '\n",
      " 'tekton.dev/v1beta1. Received: argoproj.io/v1alpha1&quot;} ',\n",
      " 'Accessing argo workflow archive via http leads to permission denied error-Im '\n",
      " 'trying to access the Argo workflow archive via the REST API. The '\n",
      " 'documentation states that I need to create a role and a token, so I thats '\n",
      " 'what I did. A role with minimal permissions can be created like so: kubectl '\n",
      " 'create role jenkins --verb=list,update --resource=workflows.argoproj.io And '\n",
      " 'in fact this works, I can now access the argo server with a command like '\n",
      " 'curl http://localhost:2746/api/v1/workflows/argo -H &quot;Authorization: '\n",
      " '$ARGO_TOKEN&quot;. However it seems that more permissions are needed to '\n",
      " 'access endpoints such as /api/v1/archived-workflows, because all I get there '\n",
      " 'is this: { &quot;code&quot;: 7, &quot;message&quot;: &quot;permission '\n",
      " 'denied&quot; } Presumably I need to specify other verbs and/or resources in '\n",
      " 'the kubectl create role command, but I dont know which ones, and I cant find '\n",
      " 'the relevant documentation. Any hints? ']\n"
     ]
    }
   ],
   "source": [
    "# Remove Emails\n",
    "data = [re.sub('<[^<>]*>', '', sent) for sent in data]\n",
    "# Remove new line characters\n",
    "data = [re.sub('\\s+', ' ', sent) for sent in data]\n",
    "# Remove distracting single quotes\n",
    "data = [re.sub(\"\\'\", \"\", sent) for sent in data]\n",
    "\n",
    "pprint(data[:2])"
   ]
  },
  {
   "cell_type": "markdown",
   "id": "2d98f4b6",
   "metadata": {},
   "source": [
    "# Tokenize words and Clean-up text"
   ]
  },
  {
   "cell_type": "code",
   "execution_count": 4,
   "id": "b7b3a9c8",
   "metadata": {},
   "outputs": [
    {
     "name": "stdout",
     "output_type": "stream",
     "text": [
      "[['compilation', 'of', 'elyra', 'pipelines', 'to', 'tekton', 'based', 'kubeflow', 'fails', 'ive', 'installed', 'kubernetes', 'cluster', 'running', 'kubeflow', 'pipelines', 'based', 'on', 'tekton', 'on', 'top', 'of', 'kind', 'using', 'the', 'following', 'instructions', 'now', 'im', 'getting', 'the', 'following', 'error', 'message', 'from', 'the', 'elyra', 'pipelines', 'editor', 'running', 'against', 'an', 'argo', 'based', 'kfp', 'cluster', 'works', 'fine', 'is', 'the', 'kfp', 'compiler', 'somehow', 'not', 'supporting', 'tekton', 'can', 'someone', 'please', 'shine', 'some', 'light', 'on', 'this', 'http', 'response', 'body', 'quot', 'error_message', 'quot', 'quot', 'error', 'creating', 'pipeline', 'create', 'pipeline', 'failed', 'failed', 'to', 'get', 'parameters', 'from', 'the', 'pipelinerun', 'invalid', 'input', 'error', 'unsupported', 'argo', 'version', 'expected', 'tekton', 'dev', 'beta', 'received', 'argoproj', 'io', 'alpha', 'quot', 'quot', 'error_details', 'quot', 'quot', 'error', 'creating', 'pipeline', 'create', 'pipeline', 'failed', 'failed', 'to', 'get', 'parameters', 'from', 'the', 'pipelinerun', 'invalid', 'input', 'error', 'unsupported', 'argo', 'version', 'expected', 'tekton', 'dev', 'beta', 'received', 'argoproj', 'io', 'alpha', 'quot']]\n"
     ]
    }
   ],
   "source": [
    "def sent_to_words(sentences):\n",
    "    for sentence in sentences:\n",
    "        yield(gensim.utils.simple_preprocess(str(sentence), deacc=True))  # deacc=True removes punctuations\n",
    "\n",
    "data_words = list(sent_to_words(data))\n",
    "\n",
    "print(data_words[:1])"
   ]
  },
  {
   "cell_type": "code",
   "execution_count": 5,
   "id": "38592eb3",
   "metadata": {},
   "outputs": [],
   "source": [
    "# Build the bigram and trigram models\n",
    "bigram = gensim.models.Phrases(data_words, min_count=5, threshold=50) # higher threshold fewer phrases.\n",
    "trigram = gensim.models.Phrases(bigram[data_words], threshold=50)  \n",
    "\n",
    "# Faster way to get a sentence clubbed as a trigram/bigram\n",
    "bigram_mod = gensim.models.phrases.Phraser(bigram)\n",
    "trigram_mod = gensim.models.phrases.Phraser(trigram)\n",
    "\n",
    "# See trigram example\n",
    "#print(trigram_mod[bigram_mod[data_words[0]]])"
   ]
  },
  {
   "cell_type": "markdown",
   "id": "3d485455",
   "metadata": {},
   "source": [
    "# Remove Stopwords, Make Bigrams and Lemmatize"
   ]
  },
  {
   "cell_type": "code",
   "execution_count": 6,
   "id": "c49abe86",
   "metadata": {},
   "outputs": [],
   "source": [
    "# Define functions for stopwords, bigrams, trigrams and lemmatization\n",
    "def remove_stopwords(texts):\n",
    "    return [[word for word in simple_preprocess(str(doc)) if word not in stop_words] for doc in texts]\n",
    "\n",
    "def make_bigrams(texts):\n",
    "    return [bigram_mod[doc] for doc in texts]\n",
    "\n",
    "def make_trigrams(texts):\n",
    "    return [trigram_mod[bigram_mod[doc]] for doc in texts]\n",
    "\n",
    "def lemmatization(texts, allowed_postags=['NOUN', 'ADJ', 'VERB', 'ADV']):\n",
    "    \"\"\"https://spacy.io/api/annotation\"\"\"\n",
    "    texts_out = []\n",
    "    for sent in texts:\n",
    "        doc = nlp(\" \".join(sent)) \n",
    "        texts_out.append([token.lemma_ for token in doc if token.pos_ in allowed_postags])\n",
    "    return texts_out"
   ]
  },
  {
   "cell_type": "code",
   "execution_count": 7,
   "id": "a1408ee7",
   "metadata": {},
   "outputs": [
    {
     "name": "stdout",
     "output_type": "stream",
     "text": [
      "[['compilation', 'base', 'fail', 've', 'instal', 'kubernete', 'cluster', 'run', 'kubeflow', 'pipeline', 'base', 'top', 'kind', 'use', 'follow', 'instruction', 'm', 'get', 'follow', 'error', 'message', 'pipeline', 'editor', 'run', 'argo', 'base', 'work', 'fine', 'compiler', 'somehow', 'support', 'tekton', 'shine', 'light', 'http', 'response', 'body', 'error', 'create', 'pipeline', 'create', 'pipeline', 'fail', 'fail', 'get', 'parameter', 'pipelinerun', 'invalid', 'input', 'error', 'unsupported', 'expect', 'beta', 'receive', 'alpha', 'error', 'create', 'pipeline', 'create', 'pipeline', 'fail', 'fail', 'get', 'parameter', 'pipelinerun', 'invalid', 'input', 'error', 'unsupported', 'expect', 'beta', 'receive', 'alpha', 'quot']]\n"
     ]
    }
   ],
   "source": [
    "# Remove Stop Words\n",
    "data_words_nostops = remove_stopwords(data_words)\n",
    "\n",
    "# Form Bigrams\n",
    "data_words_bigrams = make_bigrams(data_words_nostops)\n",
    "\n",
    "# Initialize spacy 'en' model, keeping only tagger component (for efficiency)\n",
    "# python3 -m spacy download en\n",
    "nlp = spacy.load(\"en_core_web_sm\", disable=[\"parser\", \"ner\"])\n",
    "\n",
    "# Do lemmatization keeping only noun, adj, vb, adv\n",
    "data_lemmatized = lemmatization(data_words_bigrams, allowed_postags=['NOUN', 'ADJ', 'VERB', 'ADV'])\n",
    "\n",
    "print(data_lemmatized[:1])"
   ]
  },
  {
   "cell_type": "markdown",
   "id": "98003715",
   "metadata": {},
   "source": [
    "# Create the Dictionary and Corpus needed for Topic Modeling"
   ]
  },
  {
   "cell_type": "code",
   "execution_count": 8,
   "id": "cfd3247d",
   "metadata": {},
   "outputs": [
    {
     "name": "stdout",
     "output_type": "stream",
     "text": [
      "[[(0, 2), (1, 1), (2, 3), (3, 2), (4, 1), (5, 1), (6, 1), (7, 1), (8, 4), (9, 1), (10, 5), (11, 2), (12, 5), (13, 1), (14, 2), (15, 3), (16, 1), (17, 2), (18, 1), (19, 1), (20, 2), (21, 1), (22, 1), (23, 1), (24, 1), (25, 1), (26, 1), (27, 2), (28, 6), (29, 2), (30, 1), (31, 2), (32, 1), (33, 2), (34, 1), (35, 1), (36, 1), (37, 1), (38, 1), (39, 2), (40, 1), (41, 1), (42, 1)]]\n"
     ]
    }
   ],
   "source": [
    "# Create Dictionary\n",
    "id2word = corpora.Dictionary(data_lemmatized)\n",
    "\n",
    "# Create Corpus\n",
    "texts = data_lemmatized\n",
    "\n",
    "# Term Document Frequency\n",
    "corpus = [id2word.doc2bow(text) for text in texts]\n",
    "\n",
    "# View\n",
    "print(corpus[:1])"
   ]
  },
  {
   "cell_type": "code",
   "execution_count": 9,
   "id": "be414a5b",
   "metadata": {},
   "outputs": [
    {
     "data": {
      "text/plain": [
       "[[('alpha', 2),\n",
       "  ('argo', 1),\n",
       "  ('base', 3),\n",
       "  ('beta', 2),\n",
       "  ('body', 1),\n",
       "  ('cluster', 1),\n",
       "  ('compilation', 1),\n",
       "  ('compiler', 1),\n",
       "  ('create', 4),\n",
       "  ('editor', 1),\n",
       "  ('error', 5),\n",
       "  ('expect', 2),\n",
       "  ('fail', 5),\n",
       "  ('fine', 1),\n",
       "  ('follow', 2),\n",
       "  ('get', 3),\n",
       "  ('http', 1),\n",
       "  ('input', 2),\n",
       "  ('instal', 1),\n",
       "  ('instruction', 1),\n",
       "  ('invalid', 2),\n",
       "  ('kind', 1),\n",
       "  ('kubeflow', 1),\n",
       "  ('kubernete', 1),\n",
       "  ('light', 1),\n",
       "  ('m', 1),\n",
       "  ('message', 1),\n",
       "  ('parameter', 2),\n",
       "  ('pipeline', 6),\n",
       "  ('pipelinerun', 2),\n",
       "  ('quot', 1),\n",
       "  ('receive', 2),\n",
       "  ('response', 1),\n",
       "  ('run', 2),\n",
       "  ('shine', 1),\n",
       "  ('somehow', 1),\n",
       "  ('support', 1),\n",
       "  ('tekton', 1),\n",
       "  ('top', 1),\n",
       "  ('unsupported', 2),\n",
       "  ('use', 1),\n",
       "  ('ve', 1),\n",
       "  ('work', 1)]]"
      ]
     },
     "execution_count": 9,
     "metadata": {},
     "output_type": "execute_result"
    }
   ],
   "source": [
    "# Human readable format of corpus (term-frequency)\n",
    "[[(id2word[id], freq) for id, freq in cp] for cp in corpus[:1]]"
   ]
  },
  {
   "cell_type": "code",
   "execution_count": 10,
   "id": "2a5fd366",
   "metadata": {},
   "outputs": [],
   "source": [
    "# supporting function\n",
    "def compute_coherence_values(corpus, dictionary, k, a, b):\n",
    "    \n",
    "    lda_model = gensim.models.LdaMulticore(corpus=corpus,\n",
    "                                           id2word=id2word,\n",
    "                                           num_topics=k, \n",
    "                                           random_state=100,\n",
    "                                           chunksize=100,\n",
    "                                           passes=10,\n",
    "                                           alpha=a,\n",
    "                                           eta=b)\n",
    "    \n",
    "    coherence_model_lda = CoherenceModel(model=lda_model, texts=data_lemmatized, dictionary=id2word, coherence='c_v')\n",
    "    \n",
    "    return coherence_model_lda.get_coherence()"
   ]
  },
  {
   "cell_type": "code",
   "execution_count": 11,
   "id": "fc885ff8",
   "metadata": {},
   "outputs": [
    {
     "name": "stderr",
     "output_type": "stream",
     "text": [
      "  0%|          | 0/540 [00:00<?, ?it/s]"
     ]
    },
    {
     "name": "stderr",
     "output_type": "stream",
     "text": [
      "100%|██████████| 540/540 [09:45<00:00,  1.08s/it]\n"
     ]
    }
   ],
   "source": [
    "import numpy as np\n",
    "import tqdm\n",
    "\n",
    "grid = {}\n",
    "grid['Validation_Set'] = {}\n",
    "\n",
    "# Topics range\n",
    "min_topics = 2\n",
    "max_topics = 11\n",
    "step_size = 1\n",
    "topics_range = range(min_topics, max_topics, step_size)\n",
    "\n",
    "# Alpha parameter\n",
    "alpha = list(np.arange(0.01, 1, 0.3))\n",
    "alpha.append('symmetric')\n",
    "alpha.append('asymmetric')\n",
    "\n",
    "# Beta parameter\n",
    "beta = list(np.arange(0.01, 1, 0.3))\n",
    "beta.append('symmetric')\n",
    "\n",
    "# Validation sets\n",
    "num_of_docs = len(corpus)\n",
    "corpus_sets = [gensim.utils.ClippedCorpus(corpus, int(num_of_docs*0.75)), \n",
    "               corpus]\n",
    "\n",
    "corpus_title = ['75% Corpus', '100% Corpus']\n",
    "\n",
    "model_results = {'Validation_Set': [],\n",
    "                 'Topics': [],\n",
    "                 'Alpha': [],\n",
    "                 'Beta': [],\n",
    "                 'Coherence': []\n",
    "                }\n",
    "\n",
    "# Can take a long time to run\n",
    "if 1 == 1:\n",
    "    pbar = tqdm.tqdm(total=(len(beta)*len(alpha)*len(topics_range)*len(corpus_title)))\n",
    "    \n",
    "    # iterate through validation corpuses\n",
    "    for i in range(len(corpus_sets)):\n",
    "        # iterate through number of topics\n",
    "        for k in topics_range:\n",
    "            # iterate through alpha values\n",
    "            for a in alpha:\n",
    "                # iterare through beta values\n",
    "                for b in beta:\n",
    "                    # get the coherence score for the given parameters\n",
    "                    cv = compute_coherence_values(corpus=corpus_sets[i], dictionary=id2word, \n",
    "                                                  k=k, a=a, b=b)\n",
    "                    # Save the model results\n",
    "                    model_results['Validation_Set'].append(corpus_title[i])\n",
    "                    model_results['Topics'].append(k)\n",
    "                    model_results['Alpha'].append(a)\n",
    "                    model_results['Beta'].append(b)\n",
    "                    model_results['Coherence'].append(cv)\n",
    "                    \n",
    "                    pbar.update(1)\n",
    "    pd.DataFrame(model_results).to_csv('../dataset/lda_tuning_results.csv', index=False)\n",
    "    pbar.close()"
   ]
  },
  {
   "cell_type": "code",
   "execution_count": 12,
   "id": "41468242",
   "metadata": {},
   "outputs": [
    {
     "data": {
      "text/html": [
       "<div>\n",
       "<style scoped>\n",
       "    .dataframe tbody tr th:only-of-type {\n",
       "        vertical-align: middle;\n",
       "    }\n",
       "\n",
       "    .dataframe tbody tr th {\n",
       "        vertical-align: top;\n",
       "    }\n",
       "\n",
       "    .dataframe thead th {\n",
       "        text-align: right;\n",
       "    }\n",
       "</style>\n",
       "<table border=\"1\" class=\"dataframe\">\n",
       "  <thead>\n",
       "    <tr style=\"text-align: right;\">\n",
       "      <th></th>\n",
       "      <th>Validation_Set</th>\n",
       "      <th>Topics</th>\n",
       "      <th>Alpha</th>\n",
       "      <th>Beta</th>\n",
       "      <th>Coherence</th>\n",
       "    </tr>\n",
       "  </thead>\n",
       "  <tbody>\n",
       "    <tr>\n",
       "      <th>297</th>\n",
       "      <td>100% Corpus</td>\n",
       "      <td>2</td>\n",
       "      <td>asymmetric</td>\n",
       "      <td>0.61</td>\n",
       "      <td>0.544267</td>\n",
       "    </tr>\n",
       "    <tr>\n",
       "      <th>299</th>\n",
       "      <td>100% Corpus</td>\n",
       "      <td>2</td>\n",
       "      <td>asymmetric</td>\n",
       "      <td>symmetric</td>\n",
       "      <td>0.544267</td>\n",
       "    </tr>\n",
       "    <tr>\n",
       "      <th>298</th>\n",
       "      <td>100% Corpus</td>\n",
       "      <td>2</td>\n",
       "      <td>asymmetric</td>\n",
       "      <td>0.9099999999999999</td>\n",
       "      <td>0.542629</td>\n",
       "    </tr>\n",
       "    <tr>\n",
       "      <th>411</th>\n",
       "      <td>100% Corpus</td>\n",
       "      <td>6</td>\n",
       "      <td>symmetric</td>\n",
       "      <td>0.31</td>\n",
       "      <td>0.537383</td>\n",
       "    </tr>\n",
       "    <tr>\n",
       "      <th>391</th>\n",
       "      <td>100% Corpus</td>\n",
       "      <td>6</td>\n",
       "      <td>0.01</td>\n",
       "      <td>0.31</td>\n",
       "      <td>0.537121</td>\n",
       "    </tr>\n",
       "    <tr>\n",
       "      <th>...</th>\n",
       "      <td>...</td>\n",
       "      <td>...</td>\n",
       "      <td>...</td>\n",
       "      <td>...</td>\n",
       "      <td>...</td>\n",
       "    </tr>\n",
       "    <tr>\n",
       "      <th>528</th>\n",
       "      <td>100% Corpus</td>\n",
       "      <td>10</td>\n",
       "      <td>0.9099999999999999</td>\n",
       "      <td>0.9099999999999999</td>\n",
       "      <td>0.434032</td>\n",
       "    </tr>\n",
       "    <tr>\n",
       "      <th>423</th>\n",
       "      <td>100% Corpus</td>\n",
       "      <td>7</td>\n",
       "      <td>0.01</td>\n",
       "      <td>0.9099999999999999</td>\n",
       "      <td>0.431641</td>\n",
       "    </tr>\n",
       "    <tr>\n",
       "      <th>453</th>\n",
       "      <td>100% Corpus</td>\n",
       "      <td>8</td>\n",
       "      <td>0.01</td>\n",
       "      <td>0.9099999999999999</td>\n",
       "      <td>0.425680</td>\n",
       "    </tr>\n",
       "    <tr>\n",
       "      <th>473</th>\n",
       "      <td>100% Corpus</td>\n",
       "      <td>8</td>\n",
       "      <td>symmetric</td>\n",
       "      <td>0.9099999999999999</td>\n",
       "      <td>0.422407</td>\n",
       "    </tr>\n",
       "    <tr>\n",
       "      <th>518</th>\n",
       "      <td>100% Corpus</td>\n",
       "      <td>10</td>\n",
       "      <td>0.31</td>\n",
       "      <td>0.9099999999999999</td>\n",
       "      <td>0.421497</td>\n",
       "    </tr>\n",
       "  </tbody>\n",
       "</table>\n",
       "<p>268 rows × 5 columns</p>\n",
       "</div>"
      ],
      "text/plain": [
       "    Validation_Set  Topics               Alpha                Beta  Coherence\n",
       "297    100% Corpus       2          asymmetric                0.61   0.544267\n",
       "299    100% Corpus       2          asymmetric           symmetric   0.544267\n",
       "298    100% Corpus       2          asymmetric  0.9099999999999999   0.542629\n",
       "411    100% Corpus       6           symmetric                0.31   0.537383\n",
       "391    100% Corpus       6                0.01                0.31   0.537121\n",
       "..             ...     ...                 ...                 ...        ...\n",
       "528    100% Corpus      10  0.9099999999999999  0.9099999999999999   0.434032\n",
       "423    100% Corpus       7                0.01  0.9099999999999999   0.431641\n",
       "453    100% Corpus       8                0.01  0.9099999999999999   0.425680\n",
       "473    100% Corpus       8           symmetric  0.9099999999999999   0.422407\n",
       "518    100% Corpus      10                0.31  0.9099999999999999   0.421497\n",
       "\n",
       "[268 rows x 5 columns]"
      ]
     },
     "execution_count": 12,
     "metadata": {},
     "output_type": "execute_result"
    }
   ],
   "source": [
    "results = pd.read_csv('../dataset/lda_tuning_results.csv')\n",
    "results = results.loc[272:]\n",
    "results.sort_values(by=['Coherence'], ascending=False)"
   ]
  },
  {
   "cell_type": "code",
   "execution_count": 10,
   "id": "1a9f15c6",
   "metadata": {},
   "outputs": [
    {
     "name": "stdout",
     "output_type": "stream",
     "text": [
      "\n",
      "Perplexity:  -5.540419487449212\n"
     ]
    },
    {
     "name": "stdout",
     "output_type": "stream",
     "text": [
      "\n",
      "Coherence Score:  0.46996447574133565\n"
     ]
    },
    {
     "data": {
      "text/html": [
       "\n",
       "<link rel=\"stylesheet\" type=\"text/css\" href=\"https://cdn.jsdelivr.net/gh/bmabey/pyLDAvis@3.4.0/pyLDAvis/js/ldavis.v1.0.0.css\">\n",
       "\n",
       "\n",
       "<div id=\"ldavis_el3795441400177348437765412305655\" style=\"background-color:white;\"></div>\n",
       "<script type=\"text/javascript\">\n",
       "\n",
       "var ldavis_el3795441400177348437765412305655_data = {\"mdsDat\": {\"x\": [0.09735773898281884, 0.002988733516918, -0.03273755678284706, -0.024465686739322666, -0.02707934443695668, -0.0160638845406104], \"y\": [0.012179301275133371, -0.04987078056961941, 0.01919825939721086, 0.0013210259690735946, 0.009080211522893745, 0.008091982405307849], \"topics\": [1, 2, 3, 4, 5, 6], \"cluster\": [1, 1, 1, 1, 1, 1], \"Freq\": [47.09907851355175, 26.937860381187367, 14.459541034538482, 5.828459700812631, 5.019327634861118, 0.6557327350486536]}, \"tinfo\": {\"Term\": [\"workflow\", \"fail\", \"resume\", \"error\", \"suspend\", \"run\", \"create\", \"parameter\", \"string\", \"get\", \"event\", \"pipeline\", \"use\", \"artifact\", \"state\", \"response\", \"name\", \"status\", \"value\", \"input\", \"template\", \"go\", \"body\", \"access\", \"request\", \"kubectl\", \"dag_task\", \"http\", \"however\", \"follow\", \"artifact\", \"value\", \"dag_task\", \"parameter\", \"d\", \"datakey_body\", \"result\", \"path\", \"sensor\", \"output\", \"arfile\", \"input\", \"build\", \"tmp\", \"main\", \"name\", \"spec\", \"event\", \"argument\", \"execute\", \"kaniko\", \"key\", \"listener\", \"mountpath\", \"outfile\", \"dfile\", \"container_image\", \"template\", \"pass\", \"com\", \"script\", \"workflow\", \"argo\", \"kind\", \"fail\", \"go\", \"quot\", \"submit\", \"work\", \"entrypoint\", \"request\", \"response\", \"string\", \"header\", \"body\", \"http\", \"url\", \"default\", \"help\", \"argoflow\", \"strategy\", \"yaml\", \"limit\", \"status\", \"method\", \"quickstart\", \"account\", \"service\", \"start\", \"available\", \"map\", \"new\", \"memory\", \"image\", \"trivy\", \"docker\", \"foo\", \"bar\", \"get\", \"true\", \"apply\", \"error\", \"argo\", \"template\", \"create\", \"name\", \"run\", \"workflow\", \"entrypoint\", \"script\", \"kubectl\", \"quot\", \"use\", \"kind\", \"argument\", \"spec\", \"follow\", \"fail\", \"try\", \"permission\", \"role\", \"connection\", \"controller\", \"need\", \"api\", \"example\", \"yml\", \"localhost\", \"app\", \"rabbitmq\", \"publish\", \"list\", \"kubectl\", \"access\", \"run\", \"archive\", \"documentation\", \"info\", \"deny\", \"argoproj_io\", \"verb\", \"server\", \"hint\", \"rest\", \"fact\", \"endpoint\", \"minimal\", \"relevant\", \"presumably\", \"use\", \"create\", \"workflow\", \"seem\", \"test\", \"trigger\", \"resource\", \"event\", \"argo\", \"try\", \"submit\", \"get\", \"command\", \"sensor\", \"pipeline\", \"base\", \"expect\", \"beta\", \"unsupported\", \"invalid\", \"receive\", \"pipelinerun\", \"alpha\", \"tekton\", \"shine\", \"instal\", \"kubernete\", \"instruction\", \"somehow\", \"support\", \"kubeflow\", \"compilation\", \"light\", \"top\", \"editor\", \"fine\", \"create\", \"compiler\", \"cluster\", \"ve\", \"fail\", \"error\", \"follow\", \"summary\", \"get\", \"run\", \"input\", \"parameter\", \"quot\", \"use\", \"kind\", \"argo\", \"m\", \"work\", \"message\", \"http\", \"body\", \"resume\", \"suspend\", \"state\", \"already\", \"phase\", \"check\", \"differentiate\", \"side\", \"client\", \"field\", \"make\", \"want\", \"impose\", \"thereafter\", \"summary\", \"wait\", \"however\", \"code\", \"go\", \"instal\", \"compilation\", \"kubernete\", \"top\", \"tekton\", \"shine\", \"instruction\", \"somehow\", \"light\", \"kubeflow\", \"editor\", \"string\", \"status\", \"run\", \"workflow\", \"use\", \"try\", \"quot\", \"get\", \"argo\", \"noderesult\", \"developer\", \"find\", \"name\", \"template\", \"differentiate\", \"make\", \"field\", \"thereafter\", \"side\", \"client\", \"want\", \"impose\", \"summary\", \"instruction\", \"instal\", \"compilation\", \"kubernete\", \"shine\", \"top\", \"kubeflow\", \"support\", \"light\", \"editor\", \"tekton\", \"somehow\", \"fine\", \"check\", \"thing\", \"generate\", \"do\", \"successfully\", \"hello_world\", \"verb\", \"minimal\", \"update\", \"report\", \"noderesult\", \"wonder\", \"isvalid\", \"nil\", \"err\", \"hasoutput\", \"developer\", \"ctx\", \"dirty\", \"solution\", \"take\", \"return\", \"see\", \"progress\", \"deny\", \"find\", \"process\", \"type\", \"level\", \"issue\", \"name\", \"step\", \"error\", \"cpu\", \"spend\", \"amount\", \"good\", \"scanggwmk\", \"invoke\", \"template\", \"artifact\", \"script\", \"use\", \"quot\", \"try\", \"input\", \"pass\", \"output\", \"whalesay\", \"workflow\", \"argo\", \"kind\", \"spec\", \"result\", \"parameter\", \"argument\", \"resource\", \"value\", \"run\", \"work\", \"get\", \"entrypoint\"], \"Freq\": [26.0, 9.0, 3.0, 10.0, 2.0, 6.0, 5.0, 17.0, 6.0, 8.0, 12.0, 2.0, 8.0, 11.0, 2.0, 5.0, 38.0, 6.0, 13.0, 14.0, 29.0, 5.0, 5.0, 5.0, 5.0, 5.0, 9.0, 5.0, 4.0, 5.0, 10.819997965593727, 12.122814490462792, 8.27699666207141, 15.373477610460748, 6.345980731489145, 5.710744364334098, 5.696468062783654, 5.062634102636037, 7.643687343394198, 8.295658230392016, 4.424599153067309, 11.519140886519374, 3.7861680517095584, 3.7801032200511093, 6.991074304732377, 29.113178951100807, 10.335355065934662, 9.570452728488862, 8.954787743426062, 3.1459007052053907, 3.14539357156686, 3.1453778441924642, 3.1447137335528907, 3.14295315784932, 3.14060770186398, 3.140900290376321, 4.4497303103798655, 21.179593366615745, 3.794140346813575, 3.782229679766563, 6.413200123141873, 13.53809420546293, 10.908639821630775, 5.137470291382858, 5.131229787919839, 3.8043880665754335, 4.412289366802144, 3.8429127152718876, 3.81479127962377, 3.8246149537627736, 3.98984782491235, 4.502517673359883, 4.507377753123057, 2.9807740186620215, 4.022606011649653, 3.5026446858035487, 1.9711369142997368, 1.970642522193642, 1.9624875133718602, 1.9572428498419807, 1.9576854775840662, 2.4781749696622914, 1.9688959416362029, 3.4786541942948253, 1.4669525180075143, 1.4667371443093906, 1.4665558841757451, 1.4663030025286181, 1.4661137655913383, 1.4660896654612094, 1.4658635994518314, 1.4617450229881856, 1.4618799497730621, 2.9625875852529298, 1.4564782959588924, 1.456802629400275, 1.4561320687373225, 1.456167030897932, 4.549166021012739, 1.9640229632118325, 1.9851384110277155, 4.0095338974046735, 7.100839259360634, 7.968581756012306, 2.467725187182251, 8.457363623363776, 2.5202634708632257, 5.497763096493018, 2.485952013767193, 2.9249686398755466, 1.9850292815652304, 2.472448303529834, 2.4974538857308177, 2.4765254685022726, 2.445870102978328, 2.451978807089096, 1.9883136880318095, 1.9862271598641719, 1.9719079487446352, 1.7471281914979389, 1.747235872708718, 1.7286197773636334, 1.7231859757577643, 1.3919113811579265, 1.3913645027245019, 1.3841930434076322, 1.3839345902815912, 1.03226624935026, 1.0291843074207667, 1.0253553384790997, 1.0254828796763, 1.0247729307121693, 2.0966174910751008, 2.107514610963905, 2.441479596017831, 1.3985466208414234, 1.0356002673459344, 1.0292261227132775, 1.05030358096262, 0.679248978056824, 0.6792025621711286, 0.6791818822770112, 0.6791622500427278, 0.6791864373197684, 0.6791533677093513, 0.679169674762422, 0.6791022145791884, 0.6791200703467966, 0.6790435911789038, 2.4686023248127635, 1.7490467755072538, 6.0003417902538745, 1.0350366263551636, 1.026939491249184, 1.3806801033324567, 1.392633446535791, 2.4405131981464723, 3.143584776520668, 1.3879111426085902, 1.3628311682885326, 1.3669986680079118, 1.0398677047034055, 1.030489053868127, 1.2783753951361252, 0.7225735194999083, 0.5378574557465247, 0.5378064127051387, 0.5377193457618826, 0.5376964681972902, 0.5376972393511529, 0.5376291574815634, 0.5384127966924807, 0.35301103026873804, 0.35300166625754853, 0.3529381745895225, 0.35293619162244705, 0.3529260931790074, 0.3529185652484433, 0.35292293512033174, 0.3529068877756658, 0.3529039500466652, 0.35287519702407155, 0.3528342524261253, 0.3528407521515392, 0.3526800950968174, 0.9148750565841985, 0.35453681326843867, 0.3533432874187089, 0.3535559055551293, 1.1028549005356663, 1.1123131393828598, 0.5419299192952562, 0.16959390175378772, 0.7279907652202895, 0.5410486005950681, 0.5369331360380899, 0.5357425846389733, 0.3581067415500005, 0.35608826467528226, 0.35569710605884874, 0.3551203196911882, 0.35506571465338904, 0.35494857270948904, 0.35479254257794324, 0.35336866205295187, 0.3531893871406886, 1.4579367490451447, 1.294124539380834, 0.9698999903737723, 0.6391606307914667, 0.6387892413667025, 0.4756906534461953, 0.3122731715407323, 0.3121334893975798, 0.31214228080255974, 0.31211533735995933, 0.3121111946475407, 0.31208776144218053, 0.3120946870453842, 0.31207077948364015, 0.3119626894756493, 0.3123240857925946, 0.47814933745475835, 0.31314706249474566, 0.47720691781516394, 0.14989049808655042, 0.14988599170090422, 0.14988064728564665, 0.14988599170090422, 0.1498700217026493, 0.14986984777197523, 0.1498721721182559, 0.14987587209804962, 0.14988339855267274, 0.1498728836528316, 0.14988203873103914, 0.4732904733916355, 0.47656217261828965, 0.4758336244602756, 1.2968388698565116, 0.4812619059265238, 0.31494465182307246, 0.31705117365229507, 0.31019435212432417, 0.47154952221553564, 0.1514451536988487, 0.15143418025450325, 0.1524969915443086, 0.15807301921223404, 0.1572570787964428, 0.023061496301146473, 0.023063256267679168, 0.023062196569520396, 0.023061735921003038, 0.023061163725311067, 0.023061905307453365, 0.023061087294839577, 0.023061250484224652, 0.023061370294152936, 0.023064512206237713, 0.023062603510138873, 0.023062876181010137, 0.023061640899335777, 0.02306085387204827, 0.023062496094341103, 0.023061155462557395, 0.0230616987386115, 0.023062153190063606, 0.02306223788328877, 0.02305917653305232, 0.023060446931429793, 0.02306294641441637, 0.0230741321172034, 0.023103452498617824, 0.023103301703363263, 0.02310214904922565, 0.023104696043045856, 0.023102415523031657, 0.023080009000754482, 0.02307862292382556, 0.023079306666692136, 0.023333892435849577, 0.023333557794325752, 0.023332801752364525, 0.02333128140568839, 0.02333042621068307, 0.023329062856326754, 0.0233285588283526, 0.023326652197942183, 0.023325633813551783, 0.02332362596440885, 0.02331787095647447, 0.02331553053149613, 0.023313411135178586, 0.023386284491211985, 0.02337849478018523, 0.02341551191664757, 0.023446228703433006, 0.02318479104579088, 0.02317437377909559, 0.023174080451340142, 0.023171521063389426, 0.02462293158561388, 0.023418447259890483, 0.023930859863334233, 0.02325307650784644, 0.023171192618930858, 0.023168536143624466, 0.0231673111903922, 0.023166784439845444, 0.023165720610309835, 0.024101799711354975, 0.023872386421267298, 0.02373849056365834, 0.023654976846580435, 0.02364052529040351, 0.023548724031389953, 0.023729230082477498, 0.02349008946562636, 0.023640163794930242, 0.023490494340556417, 0.023816627293782477, 0.02370950275807932, 0.023586637676625992, 0.023522237774485925, 0.023519042154502262, 0.02348272115503701, 0.023447147934779308, 0.023410039908026547, 0.023394890149164113, 0.023385133902762794, 0.023378635246997695, 0.023373140515804067, 0.023362665409833054], \"Total\": [26.0, 9.0, 3.0, 10.0, 2.0, 6.0, 5.0, 17.0, 6.0, 8.0, 12.0, 2.0, 8.0, 11.0, 2.0, 5.0, 38.0, 6.0, 13.0, 14.0, 29.0, 5.0, 5.0, 5.0, 5.0, 5.0, 9.0, 5.0, 4.0, 5.0, 11.979054994435902, 13.77331595952504, 9.421844464514884, 17.891669654793404, 7.491617477701408, 6.8513078289749405, 6.83945883349289, 6.204534789319364, 9.500083060044506, 10.425106929034134, 5.564570890955964, 14.532528283256406, 4.923148620807825, 4.918904607780499, 9.143796560963272, 38.52108358669241, 13.771526187947815, 12.869646271553217, 12.08620740235451, 4.281192664858941, 4.280622573503386, 4.28069200556264, 4.280222198176038, 4.279434903410662, 4.277196928560389, 4.27871589963257, 6.070296582212504, 29.855429957257, 5.4202826396784936, 5.4221659117607155, 10.020547312951983, 26.541910585080483, 22.003443202176882, 8.795432759485722, 9.034154896064948, 5.758048178849582, 7.9179013474856745, 7.026867372970951, 6.480777122037509, 7.313922831057629, 5.250705674233654, 5.947641534784977, 6.094749221590917, 4.239877064692517, 5.806187067414509, 5.29576305192875, 3.228923382858206, 3.228400247622855, 3.2241839881145626, 3.221248891282471, 3.2246793934931635, 4.37054882927008, 3.5823206128569036, 6.35746658115526, 2.723645337345737, 2.7235704454304748, 2.723476079776162, 2.7233127170282123, 2.723179875973956, 2.7232575063609854, 2.7231339859904056, 2.7205782519421127, 2.721852180386446, 5.5164123364133175, 2.7181008826510986, 2.719098039053206, 2.7193506326413663, 2.7194638921848804, 8.861081520501088, 3.866828175708416, 3.9468838269895974, 10.069859512385769, 22.003443202176882, 29.855429957257, 5.906235516099257, 38.52108358669241, 6.6015942076753, 26.541910585080483, 7.313922831057629, 10.020547312951983, 5.020968145317125, 7.9179013474856745, 8.308560467197278, 8.795432759485722, 12.08620740235451, 13.771526187947815, 5.239595214459172, 9.034154896064948, 6.390404339631002, 3.145363481256558, 3.1456466144086233, 3.155002541059071, 3.1570053530148856, 2.787395101948785, 2.7870815382598724, 2.789779862146526, 2.7898779978421717, 2.4309063823945385, 2.431328494504638, 2.4340592053889916, 2.434367778860731, 2.43439528310405, 5.020968145317125, 5.423577262673823, 6.6015942076753, 3.791139969486124, 2.933046129780927, 2.933629130858051, 3.0424826269054814, 2.0713256945316068, 2.071297767956202, 2.0713208627004054, 2.0713417399976364, 2.0714184143500143, 2.0713520010191995, 2.0714315851124305, 2.071271308485883, 2.071378382586854, 2.0712538109898424, 8.308560467197278, 5.906235516099257, 26.541910585080483, 3.435569959001091, 3.5779560677158977, 5.3617580540794005, 5.583534825719237, 12.869646271553217, 22.003443202176882, 6.390404339631002, 7.026867372970951, 8.861081520501088, 5.359759015533488, 9.500083060044506, 2.8347528245542226, 2.2758161936960346, 2.0883944219184336, 2.0885033713255123, 2.0885486545451224, 2.088712661226541, 2.088727721914756, 2.088769332165293, 2.728371900015384, 1.9016107046244557, 1.9016118142064382, 1.9016322587687255, 1.9016474605271587, 1.9016817242381525, 1.90173384216363, 1.9017666023488513, 1.9017196331995978, 1.9017083000340136, 1.901831929496729, 1.90176544527912, 1.9018490133286383, 1.902195084036216, 5.906235516099257, 2.40268601335132, 2.4056911495416564, 2.5388038835260556, 9.034154896064948, 10.069859512385769, 5.239595214459172, 1.8807984686941188, 8.861081520501088, 6.6015942076753, 14.532528283256406, 17.891669654793404, 7.9179013474856745, 8.308560467197278, 8.795432759485722, 22.003443202176882, 4.685378574200394, 6.480777122037509, 4.266576602597907, 5.29576305192875, 5.806187067414509, 3.037944766469383, 2.8726523229006937, 2.896517151007657, 2.2117807844177273, 2.211976924303239, 2.04593023158985, 1.8804183045534664, 1.8806368454134044, 1.8807071023121535, 1.8805533447587177, 1.8805851097044903, 1.8806910915558097, 1.88076092331947, 1.8806706522258583, 1.8807984686941188, 2.5210556803955813, 4.048886709641569, 3.5274777127397465, 5.758048178849582, 1.9016322587687255, 1.9017083000340136, 1.9016474605271587, 1.90176544527912, 1.9016107046244557, 1.9016118142064382, 1.9016817242381525, 1.90173384216363, 1.901831929496729, 1.9017196331995978, 1.9018490133286383, 6.094749221590917, 6.35746658115526, 6.6015942076753, 26.541910585080483, 8.308560467197278, 6.390404339631002, 7.9179013474856745, 8.861081520501088, 22.003443202176882, 2.336788953656515, 2.3370121621107356, 3.190126729552591, 38.52108358669241, 29.855429957257, 1.8804183045534664, 1.8805851097044903, 1.8805533447587177, 1.8806706522258583, 1.8806368454134044, 1.8807071023121535, 1.8806910915558097, 1.88076092331947, 1.8807984686941188, 1.9016817242381525, 1.9016322587687255, 1.9017083000340136, 1.9016474605271587, 1.9016118142064382, 1.90176544527912, 1.9017196331995978, 1.9017666023488513, 1.901831929496729, 1.9018490133286383, 1.9016107046244557, 1.90173384216363, 1.902195084036216, 2.04593023158985, 2.0725923012513183, 2.0726433799507036, 2.0726623264318818, 2.0729091475283528, 2.072806640070984, 2.071297767956202, 2.071271308485883, 2.071383087620722, 2.3369371052064136, 2.336788953656515, 2.3369664216400494, 2.3372133415466805, 2.337170746560342, 2.3373066698054457, 2.3370636804292766, 2.3370121621107356, 2.3373142453346567, 2.337250807481599, 2.3377309360405607, 2.3378843391696327, 2.337572459152166, 2.692841480224055, 2.8389551588547333, 3.0424826269054814, 3.190126729552591, 2.214123593873507, 2.2141127506719354, 2.2140882670240383, 2.214301741918758, 38.52108358669241, 3.1951304351750363, 10.069859512385769, 2.5736131019816804, 2.214325198369517, 2.214375369909471, 2.214354318726106, 2.2144857112923724, 2.2144803390896346, 29.855429957257, 11.979054994435902, 10.020547312951983, 8.308560467197278, 7.9179013474856745, 6.390404339631002, 14.532528283256406, 5.4202826396784936, 10.425106929034134, 5.65489754142552, 26.541910585080483, 22.003443202176882, 8.795432759485722, 13.771526187947815, 6.83945883349289, 17.891669654793404, 12.08620740235451, 5.583534825719237, 13.77331595952504, 6.6015942076753, 6.480777122037509, 8.861081520501088, 7.313922831057629], \"Category\": [\"Default\", \"Default\", \"Default\", \"Default\", \"Default\", \"Default\", \"Default\", \"Default\", \"Default\", \"Default\", \"Default\", \"Default\", \"Default\", \"Default\", \"Default\", \"Default\", \"Default\", \"Default\", \"Default\", \"Default\", \"Default\", \"Default\", \"Default\", \"Default\", \"Default\", \"Default\", \"Default\", \"Default\", \"Default\", \"Default\", \"Topic1\", \"Topic1\", \"Topic1\", \"Topic1\", \"Topic1\", \"Topic1\", \"Topic1\", \"Topic1\", \"Topic1\", \"Topic1\", \"Topic1\", \"Topic1\", \"Topic1\", \"Topic1\", \"Topic1\", \"Topic1\", \"Topic1\", \"Topic1\", \"Topic1\", \"Topic1\", \"Topic1\", \"Topic1\", \"Topic1\", \"Topic1\", \"Topic1\", \"Topic1\", \"Topic1\", \"Topic1\", \"Topic1\", \"Topic1\", \"Topic1\", \"Topic1\", \"Topic1\", \"Topic1\", \"Topic1\", \"Topic1\", \"Topic1\", \"Topic1\", \"Topic1\", \"Topic1\", \"Topic2\", \"Topic2\", \"Topic2\", \"Topic2\", \"Topic2\", \"Topic2\", \"Topic2\", \"Topic2\", \"Topic2\", \"Topic2\", \"Topic2\", \"Topic2\", \"Topic2\", \"Topic2\", \"Topic2\", \"Topic2\", \"Topic2\", \"Topic2\", \"Topic2\", \"Topic2\", \"Topic2\", \"Topic2\", \"Topic2\", \"Topic2\", \"Topic2\", \"Topic2\", \"Topic2\", \"Topic2\", \"Topic2\", \"Topic2\", \"Topic2\", \"Topic2\", \"Topic2\", \"Topic2\", \"Topic2\", \"Topic2\", \"Topic2\", \"Topic2\", \"Topic2\", \"Topic2\", \"Topic2\", \"Topic2\", \"Topic2\", \"Topic2\", \"Topic2\", \"Topic2\", \"Topic2\", \"Topic2\", \"Topic2\", \"Topic3\", \"Topic3\", \"Topic3\", \"Topic3\", \"Topic3\", \"Topic3\", \"Topic3\", \"Topic3\", \"Topic3\", \"Topic3\", \"Topic3\", \"Topic3\", \"Topic3\", \"Topic3\", \"Topic3\", \"Topic3\", \"Topic3\", \"Topic3\", \"Topic3\", \"Topic3\", \"Topic3\", \"Topic3\", \"Topic3\", \"Topic3\", \"Topic3\", \"Topic3\", \"Topic3\", \"Topic3\", \"Topic3\", \"Topic3\", \"Topic3\", \"Topic3\", \"Topic3\", \"Topic3\", \"Topic3\", \"Topic3\", \"Topic3\", \"Topic3\", \"Topic3\", \"Topic3\", \"Topic3\", \"Topic3\", \"Topic3\", \"Topic3\", \"Topic4\", \"Topic4\", \"Topic4\", \"Topic4\", \"Topic4\", \"Topic4\", \"Topic4\", \"Topic4\", \"Topic4\", \"Topic4\", \"Topic4\", \"Topic4\", \"Topic4\", \"Topic4\", \"Topic4\", \"Topic4\", \"Topic4\", \"Topic4\", \"Topic4\", \"Topic4\", \"Topic4\", \"Topic4\", \"Topic4\", \"Topic4\", \"Topic4\", \"Topic4\", \"Topic4\", \"Topic4\", \"Topic4\", \"Topic4\", \"Topic4\", \"Topic4\", \"Topic4\", \"Topic4\", \"Topic4\", \"Topic4\", \"Topic4\", \"Topic4\", \"Topic4\", \"Topic4\", \"Topic4\", \"Topic4\", \"Topic4\", \"Topic5\", \"Topic5\", \"Topic5\", \"Topic5\", \"Topic5\", \"Topic5\", \"Topic5\", \"Topic5\", \"Topic5\", \"Topic5\", \"Topic5\", \"Topic5\", \"Topic5\", \"Topic5\", \"Topic5\", \"Topic5\", \"Topic5\", \"Topic5\", \"Topic5\", \"Topic5\", \"Topic5\", \"Topic5\", \"Topic5\", \"Topic5\", \"Topic5\", \"Topic5\", \"Topic5\", \"Topic5\", \"Topic5\", \"Topic5\", \"Topic5\", \"Topic5\", \"Topic5\", \"Topic5\", \"Topic5\", \"Topic5\", \"Topic5\", \"Topic5\", \"Topic5\", \"Topic5\", \"Topic5\", \"Topic5\", \"Topic5\", \"Topic5\", \"Topic6\", \"Topic6\", \"Topic6\", \"Topic6\", \"Topic6\", \"Topic6\", \"Topic6\", \"Topic6\", \"Topic6\", \"Topic6\", \"Topic6\", \"Topic6\", \"Topic6\", \"Topic6\", \"Topic6\", \"Topic6\", \"Topic6\", \"Topic6\", \"Topic6\", \"Topic6\", \"Topic6\", \"Topic6\", \"Topic6\", \"Topic6\", \"Topic6\", \"Topic6\", \"Topic6\", \"Topic6\", \"Topic6\", \"Topic6\", \"Topic6\", \"Topic6\", \"Topic6\", \"Topic6\", \"Topic6\", \"Topic6\", \"Topic6\", \"Topic6\", \"Topic6\", \"Topic6\", \"Topic6\", \"Topic6\", \"Topic6\", \"Topic6\", \"Topic6\", \"Topic6\", \"Topic6\", \"Topic6\", \"Topic6\", \"Topic6\", \"Topic6\", \"Topic6\", \"Topic6\", \"Topic6\", \"Topic6\", \"Topic6\", \"Topic6\", \"Topic6\", \"Topic6\", \"Topic6\", \"Topic6\", \"Topic6\", \"Topic6\", \"Topic6\", \"Topic6\", \"Topic6\", \"Topic6\", \"Topic6\", \"Topic6\", \"Topic6\", \"Topic6\", \"Topic6\", \"Topic6\", \"Topic6\", \"Topic6\", \"Topic6\", \"Topic6\", \"Topic6\", \"Topic6\", \"Topic6\", \"Topic6\", \"Topic6\", \"Topic6\", \"Topic6\"], \"logprob\": [30.0, 29.0, 28.0, 27.0, 26.0, 25.0, 24.0, 23.0, 22.0, 21.0, 20.0, 19.0, 18.0, 17.0, 16.0, 15.0, 14.0, 13.0, 12.0, 11.0, 10.0, 9.0, 8.0, 7.0, 6.0, 5.0, 4.0, 3.0, 2.0, 1.0, -4.0758, -3.9621, -4.3437, -3.7245, -4.6093, -4.7148, -4.7173, -4.8353, -4.4233, -4.3414, -4.97, -4.0132, -5.1258, -5.1274, -4.5125, -3.086, -4.1216, -4.1985, -4.265, -5.3111, -5.3112, -5.3112, -5.3114, -5.312, -5.3127, -5.3127, -4.9643, -3.4041, -5.1237, -5.1268, -4.5988, -3.8517, -4.0676, -4.8206, -4.8218, -5.121, -4.9728, -5.1109, -5.1183, -5.1157, -4.5147, -4.3938, -4.3927, -4.8063, -4.5065, -4.6449, -5.2198, -5.2201, -5.2242, -5.2269, -5.2267, -4.9909, -5.221, -4.6518, -5.5153, -5.5154, -5.5155, -5.5157, -5.5158, -5.5158, -5.516, -5.5188, -5.5187, -4.8124, -5.5224, -5.5222, -5.5227, -5.5226, -4.3835, -5.2234, -5.2128, -4.5098, -3.9382, -3.8229, -4.9951, -3.7634, -4.9741, -4.1941, -4.9878, -4.8252, -5.2128, -4.9932, -4.9832, -4.9916, -5.004, -5.0015, -5.2112, -5.2122, -5.2194, -4.7183, -4.7182, -4.7289, -4.7321, -4.9456, -4.946, -4.9511, -4.9513, -5.2445, -5.2475, -5.2512, -5.2511, -5.2518, -4.5359, -4.5308, -4.3837, -4.9408, -5.2413, -5.2475, -5.2272, -5.663, -5.6631, -5.6631, -5.6632, -5.6631, -5.6632, -5.6631, -5.6632, -5.6632, -5.6633, -4.3726, -4.7172, -3.4844, -5.2418, -5.2497, -4.9537, -4.9451, -4.3841, -4.1309, -4.9485, -4.9667, -4.9636, -5.2372, -5.2462, -4.1221, -4.6926, -4.9878, -4.9879, -4.9881, -4.9881, -4.9881, -4.9882, -4.9868, -5.4089, -5.4089, -5.4091, -5.4091, -5.4092, -5.4092, -5.4092, -5.4092, -5.4092, -5.4093, -5.4094, -5.4094, -5.4099, -4.4566, -5.4046, -5.408, -5.4074, -4.2698, -4.2612, -4.9803, -6.142, -4.6851, -4.9819, -4.9895, -4.9918, -5.3946, -5.4002, -5.4013, -5.403, -5.4031, -5.4034, -5.4039, -5.4079, -5.4084, -3.8412, -3.9604, -4.2488, -4.6658, -4.6664, -4.9612, -5.3821, -5.3825, -5.3825, -5.3826, -5.3826, -5.3827, -5.3827, -5.3827, -5.3831, -5.3819, -4.956, -5.3793, -4.958, -6.1161, -6.1161, -6.1161, -6.1161, -6.1162, -6.1162, -6.1162, -6.1162, -6.1161, -6.1162, -6.1161, -4.9663, -4.9594, -4.9609, -3.9583, -4.9495, -5.3736, -5.3669, -5.3888, -4.9699, -6.1057, -6.1058, -6.0988, -6.0629, -6.0681, -5.9525, -5.9524, -5.9525, -5.9525, -5.9525, -5.9525, -5.9525, -5.9525, -5.9525, -5.9524, -5.9525, -5.9524, -5.9525, -5.9525, -5.9525, -5.9525, -5.9525, -5.9525, -5.9525, -5.9526, -5.9525, -5.9524, -5.952, -5.9507, -5.9507, -5.9507, -5.9506, -5.9507, -5.9517, -5.9518, -5.9517, -5.9408, -5.9408, -5.9408, -5.9409, -5.9409, -5.941, -5.941, -5.9411, -5.9411, -5.9412, -5.9414, -5.9415, -5.9416, -5.9385, -5.9388, -5.9373, -5.936, -5.9472, -5.9476, -5.9476, -5.9477, -5.887, -5.9371, -5.9155, -5.9442, -5.9478, -5.9479, -5.9479, -5.9479, -5.948, -5.9084, -5.9179, -5.9236, -5.9271, -5.9277, -5.9316, -5.924, -5.9341, -5.9277, -5.9341, -5.9203, -5.9248, -5.93, -5.9327, -5.9329, -5.9344, -5.9359, -5.9375, -5.9381, -5.9386, -5.9388, -5.9391, -5.9395], \"loglift\": [30.0, 29.0, 28.0, 27.0, 26.0, 25.0, 24.0, 23.0, 22.0, 21.0, 20.0, 19.0, 18.0, 17.0, 16.0, 15.0, 14.0, 13.0, 12.0, 11.0, 10.0, 9.0, 8.0, 7.0, 6.0, 5.0, 4.0, 3.0, 2.0, 1.0, 0.6512, 0.6253, 0.6234, 0.6012, 0.587, 0.5708, 0.5701, 0.5495, 0.5355, 0.5244, 0.5237, 0.5205, 0.4903, 0.4896, 0.4845, 0.4729, 0.4659, 0.4567, 0.453, 0.4448, 0.4448, 0.4447, 0.4446, 0.4443, 0.444, 0.4438, 0.4424, 0.4096, 0.3962, 0.3927, 0.3066, 0.0797, 0.0513, 0.2152, 0.1872, 0.3385, 0.1682, 0.1494, 0.223, 0.1046, 1.037, 1.0333, 1.0099, 0.9593, 0.9446, 0.8982, 0.8181, 0.818, 0.8152, 0.8134, 0.8126, 0.7443, 0.7131, 0.7087, 0.6929, 0.6927, 0.6926, 0.6925, 0.6925, 0.6924, 0.6923, 0.6904, 0.69, 0.69, 0.6877, 0.6876, 0.687, 0.687, 0.6449, 0.6342, 0.6244, 0.3908, 0.1807, -0.0092, 0.4389, -0.2045, 0.3487, -0.2627, 0.2325, 0.0803, 0.3836, 0.1477, 0.1096, 0.0443, -0.286, -0.4141, 0.3427, -0.2031, 0.1358, 1.3459, 1.3458, 1.3321, 1.3284, 1.2394, 1.2391, 1.233, 1.2327, 1.0773, 1.0741, 1.0693, 1.0693, 1.0686, 1.0605, 0.9886, 0.9391, 0.9366, 0.8928, 0.8864, 0.8702, 0.8189, 0.8188, 0.8188, 0.8187, 0.8187, 0.8187, 0.8187, 0.8187, 0.8186, 0.8186, 0.7202, 0.7169, 0.4469, 0.7341, 0.6856, 0.5771, 0.5452, 0.2712, -0.012, 0.4068, 0.2936, 0.0648, 0.294, -0.2875, 2.0461, 1.6951, 1.4859, 1.4857, 1.4855, 1.4854, 1.4854, 1.4853, 1.2196, 1.1585, 1.1584, 1.1582, 1.1582, 1.1582, 1.1581, 1.1581, 1.1581, 1.1581, 1.158, 1.1579, 1.1579, 1.1572, 0.9774, 0.9289, 0.9243, 0.871, 0.7393, 0.6393, 0.5736, 0.4364, 0.3433, 0.3409, -0.4559, -0.666, -0.2536, -0.3074, -0.3655, -1.2841, 0.2625, -0.0622, 0.3554, 0.1353, 0.0427, 2.2577, 2.1945, 1.8978, 1.7505, 1.7498, 1.533, 1.1965, 1.1959, 1.1959, 1.1959, 1.1959, 1.1958, 1.1957, 1.1957, 1.1953, 0.9035, 0.8556, 0.5702, 0.5015, 0.4513, 0.4512, 0.4512, 0.4512, 0.4512, 0.4512, 0.4512, 0.4512, 0.4512, 0.4511, 0.4511, 0.4364, 0.4011, 0.3619, -0.0269, 0.1432, -0.0183, -0.2259, -0.3604, -0.8511, 0.2556, 0.2554, -0.0488, -2.504, -2.2544, 0.6261, 0.6261, 0.626, 0.626, 0.626, 0.626, 0.6259, 0.6259, 0.6259, 0.615, 0.6149, 0.6149, 0.6149, 0.6149, 0.6148, 0.6148, 0.6148, 0.6148, 0.6148, 0.6148, 0.6148, 0.6146, 0.5423, 0.5306, 0.5306, 0.5305, 0.5305, 0.5305, 0.5302, 0.5302, 0.5301, 0.4205, 0.4205, 0.4204, 0.4203, 0.4202, 0.4201, 0.4202, 0.4201, 0.42, 0.4199, 0.4195, 0.4193, 0.4193, 0.281, 0.2278, 0.1601, 0.1141, 0.4681, 0.4676, 0.4676, 0.4674, -2.3281, 0.1113, -1.015, 0.3205, 0.4674, 0.4672, 0.4672, 0.4671, 0.4671, -2.0947, -1.191, -1.0181, -0.8343, -0.7867, -0.5763, -1.3903, -0.4142, -1.0619, -0.4565, -1.9889, -1.8059, -0.8941, -1.3452, -0.6455, -1.6087, -1.2179, -0.4472, -1.3508, -0.6158, -0.5976, -0.9107, -0.7192]}, \"token.table\": {\"Topic\": [1, 3, 1, 2, 1, 4, 1, 5, 1, 2, 1, 3, 1, 3, 1, 2, 3, 1, 2, 3, 1, 1, 2, 3, 1, 2, 1, 3, 1, 2, 1, 1, 2, 1, 2, 1, 4, 1, 4, 1, 2, 3, 1, 1, 1, 1, 2, 1, 2, 1, 2, 1, 2, 3, 1, 1, 2, 1, 3, 1, 2, 1, 2, 3, 1, 2, 3, 1, 2, 3, 4, 1, 1, 1, 1, 1, 2, 1, 3, 1, 1, 1, 1, 1, 3, 1, 2, 1, 2, 3, 1, 1, 3, 1, 2, 3, 1, 1, 2, 3, 4, 1, 2, 3, 1, 3, 1, 1, 4, 1, 3, 1, 2, 3, 4, 1, 1, 2, 3, 1, 1, 2, 3, 4, 1, 2, 1, 3, 1, 2, 3, 4, 1, 2, 1, 2, 1, 1, 2, 1, 3, 1, 2, 1, 3, 1, 2, 3, 1, 2, 3, 1, 2, 1, 1, 2, 3, 1, 2, 4, 1, 1, 1, 4, 1, 2, 1, 2, 1, 1, 1, 1, 2, 3, 1, 2, 3, 1, 1, 1, 2, 1, 1, 2, 3, 1, 3, 1, 1, 3, 1, 2, 3, 1, 2, 1, 1, 2, 1, 2, 1, 2, 3, 1, 2, 1, 3, 1, 1, 2, 3, 1, 3, 1, 2, 1, 1, 1, 1, 2, 1, 2, 4, 1, 2, 1, 1, 3, 1, 5, 1, 4, 1, 4, 1, 3, 1, 2, 1, 2, 1, 3, 1, 2, 1, 2, 1, 3, 1, 4, 1, 3, 1, 1, 2, 1, 2, 3, 1, 2, 1, 3, 1, 1, 5, 1, 1, 3, 1, 2, 3, 4, 1, 2, 1, 2, 1, 3, 1, 2, 3, 1, 3, 1, 3, 1, 2, 1, 1, 1, 1, 1, 2, 3, 1, 2, 1, 2, 1, 3, 5, 1, 2, 1, 2, 3, 1, 2, 1, 2, 1, 2, 3, 1, 3, 1, 1, 1, 5, 1, 1, 1, 2, 1, 2, 3, 1, 1, 3, 1, 1, 1, 3, 1, 2, 1, 2, 1, 2, 3, 1, 2, 1, 4, 1, 3, 1, 2, 1, 2, 3, 1, 2, 1, 1, 3, 1, 1, 1, 2, 3, 1, 1, 2, 3, 1, 2, 3, 5, 1, 2, 1, 3], \"Freq\": [0.3687603039721426, 0.3687603039721426, 0.3671778164037293, 0.3671778164037293, 0.366518948532772, 0.366518948532772, 0.4521243728334767, 0.4521243728334767, 0.45159461832384923, 0.45159461832384923, 0.35879825770162244, 0.35879825770162244, 0.4112977749655097, 0.4112977749655097, 0.2533644373218679, 0.5067288746437358, 0.2533644373218679, 0.2637729042052611, 0.2637729042052611, 0.2637729042052611, 0.7188335054731995, 0.49992175765071756, 0.3181320275959112, 0.1363422975411048, 0.3104386012227299, 0.6208772024454599, 0.4827825979468343, 0.4827825979468343, 0.7446504681234175, 0.1654778818052039, 0.9182694298598129, 0.36720728673810676, 0.36720728673810676, 0.3677195357782731, 0.3677195357782731, 0.4394027965746882, 0.4394027965746882, 0.4788117719749378, 0.4788117719749378, 0.1722300691295672, 0.6889202765182688, 0.1722300691295672, 0.8124881672460361, 0.48877522046434624, 0.5317149059364924, 0.41568095729600396, 0.41568095729600396, 0.283488679854284, 0.283488679854284, 0.7377125792709464, 0.1844281448177366, 0.5597266577294786, 0.1865755525764929, 0.1865755525764929, 0.5258430012542482, 0.41620086621521457, 0.41620086621521457, 0.31695695549719594, 0.6339139109943919, 0.6589463868571112, 0.1647365967142778, 0.31675587722555404, 0.31675587722555404, 0.6335117544511081, 0.3885587927843547, 0.3885587927843547, 0.3885587927843547, 0.1693125845175312, 0.3386251690350624, 0.3386251690350624, 0.1693125845175312, 0.4278414860115739, 0.8008951361783799, 0.849090645693641, 0.8757452080353673, 0.30975093646964097, 0.6195018729392819, 0.3286789515761683, 0.3286789515761683, 0.427896788990958, 0.7011449393631444, 0.5317965675926906, 0.42785309852026776, 0.48247125797935186, 0.48247125797935186, 0.3677690122376763, 0.3677690122376763, 0.3409424726895418, 0.3409424726895418, 0.3409424726895418, 0.5258040953786275, 0.48275791833391557, 0.48275791833391557, 0.5469021334234642, 0.2734510667117321, 0.13672553335586604, 0.4278428727040935, 0.39722500548096656, 0.39722500548096656, 0.09930625137024164, 0.09930625137024164, 0.7770221332426036, 0.07770221332426036, 0.15540442664852072, 0.3584512217500112, 0.3584512217500112, 0.7007393114130839, 0.4788367510967509, 0.4788367510967509, 0.4827764665339134, 0.4827764665339134, 0.5534551994650739, 0.22138207978602958, 0.11069103989301479, 0.11069103989301479, 0.5317583799401893, 0.31346717067263596, 0.31346717067263596, 0.31346717067263596, 0.5257084346354881, 0.38170887599881875, 0.38170887599881875, 0.19085443799940938, 0.19085443799940938, 0.3677348511062281, 0.3677348511062281, 0.48247566835341654, 0.48247566835341654, 0.22570608287180066, 0.5642652071795017, 0.11285304143590033, 0.11285304143590033, 0.6946798421542857, 0.17366996053857142, 0.45159891149456566, 0.45159891149456566, 0.4278873564182547, 0.2358558950511745, 0.7075676851535234, 0.48243766720361075, 0.48243766720361075, 0.3101559972031186, 0.6203119944062372, 0.4827788581140363, 0.4827788581140363, 0.2469814721213886, 0.2469814721213886, 0.2469814721213886, 0.18883020070843118, 0.7553208028337247, 0.18883020070843118, 0.36255447889531184, 0.5438317183429677, 0.5316996900568515, 0.3408747170803803, 0.3408747170803803, 0.3408747170803803, 0.8257338135598712, 0.13762230225997854, 0.06881115112998927, 0.5258640283308419, 0.5258503498531637, 0.4787637948308201, 0.4787637948308201, 0.4515732121654765, 0.4515732121654765, 0.4516096343461621, 0.4516096343461621, 0.42785995707958663, 0.7008326355539243, 0.7008212681738334, 0.5684768602895164, 0.22739074411580654, 0.11369537205790327, 0.1991647768035859, 0.3983295536071718, 0.3983295536071718, 0.525839867529539, 0.5258598245769426, 0.45165317701814234, 0.45165317701814234, 0.5258088185871527, 0.279148660343525, 0.55829732068705, 0.279148660343525, 0.41077963260137423, 0.41077963260137423, 0.7008981919860169, 0.4113691943228849, 0.4113691943228849, 0.6402897764802238, 0.21342992549340795, 0.21342992549340795, 0.7655463409897398, 0.10936376299853427, 0.5317493980142899, 0.3672239431275356, 0.3672239431275356, 0.36739688040590834, 0.36739688040590834, 0.23437994747149332, 0.23437994747149332, 0.23437994747149332, 0.36715499859263095, 0.36715499859263095, 0.4827952745268357, 0.4827952745268357, 0.7010271373935454, 0.7528344817906008, 0.20767847773533815, 0.02595980971691727, 0.3587578952480967, 0.3587578952480967, 0.36756891638244177, 0.36756891638244177, 0.4278677548363631, 0.4279376613943846, 0.7013939386255322, 0.7673782201427438, 0.09592227751784298, 0.8383789936553692, 0.05589193291035795, 0.05589193291035795, 0.7379688968096434, 0.18449222420241085, 0.8058621910875768, 0.31792827950062696, 0.6358565590012539, 0.45208428216989416, 0.45208428216989416, 0.35276444257790074, 0.35276444257790074, 0.4787508053669881, 0.4787508053669881, 0.4827993530749883, 0.4827993530749883, 0.45164597078817365, 0.45164597078817365, 0.3522422666243913, 0.3522422666243913, 0.41078427371725806, 0.41078427371725806, 0.3671650945095877, 0.3671650945095877, 0.5051843695009155, 0.25259218475045775, 0.4108363501536883, 0.4108363501536883, 0.47876034272350765, 0.47876034272350765, 0.4827703177780313, 0.4827703177780313, 0.42791053202592433, 0.19045059122380747, 0.7618023648952299, 0.35819602857807414, 0.35819602857807414, 0.17909801428903707, 0.16813387191401283, 0.8406693595700642, 0.4827609878682032, 0.4827609878682032, 0.8772623896232765, 0.3291699082344321, 0.3291699082344321, 0.42779422562272085, 0.31789966343310894, 0.6357993268662179, 0.15147856238078927, 0.4544356871423678, 0.30295712476157854, 0.15147856238078927, 0.4515721166773303, 0.4515721166773303, 0.5987696891810236, 0.2993848445905118, 0.3713549450808356, 0.3713549450808356, 0.2910725183691951, 0.2910725183691951, 0.2910725183691951, 0.8420979005590422, 0.10526223756988028, 0.4827837241480242, 0.4827837241480242, 0.3671998422168865, 0.3671998422168865, 0.525869681987283, 0.5317347697610266, 0.4277652250663673, 0.5258359386728301, 0.7261359317423747, 0.14522718634847492, 0.07261359317423746, 0.4516048504241085, 0.4516048504241085, 0.36721775481039276, 0.36721775481039276, 0.34524221603594313, 0.34524221603594313, 0.34524221603594313, 0.31459072170798036, 0.47188608256197057, 0.31297626819582963, 0.31297626819582963, 0.31297626819582963, 0.3101083481408491, 0.6202166962816982, 0.16407565982492864, 0.8203782991246432, 0.5692437024478526, 0.14231092561196315, 0.14231092561196315, 0.48241381017221946, 0.48241381017221946, 0.5316890760201026, 0.5258268805251448, 0.34811034806684804, 0.34811034806684804, 0.4277371567299942, 0.5258699888300679, 0.7033896356563942, 0.2679579564405311, 0.2794891779200581, 0.2794891779200581, 0.2794891779200581, 0.5317252113316359, 0.48248755888760875, 0.48248755888760875, 0.8131891790853155, 0.5258272004480716, 0.5595179733478466, 0.18650599111594887, 0.36790393115381737, 0.36790393115381737, 0.2586098876288436, 0.5172197752576873, 0.4694538624723749, 0.3129692416482499, 0.15648462082412495, 0.4516481826395343, 0.4516481826395343, 0.47880139053681564, 0.47880139053681564, 0.48276922119154797, 0.48276922119154797, 0.3097007520552598, 0.6194015041105196, 0.2407155857980605, 0.2407155857980605, 0.2407155857980605, 0.8712498889347928, 0.07260415741123273, 0.3938862731733083, 0.48278910713389284, 0.48278910713389284, 0.39665922802747816, 0.5317194325479289, 0.5305135907455791, 0.17683786358185974, 0.17683786358185974, 0.42790516403663786, 0.6172099309507545, 0.15430248273768862, 0.15430248273768862, 0.527467680034668, 0.1883813142980957, 0.22605757715771485, 0.03767626285961914, 0.22880421637275447, 0.45760843274550894, 0.3584386130051024, 0.3584386130051024], \"Term\": [\"access\", \"access\", \"account\", \"account\", \"alpha\", \"alpha\", \"already\", \"already\", \"amount\", \"amount\", \"api\", \"api\", \"app\", \"app\", \"apply\", \"apply\", \"apply\", \"archive\", \"archive\", \"archive\", \"arfile\", \"argo\", \"argo\", \"argo\", \"argoflow\", \"argoflow\", \"argoproj_io\", \"argoproj_io\", \"argument\", \"argument\", \"artifact\", \"available\", \"available\", \"bar\", \"bar\", \"base\", \"base\", \"beta\", \"beta\", \"body\", \"body\", \"body\", \"build\", \"check\", \"client\", \"cluster\", \"cluster\", \"code\", \"code\", \"com\", \"com\", \"command\", \"command\", \"command\", \"compilation\", \"compiler\", \"compiler\", \"connection\", \"connection\", \"container_image\", \"container_image\", \"controller\", \"controller\", \"controller\", \"cpu\", \"cpu\", \"cpu\", \"create\", \"create\", \"create\", \"create\", \"ctx\", \"d\", \"dag_task\", \"datakey_body\", \"default\", \"default\", \"deny\", \"deny\", \"developer\", \"dfile\", \"differentiate\", \"dirty\", \"do\", \"do\", \"docker\", \"docker\", \"documentation\", \"documentation\", \"documentation\", \"editor\", \"endpoint\", \"endpoint\", \"entrypoint\", \"entrypoint\", \"entrypoint\", \"err\", \"error\", \"error\", \"error\", \"error\", \"event\", \"event\", \"event\", \"example\", \"example\", \"execute\", \"expect\", \"expect\", \"fact\", \"fact\", \"fail\", \"fail\", \"fail\", \"fail\", \"field\", \"find\", \"find\", \"find\", \"fine\", \"follow\", \"follow\", \"follow\", \"follow\", \"foo\", \"foo\", \"generate\", \"generate\", \"get\", \"get\", \"get\", \"get\", \"go\", \"go\", \"good\", \"good\", \"hasoutput\", \"header\", \"header\", \"hello_world\", \"hello_world\", \"help\", \"help\", \"hint\", \"hint\", \"however\", \"however\", \"however\", \"http\", \"http\", \"http\", \"image\", \"image\", \"impose\", \"info\", \"info\", \"info\", \"input\", \"input\", \"input\", \"instal\", \"instruction\", \"invalid\", \"invalid\", \"invoke\", \"invoke\", \"issue\", \"issue\", \"isvalid\", \"kaniko\", \"key\", \"kind\", \"kind\", \"kind\", \"kubectl\", \"kubectl\", \"kubectl\", \"kubeflow\", \"kubernete\", \"level\", \"level\", \"light\", \"limit\", \"limit\", \"limit\", \"list\", \"list\", \"listener\", \"localhost\", \"localhost\", \"m\", \"m\", \"m\", \"main\", \"main\", \"make\", \"map\", \"map\", \"memory\", \"memory\", \"message\", \"message\", \"message\", \"method\", \"method\", \"minimal\", \"minimal\", \"mountpath\", \"name\", \"name\", \"name\", \"need\", \"need\", \"new\", \"new\", \"nil\", \"noderesult\", \"outfile\", \"output\", \"output\", \"parameter\", \"parameter\", \"parameter\", \"pass\", \"pass\", \"path\", \"permission\", \"permission\", \"phase\", \"phase\", \"pipeline\", \"pipeline\", \"pipelinerun\", \"pipelinerun\", \"presumably\", \"presumably\", \"process\", \"process\", \"progress\", \"progress\", \"publish\", \"publish\", \"quickstart\", \"quickstart\", \"quot\", \"quot\", \"rabbitmq\", \"rabbitmq\", \"receive\", \"receive\", \"relevant\", \"relevant\", \"report\", \"request\", \"request\", \"resource\", \"resource\", \"resource\", \"response\", \"response\", \"rest\", \"rest\", \"result\", \"resume\", \"resume\", \"return\", \"role\", \"role\", \"run\", \"run\", \"run\", \"run\", \"scanggwmk\", \"scanggwmk\", \"script\", \"script\", \"see\", \"see\", \"seem\", \"seem\", \"seem\", \"sensor\", \"sensor\", \"server\", \"server\", \"service\", \"service\", \"shine\", \"side\", \"solution\", \"somehow\", \"spec\", \"spec\", \"spec\", \"spend\", \"spend\", \"start\", \"start\", \"state\", \"state\", \"state\", \"status\", \"status\", \"step\", \"step\", \"step\", \"strategy\", \"strategy\", \"string\", \"string\", \"submit\", \"submit\", \"submit\", \"successfully\", \"successfully\", \"summary\", \"support\", \"suspend\", \"suspend\", \"take\", \"tekton\", \"template\", \"template\", \"test\", \"test\", \"test\", \"thereafter\", \"thing\", \"thing\", \"tmp\", \"top\", \"trigger\", \"trigger\", \"trivy\", \"trivy\", \"true\", \"true\", \"try\", \"try\", \"try\", \"type\", \"type\", \"unsupported\", \"unsupported\", \"update\", \"update\", \"url\", \"url\", \"use\", \"use\", \"use\", \"value\", \"value\", \"ve\", \"verb\", \"verb\", \"wait\", \"want\", \"whalesay\", \"whalesay\", \"whalesay\", \"wonder\", \"work\", \"work\", \"work\", \"workflow\", \"workflow\", \"workflow\", \"workflow\", \"yaml\", \"yaml\", \"yml\", \"yml\"]}, \"R\": 30, \"lambda.step\": 0.01, \"plot.opts\": {\"xlab\": \"PC1\", \"ylab\": \"PC2\"}, \"topic.order\": [1, 3, 4, 6, 5, 2]};\n",
       "\n",
       "function LDAvis_load_lib(url, callback){\n",
       "  var s = document.createElement('script');\n",
       "  s.src = url;\n",
       "  s.async = true;\n",
       "  s.onreadystatechange = s.onload = callback;\n",
       "  s.onerror = function(){console.warn(\"failed to load library \" + url);};\n",
       "  document.getElementsByTagName(\"head\")[0].appendChild(s);\n",
       "}\n",
       "\n",
       "if(typeof(LDAvis) !== \"undefined\"){\n",
       "   // already loaded: just create the visualization\n",
       "   !function(LDAvis){\n",
       "       new LDAvis(\"#\" + \"ldavis_el3795441400177348437765412305655\", ldavis_el3795441400177348437765412305655_data);\n",
       "   }(LDAvis);\n",
       "}else if(typeof define === \"function\" && define.amd){\n",
       "   // require.js is available: use it to load d3/LDAvis\n",
       "   require.config({paths: {d3: \"https://d3js.org/d3.v5\"}});\n",
       "   require([\"d3\"], function(d3){\n",
       "      window.d3 = d3;\n",
       "      LDAvis_load_lib(\"https://cdn.jsdelivr.net/gh/bmabey/pyLDAvis@3.4.0/pyLDAvis/js/ldavis.v3.0.0.js\", function(){\n",
       "        new LDAvis(\"#\" + \"ldavis_el3795441400177348437765412305655\", ldavis_el3795441400177348437765412305655_data);\n",
       "      });\n",
       "    });\n",
       "}else{\n",
       "    // require.js not available: dynamically load d3 & LDAvis\n",
       "    LDAvis_load_lib(\"https://d3js.org/d3.v5.js\", function(){\n",
       "         LDAvis_load_lib(\"https://cdn.jsdelivr.net/gh/bmabey/pyLDAvis@3.4.0/pyLDAvis/js/ldavis.v3.0.0.js\", function(){\n",
       "                 new LDAvis(\"#\" + \"ldavis_el3795441400177348437765412305655\", ldavis_el3795441400177348437765412305655_data);\n",
       "            })\n",
       "         });\n",
       "}\n",
       "</script>"
      ],
      "text/plain": [
       "PreparedData(topic_coordinates=              x         y  topics  cluster       Freq\n",
       "topic                                                \n",
       "0      0.097358  0.012179       1        1  47.099079\n",
       "2      0.002989 -0.049871       2        1  26.937860\n",
       "3     -0.032738  0.019198       3        1  14.459541\n",
       "5     -0.024466  0.001321       4        1   5.828460\n",
       "4     -0.027079  0.009080       5        1   5.019328\n",
       "1     -0.016064  0.008092       6        1   0.655733, topic_info=           Term       Freq      Total Category  logprob  loglift\n",
       "77     workflow  26.000000  26.000000  Default  30.0000  30.0000\n",
       "12         fail   9.000000   9.000000  Default  29.0000  29.0000\n",
       "212      resume   3.000000   3.000000  Default  28.0000  28.0000\n",
       "10        error  10.000000  10.000000  Default  27.0000  27.0000\n",
       "216     suspend   2.000000   2.000000  Default  26.0000  26.0000\n",
       "..          ...        ...        ...      ...      ...      ...\n",
       "199       value   0.023395  13.773316   Topic6  -5.9381  -1.3508\n",
       "33          run   0.023385   6.601594   Topic6  -5.9386  -0.6158\n",
       "42         work   0.023379   6.480777   Topic6  -5.9388  -0.5976\n",
       "15          get   0.023373   8.861082   Topic6  -5.9391  -0.9107\n",
       "124  entrypoint   0.023363   7.313923   Topic6  -5.9395  -0.7192\n",
       "\n",
       "[334 rows x 6 columns], token_table=      Topic      Freq      Term\n",
       "term                           \n",
       "43        1  0.368760    access\n",
       "43        3  0.368760    access\n",
       "293       1  0.367178   account\n",
       "293       2  0.367178   account\n",
       "0         1  0.366519     alpha\n",
       "...     ...       ...       ...\n",
       "77        5  0.037676  workflow\n",
       "160       1  0.228804      yaml\n",
       "160       2  0.457608      yaml\n",
       "292       1  0.358439       yml\n",
       "292       3  0.358439       yml\n",
       "\n",
       "[373 rows x 3 columns], R=30, lambda_step=0.01, plot_opts={'xlab': 'PC1', 'ylab': 'PC2'}, topic_order=[1, 3, 4, 6, 5, 2])"
      ]
     },
     "execution_count": 10,
     "metadata": {},
     "output_type": "execute_result"
    }
   ],
   "source": [
    "# Build LDA model\n",
    "lda_model = gensim.models.ldamodel.LdaModel(corpus=corpus,\n",
    "                                           id2word=id2word,\n",
    "                                           num_topics=6, \n",
    "                                           random_state=100,\n",
    "                                           chunksize=100,\n",
    "                                           passes=10,\n",
    "                                           alpha=0.61,\n",
    "                                           eta=0.91)\n",
    "\n",
    "# Compute Perplexity\n",
    "print('\\nPerplexity: ', lda_model.log_perplexity(corpus))  # a measure of how good the model is. lower the better.\n",
    "# Compute Coherence Score\n",
    "coherence_model_lda = CoherenceModel(model=lda_model, texts=data_lemmatized, dictionary=id2word, coherence='c_v')\n",
    "coherence_lda = coherence_model_lda.get_coherence()\n",
    "print('\\nCoherence Score: ', coherence_lda)\n",
    "\n",
    "# Visualize the topics\n",
    "pyLDAvis.enable_notebook()\n",
    "vis = pyLDAvis.gensim.prepare(lda_model, corpus, id2word)\n",
    "vis"
   ]
  },
  {
   "cell_type": "code",
   "execution_count": 11,
   "id": "392209b0-cdfe-4134-8a90-7ebd77bb2098",
   "metadata": {},
   "outputs": [
    {
     "name": "stdout",
     "output_type": "stream",
     "text": [
      "[(0,\n",
      "  '0.046*\"name\" + 0.033*\"template\" + 0.024*\"parameter\" + 0.021*\"workflow\" + '\n",
      "  '0.019*\"value\" + 0.018*\"input\" + 0.017*\"argo\" + 0.017*\"artifact\" + '\n",
      "  '0.016*\"spec\" + 0.015*\"event\"'),\n",
      " (1,\n",
      "  '0.003*\"name\" + 0.003*\"template\" + 0.003*\"error\" + 0.003*\"artifact\" + '\n",
      "  '0.003*\"workflow\" + 0.003*\"script\" + 0.003*\"input\" + 0.003*\"argo\" + '\n",
      "  '0.003*\"use\" + 0.003*\"quot\"'),\n",
      " (2,\n",
      "  '0.023*\"name\" + 0.022*\"template\" + 0.019*\"argo\" + 0.015*\"workflow\" + '\n",
      "  '0.012*\"get\" + 0.012*\"string\" + 0.012*\"response\" + 0.011*\"body\" + '\n",
      "  '0.011*\"error\" + 0.011*\"request\"'),\n",
      " (3,\n",
      "  '0.031*\"workflow\" + 0.016*\"argo\" + 0.013*\"use\" + 0.012*\"run\" + 0.012*\"event\" '\n",
      "  '+ 0.011*\"access\" + 0.011*\"kubectl\" + 0.009*\"create\" + 0.009*\"role\" + '\n",
      "  '0.009*\"permission\"'),\n",
      " (4,\n",
      "  '0.021*\"resume\" + 0.019*\"workflow\" + 0.019*\"suspend\" + 0.014*\"state\" + '\n",
      "  '0.009*\"already\" + 0.009*\"phase\" + 0.007*\"use\" + 0.007*\"however\" + '\n",
      "  '0.007*\"go\" + 0.007*\"status\"'),\n",
      " (5,\n",
      "  '0.016*\"pipeline\" + 0.014*\"error\" + 0.014*\"fail\" + 0.012*\"create\" + '\n",
      "  '0.009*\"get\" + 0.009*\"base\" + 0.007*\"follow\" + 0.007*\"run\" + 0.007*\"alpha\" + '\n",
      "  '0.007*\"expect\"')]\n",
      "<gensim.interfaces.TransformedCorpus object at 0x7f59c849ad70>\n"
     ]
    }
   ],
   "source": [
    "pprint(lda_model.print_topics())\n",
    "doc_lda = lda_model[corpus]\n",
    "print(doc_lda)"
   ]
  },
  {
   "cell_type": "code",
   "execution_count": 12,
   "metadata": {},
   "outputs": [
    {
     "name": "stdout",
     "output_type": "stream",
     "text": [
      "         Id                                              Title  \\\n",
      "0  65832799  Compilation of Elyra-Pipelines to Tekton based...   \n",
      "1  66178222  Accessing argo workflow archive via http leads...   \n",
      "2  69021388    AMQP - Argo-events: argo-workflow not triggered   \n",
      "3  69094527                Why doesn't this argo workflow run?   \n",
      "4  70495730  How to access a content of file which is passe...   \n",
      "\n",
      "                                                Body  RatingsSentiCR  \\\n",
      "0  I've installed a kubernetes cluster running ku...              -1   \n",
      "1  I'm trying to access the Argo workflow archive...              -1   \n",
      "2  I am trying to run an argo-workflow triggered ...              -1   \n",
      "3  I am trying to configure my Argo workflows.\\nI...              -1   \n",
      "4  I am trying to access the content(json data) o...              -1   \n",
      "\n",
      "   RatingsGPT35  RatingsGPTFineTuned  \\\n",
      "0            -1                 -1.0   \n",
      "1            -1                 -1.0   \n",
      "2            -1                 -1.0   \n",
      "3            -1                 -1.0   \n",
      "4            -1                 -1.0   \n",
      "\n",
      "                                              merged  topic  \n",
      "0  Compilation of Elyra-Pipelines to Tekton based...      5  \n",
      "1  Accessing argo workflow archive via http leads...      3  \n",
      "2  AMQP - Argo-events: argo-workflow not triggere...      3  \n",
      "3  Why doesn't this argo workflow run?-I am tryin...      2  \n",
      "4  How to access a content of file which is passe...      0  \n",
      "topic:  0 total data:  4\n",
      "topic:  1 total data:  0\n",
      "topic:  2 total data:  4\n",
      "topic:  3 total data:  3\n",
      "topic:  4 total data:  1\n",
      "topic:  5 total data:  1\n"
     ]
    }
   ],
   "source": [
    "num_topics = 6\n",
    "topic_distributions = [lda_model[doc] for doc in corpus]\n",
    "\n",
    "# Extract the dominant topic for each document\n",
    "df['topic'] = [max(topics, key=lambda x: x[1])[0] for topics in topic_distributions]\n",
    "\n",
    "# Display the DataFrame with assigned topics\n",
    "print(df.head())\n",
    "df.to_csv('../dataset/AssignedTopicArgo.csv')\n",
    "for i in range(num_topics): \n",
    "    topic_df = df[df['topic'] == i]\n",
    "    print('topic: ', i, 'total data: ', len(topic_df))"
   ]
  },
  {
   "cell_type": "code",
   "execution_count": null,
   "metadata": {},
   "outputs": [],
   "source": []
  }
 ],
 "metadata": {
  "kernelspec": {
   "display_name": "Python 3 (ipykernel)",
   "language": "python",
   "name": "python3"
  },
  "language_info": {
   "codemirror_mode": {
    "name": "ipython",
    "version": 3
   },
   "file_extension": ".py",
   "mimetype": "text/x-python",
   "name": "python",
   "nbconvert_exporter": "python",
   "pygments_lexer": "ipython3",
   "version": "3.10.12"
  },
  "widgets": {
   "application/vnd.jupyter.widget-state+json": {
    "state": {},
    "version_major": 2,
    "version_minor": 0
   }
  }
 },
 "nbformat": 4,
 "nbformat_minor": 5
}
